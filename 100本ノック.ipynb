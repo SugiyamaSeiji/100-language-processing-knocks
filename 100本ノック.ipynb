{
  "nbformat": 4,
  "nbformat_minor": 0,
  "metadata": {
    "colab": {
      "provenance": [],
      "authorship_tag": "ABX9TyPMJT9D3ohbdh51FtUCC/Kb",
      "include_colab_link": true
    },
    "kernelspec": {
      "name": "python3",
      "display_name": "Python 3"
    },
    "language_info": {
      "name": "python"
    }
  },
  "cells": [
    {
      "cell_type": "markdown",
      "metadata": {
        "id": "view-in-github",
        "colab_type": "text"
      },
      "source": [
        "<a href=\"https://colab.research.google.com/github/SugiyamaSeiji/100-language-processing-knocks/blob/main/100%E6%9C%AC%E3%83%8E%E3%83%83%E3%82%AF.ipynb\" target=\"_parent\"><img src=\"https://colab.research.google.com/assets/colab-badge.svg\" alt=\"Open In Colab\"/></a>"
      ]
    },
    {
      "cell_type": "markdown",
      "source": [
        "00. 文字列の逆順"
      ],
      "metadata": {
        "id": "wVG__wWjAYRT"
      }
    },
    {
      "cell_type": "code",
      "source": [
        "s = 'stressed'\n",
        "s[::-1]"
      ],
      "metadata": {
        "colab": {
          "base_uri": "https://localhost:8080/",
          "height": 36
        },
        "id": "C6wMO83lAxWb",
        "outputId": "f95b58d7-6247-4b03-93f0-8cf944e64dd7"
      },
      "execution_count": 3,
      "outputs": [
        {
          "output_type": "execute_result",
          "data": {
            "text/plain": [
              "'desserts'"
            ],
            "application/vnd.google.colaboratory.intrinsic+json": {
              "type": "string"
            }
          },
          "metadata": {},
          "execution_count": 3
        }
      ]
    },
    {
      "cell_type": "markdown",
      "source": [
        "01. 「パタトクカシーー」"
      ],
      "metadata": {
        "id": "HAFZMGPMBR0E"
      }
    },
    {
      "cell_type": "code",
      "source": [
        "s = 'パタトクカシーー'\n",
        "s[0::2]"
      ],
      "metadata": {
        "colab": {
          "base_uri": "https://localhost:8080/",
          "height": 36
        },
        "id": "w5DSp_fxBESj",
        "outputId": "411d6cf4-d3ac-4d12-9ea3-e82b0fde4858"
      },
      "execution_count": 5,
      "outputs": [
        {
          "output_type": "execute_result",
          "data": {
            "text/plain": [
              "'パトカー'"
            ],
            "application/vnd.google.colaboratory.intrinsic+json": {
              "type": "string"
            }
          },
          "metadata": {},
          "execution_count": 5
        }
      ]
    },
    {
      "cell_type": "markdown",
      "source": [
        "02. 「パトカー」＋「タクシー」＝「パタトクカシーー」"
      ],
      "metadata": {
        "id": "n4Klxcp_BlUi"
      }
    },
    {
      "cell_type": "code",
      "source": [
        "s1 = 'パトカー'\n",
        "s2 = 'タクシー'\n",
        "\n",
        "con = ''\n",
        "for p, t in zip(s1, s2):\n",
        "  con += p+t\n",
        "con"
      ],
      "metadata": {
        "colab": {
          "base_uri": "https://localhost:8080/",
          "height": 36
        },
        "id": "CcZ67L9XBgmX",
        "outputId": "0a27f2bd-ca0a-4a76-ac97-11d9b9749b5a"
      },
      "execution_count": 6,
      "outputs": [
        {
          "output_type": "execute_result",
          "data": {
            "text/plain": [
              "'パタトクカシーー'"
            ],
            "application/vnd.google.colaboratory.intrinsic+json": {
              "type": "string"
            }
          },
          "metadata": {},
          "execution_count": 6
        }
      ]
    },
    {
      "cell_type": "markdown",
      "source": [
        "03. 円周率"
      ],
      "metadata": {
        "id": "WGLBANgMB8i6"
      }
    },
    {
      "cell_type": "code",
      "source": [
        "import re\n",
        "\n",
        "sentence = 'Now I need a drink, alcoholic of course, after the heavy lectures involving quantum mechanics.'\n",
        "sentence= sentence.split()\n",
        "pattern = re.compile('[a-zA-Z]+')\n",
        "\n",
        "counts = []\n",
        "for word in sentence:\n",
        "  new_w = pattern.match(word)\n",
        "  counts.append(len(new_w.group()))\n",
        "\n",
        "counts"
      ],
      "metadata": {
        "colab": {
          "base_uri": "https://localhost:8080/"
        },
        "id": "6Nh7SeI-B7Cv",
        "outputId": "3d6882c9-0ae2-42ed-c54d-4cd13796972a"
      },
      "execution_count": 27,
      "outputs": [
        {
          "output_type": "execute_result",
          "data": {
            "text/plain": [
              "[3, 1, 4, 1, 5, 9, 2, 6, 5, 3, 5, 8, 9, 7, 9]"
            ]
          },
          "metadata": {},
          "execution_count": 27
        }
      ]
    },
    {
      "cell_type": "markdown",
      "source": [
        "04. 元素記号"
      ],
      "metadata": {
        "id": "-STRggewL7nB"
      }
    },
    {
      "cell_type": "code",
      "source": [
        "sentence = 'Hi He Lied Because Boron Could Not Oxidize Fluorine. New Nations Might Also Sign Peace Security Clause. Arthur King Can.'\n",
        "sentence= sentence.split()\n",
        "\n",
        "heads = [1, 5, 6, 7, 8, 9, 15, 16, 19]\n",
        "dic = {}\n",
        "for i, word in enumerate(sentence):\n",
        "  if i+1 in heads:\n",
        "    dic[word[0]] = i+1\n",
        "  else:\n",
        "   dic[word[0:2]] = i+1\n",
        "\n",
        "dic"
      ],
      "metadata": {
        "colab": {
          "base_uri": "https://localhost:8080/"
        },
        "id": "ha9S5U6yMDAf",
        "outputId": "1a0f6fbb-0be6-443f-f2af-f51e5817b4e6"
      },
      "execution_count": 32,
      "outputs": [
        {
          "output_type": "execute_result",
          "data": {
            "text/plain": [
              "{'H': 1,\n",
              " 'He': 2,\n",
              " 'Li': 3,\n",
              " 'Be': 4,\n",
              " 'B': 5,\n",
              " 'C': 6,\n",
              " 'N': 7,\n",
              " 'O': 8,\n",
              " 'F': 9,\n",
              " 'Ne': 10,\n",
              " 'Na': 11,\n",
              " 'Mi': 12,\n",
              " 'Al': 13,\n",
              " 'Si': 14,\n",
              " 'P': 15,\n",
              " 'S': 16,\n",
              " 'Cl': 17,\n",
              " 'Ar': 18,\n",
              " 'K': 19,\n",
              " 'Ca': 20}"
            ]
          },
          "metadata": {},
          "execution_count": 32
        }
      ]
    },
    {
      "cell_type": "code",
      "source": [],
      "metadata": {
        "id": "Md-FTByoMJrM"
      },
      "execution_count": null,
      "outputs": []
    }
  ]
}