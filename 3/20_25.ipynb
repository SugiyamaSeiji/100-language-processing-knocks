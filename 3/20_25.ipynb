{
  "nbformat": 4,
  "nbformat_minor": 0,
  "metadata": {
    "colab": {
      "provenance": [],
      "authorship_tag": "ABX9TyMSWB5Nw23grkjz4WpKE9hi",
      "include_colab_link": true
    },
    "kernelspec": {
      "name": "python3",
      "display_name": "Python 3"
    },
    "language_info": {
      "name": "python"
    }
  },
  "cells": [
    {
      "cell_type": "markdown",
      "metadata": {
        "id": "view-in-github",
        "colab_type": "text"
      },
      "source": [
        "<a href=\"https://colab.research.google.com/github/SugiyamaSeiji/100-language-processing-knocks/blob/main/3/20_25.ipynb\" target=\"_parent\"><img src=\"https://colab.research.google.com/assets/colab-badge.svg\" alt=\"Open In Colab\"/></a>"
      ]
    },
    {
      "cell_type": "markdown",
      "source": [
        "20. JSONデータの読み込みPermalink"
      ],
      "metadata": {
        "id": "ge3BmoD_CKHf"
      }
    },
    {
      "cell_type": "code",
      "execution_count": null,
      "metadata": {
        "id": "G-7C4gfKBpi8"
      },
      "outputs": [],
      "source": [
        "import pandas as pd\n",
        "import json\n",
        "\n",
        "df = pd.read_json(\"jawiki-country.json\",lines=True)"
      ]
    },
    {
      "cell_type": "code",
      "source": [
        "British = df[df['title'] == \"イギリス\"]"
      ],
      "metadata": {
        "id": "yBV0QPQSCTwX"
      },
      "execution_count": null,
      "outputs": []
    },
    {
      "cell_type": "code",
      "source": [
        "text = British[\"text\"].tolist()[0]"
      ],
      "metadata": {
        "id": "elhRzDoaD3md"
      },
      "execution_count": null,
      "outputs": []
    },
    {
      "cell_type": "markdown",
      "source": [
        "21. カテゴリ名を含む行を抽出Permalink"
      ],
      "metadata": {
        "id": "rvywUfh1Dow0"
      }
    },
    {
      "cell_type": "code",
      "source": [
        "import re\n",
        "#　findall で全ての結果をlistで返す\n",
        "\n",
        "pattern = r'\\[\\[Category:.*\\]\\]'\n",
        "\n",
        "output = re.findall(pattern, text)\n",
        "\n",
        "output"
      ],
      "metadata": {
        "colab": {
          "base_uri": "https://localhost:8080/"
        },
        "id": "ecM7mw8tDHvZ",
        "outputId": "48971ae3-8b0b-44b9-be2f-a181e8003ec4"
      },
      "execution_count": null,
      "outputs": [
        {
          "output_type": "execute_result",
          "data": {
            "text/plain": [
              "['[[Category:イギリス|*]]',\n",
              " '[[Category:イギリス連邦加盟国]]',\n",
              " '[[Category:英連邦王国|*]]',\n",
              " '[[Category:G8加盟国]]',\n",
              " '[[Category:欧州連合加盟国|元]]',\n",
              " '[[Category:海洋国家]]',\n",
              " '[[Category:現存する君主国]]',\n",
              " '[[Category:島国]]',\n",
              " '[[Category:1801年に成立した国家・領域]]']"
            ]
          },
          "metadata": {},
          "execution_count": 12
        }
      ]
    },
    {
      "cell_type": "markdown",
      "source": [
        "22. カテゴリ名の抽出"
      ],
      "metadata": {
        "id": "G86PAT_rHU99"
      }
    },
    {
      "cell_type": "code",
      "source": [
        "import re\n",
        "\n",
        "pattern = r'\\[\\[Category:(.*?)(?:\\|.*?)*\\]\\]' # 非キャプチャグループ (?:   )\n",
        "\n",
        "output = re.findall(pattern, text)\n",
        "output"
      ],
      "metadata": {
        "colab": {
          "base_uri": "https://localhost:8080/"
        },
        "id": "7yvxMdxTGNiM",
        "outputId": "eccd3428-aef1-4a5e-cd86-1c60d82e4207"
      },
      "execution_count": null,
      "outputs": [
        {
          "output_type": "execute_result",
          "data": {
            "text/plain": [
              "['イギリス',\n",
              " 'イギリス連邦加盟国',\n",
              " '英連邦王国',\n",
              " 'G8加盟国',\n",
              " '欧州連合加盟国',\n",
              " '海洋国家',\n",
              " '現存する君主国',\n",
              " '島国',\n",
              " '1801年に成立した国家・領域']"
            ]
          },
          "metadata": {},
          "execution_count": 106
        }
      ]
    },
    {
      "cell_type": "markdown",
      "source": [
        "23. セクション構造"
      ],
      "metadata": {
        "id": "i7Ic1rrVPaJV"
      }
    },
    {
      "cell_type": "code",
      "source": [
        "from collections import Counter\n",
        "\n",
        "pattern = r'(={2,})\\s*(.*?)\\s*(={2,})' # \\s　空白\n",
        "output = re.findall(pattern, text)\n",
        "\n",
        "result = [item[1] + \":\" + str(len(item[0])-1) for item in output]"
      ],
      "metadata": {
        "id": "qK-q6WZVJgC6"
      },
      "execution_count": null,
      "outputs": []
    },
    {
      "cell_type": "code",
      "source": [
        "result"
      ],
      "metadata": {
        "colab": {
          "base_uri": "https://localhost:8080/"
        },
        "id": "wl3yNeiJP9Ia",
        "outputId": "4be01876-f53d-4a15-f0fb-29967c2eecb5"
      },
      "execution_count": null,
      "outputs": [
        {
          "output_type": "execute_result",
          "data": {
            "text/plain": [
              "['国名:1',\n",
              " '歴史:1',\n",
              " '地理:1',\n",
              " '主要都市:2',\n",
              " '気候:2',\n",
              " '政治:1',\n",
              " '元首:2',\n",
              " '法:2',\n",
              " '内政:2',\n",
              " '地方行政区分:2',\n",
              " '外交・軍事:2',\n",
              " '経済:1',\n",
              " '鉱業:2',\n",
              " '農業:2',\n",
              " '貿易:2',\n",
              " '不動産:2',\n",
              " 'エネルギー政策:2',\n",
              " '通貨:2',\n",
              " '企業:2',\n",
              " '通信:3',\n",
              " '交通:1',\n",
              " '道路:2',\n",
              " '鉄道:2',\n",
              " '海運:2',\n",
              " '航空:2',\n",
              " '科学技術:1',\n",
              " '国民:1',\n",
              " '言語:2',\n",
              " '宗教:2',\n",
              " '婚姻:2',\n",
              " '移住:2',\n",
              " '教育:2',\n",
              " '医療:2',\n",
              " '文化:1',\n",
              " '食文化:2',\n",
              " '文学:2',\n",
              " '哲学:2',\n",
              " '音楽:2',\n",
              " 'ポピュラー音楽:3',\n",
              " '映画:2',\n",
              " 'コメディ:2',\n",
              " '国花:2',\n",
              " '世界遺産:2',\n",
              " '祝祭日:2',\n",
              " 'スポーツ:2',\n",
              " 'サッカー:3',\n",
              " 'クリケット:3',\n",
              " '競馬:3',\n",
              " 'モータースポーツ:3',\n",
              " '野球:3',\n",
              " 'カーリング:3',\n",
              " '自転車競技:3',\n",
              " '脚注:1',\n",
              " '関連項目:1',\n",
              " '外部リンク:1']"
            ]
          },
          "metadata": {},
          "execution_count": 135
        }
      ]
    },
    {
      "cell_type": "markdown",
      "source": [
        "24. ファイル参照の抽出"
      ],
      "metadata": {
        "id": "jtDiIMd_T4Vg"
      }
    },
    {
      "cell_type": "code",
      "source": [
        "pattern = r'\\[\\[ファイル:(.*?)\\|'\n",
        "\n",
        "re.findall(pattern, text)"
      ],
      "metadata": {
        "colab": {
          "base_uri": "https://localhost:8080/"
        },
        "id": "U0B6X6vGTsXI",
        "outputId": "3382ebde-6de9-4145-ad12-0687e82cddae"
      },
      "execution_count": null,
      "outputs": [
        {
          "output_type": "execute_result",
          "data": {
            "text/plain": [
              "['Royal Coat of Arms of the United Kingdom.svg',\n",
              " 'Descriptio Prime Tabulae Europae.jpg',\n",
              " \"Lenepveu, Jeanne d'Arc au siège d'Orléans.jpg\",\n",
              " 'London.bankofengland.arp.jpg',\n",
              " 'Battle of Waterloo 1815.PNG',\n",
              " 'Uk topo en.jpg',\n",
              " 'BenNevis2005.jpg',\n",
              " 'Population density UK 2011 census.png',\n",
              " '2019 Greenwich Peninsula & Canary Wharf.jpg',\n",
              " 'Birmingham Skyline from Edgbaston Cricket Ground crop.jpg',\n",
              " 'Leeds CBD at night.jpg',\n",
              " 'Glasgow and the Clyde from the air (geograph 4665720).jpg',\n",
              " 'Palace of Westminster, London - Feb 2007.jpg',\n",
              " 'Scotland Parliament Holyrood.jpg',\n",
              " 'Donald Trump and Theresa May (33998675310) (cropped).jpg',\n",
              " 'Soldiers Trooping the Colour, 16th June 2007.jpg',\n",
              " 'City of London skyline from London City Hall - Oct 2008.jpg',\n",
              " 'Oil platform in the North SeaPros.jpg',\n",
              " 'Eurostar at St Pancras Jan 2008.jpg',\n",
              " 'Heathrow Terminal 5C Iwelumo-1.jpg',\n",
              " 'Airbus A380-841 G-XLEB British Airways (10424102995).jpg',\n",
              " 'UKpop.svg',\n",
              " 'Anglospeak.svg',\n",
              " \"Royal Aberdeen Children's Hospital.jpg\",\n",
              " 'CHANDOS3.jpg',\n",
              " 'The Fabs.JPG',\n",
              " 'Wembley Stadium, illuminated.jpg']"
            ]
          },
          "metadata": {},
          "execution_count": 161
        }
      ]
    },
    {
      "cell_type": "markdown",
      "source": [
        "25. テンプレートの抽出"
      ],
      "metadata": {
        "id": "j_ew8oVbVYd3"
      }
    },
    {
      "cell_type": "code",
      "source": [
        "import re\n",
        "\n",
        "# テンプレートの抽出\n",
        "\n",
        "pattern =  r'基礎情報.*?(.*?)^\\}\\}'\n",
        "result = re.findall(pattern, text, re.MULTILINE + re.DOTALL)\n",
        "\n",
        "'''\n",
        "re.MULTILINE : 複数行に対してそれぞれ検索\n",
        "re.DOTALL   : ドットを改行文字にもマッチさせる\n",
        "\n",
        "'''\n"
      ],
      "metadata": {
        "id": "3eTmEpDYUsyT",
        "colab": {
          "base_uri": "https://localhost:8080/",
          "height": 35
        },
        "outputId": "b2da9bc8-acd7-49d3-b864-cfd809bacd5f"
      },
      "execution_count": null,
      "outputs": [
        {
          "output_type": "execute_result",
          "data": {
            "text/plain": [
              "'\\nre.MULTILINE : 複数行に対してそれぞれ検索\\nre.DOTALL   : ドットを改行文字にもマッチさせる\\n\\n'"
            ],
            "application/vnd.google.colaboratory.intrinsic+json": {
              "type": "string"
            }
          },
          "metadata": {},
          "execution_count": 167
        }
      ]
    },
    {
      "cell_type": "code",
      "source": [
        "pattern25 = r'^\\|(.+?)\\s*=\\s*(.+?)(?:(?=\\n\\|)|(?=\\n$))'\n",
        "output25 = re.findall(pattern25, result[0], re.MULTILINE + re.DOTALL)\n",
        "output25 = dict(output25)\n",
        "output25"
      ],
      "metadata": {
        "colab": {
          "base_uri": "https://localhost:8080/"
        },
        "id": "5LAsqRSiXF-C",
        "outputId": "0d5137f3-d838-4c91-9c44-a42931eff2de"
      },
      "execution_count": null,
      "outputs": [
        {
          "output_type": "execute_result",
          "data": {
            "text/plain": [
              "{'略名': 'イギリス',\n",
              " '日本語国名': 'グレートブリテン及び北アイルランド連合王国',\n",
              " '公式国名': '{{lang|en|United Kingdom of Great Britain and Northern Ireland}}<ref>英語以外での正式国名:<br />\\n*{{lang|gd|An Rìoghachd Aonaichte na Breatainn Mhòr agus Eirinn mu Thuath}}（[[スコットランド・ゲール語]]）\\n*{{lang|cy|Teyrnas Gyfunol Prydain Fawr a Gogledd Iwerddon}}（[[ウェールズ語]]）\\n*{{lang|ga|Ríocht Aontaithe na Breataine Móire agus Tuaisceart na hÉireann}}（[[アイルランド語]]）\\n*{{lang|kw|An Rywvaneth Unys a Vreten Veur hag Iwerdhon Glédh}}（[[コーンウォール語]]）\\n*{{lang|sco|Unitit Kinrick o Great Breetain an Northren Ireland}}（[[スコットランド語]]）\\n**{{lang|sco|Claught Kängrick o Docht Brätain an Norlin Airlann}}、{{lang|sco|Unitet Kängdom o Great Brittain an Norlin Airlann}}（アルスター・スコットランド語）</ref>',\n",
              " '国旗画像': 'Flag of the United Kingdom.svg',\n",
              " '国章画像': '[[ファイル:Royal Coat of Arms of the United Kingdom.svg|85px|イギリスの国章]]',\n",
              " '国章リンク': '（[[イギリスの国章|国章]]）',\n",
              " '標語': '{{lang|fr|[[Dieu et mon droit]]}}<br />（[[フランス語]]:[[Dieu et mon droit|神と我が権利]]）',\n",
              " '国歌': \"[[女王陛下万歳|{{lang|en|God Save the Queen}}]]{{en icon}}<br />''神よ女王を護り賜え''<br />{{center|[[ファイル:United States Navy Band - God Save the Queen.ogg]]}}\",\n",
              " '地図画像': 'Europe-UK.svg',\n",
              " '位置画像': 'United Kingdom (+overseas territories) in the World (+Antarctica claims).svg',\n",
              " '公用語': '[[英語]]',\n",
              " '首都': '[[ロンドン]]（事実上）',\n",
              " '最大都市': 'ロンドン',\n",
              " '元首等肩書': '[[イギリスの君主|女王]]',\n",
              " '元首等氏名': '[[エリザベス2世]]',\n",
              " '首相等肩書': '[[イギリスの首相|首相]]',\n",
              " '首相等氏名': '[[ボリス・ジョンソン]]',\n",
              " '他元首等肩書1': '[[貴族院 (イギリス)|貴族院議長]]',\n",
              " '他元首等氏名1': '[[:en:Norman Fowler, Baron Fowler|ノーマン・ファウラー]]',\n",
              " '他元首等肩書2': '[[庶民院 (イギリス)|庶民院議長]]',\n",
              " '他元首等氏名2': '{{仮リンク|リンゼイ・ホイル|en|Lindsay Hoyle}}',\n",
              " '他元首等肩書3': '[[連合王国最高裁判所|最高裁判所長官]]',\n",
              " '他元首等氏名3': '[[:en:Brenda Hale, Baroness Hale of Richmond|ブレンダ・ヘイル]]',\n",
              " '面積順位': '76',\n",
              " '面積大きさ': '1 E11',\n",
              " '面積値': '244,820',\n",
              " '水面積率': '1.3%',\n",
              " '人口統計年': '2018',\n",
              " '人口順位': '22',\n",
              " '人口大きさ': '1 E7',\n",
              " '人口値': '6643万5600<ref>{{Cite web|url=https://www.ons.gov.uk/peoplepopulationandcommunity/populationandmigration/populationestimates|title=Population estimates - Office for National Statistics|accessdate=2019-06-26|date=2019-06-26}}</ref>',\n",
              " '人口密度値': '271',\n",
              " 'GDP統計年元': '2012',\n",
              " 'GDP値元': '1兆5478億<ref name=\"imf-statistics-gdp\">[http://www.imf.org/external/pubs/ft/weo/2012/02/weodata/weorept.aspx?pr.x=70&pr.y=13&sy=2010&ey=2012&scsm=1&ssd=1&sort=country&ds=.&br=1&c=112&s=NGDP%2CNGDPD%2CPPPGDP%2CPPPPC&grp=0&a=IMF>Data and Statistics>World Economic Outlook Databases>By Countrise>United Kingdom]</ref>',\n",
              " 'GDP統計年MER': '2012',\n",
              " 'GDP順位MER': '6',\n",
              " 'GDP値MER': '2兆4337億<ref name=\"imf-statistics-gdp\" />',\n",
              " 'GDP統計年': '2012',\n",
              " 'GDP順位': '6',\n",
              " 'GDP値': '2兆3162億<ref name=\"imf-statistics-gdp\" />',\n",
              " 'GDP/人': '36,727<ref name=\"imf-statistics-gdp\" />',\n",
              " '建国形態': '建国',\n",
              " '確立形態1': '[[イングランド王国]]／[[スコットランド王国]]<br />（両国とも[[合同法 (1707年)|1707年合同法]]まで）',\n",
              " '確立年月日1': '927年／843年',\n",
              " '確立形態2': '[[グレートブリテン王国]]成立<br />（1707年合同法）',\n",
              " '確立年月日2': '1707年{{0}}5月{{0}}1日',\n",
              " '確立形態3': '[[グレートブリテン及びアイルランド連合王国]]成立<br />（[[合同法 (1800年)|1800年合同法]]）',\n",
              " '確立年月日3': '1801年{{0}}1月{{0}}1日',\n",
              " '確立形態4': \"現在の国号「'''グレートブリテン及び北アイルランド連合王国'''」に変更\",\n",
              " '確立年月日4': '1927年{{0}}4月12日',\n",
              " '通貨': '[[スターリング・ポンド|UKポンド]] (£)',\n",
              " '通貨コード': 'GBP',\n",
              " '時間帯': '±0',\n",
              " '夏時間': '+1',\n",
              " 'ISO 3166-1': 'GB / GBR',\n",
              " 'ccTLD': '[[.uk]] / [[.gb]]<ref>使用は.ukに比べ圧倒的少数。</ref>',\n",
              " '国際電話番号': '44',\n",
              " '注記': '<references/>'}"
            ]
          },
          "metadata": {},
          "execution_count": 168
        }
      ]
    },
    {
      "cell_type": "markdown",
      "source": [
        "26. 強調マークアップの除去"
      ],
      "metadata": {
        "id": "goGrtF-sAHol"
      }
    },
    {
      "cell_type": "code",
      "source": [
        "pattern26 = r'\\'+'\n",
        "removed26 = re.sub(pattern26, \"\",text)\n",
        "\n",
        "output26 = re.findall(pattern25, removed26, re.MULTILINE + re.DOTALL)\n",
        "output26 = dict(output26)\n",
        "output26"
      ],
      "metadata": {
        "colab": {
          "base_uri": "https://localhost:8080/"
        },
        "id": "lE8xljRbkSEV",
        "outputId": "8fe7f375-47a4-4615-fbc2-70a5d178e269"
      },
      "execution_count": null,
      "outputs": [
        {
          "output_type": "execute_result",
          "data": {
            "text/plain": [
              "{'略名': 'イギリス',\n",
              " '日本語国名': 'グレートブリテン及び北アイルランド連合王国',\n",
              " '公式国名': '{{lang|en|United Kingdom of Great Britain and Northern Ireland}}<ref>英語以外での正式国名:<br />\\n*{{lang|gd|An Rìoghachd Aonaichte na Breatainn Mhòr agus Eirinn mu Thuath}}（[[スコットランド・ゲール語]]）\\n*{{lang|cy|Teyrnas Gyfunol Prydain Fawr a Gogledd Iwerddon}}（[[ウェールズ語]]）\\n*{{lang|ga|Ríocht Aontaithe na Breataine Móire agus Tuaisceart na hÉireann}}（[[アイルランド語]]）\\n*{{lang|kw|An Rywvaneth Unys a Vreten Veur hag Iwerdhon Glédh}}（[[コーンウォール語]]）\\n*{{lang|sco|Unitit Kinrick o Great Breetain an Northren Ireland}}（[[スコットランド語]]）\\n**{{lang|sco|Claught Kängrick o Docht Brätain an Norlin Airlann}}、{{lang|sco|Unitet Kängdom o Great Brittain an Norlin Airlann}}（アルスター・スコットランド語）</ref>',\n",
              " '国旗画像': 'Flag of the United Kingdom.svg',\n",
              " '国章画像': '[[ファイル:Royal Coat of Arms of the United Kingdom.svg|85px|イギリスの国章]]',\n",
              " '国章リンク': '（[[イギリスの国章|国章]]）',\n",
              " '標語': '{{lang|fr|[[Dieu et mon droit]]}}<br />（[[フランス語]]:[[Dieu et mon droit|神と我が権利]]）',\n",
              " '国歌': '[[女王陛下万歳|{{lang|en|God Save the Queen}}]]{{en icon}}<br />神よ女王を護り賜え<br />{{center|[[ファイル:United States Navy Band - God Save the Queen.ogg]]}}',\n",
              " '地図画像': 'Europe-UK.svg',\n",
              " '位置画像': 'United Kingdom (+overseas territories) in the World (+Antarctica claims).svg',\n",
              " '公用語': '[[英語]]',\n",
              " '首都': '[[ロンドン]]（事実上）',\n",
              " '最大都市': 'ロンドン',\n",
              " '元首等肩書': '[[イギリスの君主|女王]]',\n",
              " '元首等氏名': '[[エリザベス2世]]',\n",
              " '首相等肩書': '[[イギリスの首相|首相]]',\n",
              " '首相等氏名': '[[ボリス・ジョンソン]]',\n",
              " '他元首等肩書1': '[[貴族院 (イギリス)|貴族院議長]]',\n",
              " '他元首等氏名1': '[[:en:Norman Fowler, Baron Fowler|ノーマン・ファウラー]]',\n",
              " '他元首等肩書2': '[[庶民院 (イギリス)|庶民院議長]]',\n",
              " '他元首等氏名2': '{{仮リンク|リンゼイ・ホイル|en|Lindsay Hoyle}}',\n",
              " '他元首等肩書3': '[[連合王国最高裁判所|最高裁判所長官]]',\n",
              " '他元首等氏名3': '[[:en:Brenda Hale, Baroness Hale of Richmond|ブレンダ・ヘイル]]',\n",
              " '面積順位': '76',\n",
              " '面積大きさ': '1 E11',\n",
              " '面積値': '244,820',\n",
              " '水面積率': '1.3%',\n",
              " '人口統計年': '2018',\n",
              " '人口順位': '22',\n",
              " '人口大きさ': '1 E7',\n",
              " '人口値': '6643万5600<ref>{{Cite web|url=https://www.ons.gov.uk/peoplepopulationandcommunity/populationandmigration/populationestimates|title=Population estimates - Office for National Statistics|accessdate=2019-06-26|date=2019-06-26}}</ref>',\n",
              " '人口密度値': '271',\n",
              " 'GDP統計年元': '2012',\n",
              " 'GDP値元': '1兆5478億<ref name=\"imf-statistics-gdp\">[http://www.imf.org/external/pubs/ft/weo/2012/02/weodata/weorept.aspx?pr.x=70&pr.y=13&sy=2010&ey=2012&scsm=1&ssd=1&sort=country&ds=.&br=1&c=112&s=NGDP%2CNGDPD%2CPPPGDP%2CPPPPC&grp=0&a=IMF>Data and Statistics>World Economic Outlook Databases>By Countrise>United Kingdom]</ref>',\n",
              " 'GDP統計年MER': '2012',\n",
              " 'GDP順位MER': '6',\n",
              " 'GDP値MER': '2兆4337億<ref name=\"imf-statistics-gdp\" />',\n",
              " 'GDP統計年': '2012',\n",
              " 'GDP順位': '6',\n",
              " 'GDP値': '2兆3162億<ref name=\"imf-statistics-gdp\" />',\n",
              " 'GDP/人': '36,727<ref name=\"imf-statistics-gdp\" />',\n",
              " '建国形態': '建国',\n",
              " '確立形態1': '[[イングランド王国]]／[[スコットランド王国]]<br />（両国とも[[合同法 (1707年)|1707年合同法]]まで）',\n",
              " '確立年月日1': '927年／843年',\n",
              " '確立形態2': '[[グレートブリテン王国]]成立<br />（1707年合同法）',\n",
              " '確立年月日2': '1707年{{0}}5月{{0}}1日',\n",
              " '確立形態3': '[[グレートブリテン及びアイルランド連合王国]]成立<br />（[[合同法 (1800年)|1800年合同法]]）',\n",
              " '確立年月日3': '1801年{{0}}1月{{0}}1日',\n",
              " '確立形態4': '現在の国号「グレートブリテン及び北アイルランド連合王国」に変更',\n",
              " '確立年月日4': '1927年{{0}}4月12日',\n",
              " '通貨': '[[スターリング・ポンド|UKポンド]] (£)',\n",
              " '通貨コード': 'GBP',\n",
              " '時間帯': '±0',\n",
              " '夏時間': '+1',\n",
              " 'ISO 3166-1': 'GB / GBR',\n",
              " 'ccTLD': '[[.uk]] / [[.gb]]<ref>使用は.ukに比べ圧倒的少数。</ref>',\n",
              " '国際電話番号': '44',\n",
              " '注記': '<references/>\\n}}',\n",
              " '-\\n!rowspan': '30|\\n[[ファイル:2019 Greenwich Peninsula & Canary Wharf.jpg|150px]]<br /><small>[[ロンドン]]</small><br />[[ファイル:Birmingham Skyline from Edgbaston Cricket Ground crop.jpg|150px]]<br /><small>[[バーミンガム]]</small><br />\\n! style=\"text-align:center; background:#f5f5f5;\"| <small>#</small>\\n! style=\"text-align:left; background:#f5f5f5;\"| 都市名\\n! style=\"text-align:left; background:#f5f5f5;\"| [[イギリスの地方行政区画|行政区画]]\\n! style=\"text-align:center; background:#f5f5f5;\"| 人口\\n! style=\"text-align:center; background:#f5f5f5;\"| <small>#</small>\\n! style=\"text-align:left; background:#f5f5f5;\"| 都市名\\n! style=\"text-align:left; background:#f5f5f5;\"| [[イギリスの地方行政区画|行政区画]]\\n! style=\"text-align:center; background:#f5f5f5;\"| 人口\\n!rowspan=21|\\n[[ファイル:Leeds CBD at night.jpg|150px]]<br /><small>[[リーズ]]</small><br />[[ファイル:Glasgow and the Clyde from the air (geograph 4665720).jpg|150px]]<br /><small>[[グラスゴー]]</small><br />',\n",
              " '-\\n| style': '\"background:#f0f0f0\"| 10 ||align=left | [[ブリストル]] || {{ENG}} || 463,400人 || 20 ||align=left | [[ストーク＝オン＝トレント|ストーク･オン･トレント]] || {{ENG}} || 255,833人',\n",
              " '}\\n{{Clear}}\\n4位以下の都市人口が僅差であり順位が変わりやすい。2006年以降はロンドン、バーミンガム、リーズ、グラスゴー、シェフィールドの順となっている。': '==気候===\\nイギリスの[[気候]]は2つの要因によって基調が定まっている。まず、[[メキシコ湾流]]に由来する暖流の北大西洋海流の影響下にあるため、北緯50度から60度という高緯度にもかかわらず温暖であること、次に中緯度の偏西風の影響を強く受けることである。以上から[[西岸海洋性気候]] (Cfb) が卓越する。[[大陸性気候]]はまったく見られず、気温の年較差は小さい。',\n",
              " '-\\n|法人企業\\n|style': '\"text-align:right\"|18',\n",
              " '<!-- 最上段 --><div style': '\"width:180px;height:16px;background:#9999ff\"></div>',\n",
              " '-\\n|銀行の経営者・寡頭政治家\\n|style': '\"text-align:right\"|17',\n",
              " '<!-- 2段目 --><div style': '\"width:170px;height:16px;background:#9999ff\"></div>',\n",
              " '-\\n|公的機関\\n|style': '\"text-align:right\"|8.5',\n",
              " '<!-- 3段目 --><div style': '\"width:85px;height:16px;background:#9999ff\"></div>',\n",
              " '-\\n|住宅保有者\\n|style': '\"text-align:right\"|5',\n",
              " '<!-- 4段目 --><div style': '\"width:50px;height:16px;background:#9999ff\"></div>',\n",
              " '-\\n|慈悲団体\\n|style': '\"text-align:right\"|2',\n",
              " '<!-- 5段目 --><div style': '\"width:20px;height:16px;background:#9999ff\"></div>',\n",
              " '-\\n|王室\\n|style': '\"text-align:right\"|1,4',\n",
              " '<!-- 6段目 --><div style': '\"width:14px;height:16px;background:#9999ff\"></div>',\n",
              " '-\\n|イングランド教会\\n|style': '\"text-align:right\"|0.5',\n",
              " '<!-- 7段目 --><div style': '\"width:5px;height:16px;background:#9999ff\"></div>',\n",
              " '-\\n|未申告\\n|style': '\"text-align:right\"|17',\n",
              " '<!-- 最下段 --><div style': '\"width:178px;height:16px;background:#9999ff\"></div>',\n",
              " '}': '==エネルギー政策===\\n{{main|{{仮リンク|イギリスのエネルギー|en|Energy in the United Kingdom}}}}',\n",
              " '-\\n|1月{{0}}1日||[[元日]]||{{lang|en|New Years Day}}||\\n|-\\n|1月{{0}}2日||元日翌日||-||スコットランドのみ\\n|-\\n|3月17日||[[聖パトリックの祝日|聖パトリックの日]]||{{lang|en|St. Patricks Day}}||北アイルランドのみ\\n|-\\n|3月 - 4月||[[聖金曜日]]||{{lang|en|Good Friday}}||移動祝日\\n|-\\n|3月 - 4月||[[復活祭]]月曜日||{{lang|en|Easter Monday}}||移動祝日\\n|-\\n|5月第1月曜日||[[五月祭]]||{{lang|en|Early May Bank Holiday}}||移動祝日\\n|-\\n|5月最終月曜日||五月祭終り||{{lang|en|Spring Bank Holiday}}||移動祝日\\n|-\\n|7月12日||[[ボイン川の戦い]]記念日||{{lang|en|Battle of the Boyne (Orangemens Day)}}||北アイルランドのみ\\n|-\\n|8月第1月曜日||夏季銀行休業日||{{lang|en|Summer Bank Holiday}}||移動祝日、スコットランドのみ\\n|-\\n|8月最終月曜日||夏季銀行休業日||{{lang|en|Summer Bank Holiday}}||移動祝日、スコットランドを除く\\n|-\\n|12月25日||[[クリスマス]]||{{lang|en|Christmas Day}}||\\n|-\\n|12月26日||[[ボクシング・デー]]||{{lang|en|Boxing Day}}||\\n|}\\n*聖金曜日を除く移動祝日は原則的に月曜日に設定されている。\\n*ボクシング・デー後の2日も銀行休業日であったが2005年を最後に廃止されている。': '==スポーツ===\\n{{main|{{仮リンク|イギリスのスポーツ|en|Sport in the United Kingdom}}}}\\n[[ファイル:Wembley Stadium, illuminated.jpg|thumb|220px|[[ウェンブリー・スタジアム]]]]\\nイギリスは[[サッカー]]、[[ラグビー]]、[[クリケット]]、[[ゴルフ]]、[[ボクシング]]など多くの競技が発祥もしくは近代スポーツとして整備された地域であり、国技としても定着している。年間観客動員数は4000万人以上を集めるサッカーが他を大きく凌いでおり、[[競馬]]の600万人、ユニオンラグビーの300万、クリケット200万がそれに続く。'}"
            ]
          },
          "metadata": {},
          "execution_count": 169
        }
      ]
    },
    {
      "cell_type": "markdown",
      "source": [
        "27. 内部リンクの除去Permalink"
      ],
      "metadata": {
        "id": "7-enIKaAnBnv"
      }
    },
    {
      "cell_type": "code",
      "source": [
        "pattern1 = r\"'+\" #　シングルコーテーションで囲まれている\n",
        "\n",
        "pattern2 = r'\\[\\[(.+\\||)(.+?)\\]\\]' # [[　1 | 2 ]]"
      ],
      "metadata": {
        "id": "V1AUZ8I5qiNM"
      },
      "execution_count": null,
      "outputs": []
    },
    {
      "cell_type": "code",
      "source": [
        "x = re.sub(pattern1, \"\", result[0]) # 強調マークアップを除去\n",
        "x = re.sub(pattern2, r\"\\2\", x) # [[　1 | 2 ]]　→ 2"
      ],
      "metadata": {
        "id": "xLCjK7IwtHwR"
      },
      "execution_count": null,
      "outputs": []
    },
    {
      "cell_type": "code",
      "source": [
        "output27 = re.findall(pattern25, x, re.MULTILINE + re.DOTALL)\n",
        "output27"
      ],
      "metadata": {
        "colab": {
          "base_uri": "https://localhost:8080/"
        },
        "id": "0JyCj04mwiGk",
        "outputId": "d07616fd-f479-4b8c-b722-efc561ffd128"
      },
      "execution_count": null,
      "outputs": [
        {
          "output_type": "execute_result",
          "data": {
            "text/plain": [
              "[('略名', 'イギリス'),\n",
              " ('日本語国名', 'グレートブリテン及び北アイルランド連合王国'),\n",
              " ('公式国名',\n",
              "  '{{lang|en|United Kingdom of Great Britain and Northern Ireland}}<ref>英語以外での正式国名:<br />\\n*{{lang|gd|An Rìoghachd Aonaichte na Breatainn Mhòr agus Eirinn mu Thuath}}（スコットランド・ゲール語）\\n*{{lang|cy|Teyrnas Gyfunol Prydain Fawr a Gogledd Iwerddon}}（ウェールズ語）\\n*{{lang|ga|Ríocht Aontaithe na Breataine Móire agus Tuaisceart na hÉireann}}（アイルランド語）\\n*{{lang|kw|An Rywvaneth Unys a Vreten Veur hag Iwerdhon Glédh}}（コーンウォール語）\\n*{{lang|sco|Unitit Kinrick o Great Breetain an Northren Ireland}}（スコットランド語）\\n**{{lang|sco|Claught Kängrick o Docht Brätain an Norlin Airlann}}、{{lang|sco|Unitet Kängdom o Great Brittain an Norlin Airlann}}（アルスター・スコットランド語）</ref>'),\n",
              " ('国旗画像', 'Flag of the United Kingdom.svg'),\n",
              " ('国章画像', 'イギリスの国章'),\n",
              " ('国章リンク', '（国章）'),\n",
              " ('標語', '{{lang|fr|神と我が権利）'),\n",
              " ('国歌', '[[ファイル:United States Navy Band - God Save the Queen.ogg}}'),\n",
              " ('地図画像', 'Europe-UK.svg'),\n",
              " ('位置画像',\n",
              "  'United Kingdom (+overseas territories) in the World (+Antarctica claims).svg'),\n",
              " ('公用語', '英語'),\n",
              " ('首都', 'ロンドン（事実上）'),\n",
              " ('最大都市', 'ロンドン'),\n",
              " ('元首等肩書', '女王'),\n",
              " ('元首等氏名', 'エリザベス2世'),\n",
              " ('首相等肩書', '首相'),\n",
              " ('首相等氏名', 'ボリス・ジョンソン'),\n",
              " ('他元首等肩書1', '貴族院議長'),\n",
              " ('他元首等氏名1', 'ノーマン・ファウラー'),\n",
              " ('他元首等肩書2', '庶民院議長'),\n",
              " ('他元首等氏名2', '{{仮リンク|リンゼイ・ホイル|en|Lindsay Hoyle}}'),\n",
              " ('他元首等肩書3', '最高裁判所長官'),\n",
              " ('他元首等氏名3', 'ブレンダ・ヘイル'),\n",
              " ('面積順位', '76'),\n",
              " ('面積大きさ', '1 E11'),\n",
              " ('面積値', '244,820'),\n",
              " ('水面積率', '1.3%'),\n",
              " ('人口統計年', '2018'),\n",
              " ('人口順位', '22'),\n",
              " ('人口大きさ', '1 E7'),\n",
              " ('人口値',\n",
              "  '6643万5600<ref>{{Cite web|url=https://www.ons.gov.uk/peoplepopulationandcommunity/populationandmigration/populationestimates|title=Population estimates - Office for National Statistics|accessdate=2019-06-26|date=2019-06-26}}</ref>'),\n",
              " ('人口密度値', '271'),\n",
              " ('GDP統計年元', '2012'),\n",
              " ('GDP値元',\n",
              "  '1兆5478億<ref name=\"imf-statistics-gdp\">[http://www.imf.org/external/pubs/ft/weo/2012/02/weodata/weorept.aspx?pr.x=70&pr.y=13&sy=2010&ey=2012&scsm=1&ssd=1&sort=country&ds=.&br=1&c=112&s=NGDP%2CNGDPD%2CPPPGDP%2CPPPPC&grp=0&a=IMF>Data and Statistics>World Economic Outlook Databases>By Countrise>United Kingdom]</ref>'),\n",
              " ('GDP統計年MER', '2012'),\n",
              " ('GDP順位MER', '6'),\n",
              " ('GDP値MER', '2兆4337億<ref name=\"imf-statistics-gdp\" />'),\n",
              " ('GDP統計年', '2012'),\n",
              " ('GDP順位', '6'),\n",
              " ('GDP値', '2兆3162億<ref name=\"imf-statistics-gdp\" />'),\n",
              " ('GDP/人', '36,727<ref name=\"imf-statistics-gdp\" />'),\n",
              " ('建国形態', '建国'),\n",
              " ('確立形態1', '1707年合同法まで）'),\n",
              " ('確立年月日1', '927年／843年'),\n",
              " ('確立形態2', 'グレートブリテン王国成立<br />（1707年合同法）'),\n",
              " ('確立年月日2', '1707年{{0}}5月{{0}}1日'),\n",
              " ('確立形態3', '1800年合同法）'),\n",
              " ('確立年月日3', '1801年{{0}}1月{{0}}1日'),\n",
              " ('確立形態4', '現在の国号「グレートブリテン及び北アイルランド連合王国」に変更'),\n",
              " ('確立年月日4', '1927年{{0}}4月12日'),\n",
              " ('通貨', 'UKポンド (£)'),\n",
              " ('通貨コード', 'GBP'),\n",
              " ('時間帯', '±0'),\n",
              " ('夏時間', '+1'),\n",
              " ('ISO 3166-1', 'GB / GBR'),\n",
              " ('ccTLD', '.uk / .gb<ref>使用は.ukに比べ圧倒的少数。</ref>'),\n",
              " ('国際電話番号', '44'),\n",
              " ('注記', '<references/>')]"
            ]
          },
          "metadata": {},
          "execution_count": 190
        }
      ]
    },
    {
      "cell_type": "markdown",
      "source": [
        "28. MediaWikiマークアップの除去"
      ],
      "metadata": {
        "id": "6Y2U4dvv-P5o"
      }
    },
    {
      "cell_type": "code",
      "source": [
        "pattern1 = r\"'+\" #　シングルコーテーションで囲まれている\n",
        "\n",
        "pattern2 = r'\\[\\[(.+\\||)(.+?)\\]\\]' # [[　1 | 2 ]] N\n",
        "\n",
        "pattern3 = r'\\{\\{(.+\\||)(.*?)\\}\\}' # {{ 1 | 2 }}　N\n",
        "\n",
        "pattern4 = r'<\\s*?/?\\s*?br\\s*?/?\\s*>' # < br> <br/>  </  br> etc. C\n",
        "\n",
        "pattern5 = r'<\\s*?/?\\s*?ref\\s*?.*?/?\\s*>' # <ref> </ ref>  < ref name=.. > etc. C\n",
        "\n"
      ],
      "metadata": {
        "id": "Nc9d43OC1vXN"
      },
      "execution_count": null,
      "outputs": []
    },
    {
      "cell_type": "code",
      "source": [
        "x = re.sub(pattern1, \"\", result[0]) # 強調マークアップを除去\n",
        "\n",
        "x = re.sub(pattern2, r\"\\2\", x)     # [[　1 | 2 ]]　→ 2\n",
        "\n",
        "x = re.sub(pattern3, r\"\\2\", x)     # {{　1 | 2 }}　→ 2\n",
        "\n",
        "x = re.sub(pattern4, \"\", x)        # <br>などを除去\n",
        "\n",
        "x = re.sub(pattern5, \"\", x)    # <ref>などを除去"
      ],
      "metadata": {
        "id": "_8Unisr1NRBE"
      },
      "execution_count": null,
      "outputs": []
    },
    {
      "cell_type": "code",
      "source": [
        "output28 = re.findall(pattern25, x, re.MULTILINE + re.DOTALL)\n",
        "output28 = dict(output28)\n",
        "output28"
      ],
      "metadata": {
        "colab": {
          "base_uri": "https://localhost:8080/"
        },
        "id": "P5Q9WQVUKPgr",
        "outputId": "728a409e-b555-43d7-c429-378c726d2460"
      },
      "execution_count": null,
      "outputs": [
        {
          "output_type": "execute_result",
          "data": {
            "text/plain": [
              "{'略名': 'イギリス',\n",
              " '日本語国名': 'グレートブリテン及び北アイルランド連合王国',\n",
              " '公式国名': 'United Kingdom of Great Britain and Northern Ireland英語以外での正式国名:\\n*An Rìoghachd Aonaichte na Breatainn Mhòr agus Eirinn mu Thuath（スコットランド・ゲール語）\\n*Teyrnas Gyfunol Prydain Fawr a Gogledd Iwerddon（ウェールズ語）\\n*Ríocht Aontaithe na Breataine Móire agus Tuaisceart na hÉireann（アイルランド語）\\n*An Rywvaneth Unys a Vreten Veur hag Iwerdhon Glédh（コーンウォール語）\\n*Unitit Kinrick o Great Breetain an Northren Ireland（スコットランド語）\\n**Unitet Kängdom o Great Brittain an Norlin Airlann（アルスター・スコットランド語）',\n",
              " '国旗画像': 'Flag of the United Kingdom.svg',\n",
              " '国章画像': 'イギリスの国章',\n",
              " '国章リンク': '（国章）',\n",
              " '標語': '{{lang|fr|神と我が権利）',\n",
              " '国歌': '[[ファイル:United States Navy Band - God Save the Queen.ogg}}',\n",
              " '地図画像': 'Europe-UK.svg',\n",
              " '位置画像': 'United Kingdom (+overseas territories) in the World (+Antarctica claims).svg',\n",
              " '公用語': '英語',\n",
              " '首都': 'ロンドン（事実上）',\n",
              " '最大都市': 'ロンドン',\n",
              " '元首等肩書': '女王',\n",
              " '元首等氏名': 'エリザベス2世',\n",
              " '首相等肩書': '首相',\n",
              " '首相等氏名': 'ボリス・ジョンソン',\n",
              " '他元首等肩書1': '貴族院議長',\n",
              " '他元首等氏名1': 'ノーマン・ファウラー',\n",
              " '他元首等肩書2': '庶民院議長',\n",
              " '他元首等氏名2': 'Lindsay Hoyle',\n",
              " '他元首等肩書3': '最高裁判所長官',\n",
              " '他元首等氏名3': 'ブレンダ・ヘイル',\n",
              " '面積順位': '76',\n",
              " '面積大きさ': '1 E11',\n",
              " '面積値': '244,820',\n",
              " '水面積率': '1.3%',\n",
              " '人口統計年': '2018',\n",
              " '人口順位': '22',\n",
              " '人口大きさ': '1 E7',\n",
              " '人口値': '6643万5600date=2019-06-26',\n",
              " '人口密度値': '271',\n",
              " 'GDP統計年元': '2012',\n",
              " 'GDP値元': '1兆5478億[http://www.imf.org/external/pubs/ft/weo/2012/02/weodata/weorept.aspx?pr.x=70&pr.y=13&sy=2010&ey=2012&scsm=1&ssd=1&sort=country&ds=.&br=1&c=112&s=NGDP%2CNGDPD%2CPPPGDP%2CPPPPC&grp=0&a=IMF>Data and Statistics>World Economic Outlook Databases>By Countrise>United Kingdom]',\n",
              " 'GDP統計年MER': '2012',\n",
              " 'GDP順位MER': '6',\n",
              " 'GDP値MER': '2兆4337億',\n",
              " 'GDP統計年': '2012',\n",
              " 'GDP順位': '6',\n",
              " 'GDP値': '2兆3162億',\n",
              " 'GDP/人': '36,727',\n",
              " '建国形態': '建国',\n",
              " '確立形態1': '1707年合同法まで）',\n",
              " '確立年月日1': '927年／843年',\n",
              " '確立形態2': 'グレートブリテン王国成立（1707年合同法）',\n",
              " '確立年月日2': '1707年05月01日',\n",
              " '確立形態3': '1800年合同法）',\n",
              " '確立年月日3': '1801年01月01日',\n",
              " '確立形態4': '現在の国号「グレートブリテン及び北アイルランド連合王国」に変更',\n",
              " '確立年月日4': '1927年04月12日',\n",
              " '通貨': 'UKポンド (£)',\n",
              " '通貨コード': 'GBP',\n",
              " '時間帯': '±0',\n",
              " '夏時間': '+1',\n",
              " 'ISO 3166-1': 'GB / GBR',\n",
              " 'ccTLD': '.uk / .gb使用は.ukに比べ圧倒的少数。',\n",
              " '国際電話番号': '44',\n",
              " '注記': ' '}"
            ]
          },
          "metadata": {},
          "execution_count": 226
        }
      ]
    },
    {
      "cell_type": "markdown",
      "source": [
        "29. 国旗画像のURLを取得する"
      ],
      "metadata": {
        "id": "qg0KiPE6S0n0"
      }
    },
    {
      "cell_type": "code",
      "source": [
        "image = output28[\"国旗画像\"].replace(\" \", \"_\")"
      ],
      "metadata": {
        "id": "KCdTfFaPN5rR"
      },
      "execution_count": null,
      "outputs": []
    },
    {
      "cell_type": "code",
      "source": [
        "import requests\n",
        "\n",
        "S = requests.Session()\n",
        "\n",
        "URL = \"https://commons.wikimedia.org/w/api.php\"\n",
        "\n",
        "PARAMS = {\n",
        "    \"action\": \"query\",\n",
        "    \"format\": \"json\",\n",
        "    \"titles\": \"File:\" + image,\n",
        "    \"prop\": \"imageinfo\",\n",
        "    \"iiprop\":\"url\"\n",
        "}\n",
        "R = S.get(url=URL, params=PARAMS)\n",
        "\n",
        "#レスポンス内容をJSONで取得\n",
        "data = R.json()\n",
        "\n",
        "#画像のURL\n",
        "img_url = data[\"query\"][\"pages\"][\"127049491\"]['imageinfo'][0]['url']\n",
        "print(img_url)"
      ],
      "metadata": {
        "colab": {
          "base_uri": "https://localhost:8080/"
        },
        "id": "YmIAKnOEW6oY",
        "outputId": "b6fe47ee-222a-46e1-8802-b45e602060e2"
      },
      "execution_count": null,
      "outputs": [
        {
          "output_type": "stream",
          "name": "stdout",
          "text": [
            "https://upload.wikimedia.org/wikipedia/commons/8/83/Flag_of_the_United_Kingdom_%283-5%29.svg\n"
          ]
        }
      ]
    },
    {
      "cell_type": "code",
      "source": [],
      "metadata": {
        "id": "zhqwON_nZJBp"
      },
      "execution_count": null,
      "outputs": []
    }
  ]
}