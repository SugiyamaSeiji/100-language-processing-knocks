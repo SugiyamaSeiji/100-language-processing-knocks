{
 "cells": [
  {
   "cell_type": "code",
   "execution_count": 1,
   "metadata": {},
   "outputs": [],
   "source": [
    "import pandas as pd\n",
    "\n",
    "data = pd.read_csv(\"newsCorpora.csv\", encoding='utf-8', header=None, sep=\"\\t\")\n",
    "names=['ID', 'TITLE', 'URL', 'PUBLISHER', 'CATEGORY', 'STORY', 'HOSTNAME', 'TIMESTAMP']\n",
    "\n",
    "data.columns = names\n",
    "data = data.replace('\"', \"'\")"
   ]
  },
  {
   "cell_type": "code",
   "execution_count": 2,
   "metadata": {},
   "outputs": [
    {
     "data": {
      "text/html": [
       "<div>\n",
       "<style scoped>\n",
       "    .dataframe tbody tr th:only-of-type {\n",
       "        vertical-align: middle;\n",
       "    }\n",
       "\n",
       "    .dataframe tbody tr th {\n",
       "        vertical-align: top;\n",
       "    }\n",
       "\n",
       "    .dataframe thead th {\n",
       "        text-align: right;\n",
       "    }\n",
       "</style>\n",
       "<table border=\"1\" class=\"dataframe\">\n",
       "  <thead>\n",
       "    <tr style=\"text-align: right;\">\n",
       "      <th></th>\n",
       "      <th>TITLE</th>\n",
       "      <th>CATEGORY</th>\n",
       "    </tr>\n",
       "  </thead>\n",
       "  <tbody>\n",
       "    <tr>\n",
       "      <th>0</th>\n",
       "      <td>Europe reaches crunch point on banking union</td>\n",
       "      <td>b</td>\n",
       "    </tr>\n",
       "    <tr>\n",
       "      <th>1</th>\n",
       "      <td>ECB FOCUS-Stronger euro drowns out ECB's messa...</td>\n",
       "      <td>b</td>\n",
       "    </tr>\n",
       "    <tr>\n",
       "      <th>2</th>\n",
       "      <td>Euro Anxieties Wane as Bunds Top Treasuries, S...</td>\n",
       "      <td>b</td>\n",
       "    </tr>\n",
       "    <tr>\n",
       "      <th>3</th>\n",
       "      <td>Noyer Says Strong Euro Creates Unwarranted Eco...</td>\n",
       "      <td>b</td>\n",
       "    </tr>\n",
       "    <tr>\n",
       "      <th>4</th>\n",
       "      <td>REFILE-Bad loan triggers key feature in ECB ba...</td>\n",
       "      <td>b</td>\n",
       "    </tr>\n",
       "  </tbody>\n",
       "</table>\n",
       "</div>"
      ],
      "text/plain": [
       "                                               TITLE CATEGORY\n",
       "0       Europe reaches crunch point on banking union        b\n",
       "1  ECB FOCUS-Stronger euro drowns out ECB's messa...        b\n",
       "2  Euro Anxieties Wane as Bunds Top Treasuries, S...        b\n",
       "3  Noyer Says Strong Euro Creates Unwarranted Eco...        b\n",
       "4  REFILE-Bad loan triggers key feature in ECB ba...        b"
      ]
     },
     "execution_count": 2,
     "metadata": {},
     "output_type": "execute_result"
    }
   ],
   "source": [
    "publishers = ['Reuters', 'Huffington Post', 'Businessweek', 'Contactmusic.com', 'Daily Mail']\n",
    "data = data.loc[data['PUBLISHER'].isin(publishers), ['TITLE', 'CATEGORY']].reset_index(drop=True)\n",
    "data.head()"
   ]
  },
  {
   "cell_type": "markdown",
   "metadata": {},
   "source": [
    "# 50. データの入手・整形"
   ]
  },
  {
   "cell_type": "code",
   "execution_count": 3,
   "metadata": {},
   "outputs": [
    {
     "name": "stdout",
     "output_type": "stream",
     "text": [
      "学習データ\n",
      "CATEGORY\n",
      "b    4502\n",
      "e    4223\n",
      "t    1219\n",
      "m     728\n",
      "Name: count, dtype: int64\n",
      "検証データ\n",
      "CATEGORY\n",
      "b    562\n",
      "e    528\n",
      "t    153\n",
      "m     91\n",
      "Name: count, dtype: int64\n",
      "評価データ\n",
      "CATEGORY\n",
      "b    563\n",
      "e    528\n",
      "t    152\n",
      "m     91\n",
      "Name: count, dtype: int64\n"
     ]
    }
   ],
   "source": [
    "# 学習用、検証用、評価用に分割する\n",
    "from sklearn.model_selection import train_test_split\n",
    "\n",
    "train, valid_test = train_test_split(data, test_size=0.2, shuffle=True, random_state=42, stratify=data['CATEGORY'])\n",
    "valid, test = train_test_split(valid_test, test_size=0.5, shuffle=True, random_state=42, stratify=valid_test['CATEGORY'])\n",
    "\n",
    "# データの保存\n",
    "train.to_csv('section6/train.txt', sep='\\t', index=False)\n",
    "valid.to_csv('section6/valid.txt', sep='\\t', index=False)\n",
    "test.to_csv('section6/test.txt', sep='\\t', index=False)\n",
    "\n",
    "# データ数の確認\n",
    "print('学習データ')\n",
    "print(train['CATEGORY'].value_counts())\n",
    "print('検証データ')\n",
    "print(valid['CATEGORY'].value_counts())\n",
    "print('評価データ')\n",
    "print(test['CATEGORY'].value_counts())"
   ]
  },
  {
   "cell_type": "markdown",
   "metadata": {},
   "source": [
    "# 51. 特徴量抽出"
   ]
  },
  {
   "cell_type": "code",
   "execution_count": 4,
   "metadata": {},
   "outputs": [],
   "source": [
    "df = pd.concat([train, valid, test], axis=0).reset_index(drop=True)"
   ]
  },
  {
   "cell_type": "code",
   "execution_count": 5,
   "metadata": {},
   "outputs": [
    {
     "data": {
      "text/html": [
       "<div>\n",
       "<style scoped>\n",
       "    .dataframe tbody tr th:only-of-type {\n",
       "        vertical-align: middle;\n",
       "    }\n",
       "\n",
       "    .dataframe tbody tr th {\n",
       "        vertical-align: top;\n",
       "    }\n",
       "\n",
       "    .dataframe thead th {\n",
       "        text-align: right;\n",
       "    }\n",
       "</style>\n",
       "<table border=\"1\" class=\"dataframe\">\n",
       "  <thead>\n",
       "    <tr style=\"text-align: right;\">\n",
       "      <th></th>\n",
       "      <th>TITLE</th>\n",
       "      <th>CATEGORY</th>\n",
       "    </tr>\n",
       "  </thead>\n",
       "  <tbody>\n",
       "    <tr>\n",
       "      <th>0</th>\n",
       "      <td>kanye westkanye west celebrates fathers day an...</td>\n",
       "      <td>e</td>\n",
       "    </tr>\n",
       "    <tr>\n",
       "      <th>1</th>\n",
       "      <td>fitch affirms ukraines city of kyiv at ccc</td>\n",
       "      <td>b</td>\n",
       "    </tr>\n",
       "    <tr>\n",
       "      <th>2</th>\n",
       "      <td>sony ceo says first tv profit in decade possib...</td>\n",
       "      <td>t</td>\n",
       "    </tr>\n",
       "    <tr>\n",
       "      <th>3</th>\n",
       "      <td>the united states of comcast follow the 00m in...</td>\n",
       "      <td>b</td>\n",
       "    </tr>\n",
       "    <tr>\n",
       "      <th>4</th>\n",
       "      <td>new music from michael jackson set to be relea...</td>\n",
       "      <td>e</td>\n",
       "    </tr>\n",
       "  </tbody>\n",
       "</table>\n",
       "</div>"
      ],
      "text/plain": [
       "                                               TITLE CATEGORY\n",
       "0  kanye westkanye west celebrates fathers day an...        e\n",
       "1         fitch affirms ukraines city of kyiv at ccc        b\n",
       "2  sony ceo says first tv profit in decade possib...        t\n",
       "3  the united states of comcast follow the 00m in...        b\n",
       "4  new music from michael jackson set to be relea...        e"
      ]
     },
     "execution_count": 5,
     "metadata": {},
     "output_type": "execute_result"
    }
   ],
   "source": [
    "import re\n",
    "\n",
    "def preprocessing(text):\n",
    "\n",
    "    text = re.sub(r'[\\\"\\'.,:;\\(\\)#\\|\\*\\+\\!\\?#$%&/\\]\\[\\{\\}]', '', text) # 記号削除\n",
    "    text = re.sub('\\s-\\s', \"\", text)\n",
    "    text = re.sub('[0-9]', '0', text) #　数字を0に統一\n",
    "    text = text.lower() #　小文字化\n",
    "\n",
    "    return text\n",
    "\n",
    "df['TITLE'] = df['TITLE'].map(lambda x: preprocessing(x))\n",
    "df.head()"
   ]
  },
  {
   "cell_type": "code",
   "execution_count": 6,
   "metadata": {},
   "outputs": [],
   "source": [
    "from sklearn.feature_extraction.text import TfidfVectorizer\n",
    "\n",
    "vectorizer = TfidfVectorizer(min_df=10, ngram_range=(1, 2)) # 1-gram, 2-gramでTfidfを計算\n",
    "# データの分割\n",
    "train_valid, test = df[:len(train) + len(valid)], df[len(train) + len(valid):]\n",
    "\n",
    "# TfidfVectorizer\n",
    "vec_tfidf = TfidfVectorizer(min_df=10, ngram_range=(1, 2))\n",
    "\n",
    "# ベクトル化\n",
    "X_train_valid = vec_tfidf.fit_transform(train_valid['TITLE'])  # testの情報は使わない\n",
    "X_test = vec_tfidf.transform(test['TITLE'])"
   ]
  },
  {
   "cell_type": "code",
   "execution_count": 7,
   "metadata": {},
   "outputs": [
    {
     "data": {
      "text/html": [
       "<div>\n",
       "<style scoped>\n",
       "    .dataframe tbody tr th:only-of-type {\n",
       "        vertical-align: middle;\n",
       "    }\n",
       "\n",
       "    .dataframe tbody tr th {\n",
       "        vertical-align: top;\n",
       "    }\n",
       "\n",
       "    .dataframe thead th {\n",
       "        text-align: right;\n",
       "    }\n",
       "</style>\n",
       "<table border=\"1\" class=\"dataframe\">\n",
       "  <thead>\n",
       "    <tr style=\"text-align: right;\">\n",
       "      <th></th>\n",
       "      <th>00</th>\n",
       "      <th>00 billion</th>\n",
       "      <th>00 bln</th>\n",
       "      <th>00 in</th>\n",
       "      <th>00 jump</th>\n",
       "      <th>00 million</th>\n",
       "      <th>00 mln</th>\n",
       "      <th>00 month</th>\n",
       "      <th>00 pct</th>\n",
       "      <th>00 percent</th>\n",
       "      <th>...</th>\n",
       "      <th>young</th>\n",
       "      <th>your</th>\n",
       "      <th>your mother</th>\n",
       "      <th>yr</th>\n",
       "      <th>yuan</th>\n",
       "      <th>zac</th>\n",
       "      <th>zac efron</th>\n",
       "      <th>zac efronzac</th>\n",
       "      <th>zendaya</th>\n",
       "      <th>zone</th>\n",
       "    </tr>\n",
       "  </thead>\n",
       "  <tbody>\n",
       "    <tr>\n",
       "      <th>0</th>\n",
       "      <td>0.0</td>\n",
       "      <td>0.0</td>\n",
       "      <td>0.0</td>\n",
       "      <td>0.0</td>\n",
       "      <td>0.0</td>\n",
       "      <td>0.0</td>\n",
       "      <td>0.0</td>\n",
       "      <td>0.0</td>\n",
       "      <td>0.0</td>\n",
       "      <td>0.0</td>\n",
       "      <td>...</td>\n",
       "      <td>0.0</td>\n",
       "      <td>0.0</td>\n",
       "      <td>0.0</td>\n",
       "      <td>0.0</td>\n",
       "      <td>0.0</td>\n",
       "      <td>0.0</td>\n",
       "      <td>0.0</td>\n",
       "      <td>0.0</td>\n",
       "      <td>0.0</td>\n",
       "      <td>0.0</td>\n",
       "    </tr>\n",
       "    <tr>\n",
       "      <th>1</th>\n",
       "      <td>0.0</td>\n",
       "      <td>0.0</td>\n",
       "      <td>0.0</td>\n",
       "      <td>0.0</td>\n",
       "      <td>0.0</td>\n",
       "      <td>0.0</td>\n",
       "      <td>0.0</td>\n",
       "      <td>0.0</td>\n",
       "      <td>0.0</td>\n",
       "      <td>0.0</td>\n",
       "      <td>...</td>\n",
       "      <td>0.0</td>\n",
       "      <td>0.0</td>\n",
       "      <td>0.0</td>\n",
       "      <td>0.0</td>\n",
       "      <td>0.0</td>\n",
       "      <td>0.0</td>\n",
       "      <td>0.0</td>\n",
       "      <td>0.0</td>\n",
       "      <td>0.0</td>\n",
       "      <td>0.0</td>\n",
       "    </tr>\n",
       "    <tr>\n",
       "      <th>2</th>\n",
       "      <td>0.0</td>\n",
       "      <td>0.0</td>\n",
       "      <td>0.0</td>\n",
       "      <td>0.0</td>\n",
       "      <td>0.0</td>\n",
       "      <td>0.0</td>\n",
       "      <td>0.0</td>\n",
       "      <td>0.0</td>\n",
       "      <td>0.0</td>\n",
       "      <td>0.0</td>\n",
       "      <td>...</td>\n",
       "      <td>0.0</td>\n",
       "      <td>0.0</td>\n",
       "      <td>0.0</td>\n",
       "      <td>0.0</td>\n",
       "      <td>0.0</td>\n",
       "      <td>0.0</td>\n",
       "      <td>0.0</td>\n",
       "      <td>0.0</td>\n",
       "      <td>0.0</td>\n",
       "      <td>0.0</td>\n",
       "    </tr>\n",
       "    <tr>\n",
       "      <th>3</th>\n",
       "      <td>0.0</td>\n",
       "      <td>0.0</td>\n",
       "      <td>0.0</td>\n",
       "      <td>0.0</td>\n",
       "      <td>0.0</td>\n",
       "      <td>0.0</td>\n",
       "      <td>0.0</td>\n",
       "      <td>0.0</td>\n",
       "      <td>0.0</td>\n",
       "      <td>0.0</td>\n",
       "      <td>...</td>\n",
       "      <td>0.0</td>\n",
       "      <td>0.0</td>\n",
       "      <td>0.0</td>\n",
       "      <td>0.0</td>\n",
       "      <td>0.0</td>\n",
       "      <td>0.0</td>\n",
       "      <td>0.0</td>\n",
       "      <td>0.0</td>\n",
       "      <td>0.0</td>\n",
       "      <td>0.0</td>\n",
       "    </tr>\n",
       "    <tr>\n",
       "      <th>4</th>\n",
       "      <td>0.0</td>\n",
       "      <td>0.0</td>\n",
       "      <td>0.0</td>\n",
       "      <td>0.0</td>\n",
       "      <td>0.0</td>\n",
       "      <td>0.0</td>\n",
       "      <td>0.0</td>\n",
       "      <td>0.0</td>\n",
       "      <td>0.0</td>\n",
       "      <td>0.0</td>\n",
       "      <td>...</td>\n",
       "      <td>0.0</td>\n",
       "      <td>0.0</td>\n",
       "      <td>0.0</td>\n",
       "      <td>0.0</td>\n",
       "      <td>0.0</td>\n",
       "      <td>0.0</td>\n",
       "      <td>0.0</td>\n",
       "      <td>0.0</td>\n",
       "      <td>0.0</td>\n",
       "      <td>0.0</td>\n",
       "    </tr>\n",
       "  </tbody>\n",
       "</table>\n",
       "<p>5 rows × 2807 columns</p>\n",
       "</div>"
      ],
      "text/plain": [
       "    00  00 billion  00 bln  00 in  00 jump  00 million  00 mln  00 month  \\\n",
       "0  0.0         0.0     0.0    0.0      0.0         0.0     0.0       0.0   \n",
       "1  0.0         0.0     0.0    0.0      0.0         0.0     0.0       0.0   \n",
       "2  0.0         0.0     0.0    0.0      0.0         0.0     0.0       0.0   \n",
       "3  0.0         0.0     0.0    0.0      0.0         0.0     0.0       0.0   \n",
       "4  0.0         0.0     0.0    0.0      0.0         0.0     0.0       0.0   \n",
       "\n",
       "   00 pct  00 percent  ...  young  your  your mother   yr  yuan  zac  \\\n",
       "0     0.0         0.0  ...    0.0   0.0          0.0  0.0   0.0  0.0   \n",
       "1     0.0         0.0  ...    0.0   0.0          0.0  0.0   0.0  0.0   \n",
       "2     0.0         0.0  ...    0.0   0.0          0.0  0.0   0.0  0.0   \n",
       "3     0.0         0.0  ...    0.0   0.0          0.0  0.0   0.0  0.0   \n",
       "4     0.0         0.0  ...    0.0   0.0          0.0  0.0   0.0  0.0   \n",
       "\n",
       "   zac efron  zac efronzac  zendaya  zone  \n",
       "0        0.0           0.0      0.0   0.0  \n",
       "1        0.0           0.0      0.0   0.0  \n",
       "2        0.0           0.0      0.0   0.0  \n",
       "3        0.0           0.0      0.0   0.0  \n",
       "4        0.0           0.0      0.0   0.0  \n",
       "\n",
       "[5 rows x 2807 columns]"
      ]
     },
     "execution_count": 7,
     "metadata": {},
     "output_type": "execute_result"
    }
   ],
   "source": [
    "# ベクトルをデータフレームに変換\n",
    "X_train_valid = pd.DataFrame(X_train_valid.toarray(), columns=vec_tfidf.get_feature_names_out())\n",
    "X_test = pd.DataFrame(X_test.toarray(), columns=vec_tfidf.get_feature_names_out())\n",
    "\n",
    "# データの分割\n",
    "X_train = X_train_valid[:len(train)]\n",
    "X_valid = X_train_valid[len(train):]\n",
    "\n",
    "# データの保存\n",
    "X_train.to_csv('section6/train.feature.txt', sep='\\t', index=False)\n",
    "X_valid.to_csv('section6/valid.feature.txt', sep='\\t', index=False)\n",
    "X_test.to_csv('section6/test.feature.txt', sep='\\t', index=False)\n",
    "\n",
    "X_train.head()"
   ]
  },
  {
   "cell_type": "markdown",
   "metadata": {},
   "source": [
    "# 52. 学習"
   ]
  },
  {
   "cell_type": "code",
   "execution_count": 8,
   "metadata": {},
   "outputs": [
    {
     "data": {
      "text/html": [
       "<style>#sk-container-id-1 {\n",
       "  /* Definition of color scheme common for light and dark mode */\n",
       "  --sklearn-color-text: black;\n",
       "  --sklearn-color-line: gray;\n",
       "  /* Definition of color scheme for unfitted estimators */\n",
       "  --sklearn-color-unfitted-level-0: #fff5e6;\n",
       "  --sklearn-color-unfitted-level-1: #f6e4d2;\n",
       "  --sklearn-color-unfitted-level-2: #ffe0b3;\n",
       "  --sklearn-color-unfitted-level-3: chocolate;\n",
       "  /* Definition of color scheme for fitted estimators */\n",
       "  --sklearn-color-fitted-level-0: #f0f8ff;\n",
       "  --sklearn-color-fitted-level-1: #d4ebff;\n",
       "  --sklearn-color-fitted-level-2: #b3dbfd;\n",
       "  --sklearn-color-fitted-level-3: cornflowerblue;\n",
       "\n",
       "  /* Specific color for light theme */\n",
       "  --sklearn-color-text-on-default-background: var(--sg-text-color, var(--theme-code-foreground, var(--jp-content-font-color1, black)));\n",
       "  --sklearn-color-background: var(--sg-background-color, var(--theme-background, var(--jp-layout-color0, white)));\n",
       "  --sklearn-color-border-box: var(--sg-text-color, var(--theme-code-foreground, var(--jp-content-font-color1, black)));\n",
       "  --sklearn-color-icon: #696969;\n",
       "\n",
       "  @media (prefers-color-scheme: dark) {\n",
       "    /* Redefinition of color scheme for dark theme */\n",
       "    --sklearn-color-text-on-default-background: var(--sg-text-color, var(--theme-code-foreground, var(--jp-content-font-color1, white)));\n",
       "    --sklearn-color-background: var(--sg-background-color, var(--theme-background, var(--jp-layout-color0, #111)));\n",
       "    --sklearn-color-border-box: var(--sg-text-color, var(--theme-code-foreground, var(--jp-content-font-color1, white)));\n",
       "    --sklearn-color-icon: #878787;\n",
       "  }\n",
       "}\n",
       "\n",
       "#sk-container-id-1 {\n",
       "  color: var(--sklearn-color-text);\n",
       "}\n",
       "\n",
       "#sk-container-id-1 pre {\n",
       "  padding: 0;\n",
       "}\n",
       "\n",
       "#sk-container-id-1 input.sk-hidden--visually {\n",
       "  border: 0;\n",
       "  clip: rect(1px 1px 1px 1px);\n",
       "  clip: rect(1px, 1px, 1px, 1px);\n",
       "  height: 1px;\n",
       "  margin: -1px;\n",
       "  overflow: hidden;\n",
       "  padding: 0;\n",
       "  position: absolute;\n",
       "  width: 1px;\n",
       "}\n",
       "\n",
       "#sk-container-id-1 div.sk-dashed-wrapped {\n",
       "  border: 1px dashed var(--sklearn-color-line);\n",
       "  margin: 0 0.4em 0.5em 0.4em;\n",
       "  box-sizing: border-box;\n",
       "  padding-bottom: 0.4em;\n",
       "  background-color: var(--sklearn-color-background);\n",
       "}\n",
       "\n",
       "#sk-container-id-1 div.sk-container {\n",
       "  /* jupyter's `normalize.less` sets `[hidden] { display: none; }`\n",
       "     but bootstrap.min.css set `[hidden] { display: none !important; }`\n",
       "     so we also need the `!important` here to be able to override the\n",
       "     default hidden behavior on the sphinx rendered scikit-learn.org.\n",
       "     See: https://github.com/scikit-learn/scikit-learn/issues/21755 */\n",
       "  display: inline-block !important;\n",
       "  position: relative;\n",
       "}\n",
       "\n",
       "#sk-container-id-1 div.sk-text-repr-fallback {\n",
       "  display: none;\n",
       "}\n",
       "\n",
       "div.sk-parallel-item,\n",
       "div.sk-serial,\n",
       "div.sk-item {\n",
       "  /* draw centered vertical line to link estimators */\n",
       "  background-image: linear-gradient(var(--sklearn-color-text-on-default-background), var(--sklearn-color-text-on-default-background));\n",
       "  background-size: 2px 100%;\n",
       "  background-repeat: no-repeat;\n",
       "  background-position: center center;\n",
       "}\n",
       "\n",
       "/* Parallel-specific style estimator block */\n",
       "\n",
       "#sk-container-id-1 div.sk-parallel-item::after {\n",
       "  content: \"\";\n",
       "  width: 100%;\n",
       "  border-bottom: 2px solid var(--sklearn-color-text-on-default-background);\n",
       "  flex-grow: 1;\n",
       "}\n",
       "\n",
       "#sk-container-id-1 div.sk-parallel {\n",
       "  display: flex;\n",
       "  align-items: stretch;\n",
       "  justify-content: center;\n",
       "  background-color: var(--sklearn-color-background);\n",
       "  position: relative;\n",
       "}\n",
       "\n",
       "#sk-container-id-1 div.sk-parallel-item {\n",
       "  display: flex;\n",
       "  flex-direction: column;\n",
       "}\n",
       "\n",
       "#sk-container-id-1 div.sk-parallel-item:first-child::after {\n",
       "  align-self: flex-end;\n",
       "  width: 50%;\n",
       "}\n",
       "\n",
       "#sk-container-id-1 div.sk-parallel-item:last-child::after {\n",
       "  align-self: flex-start;\n",
       "  width: 50%;\n",
       "}\n",
       "\n",
       "#sk-container-id-1 div.sk-parallel-item:only-child::after {\n",
       "  width: 0;\n",
       "}\n",
       "\n",
       "/* Serial-specific style estimator block */\n",
       "\n",
       "#sk-container-id-1 div.sk-serial {\n",
       "  display: flex;\n",
       "  flex-direction: column;\n",
       "  align-items: center;\n",
       "  background-color: var(--sklearn-color-background);\n",
       "  padding-right: 1em;\n",
       "  padding-left: 1em;\n",
       "}\n",
       "\n",
       "\n",
       "/* Toggleable style: style used for estimator/Pipeline/ColumnTransformer box that is\n",
       "clickable and can be expanded/collapsed.\n",
       "- Pipeline and ColumnTransformer use this feature and define the default style\n",
       "- Estimators will overwrite some part of the style using the `sk-estimator` class\n",
       "*/\n",
       "\n",
       "/* Pipeline and ColumnTransformer style (default) */\n",
       "\n",
       "#sk-container-id-1 div.sk-toggleable {\n",
       "  /* Default theme specific background. It is overwritten whether we have a\n",
       "  specific estimator or a Pipeline/ColumnTransformer */\n",
       "  background-color: var(--sklearn-color-background);\n",
       "}\n",
       "\n",
       "/* Toggleable label */\n",
       "#sk-container-id-1 label.sk-toggleable__label {\n",
       "  cursor: pointer;\n",
       "  display: block;\n",
       "  width: 100%;\n",
       "  margin-bottom: 0;\n",
       "  padding: 0.5em;\n",
       "  box-sizing: border-box;\n",
       "  text-align: center;\n",
       "}\n",
       "\n",
       "#sk-container-id-1 label.sk-toggleable__label-arrow:before {\n",
       "  /* Arrow on the left of the label */\n",
       "  content: \"▸\";\n",
       "  float: left;\n",
       "  margin-right: 0.25em;\n",
       "  color: var(--sklearn-color-icon);\n",
       "}\n",
       "\n",
       "#sk-container-id-1 label.sk-toggleable__label-arrow:hover:before {\n",
       "  color: var(--sklearn-color-text);\n",
       "}\n",
       "\n",
       "/* Toggleable content - dropdown */\n",
       "\n",
       "#sk-container-id-1 div.sk-toggleable__content {\n",
       "  max-height: 0;\n",
       "  max-width: 0;\n",
       "  overflow: hidden;\n",
       "  text-align: left;\n",
       "  /* unfitted */\n",
       "  background-color: var(--sklearn-color-unfitted-level-0);\n",
       "}\n",
       "\n",
       "#sk-container-id-1 div.sk-toggleable__content.fitted {\n",
       "  /* fitted */\n",
       "  background-color: var(--sklearn-color-fitted-level-0);\n",
       "}\n",
       "\n",
       "#sk-container-id-1 div.sk-toggleable__content pre {\n",
       "  margin: 0.2em;\n",
       "  border-radius: 0.25em;\n",
       "  color: var(--sklearn-color-text);\n",
       "  /* unfitted */\n",
       "  background-color: var(--sklearn-color-unfitted-level-0);\n",
       "}\n",
       "\n",
       "#sk-container-id-1 div.sk-toggleable__content.fitted pre {\n",
       "  /* unfitted */\n",
       "  background-color: var(--sklearn-color-fitted-level-0);\n",
       "}\n",
       "\n",
       "#sk-container-id-1 input.sk-toggleable__control:checked~div.sk-toggleable__content {\n",
       "  /* Expand drop-down */\n",
       "  max-height: 200px;\n",
       "  max-width: 100%;\n",
       "  overflow: auto;\n",
       "}\n",
       "\n",
       "#sk-container-id-1 input.sk-toggleable__control:checked~label.sk-toggleable__label-arrow:before {\n",
       "  content: \"▾\";\n",
       "}\n",
       "\n",
       "/* Pipeline/ColumnTransformer-specific style */\n",
       "\n",
       "#sk-container-id-1 div.sk-label input.sk-toggleable__control:checked~label.sk-toggleable__label {\n",
       "  color: var(--sklearn-color-text);\n",
       "  background-color: var(--sklearn-color-unfitted-level-2);\n",
       "}\n",
       "\n",
       "#sk-container-id-1 div.sk-label.fitted input.sk-toggleable__control:checked~label.sk-toggleable__label {\n",
       "  background-color: var(--sklearn-color-fitted-level-2);\n",
       "}\n",
       "\n",
       "/* Estimator-specific style */\n",
       "\n",
       "/* Colorize estimator box */\n",
       "#sk-container-id-1 div.sk-estimator input.sk-toggleable__control:checked~label.sk-toggleable__label {\n",
       "  /* unfitted */\n",
       "  background-color: var(--sklearn-color-unfitted-level-2);\n",
       "}\n",
       "\n",
       "#sk-container-id-1 div.sk-estimator.fitted input.sk-toggleable__control:checked~label.sk-toggleable__label {\n",
       "  /* fitted */\n",
       "  background-color: var(--sklearn-color-fitted-level-2);\n",
       "}\n",
       "\n",
       "#sk-container-id-1 div.sk-label label.sk-toggleable__label,\n",
       "#sk-container-id-1 div.sk-label label {\n",
       "  /* The background is the default theme color */\n",
       "  color: var(--sklearn-color-text-on-default-background);\n",
       "}\n",
       "\n",
       "/* On hover, darken the color of the background */\n",
       "#sk-container-id-1 div.sk-label:hover label.sk-toggleable__label {\n",
       "  color: var(--sklearn-color-text);\n",
       "  background-color: var(--sklearn-color-unfitted-level-2);\n",
       "}\n",
       "\n",
       "/* Label box, darken color on hover, fitted */\n",
       "#sk-container-id-1 div.sk-label.fitted:hover label.sk-toggleable__label.fitted {\n",
       "  color: var(--sklearn-color-text);\n",
       "  background-color: var(--sklearn-color-fitted-level-2);\n",
       "}\n",
       "\n",
       "/* Estimator label */\n",
       "\n",
       "#sk-container-id-1 div.sk-label label {\n",
       "  font-family: monospace;\n",
       "  font-weight: bold;\n",
       "  display: inline-block;\n",
       "  line-height: 1.2em;\n",
       "}\n",
       "\n",
       "#sk-container-id-1 div.sk-label-container {\n",
       "  text-align: center;\n",
       "}\n",
       "\n",
       "/* Estimator-specific */\n",
       "#sk-container-id-1 div.sk-estimator {\n",
       "  font-family: monospace;\n",
       "  border: 1px dotted var(--sklearn-color-border-box);\n",
       "  border-radius: 0.25em;\n",
       "  box-sizing: border-box;\n",
       "  margin-bottom: 0.5em;\n",
       "  /* unfitted */\n",
       "  background-color: var(--sklearn-color-unfitted-level-0);\n",
       "}\n",
       "\n",
       "#sk-container-id-1 div.sk-estimator.fitted {\n",
       "  /* fitted */\n",
       "  background-color: var(--sklearn-color-fitted-level-0);\n",
       "}\n",
       "\n",
       "/* on hover */\n",
       "#sk-container-id-1 div.sk-estimator:hover {\n",
       "  /* unfitted */\n",
       "  background-color: var(--sklearn-color-unfitted-level-2);\n",
       "}\n",
       "\n",
       "#sk-container-id-1 div.sk-estimator.fitted:hover {\n",
       "  /* fitted */\n",
       "  background-color: var(--sklearn-color-fitted-level-2);\n",
       "}\n",
       "\n",
       "/* Specification for estimator info (e.g. \"i\" and \"?\") */\n",
       "\n",
       "/* Common style for \"i\" and \"?\" */\n",
       "\n",
       ".sk-estimator-doc-link,\n",
       "a:link.sk-estimator-doc-link,\n",
       "a:visited.sk-estimator-doc-link {\n",
       "  float: right;\n",
       "  font-size: smaller;\n",
       "  line-height: 1em;\n",
       "  font-family: monospace;\n",
       "  background-color: var(--sklearn-color-background);\n",
       "  border-radius: 1em;\n",
       "  height: 1em;\n",
       "  width: 1em;\n",
       "  text-decoration: none !important;\n",
       "  margin-left: 1ex;\n",
       "  /* unfitted */\n",
       "  border: var(--sklearn-color-unfitted-level-1) 1pt solid;\n",
       "  color: var(--sklearn-color-unfitted-level-1);\n",
       "}\n",
       "\n",
       ".sk-estimator-doc-link.fitted,\n",
       "a:link.sk-estimator-doc-link.fitted,\n",
       "a:visited.sk-estimator-doc-link.fitted {\n",
       "  /* fitted */\n",
       "  border: var(--sklearn-color-fitted-level-1) 1pt solid;\n",
       "  color: var(--sklearn-color-fitted-level-1);\n",
       "}\n",
       "\n",
       "/* On hover */\n",
       "div.sk-estimator:hover .sk-estimator-doc-link:hover,\n",
       ".sk-estimator-doc-link:hover,\n",
       "div.sk-label-container:hover .sk-estimator-doc-link:hover,\n",
       ".sk-estimator-doc-link:hover {\n",
       "  /* unfitted */\n",
       "  background-color: var(--sklearn-color-unfitted-level-3);\n",
       "  color: var(--sklearn-color-background);\n",
       "  text-decoration: none;\n",
       "}\n",
       "\n",
       "div.sk-estimator.fitted:hover .sk-estimator-doc-link.fitted:hover,\n",
       ".sk-estimator-doc-link.fitted:hover,\n",
       "div.sk-label-container:hover .sk-estimator-doc-link.fitted:hover,\n",
       ".sk-estimator-doc-link.fitted:hover {\n",
       "  /* fitted */\n",
       "  background-color: var(--sklearn-color-fitted-level-3);\n",
       "  color: var(--sklearn-color-background);\n",
       "  text-decoration: none;\n",
       "}\n",
       "\n",
       "/* Span, style for the box shown on hovering the info icon */\n",
       ".sk-estimator-doc-link span {\n",
       "  display: none;\n",
       "  z-index: 9999;\n",
       "  position: relative;\n",
       "  font-weight: normal;\n",
       "  right: .2ex;\n",
       "  padding: .5ex;\n",
       "  margin: .5ex;\n",
       "  width: min-content;\n",
       "  min-width: 20ex;\n",
       "  max-width: 50ex;\n",
       "  color: var(--sklearn-color-text);\n",
       "  box-shadow: 2pt 2pt 4pt #999;\n",
       "  /* unfitted */\n",
       "  background: var(--sklearn-color-unfitted-level-0);\n",
       "  border: .5pt solid var(--sklearn-color-unfitted-level-3);\n",
       "}\n",
       "\n",
       ".sk-estimator-doc-link.fitted span {\n",
       "  /* fitted */\n",
       "  background: var(--sklearn-color-fitted-level-0);\n",
       "  border: var(--sklearn-color-fitted-level-3);\n",
       "}\n",
       "\n",
       ".sk-estimator-doc-link:hover span {\n",
       "  display: block;\n",
       "}\n",
       "\n",
       "/* \"?\"-specific style due to the `<a>` HTML tag */\n",
       "\n",
       "#sk-container-id-1 a.estimator_doc_link {\n",
       "  float: right;\n",
       "  font-size: 1rem;\n",
       "  line-height: 1em;\n",
       "  font-family: monospace;\n",
       "  background-color: var(--sklearn-color-background);\n",
       "  border-radius: 1rem;\n",
       "  height: 1rem;\n",
       "  width: 1rem;\n",
       "  text-decoration: none;\n",
       "  /* unfitted */\n",
       "  color: var(--sklearn-color-unfitted-level-1);\n",
       "  border: var(--sklearn-color-unfitted-level-1) 1pt solid;\n",
       "}\n",
       "\n",
       "#sk-container-id-1 a.estimator_doc_link.fitted {\n",
       "  /* fitted */\n",
       "  border: var(--sklearn-color-fitted-level-1) 1pt solid;\n",
       "  color: var(--sklearn-color-fitted-level-1);\n",
       "}\n",
       "\n",
       "/* On hover */\n",
       "#sk-container-id-1 a.estimator_doc_link:hover {\n",
       "  /* unfitted */\n",
       "  background-color: var(--sklearn-color-unfitted-level-3);\n",
       "  color: var(--sklearn-color-background);\n",
       "  text-decoration: none;\n",
       "}\n",
       "\n",
       "#sk-container-id-1 a.estimator_doc_link.fitted:hover {\n",
       "  /* fitted */\n",
       "  background-color: var(--sklearn-color-fitted-level-3);\n",
       "}\n",
       "</style><div id=\"sk-container-id-1\" class=\"sk-top-container\"><div class=\"sk-text-repr-fallback\"><pre>LogisticRegression(max_iter=10000, random_state=42)</pre><b>In a Jupyter environment, please rerun this cell to show the HTML representation or trust the notebook. <br />On GitHub, the HTML representation is unable to render, please try loading this page with nbviewer.org.</b></div><div class=\"sk-container\" hidden><div class=\"sk-item\"><div class=\"sk-estimator fitted sk-toggleable\"><input class=\"sk-toggleable__control sk-hidden--visually\" id=\"sk-estimator-id-1\" type=\"checkbox\" checked><label for=\"sk-estimator-id-1\" class=\"sk-toggleable__label fitted sk-toggleable__label-arrow fitted\">&nbsp;&nbsp;LogisticRegression<a class=\"sk-estimator-doc-link fitted\" rel=\"noreferrer\" target=\"_blank\" href=\"https://scikit-learn.org/1.4/modules/generated/sklearn.linear_model.LogisticRegression.html\">?<span>Documentation for LogisticRegression</span></a><span class=\"sk-estimator-doc-link fitted\">i<span>Fitted</span></span></label><div class=\"sk-toggleable__content fitted\"><pre>LogisticRegression(max_iter=10000, random_state=42)</pre></div> </div></div></div></div>"
      ],
      "text/plain": [
       "LogisticRegression(max_iter=10000, random_state=42)"
      ]
     },
     "execution_count": 8,
     "metadata": {},
     "output_type": "execute_result"
    }
   ],
   "source": [
    "from sklearn.linear_model import LogisticRegression\n",
    "\n",
    "# モデルの学習\n",
    "lg = LogisticRegression(random_state=42, max_iter=10000)\n",
    "lg.fit(X_train, train['CATEGORY'])"
   ]
  },
  {
   "cell_type": "markdown",
   "metadata": {},
   "source": [
    "# 53. 予測"
   ]
  },
  {
   "cell_type": "code",
   "execution_count": 9,
   "metadata": {},
   "outputs": [],
   "source": [
    "import numpy as np\n",
    "\n",
    "def score(lg, X):\n",
    "    pred = lg.predict(X)\n",
    "    return [np.max(lg.predict_proba(X), axis=1), pred]"
   ]
  },
  {
   "cell_type": "code",
   "execution_count": 10,
   "metadata": {},
   "outputs": [],
   "source": [
    "train_pred = score(lg, X_train)\n",
    "test_pred = score(lg, X_test)"
   ]
  },
  {
   "cell_type": "markdown",
   "metadata": {},
   "source": [
    "# 54. 正解率の計測"
   ]
  },
  {
   "cell_type": "code",
   "execution_count": 11,
   "metadata": {},
   "outputs": [
    {
     "name": "stdout",
     "output_type": "stream",
     "text": [
      "正解率（学習データ）：0.924\n",
      "正解率（評価データ）：0.879\n"
     ]
    }
   ],
   "source": [
    "from sklearn.metrics import accuracy_score\n",
    "\n",
    "train_accuracy = accuracy_score(train['CATEGORY'], train_pred[1])\n",
    "test_accuracy = accuracy_score(test['CATEGORY'], test_pred[1])\n",
    "print(f'正解率（学習データ）：{train_accuracy:.3f}')\n",
    "print(f'正解率（評価データ）：{test_accuracy:.3f}')"
   ]
  },
  {
   "cell_type": "markdown",
   "metadata": {},
   "source": [
    "# 55. 混同行列の作成"
   ]
  },
  {
   "cell_type": "code",
   "execution_count": 12,
   "metadata": {},
   "outputs": [
    {
     "data": {
      "image/png": "[encoded data removed]",
      "text/plain": [
       "<Figure size 640x480 with 2 Axes>"
      ]
     },
     "metadata": {},
     "output_type": "display_data"
    }
   ],
   "source": [
    "from sklearn.metrics import confusion_matrix\n",
    "import seaborn as sns\n",
    "import matplotlib.pyplot as plt\n",
    "\n",
    "# 学習データ\n",
    "train_cm = confusion_matrix(train['CATEGORY'], train_pred[1])\n",
    "sns.heatmap(train_cm, annot=True, cmap='Blues')\n",
    "plt.show()\n",
    "     "
   ]
  },
  {
   "cell_type": "code",
   "execution_count": 13,
   "metadata": {},
   "outputs": [
    {
     "data": {
      "image/png": "[encoded data removed]",
      "text/plain": [
       "<Figure size 640x480 with 2 Axes>"
      ]
     },
     "metadata": {},
     "output_type": "display_data"
    }
   ],
   "source": [
    "# 検証データ\n",
    "test_cm = confusion_matrix(test['CATEGORY'], test_pred[1])\n",
    "sns.heatmap(test_cm, annot=True, cmap='Blues')\n",
    "plt.show()"
   ]
  },
  {
   "cell_type": "markdown",
   "metadata": {},
   "source": [
    "# 56. 適合率，再現率，F1スコアの計測"
   ]
  },
  {
   "cell_type": "code",
   "execution_count": 14,
   "metadata": {},
   "outputs": [
    {
     "name": "stdout",
     "output_type": "stream",
     "text": [
      "              precision    recall  f1-score   support\n",
      "\n",
      "           b       0.88      0.94      0.91       563\n",
      "           e       0.88      0.97      0.92       528\n",
      "           m       0.96      0.49      0.65        91\n",
      "           t       0.85      0.58      0.69       152\n",
      "\n",
      "    accuracy                           0.88      1334\n",
      "   macro avg       0.89      0.75      0.79      1334\n",
      "weighted avg       0.88      0.88      0.87      1334\n",
      "\n"
     ]
    }
   ],
   "source": [
    "from sklearn.metrics import classification_report\n",
    "\n",
    "print(classification_report(test['CATEGORY'], test_pred[1], labels=['b', 'e', 'm', 't']))"
   ]
  },
  {
   "cell_type": "markdown",
   "metadata": {},
   "source": [
    "# 57. 特徴量の重みの確認"
   ]
  },
  {
   "cell_type": "code",
   "execution_count": 15,
   "metadata": {},
   "outputs": [
    {
     "name": "stdout",
     "output_type": "stream",
     "text": [
      "カテゴリ : b\n"
     ]
    },
    {
     "data": {
      "text/html": [
       "<div>\n",
       "<style scoped>\n",
       "    .dataframe tbody tr th:only-of-type {\n",
       "        vertical-align: middle;\n",
       "    }\n",
       "\n",
       "    .dataframe tbody tr th {\n",
       "        vertical-align: top;\n",
       "    }\n",
       "\n",
       "    .dataframe thead th {\n",
       "        text-align: right;\n",
       "    }\n",
       "</style>\n",
       "<table border=\"1\" class=\"dataframe\">\n",
       "  <thead>\n",
       "    <tr style=\"text-align: right;\">\n",
       "      <th></th>\n",
       "      <th>1</th>\n",
       "      <th>2</th>\n",
       "      <th>3</th>\n",
       "      <th>4</th>\n",
       "      <th>5</th>\n",
       "      <th>6</th>\n",
       "      <th>7</th>\n",
       "      <th>8</th>\n",
       "      <th>9</th>\n",
       "      <th>10</th>\n",
       "    </tr>\n",
       "  </thead>\n",
       "  <tbody>\n",
       "    <tr>\n",
       "      <th>高い-10</th>\n",
       "      <td>bank</td>\n",
       "      <td>fed</td>\n",
       "      <td>ecb</td>\n",
       "      <td>china</td>\n",
       "      <td>stocks</td>\n",
       "      <td>oil</td>\n",
       "      <td>obamacare</td>\n",
       "      <td>euro</td>\n",
       "      <td>dollar</td>\n",
       "      <td>ukraine</td>\n",
       "    </tr>\n",
       "    <tr>\n",
       "      <th>低い-10</th>\n",
       "      <td>her</td>\n",
       "      <td>ebola</td>\n",
       "      <td>and</td>\n",
       "      <td>apple</td>\n",
       "      <td>facebook</td>\n",
       "      <td>video</td>\n",
       "      <td>star</td>\n",
       "      <td>drug</td>\n",
       "      <td>microsoft</td>\n",
       "      <td>study</td>\n",
       "    </tr>\n",
       "  </tbody>\n",
       "</table>\n",
       "</div>"
      ],
      "text/plain": [
       "         1      2    3      4         5      6          7     8          9   \\\n",
       "高い-10  bank    fed  ecb  china    stocks    oil  obamacare  euro     dollar   \n",
       "低い-10   her  ebola  and  apple  facebook  video       star  drug  microsoft   \n",
       "\n",
       "            10  \n",
       "高い-10  ukraine  \n",
       "低い-10    study  "
      ]
     },
     "metadata": {},
     "output_type": "display_data"
    },
    {
     "name": "stdout",
     "output_type": "stream",
     "text": [
      "カテゴリ : e\n"
     ]
    },
    {
     "data": {
      "text/html": [
       "<div>\n",
       "<style scoped>\n",
       "    .dataframe tbody tr th:only-of-type {\n",
       "        vertical-align: middle;\n",
       "    }\n",
       "\n",
       "    .dataframe tbody tr th {\n",
       "        vertical-align: top;\n",
       "    }\n",
       "\n",
       "    .dataframe thead th {\n",
       "        text-align: right;\n",
       "    }\n",
       "</style>\n",
       "<table border=\"1\" class=\"dataframe\">\n",
       "  <thead>\n",
       "    <tr style=\"text-align: right;\">\n",
       "      <th></th>\n",
       "      <th>1</th>\n",
       "      <th>2</th>\n",
       "      <th>3</th>\n",
       "      <th>4</th>\n",
       "      <th>5</th>\n",
       "      <th>6</th>\n",
       "      <th>7</th>\n",
       "      <th>8</th>\n",
       "      <th>9</th>\n",
       "      <th>10</th>\n",
       "    </tr>\n",
       "  </thead>\n",
       "  <tbody>\n",
       "    <tr>\n",
       "      <th>高い-10</th>\n",
       "      <td>kardashian</td>\n",
       "      <td>chris</td>\n",
       "      <td>movie</td>\n",
       "      <td>wedding</td>\n",
       "      <td>kim</td>\n",
       "      <td>star</td>\n",
       "      <td>her</td>\n",
       "      <td>paul</td>\n",
       "      <td>george</td>\n",
       "      <td>film</td>\n",
       "    </tr>\n",
       "    <tr>\n",
       "      <th>低い-10</th>\n",
       "      <td>update</td>\n",
       "      <td>us</td>\n",
       "      <td>google</td>\n",
       "      <td>ceo</td>\n",
       "      <td>study</td>\n",
       "      <td>china</td>\n",
       "      <td>could</td>\n",
       "      <td>says</td>\n",
       "      <td>billion</td>\n",
       "      <td>gm</td>\n",
       "    </tr>\n",
       "  </tbody>\n",
       "</table>\n",
       "</div>"
      ],
      "text/plain": [
       "               1      2       3        4      5      6      7     8        9   \\\n",
       "高い-10  kardashian  chris   movie  wedding    kim   star    her  paul   george   \n",
       "低い-10      update     us  google      ceo  study  china  could  says  billion   \n",
       "\n",
       "         10  \n",
       "高い-10  film  \n",
       "低い-10    gm  "
      ]
     },
     "metadata": {},
     "output_type": "display_data"
    },
    {
     "name": "stdout",
     "output_type": "stream",
     "text": [
      "カテゴリ : m\n"
     ]
    },
    {
     "data": {
      "text/html": [
       "<div>\n",
       "<style scoped>\n",
       "    .dataframe tbody tr th:only-of-type {\n",
       "        vertical-align: middle;\n",
       "    }\n",
       "\n",
       "    .dataframe tbody tr th {\n",
       "        vertical-align: top;\n",
       "    }\n",
       "\n",
       "    .dataframe thead th {\n",
       "        text-align: right;\n",
       "    }\n",
       "</style>\n",
       "<table border=\"1\" class=\"dataframe\">\n",
       "  <thead>\n",
       "    <tr style=\"text-align: right;\">\n",
       "      <th></th>\n",
       "      <th>1</th>\n",
       "      <th>2</th>\n",
       "      <th>3</th>\n",
       "      <th>4</th>\n",
       "      <th>5</th>\n",
       "      <th>6</th>\n",
       "      <th>7</th>\n",
       "      <th>8</th>\n",
       "      <th>9</th>\n",
       "      <th>10</th>\n",
       "    </tr>\n",
       "  </thead>\n",
       "  <tbody>\n",
       "    <tr>\n",
       "      <th>高い-10</th>\n",
       "      <td>ebola</td>\n",
       "      <td>cancer</td>\n",
       "      <td>study</td>\n",
       "      <td>drug</td>\n",
       "      <td>fda</td>\n",
       "      <td>mers</td>\n",
       "      <td>cdc</td>\n",
       "      <td>could</td>\n",
       "      <td>health</td>\n",
       "      <td>cases</td>\n",
       "    </tr>\n",
       "    <tr>\n",
       "      <th>低い-10</th>\n",
       "      <td>gm</td>\n",
       "      <td>facebook</td>\n",
       "      <td>climate</td>\n",
       "      <td>ceo</td>\n",
       "      <td>deal</td>\n",
       "      <td>apple</td>\n",
       "      <td>twitter</td>\n",
       "      <td>sales</td>\n",
       "      <td>profit</td>\n",
       "      <td>google</td>\n",
       "    </tr>\n",
       "  </tbody>\n",
       "</table>\n",
       "</div>"
      ],
      "text/plain": [
       "          1         2        3     4     5      6        7      8       9   \\\n",
       "高い-10  ebola    cancer    study  drug   fda   mers      cdc  could  health   \n",
       "低い-10     gm  facebook  climate   ceo  deal  apple  twitter  sales  profit   \n",
       "\n",
       "           10  \n",
       "高い-10   cases  \n",
       "低い-10  google  "
      ]
     },
     "metadata": {},
     "output_type": "display_data"
    },
    {
     "name": "stdout",
     "output_type": "stream",
     "text": [
      "カテゴリ : t\n"
     ]
    },
    {
     "data": {
      "text/html": [
       "<div>\n",
       "<style scoped>\n",
       "    .dataframe tbody tr th:only-of-type {\n",
       "        vertical-align: middle;\n",
       "    }\n",
       "\n",
       "    .dataframe tbody tr th {\n",
       "        vertical-align: top;\n",
       "    }\n",
       "\n",
       "    .dataframe thead th {\n",
       "        text-align: right;\n",
       "    }\n",
       "</style>\n",
       "<table border=\"1\" class=\"dataframe\">\n",
       "  <thead>\n",
       "    <tr style=\"text-align: right;\">\n",
       "      <th></th>\n",
       "      <th>1</th>\n",
       "      <th>2</th>\n",
       "      <th>3</th>\n",
       "      <th>4</th>\n",
       "      <th>5</th>\n",
       "      <th>6</th>\n",
       "      <th>7</th>\n",
       "      <th>8</th>\n",
       "      <th>9</th>\n",
       "      <th>10</th>\n",
       "    </tr>\n",
       "  </thead>\n",
       "  <tbody>\n",
       "    <tr>\n",
       "      <th>高い-10</th>\n",
       "      <td>google</td>\n",
       "      <td>facebook</td>\n",
       "      <td>apple</td>\n",
       "      <td>microsoft</td>\n",
       "      <td>climate</td>\n",
       "      <td>mobile</td>\n",
       "      <td>moon</td>\n",
       "      <td>heartbleed</td>\n",
       "      <td>gm</td>\n",
       "      <td>samsung</td>\n",
       "    </tr>\n",
       "    <tr>\n",
       "      <th>低い-10</th>\n",
       "      <td>drug</td>\n",
       "      <td>her</td>\n",
       "      <td>american</td>\n",
       "      <td>stocks</td>\n",
       "      <td>cancer</td>\n",
       "      <td>home</td>\n",
       "      <td>shares</td>\n",
       "      <td>before</td>\n",
       "      <td>fed</td>\n",
       "      <td>his</td>\n",
       "    </tr>\n",
       "  </tbody>\n",
       "</table>\n",
       "</div>"
      ],
      "text/plain": [
       "           1         2         3          4        5       6       7   \\\n",
       "高い-10  google  facebook     apple  microsoft  climate  mobile    moon   \n",
       "低い-10    drug       her  american     stocks   cancer    home  shares   \n",
       "\n",
       "               8    9        10  \n",
       "高い-10  heartbleed   gm  samsung  \n",
       "低い-10      before  fed      his  "
      ]
     },
     "metadata": {},
     "output_type": "display_data"
    }
   ],
   "source": [
    "features = X_train.columns.values\n",
    "\n",
    "for cl, co in zip(lg.classes_, lg.coef_):\n",
    "    print(f'カテゴリ : {cl}')\n",
    "    bests = pd.DataFrame(features[np.argsort(co)[::-1][:10]], columns=['高い-10'], index=range(1,11)).T\n",
    "    worsts = pd.DataFrame(features[np.argsort(co)[:10]], columns=['低い-10'], index=range(1,11)).T\n",
    "    display(pd.concat([bests, worsts], axis=0))"
   ]
  },
  {
   "cell_type": "code",
   "execution_count": 16,
   "metadata": {},
   "outputs": [
    {
     "name": "stderr",
     "output_type": "stream",
     "text": [
      "100%|██████████| 10/10 [00:33<00:00,  3.38s/it]\n"
     ]
    }
   ],
   "source": [
    "from tqdm import tqdm\n",
    "\n",
    "result = []\n",
    "for C in tqdm(np.logspace(-5, 4, 10, base=10)):\n",
    "  # モデルの学習\n",
    "  lg = LogisticRegression(random_state=42, max_iter=10000, C=C)\n",
    "  lg.fit(X_train, train['CATEGORY'])\n",
    "\n",
    "  # 予測値の取得\n",
    "  train_pred = score(lg, X_train)\n",
    "  valid_pred = score(lg, X_valid)\n",
    "  test_pred = score(lg, X_test)\n",
    "\n",
    "  # 正解率の算出\n",
    "  train_accuracy = accuracy_score(train['CATEGORY'], train_pred[1])\n",
    "  valid_accuracy = accuracy_score(valid['CATEGORY'], valid_pred[1])\n",
    "  test_accuracy = accuracy_score(test['CATEGORY'], test_pred[1])\n",
    "\n",
    "  # 結果の格納\n",
    "  result.append([C, train_accuracy, valid_accuracy, test_accuracy])"
   ]
  },
  {
   "cell_type": "code",
   "execution_count": 17,
   "metadata": {},
   "outputs": [
    {
     "data": {
      "image/png": "[encoded data removed]",
      "text/plain": [
       "<Figure size 640x480 with 1 Axes>"
      ]
     },
     "metadata": {},
     "output_type": "display_data"
    }
   ],
   "source": [
    "# 視覚化\n",
    "result = np.array(result).T\n",
    "plt.plot(result[0], result[1], label='train')\n",
    "plt.plot(result[0], result[2], label='valid')\n",
    "plt.plot(result[0], result[3], label='test')\n",
    "plt.ylim(0, 1.1)\n",
    "plt.ylabel('Accuracy')\n",
    "plt.xscale ('log')\n",
    "plt.xlabel('C')\n",
    "plt.legend()\n",
    "plt.show()"
   ]
  },
  {
   "cell_type": "markdown",
   "metadata": {},
   "source": [
    "# 59. ハイパーパラメータの探索"
   ]
  },
  {
   "cell_type": "code",
   "execution_count": 49,
   "metadata": {},
   "outputs": [],
   "source": [
    "import optuna\n",
    "import lightgbm as lgb\n",
    "from sklearn.preprocessing import LabelEncoder\n",
    "from sklearn.metrics import accuracy_score\n",
    "\n",
    "def objective(trial):\n",
    "\n",
    "    learning_rate = trial.suggest_uniform('learning_rate', 0.001, 1)\n",
    "    num_leaves =  trial.suggest_int(\"num_leaves\", 5, 50)\n",
    "    \n",
    "    params = {\n",
    "            'task': 'train',\n",
    "            'boosting_type': 'gbdt',\n",
    "            'num_class': 4,\n",
    "            'objective': 'multiclass',       \n",
    "            'metric': 'multi_logloss',      \n",
    "            'learning_rate': learning_rate,\n",
    "            'num_leaves': num_leaves,\n",
    "            'seed': 42\n",
    "            }\n",
    "    category_dict = {'b': 0, 'e': 1, 't':2, 'm':3}\n",
    "    train_label = train['CATEGORY'].map(lambda x: category_dict[x])\n",
    "    valid_label = valid['CATEGORY'].map(lambda x: category_dict[x])\n",
    "\n",
    "    train_data = lgb.Dataset(X_train, label=train_label)\n",
    "    valid_data = lgb.Dataset(X_valid, label=valid_label, reference=train_data)\n",
    "\n",
    "    model = lgb.train(\n",
    "        params=params,\n",
    "        train_set=train_data,\n",
    "        valid_sets=[train_data, valid_data],\n",
    "        valid_names=['Train', 'Valid'],\n",
    "        num_boost_round=100,\n",
    "        callbacks=[lgb.early_stopping(stopping_rounds=50, verbose=1),\n",
    "                lgb.log_evaluation(-1)],\n",
    "        )\n",
    "\n",
    "    \n",
    "    # 推論\n",
    "    y_pred = model.predict(X_valid, num_iteration=model.best_iteration)\n",
    "    y_pred = np.argmax(y_pred, axis=1)\n",
    "    # 評価\n",
    "    acc = accuracy_score(valid_label, y_pred)\n",
    "\n",
    "    return acc\n"
   ]
  },
  {
   "cell_type": "code",
   "execution_count": 50,
   "metadata": {},
   "outputs": [
    {
     "name": "stderr",
     "output_type": "stream",
     "text": [
      "[I 2024-02-29 00:34:01,338] A new study created in memory with name: no-name-8a40afe2-4dbb-495e-b809-88b581ec5955\n",
      "/var/folders/d4/0c_l5jkx5_n985zcb0gf1ng00000gn/T/ipykernel_4343/3458071427.py:8: FutureWarning: suggest_uniform has been deprecated in v3.0.0. This feature will be removed in v6.0.0. See https://github.com/optuna/optuna/releases/tag/v3.0.0. Use suggest_float instead.\n",
      "  learning_rate = trial.suggest_uniform('learning_rate', 0.001, 1)\n"
     ]
    },
    {
     "name": "stdout",
     "output_type": "stream",
     "text": [
      "[LightGBM] [Warning] Found whitespace in feature_names, replace with underlines\n",
      "[LightGBM] [Info] Auto-choosing row-wise multi-threading, the overhead of testing was 0.049930 seconds.\n",
      "You can set `force_row_wise=true` to remove the overhead.\n",
      "And if memory is not enough, you can set `force_col_wise=true`.\n",
      "[LightGBM] [Info] Total Bins 23274\n",
      "[LightGBM] [Info] Number of data points in the train set: 10672, number of used features: 1127\n",
      "[LightGBM] [Warning] Found whitespace in feature_names, replace with underlines\n",
      "[LightGBM] [Info] Start training from score -0.863102\n",
      "[LightGBM] [Info] Start training from score -0.927078\n",
      "[LightGBM] [Info] Start training from score -2.169593\n",
      "[LightGBM] [Info] Start training from score -2.685078\n",
      "Training until validation scores don't improve for 50 rounds\n"
     ]
    },
    {
     "name": "stderr",
     "output_type": "stream",
     "text": [
      "[I 2024-02-29 00:34:04,974] Trial 0 finished with value: 0.8365817091454273 and parameters: {'learning_rate': 0.37516557872851514, 'num_leaves': 48}. Best is trial 0 with value: 0.8365817091454273.\n"
     ]
    },
    {
     "name": "stdout",
     "output_type": "stream",
     "text": [
      "Early stopping, best iteration is:\n",
      "[22]\tTrain's multi_logloss: 0.217772\tValid's multi_logloss: 0.47435\n",
      "[LightGBM] [Warning] Found whitespace in feature_names, replace with underlines\n"
     ]
    },
    {
     "name": "stderr",
     "output_type": "stream",
     "text": [
      "/var/folders/d4/0c_l5jkx5_n985zcb0gf1ng00000gn/T/ipykernel_4343/3458071427.py:8: FutureWarning: suggest_uniform has been deprecated in v3.0.0. This feature will be removed in v6.0.0. See https://github.com/optuna/optuna/releases/tag/v3.0.0. Use suggest_float instead.\n",
      "  learning_rate = trial.suggest_uniform('learning_rate', 0.001, 1)\n"
     ]
    },
    {
     "name": "stdout",
     "output_type": "stream",
     "text": [
      "[LightGBM] [Info] Auto-choosing row-wise multi-threading, the overhead of testing was 0.049498 seconds.\n",
      "You can set `force_row_wise=true` to remove the overhead.\n",
      "And if memory is not enough, you can set `force_col_wise=true`.\n",
      "[LightGBM] [Info] Total Bins 23274\n",
      "[LightGBM] [Info] Number of data points in the train set: 10672, number of used features: 1127\n",
      "[LightGBM] [Warning] Found whitespace in feature_names, replace with underlines\n",
      "[LightGBM] [Info] Start training from score -0.863102\n",
      "[LightGBM] [Info] Start training from score -0.927078\n",
      "[LightGBM] [Info] Start training from score -2.169593\n",
      "[LightGBM] [Info] Start training from score -2.685078\n",
      "Training until validation scores don't improve for 50 rounds\n"
     ]
    },
    {
     "name": "stderr",
     "output_type": "stream",
     "text": [
      "[I 2024-02-29 00:34:07,208] Trial 1 finished with value: 0.8313343328335832 and parameters: {'learning_rate': 0.7322619478695936, 'num_leaves': 32}. Best is trial 0 with value: 0.8365817091454273.\n"
     ]
    },
    {
     "name": "stdout",
     "output_type": "stream",
     "text": [
      "Early stopping, best iteration is:\n",
      "[14]\tTrain's multi_logloss: 0.244847\tValid's multi_logloss: 0.495029\n",
      "[LightGBM] [Warning] Found whitespace in feature_names, replace with underlines\n",
      "[LightGBM] [Info] Auto-choosing row-wise multi-threading, the overhead of testing was 0.052210 seconds.\n",
      "You can set `force_row_wise=true` to remove the overhead.\n",
      "And if memory is not enough, you can set `force_col_wise=true`.\n"
     ]
    },
    {
     "name": "stderr",
     "output_type": "stream",
     "text": [
      "/var/folders/d4/0c_l5jkx5_n985zcb0gf1ng00000gn/T/ipykernel_4343/3458071427.py:8: FutureWarning: suggest_uniform has been deprecated in v3.0.0. This feature will be removed in v6.0.0. See https://github.com/optuna/optuna/releases/tag/v3.0.0. Use suggest_float instead.\n",
      "  learning_rate = trial.suggest_uniform('learning_rate', 0.001, 1)\n"
     ]
    },
    {
     "name": "stdout",
     "output_type": "stream",
     "text": [
      "[LightGBM] [Info] Total Bins 23274\n",
      "[LightGBM] [Info] Number of data points in the train set: 10672, number of used features: 1127\n",
      "[LightGBM] [Warning] Found whitespace in feature_names, replace with underlines\n",
      "[LightGBM] [Info] Start training from score -0.863102\n",
      "[LightGBM] [Info] Start training from score -0.927078\n",
      "[LightGBM] [Info] Start training from score -2.169593\n",
      "[LightGBM] [Info] Start training from score -2.685078\n",
      "Training until validation scores don't improve for 50 rounds\n"
     ]
    },
    {
     "name": "stderr",
     "output_type": "stream",
     "text": [
      "[I 2024-02-29 00:34:08,672] Trial 2 finished with value: 0.835832083958021 and parameters: {'learning_rate': 0.1568626218019941, 'num_leaves': 12}. Best is trial 0 with value: 0.8365817091454273.\n"
     ]
    },
    {
     "name": "stdout",
     "output_type": "stream",
     "text": [
      "Did not meet early stopping. Best iteration is:\n",
      "[100]\tTrain's multi_logloss: 0.371698\tValid's multi_logloss: 0.50436\n",
      "[LightGBM] [Warning] Found whitespace in feature_names, replace with underlines\n"
     ]
    },
    {
     "name": "stderr",
     "output_type": "stream",
     "text": [
      "/var/folders/d4/0c_l5jkx5_n985zcb0gf1ng00000gn/T/ipykernel_4343/3458071427.py:8: FutureWarning: suggest_uniform has been deprecated in v3.0.0. This feature will be removed in v6.0.0. See https://github.com/optuna/optuna/releases/tag/v3.0.0. Use suggest_float instead.\n",
      "  learning_rate = trial.suggest_uniform('learning_rate', 0.001, 1)\n"
     ]
    },
    {
     "name": "stdout",
     "output_type": "stream",
     "text": [
      "[LightGBM] [Info] Auto-choosing row-wise multi-threading, the overhead of testing was 0.049635 seconds.\n",
      "You can set `force_row_wise=true` to remove the overhead.\n",
      "And if memory is not enough, you can set `force_col_wise=true`.\n",
      "[LightGBM] [Info] Total Bins 23274\n",
      "[LightGBM] [Info] Number of data points in the train set: 10672, number of used features: 1127\n",
      "[LightGBM] [Warning] Found whitespace in feature_names, replace with underlines\n",
      "[LightGBM] [Info] Start training from score -0.863102\n",
      "[LightGBM] [Info] Start training from score -0.927078\n",
      "[LightGBM] [Info] Start training from score -2.169593\n",
      "[LightGBM] [Info] Start training from score -2.685078\n",
      "Training until validation scores don't improve for 50 rounds\n"
     ]
    },
    {
     "name": "stderr",
     "output_type": "stream",
     "text": [
      "[I 2024-02-29 00:34:13,225] Trial 3 finished with value: 0.8343328335832084 and parameters: {'learning_rate': 0.05902552855603126, 'num_leaves': 44}. Best is trial 0 with value: 0.8365817091454273.\n"
     ]
    },
    {
     "name": "stdout",
     "output_type": "stream",
     "text": [
      "Did not meet early stopping. Best iteration is:\n",
      "[100]\tTrain's multi_logloss: 0.300051\tValid's multi_logloss: 0.475267\n",
      "[LightGBM] [Warning] Found whitespace in feature_names, replace with underlines\n"
     ]
    },
    {
     "name": "stderr",
     "output_type": "stream",
     "text": [
      "/var/folders/d4/0c_l5jkx5_n985zcb0gf1ng00000gn/T/ipykernel_4343/3458071427.py:8: FutureWarning: suggest_uniform has been deprecated in v3.0.0. This feature will be removed in v6.0.0. See https://github.com/optuna/optuna/releases/tag/v3.0.0. Use suggest_float instead.\n",
      "  learning_rate = trial.suggest_uniform('learning_rate', 0.001, 1)\n"
     ]
    },
    {
     "name": "stdout",
     "output_type": "stream",
     "text": [
      "[LightGBM] [Info] Auto-choosing row-wise multi-threading, the overhead of testing was 0.049864 seconds.\n",
      "You can set `force_row_wise=true` to remove the overhead.\n",
      "And if memory is not enough, you can set `force_col_wise=true`.\n",
      "[LightGBM] [Info] Total Bins 23274\n",
      "[LightGBM] [Info] Number of data points in the train set: 10672, number of used features: 1127\n",
      "[LightGBM] [Warning] Found whitespace in feature_names, replace with underlines\n",
      "[LightGBM] [Info] Start training from score -0.863102\n",
      "[LightGBM] [Info] Start training from score -0.927078\n",
      "[LightGBM] [Info] Start training from score -2.169593\n",
      "[LightGBM] [Info] Start training from score -2.685078\n",
      "Training until validation scores don't improve for 50 rounds\n"
     ]
    },
    {
     "name": "stderr",
     "output_type": "stream",
     "text": [
      "[I 2024-02-29 00:34:15,907] Trial 4 finished with value: 0.8380809595202399 and parameters: {'learning_rate': 0.6015138967314656, 'num_leaves': 37}. Best is trial 4 with value: 0.8380809595202399.\n"
     ]
    },
    {
     "name": "stdout",
     "output_type": "stream",
     "text": [
      "Early stopping, best iteration is:\n",
      "[17]\tTrain's multi_logloss: 0.223113\tValid's multi_logloss: 0.488019\n",
      "[LightGBM] [Warning] Found whitespace in feature_names, replace with underlines\n",
      "[LightGBM] [Info] Auto-choosing row-wise multi-threading, the overhead of testing was 0.049841 seconds.\n",
      "You can set `force_row_wise=true` to remove the overhead.\n",
      "And if memory is not enough, you can set `force_col_wise=true`.\n",
      "[LightGBM] [Info] Total Bins 23274\n"
     ]
    },
    {
     "name": "stderr",
     "output_type": "stream",
     "text": [
      "/var/folders/d4/0c_l5jkx5_n985zcb0gf1ng00000gn/T/ipykernel_4343/3458071427.py:8: FutureWarning: suggest_uniform has been deprecated in v3.0.0. This feature will be removed in v6.0.0. See https://github.com/optuna/optuna/releases/tag/v3.0.0. Use suggest_float instead.\n",
      "  learning_rate = trial.suggest_uniform('learning_rate', 0.001, 1)\n"
     ]
    },
    {
     "name": "stdout",
     "output_type": "stream",
     "text": [
      "[LightGBM] [Info] Number of data points in the train set: 10672, number of used features: 1127\n",
      "[LightGBM] [Warning] Found whitespace in feature_names, replace with underlines\n",
      "[LightGBM] [Info] Start training from score -0.863102\n",
      "[LightGBM] [Info] Start training from score -0.927078\n",
      "[LightGBM] [Info] Start training from score -2.169593\n",
      "[LightGBM] [Info] Start training from score -2.685078\n",
      "Training until validation scores don't improve for 50 rounds\n"
     ]
    },
    {
     "name": "stderr",
     "output_type": "stream",
     "text": [
      "[I 2024-02-29 00:34:20,948] Trial 5 finished with value: 0.8088455772113943 and parameters: {'learning_rate': 0.021563909801506645, 'num_leaves': 49}. Best is trial 4 with value: 0.8380809595202399.\n"
     ]
    },
    {
     "name": "stdout",
     "output_type": "stream",
     "text": [
      "Did not meet early stopping. Best iteration is:\n",
      "[100]\tTrain's multi_logloss: 0.487564\tValid's multi_logloss: 0.582299\n",
      "[LightGBM] [Warning] Found whitespace in feature_names, replace with underlines\n"
     ]
    },
    {
     "name": "stderr",
     "output_type": "stream",
     "text": [
      "/var/folders/d4/0c_l5jkx5_n985zcb0gf1ng00000gn/T/ipykernel_4343/3458071427.py:8: FutureWarning: suggest_uniform has been deprecated in v3.0.0. This feature will be removed in v6.0.0. See https://github.com/optuna/optuna/releases/tag/v3.0.0. Use suggest_float instead.\n",
      "  learning_rate = trial.suggest_uniform('learning_rate', 0.001, 1)\n"
     ]
    },
    {
     "name": "stdout",
     "output_type": "stream",
     "text": [
      "[LightGBM] [Info] Auto-choosing row-wise multi-threading, the overhead of testing was 0.049336 seconds.\n",
      "You can set `force_row_wise=true` to remove the overhead.\n",
      "And if memory is not enough, you can set `force_col_wise=true`.\n",
      "[LightGBM] [Info] Total Bins 23274\n",
      "[LightGBM] [Info] Number of data points in the train set: 10672, number of used features: 1127\n",
      "[LightGBM] [Warning] Found whitespace in feature_names, replace with underlines\n",
      "[LightGBM] [Info] Start training from score -0.863102\n",
      "[LightGBM] [Info] Start training from score -0.927078\n",
      "[LightGBM] [Info] Start training from score -2.169593\n",
      "[LightGBM] [Info] Start training from score -2.685078\n",
      "Training until validation scores don't improve for 50 rounds\n"
     ]
    },
    {
     "name": "stderr",
     "output_type": "stream",
     "text": [
      "[I 2024-02-29 00:34:22,252] Trial 6 finished with value: 0.8290854572713643 and parameters: {'learning_rate': 0.8326101981596213, 'num_leaves': 14}. Best is trial 4 with value: 0.8380809595202399.\n"
     ]
    },
    {
     "name": "stdout",
     "output_type": "stream",
     "text": [
      "Early stopping, best iteration is:\n",
      "[28]\tTrain's multi_logloss: 0.254526\tValid's multi_logloss: 0.512331\n",
      "[LightGBM] [Warning] Found whitespace in feature_names, replace with underlines\n",
      "[LightGBM] [Info] Auto-choosing row-wise multi-threading, the overhead of testing was 0.049713 seconds.\n",
      "You can set `force_row_wise=true` to remove the overhead.\n",
      "And if memory is not enough, you can set `force_col_wise=true`.\n",
      "[LightGBM] [Info] Total Bins 23274\n",
      "[LightGBM] [Info] Number of data points in the train set: 10672, number of used features: 1127\n"
     ]
    },
    {
     "name": "stderr",
     "output_type": "stream",
     "text": [
      "/var/folders/d4/0c_l5jkx5_n985zcb0gf1ng00000gn/T/ipykernel_4343/3458071427.py:8: FutureWarning: suggest_uniform has been deprecated in v3.0.0. This feature will be removed in v6.0.0. See https://github.com/optuna/optuna/releases/tag/v3.0.0. Use suggest_float instead.\n",
      "  learning_rate = trial.suggest_uniform('learning_rate', 0.001, 1)\n"
     ]
    },
    {
     "name": "stdout",
     "output_type": "stream",
     "text": [
      "[LightGBM] [Warning] Found whitespace in feature_names, replace with underlines\n",
      "[LightGBM] [Info] Start training from score -0.863102\n",
      "[LightGBM] [Info] Start training from score -0.927078\n",
      "[LightGBM] [Info] Start training from score -2.169593\n",
      "[LightGBM] [Info] Start training from score -2.685078\n",
      "Training until validation scores don't improve for 50 rounds\n"
     ]
    },
    {
     "name": "stderr",
     "output_type": "stream",
     "text": [
      "[I 2024-02-29 00:34:23,798] Trial 7 finished with value: 0.8463268365817092 and parameters: {'learning_rate': 0.18264314223989353, 'num_leaves': 13}. Best is trial 7 with value: 0.8463268365817092.\n"
     ]
    },
    {
     "name": "stdout",
     "output_type": "stream",
     "text": [
      "Did not meet early stopping. Best iteration is:\n",
      "[100]\tTrain's multi_logloss: 0.329761\tValid's multi_logloss: 0.484538\n",
      "[LightGBM] [Warning] Found whitespace in feature_names, replace with underlines\n"
     ]
    },
    {
     "name": "stderr",
     "output_type": "stream",
     "text": [
      "/var/folders/d4/0c_l5jkx5_n985zcb0gf1ng00000gn/T/ipykernel_4343/3458071427.py:8: FutureWarning: suggest_uniform has been deprecated in v3.0.0. This feature will be removed in v6.0.0. See https://github.com/optuna/optuna/releases/tag/v3.0.0. Use suggest_float instead.\n",
      "  learning_rate = trial.suggest_uniform('learning_rate', 0.001, 1)\n"
     ]
    },
    {
     "name": "stdout",
     "output_type": "stream",
     "text": [
      "[LightGBM] [Info] Auto-choosing row-wise multi-threading, the overhead of testing was 0.048720 seconds.\n",
      "You can set `force_row_wise=true` to remove the overhead.\n",
      "And if memory is not enough, you can set `force_col_wise=true`.\n",
      "[LightGBM] [Info] Total Bins 23274\n",
      "[LightGBM] [Info] Number of data points in the train set: 10672, number of used features: 1127\n",
      "[LightGBM] [Warning] Found whitespace in feature_names, replace with underlines\n",
      "[LightGBM] [Info] Start training from score -0.863102\n",
      "[LightGBM] [Info] Start training from score -0.927078\n",
      "[LightGBM] [Info] Start training from score -2.169593\n",
      "[LightGBM] [Info] Start training from score -2.685078\n",
      "Training until validation scores don't improve for 50 rounds\n"
     ]
    },
    {
     "name": "stderr",
     "output_type": "stream",
     "text": [
      "[I 2024-02-29 00:34:26,663] Trial 8 finished with value: 0.8320839580209896 and parameters: {'learning_rate': 0.3049380007165782, 'num_leaves': 29}. Best is trial 7 with value: 0.8463268365817092.\n"
     ]
    },
    {
     "name": "stdout",
     "output_type": "stream",
     "text": [
      "Early stopping, best iteration is:\n",
      "[44]\tTrain's multi_logloss: 0.230065\tValid's multi_logloss: 0.465763\n",
      "[LightGBM] [Warning] Found whitespace in feature_names, replace with underlines\n"
     ]
    },
    {
     "name": "stderr",
     "output_type": "stream",
     "text": [
      "/var/folders/d4/0c_l5jkx5_n985zcb0gf1ng00000gn/T/ipykernel_4343/3458071427.py:8: FutureWarning: suggest_uniform has been deprecated in v3.0.0. This feature will be removed in v6.0.0. See https://github.com/optuna/optuna/releases/tag/v3.0.0. Use suggest_float instead.\n",
      "  learning_rate = trial.suggest_uniform('learning_rate', 0.001, 1)\n"
     ]
    },
    {
     "name": "stdout",
     "output_type": "stream",
     "text": [
      "[LightGBM] [Info] Auto-choosing row-wise multi-threading, the overhead of testing was 0.049641 seconds.\n",
      "You can set `force_row_wise=true` to remove the overhead.\n",
      "And if memory is not enough, you can set `force_col_wise=true`.\n",
      "[LightGBM] [Info] Total Bins 23274\n",
      "[LightGBM] [Info] Number of data points in the train set: 10672, number of used features: 1127\n",
      "[LightGBM] [Warning] Found whitespace in feature_names, replace with underlines\n",
      "[LightGBM] [Info] Start training from score -0.863102\n",
      "[LightGBM] [Info] Start training from score -0.927078\n",
      "[LightGBM] [Info] Start training from score -2.169593\n",
      "[LightGBM] [Info] Start training from score -2.685078\n",
      "Training until validation scores don't improve for 50 rounds\n"
     ]
    },
    {
     "name": "stderr",
     "output_type": "stream",
     "text": [
      "[I 2024-02-29 00:34:28,477] Trial 9 finished with value: 0.8425787106446777 and parameters: {'learning_rate': 0.43251307362347363, 'num_leaves': 18}. Best is trial 7 with value: 0.8463268365817092.\n"
     ]
    },
    {
     "name": "stdout",
     "output_type": "stream",
     "text": [
      "Early stopping, best iteration is:\n",
      "[40]\tTrain's multi_logloss: 0.271539\tValid's multi_logloss: 0.462304\n",
      "[LightGBM] [Warning] Found whitespace in feature_names, replace with underlines\n"
     ]
    },
    {
     "name": "stderr",
     "output_type": "stream",
     "text": [
      "/var/folders/d4/0c_l5jkx5_n985zcb0gf1ng00000gn/T/ipykernel_4343/3458071427.py:8: FutureWarning: suggest_uniform has been deprecated in v3.0.0. This feature will be removed in v6.0.0. See https://github.com/optuna/optuna/releases/tag/v3.0.0. Use suggest_float instead.\n",
      "  learning_rate = trial.suggest_uniform('learning_rate', 0.001, 1)\n"
     ]
    },
    {
     "name": "stdout",
     "output_type": "stream",
     "text": [
      "[LightGBM] [Info] Auto-choosing row-wise multi-threading, the overhead of testing was 0.049417 seconds.\n",
      "You can set `force_row_wise=true` to remove the overhead.\n",
      "And if memory is not enough, you can set `force_col_wise=true`.\n",
      "[LightGBM] [Info] Total Bins 23274\n",
      "[LightGBM] [Info] Number of data points in the train set: 10672, number of used features: 1127\n",
      "[LightGBM] [Warning] Found whitespace in feature_names, replace with underlines\n",
      "[LightGBM] [Info] Start training from score -0.863102\n",
      "[LightGBM] [Info] Start training from score -0.927078\n",
      "[LightGBM] [Info] Start training from score -2.169593\n",
      "[LightGBM] [Info] Start training from score -2.685078\n",
      "Training until validation scores don't improve for 50 rounds\n"
     ]
    },
    {
     "name": "stderr",
     "output_type": "stream",
     "text": [
      "[I 2024-02-29 00:34:29,253] Trial 10 finished with value: 0.820839580209895 and parameters: {'learning_rate': 0.2084112227798961, 'num_leaves': 5}. Best is trial 7 with value: 0.8463268365817092.\n"
     ]
    },
    {
     "name": "stdout",
     "output_type": "stream",
     "text": [
      "Did not meet early stopping. Best iteration is:\n",
      "[100]\tTrain's multi_logloss: 0.49867\tValid's multi_logloss: 0.579024\n",
      "[LightGBM] [Warning] Found whitespace in feature_names, replace with underlines\n"
     ]
    },
    {
     "name": "stderr",
     "output_type": "stream",
     "text": [
      "/var/folders/d4/0c_l5jkx5_n985zcb0gf1ng00000gn/T/ipykernel_4343/3458071427.py:8: FutureWarning: suggest_uniform has been deprecated in v3.0.0. This feature will be removed in v6.0.0. See https://github.com/optuna/optuna/releases/tag/v3.0.0. Use suggest_float instead.\n",
      "  learning_rate = trial.suggest_uniform('learning_rate', 0.001, 1)\n"
     ]
    },
    {
     "name": "stdout",
     "output_type": "stream",
     "text": [
      "[LightGBM] [Info] Auto-choosing row-wise multi-threading, the overhead of testing was 0.049431 seconds.\n",
      "You can set `force_row_wise=true` to remove the overhead.\n",
      "And if memory is not enough, you can set `force_col_wise=true`.\n",
      "[LightGBM] [Info] Total Bins 23274\n",
      "[LightGBM] [Info] Number of data points in the train set: 10672, number of used features: 1127\n",
      "[LightGBM] [Warning] Found whitespace in feature_names, replace with underlines\n",
      "[LightGBM] [Info] Start training from score -0.863102\n",
      "[LightGBM] [Info] Start training from score -0.927078\n",
      "[LightGBM] [Info] Start training from score -2.169593\n",
      "[LightGBM] [Info] Start training from score -2.685078\n",
      "Training until validation scores don't improve for 50 rounds\n"
     ]
    },
    {
     "name": "stderr",
     "output_type": "stream",
     "text": [
      "[I 2024-02-29 00:34:31,066] Trial 11 finished with value: 0.8350824587706147 and parameters: {'learning_rate': 0.49786161513156957, 'num_leaves': 20}. Best is trial 7 with value: 0.8463268365817092.\n"
     ]
    },
    {
     "name": "stdout",
     "output_type": "stream",
     "text": [
      "Early stopping, best iteration is:\n",
      "[30]\tTrain's multi_logloss: 0.274966\tValid's multi_logloss: 0.468599\n",
      "[LightGBM] [Warning] Found whitespace in feature_names, replace with underlines\n"
     ]
    },
    {
     "name": "stderr",
     "output_type": "stream",
     "text": [
      "/var/folders/d4/0c_l5jkx5_n985zcb0gf1ng00000gn/T/ipykernel_4343/3458071427.py:8: FutureWarning: suggest_uniform has been deprecated in v3.0.0. This feature will be removed in v6.0.0. See https://github.com/optuna/optuna/releases/tag/v3.0.0. Use suggest_float instead.\n",
      "  learning_rate = trial.suggest_uniform('learning_rate', 0.001, 1)\n"
     ]
    },
    {
     "name": "stdout",
     "output_type": "stream",
     "text": [
      "[LightGBM] [Info] Auto-choosing row-wise multi-threading, the overhead of testing was 0.049745 seconds.\n",
      "You can set `force_row_wise=true` to remove the overhead.\n",
      "And if memory is not enough, you can set `force_col_wise=true`.\n",
      "[LightGBM] [Info] Total Bins 23274\n",
      "[LightGBM] [Info] Number of data points in the train set: 10672, number of used features: 1127\n",
      "[LightGBM] [Warning] Found whitespace in feature_names, replace with underlines\n",
      "[LightGBM] [Info] Start training from score -0.863102\n",
      "[LightGBM] [Info] Start training from score -0.927078\n",
      "[LightGBM] [Info] Start training from score -2.169593\n",
      "[LightGBM] [Info] Start training from score -2.685078\n",
      "Training until validation scores don't improve for 50 rounds\n"
     ]
    },
    {
     "name": "stderr",
     "output_type": "stream",
     "text": [
      "[I 2024-02-29 00:34:33,058] Trial 12 finished with value: 0.8350824587706147 and parameters: {'learning_rate': 0.4436372111879819, 'num_leaves': 21}. Best is trial 7 with value: 0.8463268365817092.\n"
     ]
    },
    {
     "name": "stdout",
     "output_type": "stream",
     "text": [
      "Early stopping, best iteration is:\n",
      "[36]\tTrain's multi_logloss: 0.256586\tValid's multi_logloss: 0.475129\n",
      "[LightGBM] [Warning] Found whitespace in feature_names, replace with underlines\n"
     ]
    },
    {
     "name": "stderr",
     "output_type": "stream",
     "text": [
      "/var/folders/d4/0c_l5jkx5_n985zcb0gf1ng00000gn/T/ipykernel_4343/3458071427.py:8: FutureWarning: suggest_uniform has been deprecated in v3.0.0. This feature will be removed in v6.0.0. See https://github.com/optuna/optuna/releases/tag/v3.0.0. Use suggest_float instead.\n",
      "  learning_rate = trial.suggest_uniform('learning_rate', 0.001, 1)\n"
     ]
    },
    {
     "name": "stdout",
     "output_type": "stream",
     "text": [
      "[LightGBM] [Info] Auto-choosing row-wise multi-threading, the overhead of testing was 0.049959 seconds.\n",
      "You can set `force_row_wise=true` to remove the overhead.\n",
      "And if memory is not enough, you can set `force_col_wise=true`.\n",
      "[LightGBM] [Info] Total Bins 23274\n",
      "[LightGBM] [Info] Number of data points in the train set: 10672, number of used features: 1127\n",
      "[LightGBM] [Warning] Found whitespace in feature_names, replace with underlines\n",
      "[LightGBM] [Info] Start training from score -0.863102\n",
      "[LightGBM] [Info] Start training from score -0.927078\n",
      "[LightGBM] [Info] Start training from score -2.169593\n",
      "[LightGBM] [Info] Start training from score -2.685078\n",
      "Training until validation scores don't improve for 50 rounds\n"
     ]
    },
    {
     "name": "stderr",
     "output_type": "stream",
     "text": [
      "[I 2024-02-29 00:34:34,663] Trial 13 finished with value: 0.8343328335832084 and parameters: {'learning_rate': 0.6350576164745018, 'num_leaves': 19}. Best is trial 7 with value: 0.8463268365817092.\n"
     ]
    },
    {
     "name": "stdout",
     "output_type": "stream",
     "text": [
      "Early stopping, best iteration is:\n",
      "[24]\tTrain's multi_logloss: 0.274424\tValid's multi_logloss: 0.48165\n",
      "[LightGBM] [Warning] Found whitespace in feature_names, replace with underlines\n"
     ]
    },
    {
     "name": "stderr",
     "output_type": "stream",
     "text": [
      "/var/folders/d4/0c_l5jkx5_n985zcb0gf1ng00000gn/T/ipykernel_4343/3458071427.py:8: FutureWarning: suggest_uniform has been deprecated in v3.0.0. This feature will be removed in v6.0.0. See https://github.com/optuna/optuna/releases/tag/v3.0.0. Use suggest_float instead.\n",
      "  learning_rate = trial.suggest_uniform('learning_rate', 0.001, 1)\n"
     ]
    },
    {
     "name": "stdout",
     "output_type": "stream",
     "text": [
      "[LightGBM] [Info] Auto-choosing col-wise multi-threading, the overhead of testing was 0.047492 seconds.\n",
      "You can set `force_col_wise=true` to remove the overhead.\n",
      "[LightGBM] [Info] Total Bins 23274\n",
      "[LightGBM] [Info] Number of data points in the train set: 10672, number of used features: 1127\n",
      "[LightGBM] [Warning] Found whitespace in feature_names, replace with underlines\n",
      "[LightGBM] [Info] Start training from score -0.863102\n",
      "[LightGBM] [Info] Start training from score -0.927078\n",
      "[LightGBM] [Info] Start training from score -2.169593\n",
      "[LightGBM] [Info] Start training from score -2.685078\n",
      "Training until validation scores don't improve for 50 rounds\n"
     ]
    },
    {
     "name": "stderr",
     "output_type": "stream",
     "text": [
      "[I 2024-02-29 00:34:35,181] Trial 14 finished with value: 0.7113943028485757 and parameters: {'learning_rate': 0.9470149145137592, 'num_leaves': 5}. Best is trial 7 with value: 0.8463268365817092.\n"
     ]
    },
    {
     "name": "stdout",
     "output_type": "stream",
     "text": [
      "Early stopping, best iteration is:\n",
      "[5]\tTrain's multi_logloss: 0.842231\tValid's multi_logloss: 0.873936\n",
      "[LightGBM] [Warning] Found whitespace in feature_names, replace with underlines\n",
      "[LightGBM] [Info] Auto-choosing row-wise multi-threading, the overhead of testing was 0.050090 seconds.\n",
      "You can set `force_row_wise=true` to remove the overhead.\n",
      "And if memory is not enough, you can set `force_col_wise=true`.\n",
      "[LightGBM] [Info] Total Bins 23274\n",
      "[LightGBM] [Info] Number of data points in the train set: 10672, number of used features: 1127\n"
     ]
    },
    {
     "name": "stderr",
     "output_type": "stream",
     "text": [
      "/var/folders/d4/0c_l5jkx5_n985zcb0gf1ng00000gn/T/ipykernel_4343/3458071427.py:8: FutureWarning: suggest_uniform has been deprecated in v3.0.0. This feature will be removed in v6.0.0. See https://github.com/optuna/optuna/releases/tag/v3.0.0. Use suggest_float instead.\n",
      "  learning_rate = trial.suggest_uniform('learning_rate', 0.001, 1)\n"
     ]
    },
    {
     "name": "stdout",
     "output_type": "stream",
     "text": [
      "[LightGBM] [Warning] Found whitespace in feature_names, replace with underlines\n",
      "[LightGBM] [Info] Start training from score -0.863102\n",
      "[LightGBM] [Info] Start training from score -0.927078\n",
      "[LightGBM] [Info] Start training from score -2.169593\n",
      "[LightGBM] [Info] Start training from score -2.685078\n",
      "Training until validation scores don't improve for 50 rounds\n"
     ]
    },
    {
     "name": "stderr",
     "output_type": "stream",
     "text": [
      "[I 2024-02-29 00:34:36,823] Trial 15 finished with value: 0.843328335832084 and parameters: {'learning_rate': 0.2814801932854645, 'num_leaves': 14}. Best is trial 7 with value: 0.8463268365817092.\n"
     ]
    },
    {
     "name": "stdout",
     "output_type": "stream",
     "text": [
      "Did not meet early stopping. Best iteration is:\n",
      "[92]\tTrain's multi_logloss: 0.256772\tValid's multi_logloss: 0.470892\n",
      "[LightGBM] [Warning] Found whitespace in feature_names, replace with underlines\n"
     ]
    },
    {
     "name": "stderr",
     "output_type": "stream",
     "text": [
      "/var/folders/d4/0c_l5jkx5_n985zcb0gf1ng00000gn/T/ipykernel_4343/3458071427.py:8: FutureWarning: suggest_uniform has been deprecated in v3.0.0. This feature will be removed in v6.0.0. See https://github.com/optuna/optuna/releases/tag/v3.0.0. Use suggest_float instead.\n",
      "  learning_rate = trial.suggest_uniform('learning_rate', 0.001, 1)\n"
     ]
    },
    {
     "name": "stdout",
     "output_type": "stream",
     "text": [
      "[LightGBM] [Info] Auto-choosing row-wise multi-threading, the overhead of testing was 0.049525 seconds.\n",
      "You can set `force_row_wise=true` to remove the overhead.\n",
      "And if memory is not enough, you can set `force_col_wise=true`.\n",
      "[LightGBM] [Info] Total Bins 23274\n",
      "[LightGBM] [Info] Number of data points in the train set: 10672, number of used features: 1127\n",
      "[LightGBM] [Warning] Found whitespace in feature_names, replace with underlines\n",
      "[LightGBM] [Info] Start training from score -0.863102\n",
      "[LightGBM] [Info] Start training from score -0.927078\n",
      "[LightGBM] [Info] Start training from score -2.169593\n",
      "[LightGBM] [Info] Start training from score -2.685078\n",
      "Training until validation scores don't improve for 50 rounds\n"
     ]
    },
    {
     "name": "stderr",
     "output_type": "stream",
     "text": [
      "[I 2024-02-29 00:34:38,178] Trial 16 finished with value: 0.8500749625187406 and parameters: {'learning_rate': 0.24892054289682974, 'num_leaves': 11}. Best is trial 16 with value: 0.8500749625187406.\n"
     ]
    },
    {
     "name": "stdout",
     "output_type": "stream",
     "text": [
      "Did not meet early stopping. Best iteration is:\n",
      "[100]\tTrain's multi_logloss: 0.30965\tValid's multi_logloss: 0.475105\n",
      "[LightGBM] [Warning] Found whitespace in feature_names, replace with underlines\n"
     ]
    },
    {
     "name": "stderr",
     "output_type": "stream",
     "text": [
      "/var/folders/d4/0c_l5jkx5_n985zcb0gf1ng00000gn/T/ipykernel_4343/3458071427.py:8: FutureWarning: suggest_uniform has been deprecated in v3.0.0. This feature will be removed in v6.0.0. See https://github.com/optuna/optuna/releases/tag/v3.0.0. Use suggest_float instead.\n",
      "  learning_rate = trial.suggest_uniform('learning_rate', 0.001, 1)\n"
     ]
    },
    {
     "name": "stdout",
     "output_type": "stream",
     "text": [
      "[LightGBM] [Info] Auto-choosing row-wise multi-threading, the overhead of testing was 0.049464 seconds.\n",
      "You can set `force_row_wise=true` to remove the overhead.\n",
      "And if memory is not enough, you can set `force_col_wise=true`.\n",
      "[LightGBM] [Info] Total Bins 23274\n",
      "[LightGBM] [Info] Number of data points in the train set: 10672, number of used features: 1127\n",
      "[LightGBM] [Warning] Found whitespace in feature_names, replace with underlines\n",
      "[LightGBM] [Info] Start training from score -0.863102\n",
      "[LightGBM] [Info] Start training from score -0.927078\n",
      "[LightGBM] [Info] Start training from score -2.169593\n",
      "[LightGBM] [Info] Start training from score -2.685078\n",
      "Training until validation scores don't improve for 50 rounds\n"
     ]
    },
    {
     "name": "stderr",
     "output_type": "stream",
     "text": [
      "[I 2024-02-29 00:34:39,441] Trial 17 finished with value: 0.8335832083958021 and parameters: {'learning_rate': 0.14242174464033497, 'num_leaves': 10}. Best is trial 16 with value: 0.8500749625187406.\n"
     ]
    },
    {
     "name": "stdout",
     "output_type": "stream",
     "text": [
      "Did not meet early stopping. Best iteration is:\n",
      "[100]\tTrain's multi_logloss: 0.423055\tValid's multi_logloss: 0.528447\n",
      "[LightGBM] [Warning] Found whitespace in feature_names, replace with underlines\n"
     ]
    },
    {
     "name": "stderr",
     "output_type": "stream",
     "text": [
      "/var/folders/d4/0c_l5jkx5_n985zcb0gf1ng00000gn/T/ipykernel_4343/3458071427.py:8: FutureWarning: suggest_uniform has been deprecated in v3.0.0. This feature will be removed in v6.0.0. See https://github.com/optuna/optuna/releases/tag/v3.0.0. Use suggest_float instead.\n",
      "  learning_rate = trial.suggest_uniform('learning_rate', 0.001, 1)\n"
     ]
    },
    {
     "name": "stdout",
     "output_type": "stream",
     "text": [
      "[LightGBM] [Info] Auto-choosing row-wise multi-threading, the overhead of testing was 0.049569 seconds.\n",
      "You can set `force_row_wise=true` to remove the overhead.\n",
      "And if memory is not enough, you can set `force_col_wise=true`.\n",
      "[LightGBM] [Info] Total Bins 23274\n",
      "[LightGBM] [Info] Number of data points in the train set: 10672, number of used features: 1127\n",
      "[LightGBM] [Warning] Found whitespace in feature_names, replace with underlines\n",
      "[LightGBM] [Info] Start training from score -0.863102\n",
      "[LightGBM] [Info] Start training from score -0.927078\n",
      "[LightGBM] [Info] Start training from score -2.169593\n",
      "[LightGBM] [Info] Start training from score -2.685078\n",
      "Training until validation scores don't improve for 50 rounds\n"
     ]
    },
    {
     "name": "stderr",
     "output_type": "stream",
     "text": [
      "[I 2024-02-29 00:34:40,602] Trial 18 finished with value: 0.841079460269865 and parameters: {'learning_rate': 0.303139833945798, 'num_leaves': 9}. Best is trial 16 with value: 0.8500749625187406.\n"
     ]
    },
    {
     "name": "stdout",
     "output_type": "stream",
     "text": [
      "Did not meet early stopping. Best iteration is:\n",
      "[100]\tTrain's multi_logloss: 0.313827\tValid's multi_logloss: 0.478154\n",
      "[LightGBM] [Warning] Found whitespace in feature_names, replace with underlines\n"
     ]
    },
    {
     "name": "stderr",
     "output_type": "stream",
     "text": [
      "/var/folders/d4/0c_l5jkx5_n985zcb0gf1ng00000gn/T/ipykernel_4343/3458071427.py:8: FutureWarning: suggest_uniform has been deprecated in v3.0.0. This feature will be removed in v6.0.0. See https://github.com/optuna/optuna/releases/tag/v3.0.0. Use suggest_float instead.\n",
      "  learning_rate = trial.suggest_uniform('learning_rate', 0.001, 1)\n"
     ]
    },
    {
     "name": "stdout",
     "output_type": "stream",
     "text": [
      "[LightGBM] [Info] Auto-choosing row-wise multi-threading, the overhead of testing was 0.049145 seconds.\n",
      "You can set `force_row_wise=true` to remove the overhead.\n",
      "And if memory is not enough, you can set `force_col_wise=true`.\n",
      "[LightGBM] [Info] Total Bins 23274\n",
      "[LightGBM] [Info] Number of data points in the train set: 10672, number of used features: 1127\n",
      "[LightGBM] [Warning] Found whitespace in feature_names, replace with underlines\n",
      "[LightGBM] [Info] Start training from score -0.863102\n",
      "[LightGBM] [Info] Start training from score -0.927078\n",
      "[LightGBM] [Info] Start training from score -2.169593\n",
      "[LightGBM] [Info] Start training from score -2.685078\n",
      "Training until validation scores don't improve for 50 rounds\n"
     ]
    },
    {
     "name": "stderr",
     "output_type": "stream",
     "text": [
      "[I 2024-02-29 00:34:43,442] Trial 19 finished with value: 0.8418290854572713 and parameters: {'learning_rate': 0.10140864971070088, 'num_leaves': 26}. Best is trial 16 with value: 0.8500749625187406.\n"
     ]
    },
    {
     "name": "stdout",
     "output_type": "stream",
     "text": [
      "Did not meet early stopping. Best iteration is:\n",
      "[100]\tTrain's multi_logloss: 0.300159\tValid's multi_logloss: 0.473474\n",
      "[LightGBM] [Warning] Found whitespace in feature_names, replace with underlines\n"
     ]
    },
    {
     "name": "stderr",
     "output_type": "stream",
     "text": [
      "/var/folders/d4/0c_l5jkx5_n985zcb0gf1ng00000gn/T/ipykernel_4343/3458071427.py:8: FutureWarning: suggest_uniform has been deprecated in v3.0.0. This feature will be removed in v6.0.0. See https://github.com/optuna/optuna/releases/tag/v3.0.0. Use suggest_float instead.\n",
      "  learning_rate = trial.suggest_uniform('learning_rate', 0.001, 1)\n"
     ]
    },
    {
     "name": "stdout",
     "output_type": "stream",
     "text": [
      "[LightGBM] [Info] Auto-choosing col-wise multi-threading, the overhead of testing was 0.048117 seconds.\n",
      "You can set `force_col_wise=true` to remove the overhead.\n",
      "[LightGBM] [Info] Total Bins 23274\n",
      "[LightGBM] [Info] Number of data points in the train set: 10672, number of used features: 1127\n",
      "[LightGBM] [Warning] Found whitespace in feature_names, replace with underlines\n",
      "[LightGBM] [Info] Start training from score -0.863102\n",
      "[LightGBM] [Info] Start training from score -0.927078\n",
      "[LightGBM] [Info] Start training from score -2.169593\n",
      "[LightGBM] [Info] Start training from score -2.685078\n",
      "Training until validation scores don't improve for 50 rounds\n"
     ]
    },
    {
     "name": "stderr",
     "output_type": "stream",
     "text": [
      "[I 2024-02-29 00:34:46,138] Trial 20 finished with value: 0.8418290854572713 and parameters: {'learning_rate': 0.22625893513679257, 'num_leaves': 25}. Best is trial 16 with value: 0.8500749625187406.\n"
     ]
    },
    {
     "name": "stdout",
     "output_type": "stream",
     "text": [
      "Did not meet early stopping. Best iteration is:\n",
      "[69]\tTrain's multi_logloss: 0.233947\tValid's multi_logloss: 0.465548\n",
      "[LightGBM] [Warning] Found whitespace in feature_names, replace with underlines\n"
     ]
    },
    {
     "name": "stderr",
     "output_type": "stream",
     "text": [
      "/var/folders/d4/0c_l5jkx5_n985zcb0gf1ng00000gn/T/ipykernel_4343/3458071427.py:8: FutureWarning: suggest_uniform has been deprecated in v3.0.0. This feature will be removed in v6.0.0. See https://github.com/optuna/optuna/releases/tag/v3.0.0. Use suggest_float instead.\n",
      "  learning_rate = trial.suggest_uniform('learning_rate', 0.001, 1)\n"
     ]
    },
    {
     "name": "stdout",
     "output_type": "stream",
     "text": [
      "[LightGBM] [Info] Auto-choosing col-wise multi-threading, the overhead of testing was 0.049232 seconds.\n",
      "You can set `force_col_wise=true` to remove the overhead.\n",
      "[LightGBM] [Info] Total Bins 23274\n",
      "[LightGBM] [Info] Number of data points in the train set: 10672, number of used features: 1127\n",
      "[LightGBM] [Warning] Found whitespace in feature_names, replace with underlines\n",
      "[LightGBM] [Info] Start training from score -0.863102\n",
      "[LightGBM] [Info] Start training from score -0.927078\n",
      "[LightGBM] [Info] Start training from score -2.169593\n",
      "[LightGBM] [Info] Start training from score -2.685078\n",
      "Training until validation scores don't improve for 50 rounds\n"
     ]
    },
    {
     "name": "stderr",
     "output_type": "stream",
     "text": [
      "[I 2024-02-29 00:34:47,784] Trial 21 finished with value: 0.843328335832084 and parameters: {'learning_rate': 0.29512412007329214, 'num_leaves': 14}. Best is trial 16 with value: 0.8500749625187406.\n"
     ]
    },
    {
     "name": "stdout",
     "output_type": "stream",
     "text": [
      "Did not meet early stopping. Best iteration is:\n",
      "[91]\tTrain's multi_logloss: 0.250786\tValid's multi_logloss: 0.470105\n",
      "[LightGBM] [Warning] Found whitespace in feature_names, replace with underlines\n"
     ]
    },
    {
     "name": "stderr",
     "output_type": "stream",
     "text": [
      "/var/folders/d4/0c_l5jkx5_n985zcb0gf1ng00000gn/T/ipykernel_4343/3458071427.py:8: FutureWarning: suggest_uniform has been deprecated in v3.0.0. This feature will be removed in v6.0.0. See https://github.com/optuna/optuna/releases/tag/v3.0.0. Use suggest_float instead.\n",
      "  learning_rate = trial.suggest_uniform('learning_rate', 0.001, 1)\n"
     ]
    },
    {
     "name": "stdout",
     "output_type": "stream",
     "text": [
      "[LightGBM] [Info] Auto-choosing row-wise multi-threading, the overhead of testing was 0.049177 seconds.\n",
      "You can set `force_row_wise=true` to remove the overhead.\n",
      "And if memory is not enough, you can set `force_col_wise=true`.\n",
      "[LightGBM] [Info] Total Bins 23274\n",
      "[LightGBM] [Info] Number of data points in the train set: 10672, number of used features: 1127\n",
      "[LightGBM] [Warning] Found whitespace in feature_names, replace with underlines\n",
      "[LightGBM] [Info] Start training from score -0.863102\n",
      "[LightGBM] [Info] Start training from score -0.927078\n",
      "[LightGBM] [Info] Start training from score -2.169593\n",
      "[LightGBM] [Info] Start training from score -2.685078\n",
      "Training until validation scores don't improve for 50 rounds\n"
     ]
    },
    {
     "name": "stderr",
     "output_type": "stream",
     "text": [
      "[I 2024-02-29 00:34:49,510] Trial 22 finished with value: 0.8395802098950524 and parameters: {'learning_rate': 0.3482857970660862, 'num_leaves': 15}. Best is trial 16 with value: 0.8500749625187406.\n"
     ]
    },
    {
     "name": "stdout",
     "output_type": "stream",
     "text": [
      "Did not meet early stopping. Best iteration is:\n",
      "[65]\tTrain's multi_logloss: 0.263361\tValid's multi_logloss: 0.467013\n",
      "[LightGBM] [Warning] Found whitespace in feature_names, replace with underlines\n"
     ]
    },
    {
     "name": "stderr",
     "output_type": "stream",
     "text": [
      "/var/folders/d4/0c_l5jkx5_n985zcb0gf1ng00000gn/T/ipykernel_4343/3458071427.py:8: FutureWarning: suggest_uniform has been deprecated in v3.0.0. This feature will be removed in v6.0.0. See https://github.com/optuna/optuna/releases/tag/v3.0.0. Use suggest_float instead.\n",
      "  learning_rate = trial.suggest_uniform('learning_rate', 0.001, 1)\n"
     ]
    },
    {
     "name": "stdout",
     "output_type": "stream",
     "text": [
      "[LightGBM] [Info] Auto-choosing row-wise multi-threading, the overhead of testing was 0.050033 seconds.\n",
      "You can set `force_row_wise=true` to remove the overhead.\n",
      "And if memory is not enough, you can set `force_col_wise=true`.\n",
      "[LightGBM] [Info] Total Bins 23274\n",
      "[LightGBM] [Info] Number of data points in the train set: 10672, number of used features: 1127\n",
      "[LightGBM] [Warning] Found whitespace in feature_names, replace with underlines\n",
      "[LightGBM] [Info] Start training from score -0.863102\n",
      "[LightGBM] [Info] Start training from score -0.927078\n",
      "[LightGBM] [Info] Start training from score -2.169593\n",
      "[LightGBM] [Info] Start training from score -2.685078\n",
      "Training until validation scores don't improve for 50 rounds\n"
     ]
    },
    {
     "name": "stderr",
     "output_type": "stream",
     "text": [
      "[I 2024-02-29 00:34:50,579] Trial 23 finished with value: 0.8395802098950524 and parameters: {'learning_rate': 0.22244543219869614, 'num_leaves': 8}. Best is trial 16 with value: 0.8500749625187406.\n"
     ]
    },
    {
     "name": "stdout",
     "output_type": "stream",
     "text": [
      "Did not meet early stopping. Best iteration is:\n",
      "[100]\tTrain's multi_logloss: 0.39082\tValid's multi_logloss: 0.513797\n",
      "[LightGBM] [Warning] Found whitespace in feature_names, replace with underlines\n"
     ]
    },
    {
     "name": "stderr",
     "output_type": "stream",
     "text": [
      "/var/folders/d4/0c_l5jkx5_n985zcb0gf1ng00000gn/T/ipykernel_4343/3458071427.py:8: FutureWarning: suggest_uniform has been deprecated in v3.0.0. This feature will be removed in v6.0.0. See https://github.com/optuna/optuna/releases/tag/v3.0.0. Use suggest_float instead.\n",
      "  learning_rate = trial.suggest_uniform('learning_rate', 0.001, 1)\n"
     ]
    },
    {
     "name": "stdout",
     "output_type": "stream",
     "text": [
      "[LightGBM] [Info] Auto-choosing row-wise multi-threading, the overhead of testing was 0.049443 seconds.\n",
      "You can set `force_row_wise=true` to remove the overhead.\n",
      "And if memory is not enough, you can set `force_col_wise=true`.\n",
      "[LightGBM] [Info] Total Bins 23274\n",
      "[LightGBM] [Info] Number of data points in the train set: 10672, number of used features: 1127\n",
      "[LightGBM] [Warning] Found whitespace in feature_names, replace with underlines\n",
      "[LightGBM] [Info] Start training from score -0.863102\n",
      "[LightGBM] [Info] Start training from score -0.927078\n",
      "[LightGBM] [Info] Start training from score -2.169593\n",
      "[LightGBM] [Info] Start training from score -2.685078\n",
      "Training until validation scores don't improve for 50 rounds\n"
     ]
    },
    {
     "name": "stderr",
     "output_type": "stream",
     "text": [
      "[I 2024-02-29 00:34:52,511] Trial 24 finished with value: 0.8418290854572713 and parameters: {'learning_rate': 0.22527969060066338, 'num_leaves': 17}. Best is trial 16 with value: 0.8500749625187406.\n"
     ]
    },
    {
     "name": "stdout",
     "output_type": "stream",
     "text": [
      "Did not meet early stopping. Best iteration is:\n",
      "[96]\tTrain's multi_logloss: 0.250253\tValid's multi_logloss: 0.468045\n",
      "[LightGBM] [Warning] Found whitespace in feature_names, replace with underlines\n"
     ]
    },
    {
     "name": "stderr",
     "output_type": "stream",
     "text": [
      "/var/folders/d4/0c_l5jkx5_n985zcb0gf1ng00000gn/T/ipykernel_4343/3458071427.py:8: FutureWarning: suggest_uniform has been deprecated in v3.0.0. This feature will be removed in v6.0.0. See https://github.com/optuna/optuna/releases/tag/v3.0.0. Use suggest_float instead.\n",
      "  learning_rate = trial.suggest_uniform('learning_rate', 0.001, 1)\n"
     ]
    },
    {
     "name": "stdout",
     "output_type": "stream",
     "text": [
      "[LightGBM] [Info] Auto-choosing row-wise multi-threading, the overhead of testing was 0.048801 seconds.\n",
      "You can set `force_row_wise=true` to remove the overhead.\n",
      "And if memory is not enough, you can set `force_col_wise=true`.\n",
      "[LightGBM] [Info] Total Bins 23274\n",
      "[LightGBM] [Info] Number of data points in the train set: 10672, number of used features: 1127\n",
      "[LightGBM] [Warning] Found whitespace in feature_names, replace with underlines\n",
      "[LightGBM] [Info] Start training from score -0.863102\n",
      "[LightGBM] [Info] Start training from score -0.927078\n",
      "[LightGBM] [Info] Start training from score -2.169593\n",
      "[LightGBM] [Info] Start training from score -2.685078\n",
      "Training until validation scores don't improve for 50 rounds\n"
     ]
    },
    {
     "name": "stderr",
     "output_type": "stream",
     "text": [
      "[I 2024-02-29 00:34:55,159] Trial 25 finished with value: 0.7338830584707646 and parameters: {'learning_rate': 0.006465855835407597, 'num_leaves': 24}. Best is trial 16 with value: 0.8500749625187406.\n"
     ]
    },
    {
     "name": "stdout",
     "output_type": "stream",
     "text": [
      "Did not meet early stopping. Best iteration is:\n",
      "[100]\tTrain's multi_logloss: 0.835465\tValid's multi_logloss: 0.854749\n",
      "[LightGBM] [Warning] Found whitespace in feature_names, replace with underlines\n"
     ]
    },
    {
     "name": "stderr",
     "output_type": "stream",
     "text": [
      "/var/folders/d4/0c_l5jkx5_n985zcb0gf1ng00000gn/T/ipykernel_4343/3458071427.py:8: FutureWarning: suggest_uniform has been deprecated in v3.0.0. This feature will be removed in v6.0.0. See https://github.com/optuna/optuna/releases/tag/v3.0.0. Use suggest_float instead.\n",
      "  learning_rate = trial.suggest_uniform('learning_rate', 0.001, 1)\n"
     ]
    },
    {
     "name": "stdout",
     "output_type": "stream",
     "text": [
      "[LightGBM] [Info] Auto-choosing col-wise multi-threading, the overhead of testing was 0.048982 seconds.\n",
      "You can set `force_col_wise=true` to remove the overhead.\n",
      "[LightGBM] [Info] Total Bins 23274\n",
      "[LightGBM] [Info] Number of data points in the train set: 10672, number of used features: 1127\n",
      "[LightGBM] [Warning] Found whitespace in feature_names, replace with underlines\n",
      "[LightGBM] [Info] Start training from score -0.863102\n",
      "[LightGBM] [Info] Start training from score -0.927078\n",
      "[LightGBM] [Info] Start training from score -2.169593\n",
      "[LightGBM] [Info] Start training from score -2.685078\n",
      "Training until validation scores don't improve for 50 rounds\n"
     ]
    },
    {
     "name": "stderr",
     "output_type": "stream",
     "text": [
      "[I 2024-02-29 00:34:56,496] Trial 26 finished with value: 0.8343328335832084 and parameters: {'learning_rate': 0.583643926812361, 'num_leaves': 11}. Best is trial 16 with value: 0.8500749625187406.\n"
     ]
    },
    {
     "name": "stdout",
     "output_type": "stream",
     "text": [
      "Did not meet early stopping. Best iteration is:\n",
      "[78]\tTrain's multi_logloss: 0.201041\tValid's multi_logloss: 0.484161\n",
      "[LightGBM] [Warning] Found whitespace in feature_names, replace with underlines\n"
     ]
    },
    {
     "name": "stderr",
     "output_type": "stream",
     "text": [
      "/var/folders/d4/0c_l5jkx5_n985zcb0gf1ng00000gn/T/ipykernel_4343/3458071427.py:8: FutureWarning: suggest_uniform has been deprecated in v3.0.0. This feature will be removed in v6.0.0. See https://github.com/optuna/optuna/releases/tag/v3.0.0. Use suggest_float instead.\n",
      "  learning_rate = trial.suggest_uniform('learning_rate', 0.001, 1)\n"
     ]
    },
    {
     "name": "stdout",
     "output_type": "stream",
     "text": [
      "[LightGBM] [Info] Auto-choosing row-wise multi-threading, the overhead of testing was 0.049093 seconds.\n",
      "You can set `force_row_wise=true` to remove the overhead.\n",
      "And if memory is not enough, you can set `force_col_wise=true`.\n",
      "[LightGBM] [Info] Total Bins 23274\n",
      "[LightGBM] [Info] Number of data points in the train set: 10672, number of used features: 1127\n",
      "[LightGBM] [Warning] Found whitespace in feature_names, replace with underlines\n",
      "[LightGBM] [Info] Start training from score -0.863102\n",
      "[LightGBM] [Info] Start training from score -0.927078\n",
      "[LightGBM] [Info] Start training from score -2.169593\n",
      "[LightGBM] [Info] Start training from score -2.685078\n",
      "Training until validation scores don't improve for 50 rounds\n"
     ]
    },
    {
     "name": "stderr",
     "output_type": "stream",
     "text": [
      "[I 2024-02-29 00:34:59,178] Trial 27 finished with value: 0.841079460269865 and parameters: {'learning_rate': 0.4015550137123619, 'num_leaves': 34}. Best is trial 16 with value: 0.8500749625187406.\n"
     ]
    },
    {
     "name": "stdout",
     "output_type": "stream",
     "text": [
      "Early stopping, best iteration is:\n",
      "[25]\tTrain's multi_logloss: 0.246923\tValid's multi_logloss: 0.469456\n",
      "[LightGBM] [Warning] Found whitespace in feature_names, replace with underlines\n"
     ]
    },
    {
     "name": "stderr",
     "output_type": "stream",
     "text": [
      "/var/folders/d4/0c_l5jkx5_n985zcb0gf1ng00000gn/T/ipykernel_4343/3458071427.py:8: FutureWarning: suggest_uniform has been deprecated in v3.0.0. This feature will be removed in v6.0.0. See https://github.com/optuna/optuna/releases/tag/v3.0.0. Use suggest_float instead.\n",
      "  learning_rate = trial.suggest_uniform('learning_rate', 0.001, 1)\n"
     ]
    },
    {
     "name": "stdout",
     "output_type": "stream",
     "text": [
      "[LightGBM] [Info] Auto-choosing row-wise multi-threading, the overhead of testing was 0.050565 seconds.\n",
      "You can set `force_row_wise=true` to remove the overhead.\n",
      "And if memory is not enough, you can set `force_col_wise=true`.\n",
      "[LightGBM] [Info] Total Bins 23274\n",
      "[LightGBM] [Info] Number of data points in the train set: 10672, number of used features: 1127\n",
      "[LightGBM] [Warning] Found whitespace in feature_names, replace with underlines\n",
      "[LightGBM] [Info] Start training from score -0.863102\n",
      "[LightGBM] [Info] Start training from score -0.927078\n",
      "[LightGBM] [Info] Start training from score -2.169593\n",
      "[LightGBM] [Info] Start training from score -2.685078\n",
      "Training until validation scores don't improve for 50 rounds\n"
     ]
    },
    {
     "name": "stderr",
     "output_type": "stream",
     "text": [
      "[I 2024-02-29 00:35:01,722] Trial 28 finished with value: 0.8373313343328336 and parameters: {'learning_rate': 0.15235338246818092, 'num_leaves': 23}. Best is trial 16 with value: 0.8500749625187406.\n"
     ]
    },
    {
     "name": "stdout",
     "output_type": "stream",
     "text": [
      "Did not meet early stopping. Best iteration is:\n",
      "[100]\tTrain's multi_logloss: 0.254071\tValid's multi_logloss: 0.462492\n",
      "[LightGBM] [Warning] Found whitespace in feature_names, replace with underlines\n"
     ]
    },
    {
     "name": "stderr",
     "output_type": "stream",
     "text": [
      "/var/folders/d4/0c_l5jkx5_n985zcb0gf1ng00000gn/T/ipykernel_4343/3458071427.py:8: FutureWarning: suggest_uniform has been deprecated in v3.0.0. This feature will be removed in v6.0.0. See https://github.com/optuna/optuna/releases/tag/v3.0.0. Use suggest_float instead.\n",
      "  learning_rate = trial.suggest_uniform('learning_rate', 0.001, 1)\n"
     ]
    },
    {
     "name": "stdout",
     "output_type": "stream",
     "text": [
      "[LightGBM] [Info] Auto-choosing row-wise multi-threading, the overhead of testing was 0.049073 seconds.\n",
      "You can set `force_row_wise=true` to remove the overhead.\n",
      "And if memory is not enough, you can set `force_col_wise=true`.\n",
      "[LightGBM] [Info] Total Bins 23274\n",
      "[LightGBM] [Info] Number of data points in the train set: 10672, number of used features: 1127\n",
      "[LightGBM] [Warning] Found whitespace in feature_names, replace with underlines\n",
      "[LightGBM] [Info] Start training from score -0.863102\n",
      "[LightGBM] [Info] Start training from score -0.927078\n",
      "[LightGBM] [Info] Start training from score -2.169593\n",
      "[LightGBM] [Info] Start training from score -2.685078\n",
      "Training until validation scores don't improve for 50 rounds\n"
     ]
    },
    {
     "name": "stderr",
     "output_type": "stream",
     "text": [
      "[I 2024-02-29 00:35:03,531] Trial 29 finished with value: 0.8380809595202399 and parameters: {'learning_rate': 0.5038242079076705, 'num_leaves': 16}. Best is trial 16 with value: 0.8500749625187406.\n"
     ]
    },
    {
     "name": "stdout",
     "output_type": "stream",
     "text": [
      "Did not meet early stopping. Best iteration is:\n",
      "[53]\tTrain's multi_logloss: 0.220724\tValid's multi_logloss: 0.472976\n",
      "[LightGBM] [Warning] Found whitespace in feature_names, replace with underlines\n"
     ]
    },
    {
     "name": "stderr",
     "output_type": "stream",
     "text": [
      "/var/folders/d4/0c_l5jkx5_n985zcb0gf1ng00000gn/T/ipykernel_4343/3458071427.py:8: FutureWarning: suggest_uniform has been deprecated in v3.0.0. This feature will be removed in v6.0.0. See https://github.com/optuna/optuna/releases/tag/v3.0.0. Use suggest_float instead.\n",
      "  learning_rate = trial.suggest_uniform('learning_rate', 0.001, 1)\n"
     ]
    },
    {
     "name": "stdout",
     "output_type": "stream",
     "text": [
      "[LightGBM] [Info] Auto-choosing row-wise multi-threading, the overhead of testing was 0.049142 seconds.\n",
      "You can set `force_row_wise=true` to remove the overhead.\n",
      "And if memory is not enough, you can set `force_col_wise=true`.\n",
      "[LightGBM] [Info] Total Bins 23274\n",
      "[LightGBM] [Info] Number of data points in the train set: 10672, number of used features: 1127\n",
      "[LightGBM] [Warning] Found whitespace in feature_names, replace with underlines\n",
      "[LightGBM] [Info] Start training from score -0.863102\n",
      "[LightGBM] [Info] Start training from score -0.927078\n",
      "[LightGBM] [Info] Start training from score -2.169593\n",
      "[LightGBM] [Info] Start training from score -2.685078\n",
      "Training until validation scores don't improve for 50 rounds\n"
     ]
    },
    {
     "name": "stderr",
     "output_type": "stream",
     "text": [
      "[I 2024-02-29 00:35:04,497] Trial 30 finished with value: 0.8440779610194903 and parameters: {'learning_rate': 0.3534412886086051, 'num_leaves': 7}. Best is trial 16 with value: 0.8500749625187406.\n"
     ]
    },
    {
     "name": "stdout",
     "output_type": "stream",
     "text": [
      "Did not meet early stopping. Best iteration is:\n",
      "[98]\tTrain's multi_logloss: 0.34151\tValid's multi_logloss: 0.488078\n",
      "[LightGBM] [Warning] Found whitespace in feature_names, replace with underlines\n"
     ]
    },
    {
     "name": "stderr",
     "output_type": "stream",
     "text": [
      "/var/folders/d4/0c_l5jkx5_n985zcb0gf1ng00000gn/T/ipykernel_4343/3458071427.py:8: FutureWarning: suggest_uniform has been deprecated in v3.0.0. This feature will be removed in v6.0.0. See https://github.com/optuna/optuna/releases/tag/v3.0.0. Use suggest_float instead.\n",
      "  learning_rate = trial.suggest_uniform('learning_rate', 0.001, 1)\n"
     ]
    },
    {
     "name": "stdout",
     "output_type": "stream",
     "text": [
      "[LightGBM] [Info] Auto-choosing row-wise multi-threading, the overhead of testing was 0.049482 seconds.\n",
      "You can set `force_row_wise=true` to remove the overhead.\n",
      "And if memory is not enough, you can set `force_col_wise=true`.\n",
      "[LightGBM] [Info] Total Bins 23274\n",
      "[LightGBM] [Info] Number of data points in the train set: 10672, number of used features: 1127\n",
      "[LightGBM] [Warning] Found whitespace in feature_names, replace with underlines\n",
      "[LightGBM] [Info] Start training from score -0.863102\n",
      "[LightGBM] [Info] Start training from score -0.927078\n",
      "[LightGBM] [Info] Start training from score -2.169593\n",
      "[LightGBM] [Info] Start training from score -2.685078\n",
      "Training until validation scores don't improve for 50 rounds\n"
     ]
    },
    {
     "name": "stderr",
     "output_type": "stream",
     "text": [
      "[I 2024-02-29 00:35:05,464] Trial 31 finished with value: 0.8418290854572713 and parameters: {'learning_rate': 0.3569259244979443, 'num_leaves': 7}. Best is trial 16 with value: 0.8500749625187406.\n"
     ]
    },
    {
     "name": "stdout",
     "output_type": "stream",
     "text": [
      "Did not meet early stopping. Best iteration is:\n",
      "[100]\tTrain's multi_logloss: 0.335\tValid's multi_logloss: 0.48824\n",
      "[LightGBM] [Warning] Found whitespace in feature_names, replace with underlines\n"
     ]
    },
    {
     "name": "stderr",
     "output_type": "stream",
     "text": [
      "/var/folders/d4/0c_l5jkx5_n985zcb0gf1ng00000gn/T/ipykernel_4343/3458071427.py:8: FutureWarning: suggest_uniform has been deprecated in v3.0.0. This feature will be removed in v6.0.0. See https://github.com/optuna/optuna/releases/tag/v3.0.0. Use suggest_float instead.\n",
      "  learning_rate = trial.suggest_uniform('learning_rate', 0.001, 1)\n"
     ]
    },
    {
     "name": "stdout",
     "output_type": "stream",
     "text": [
      "[LightGBM] [Info] Auto-choosing row-wise multi-threading, the overhead of testing was 0.049540 seconds.\n",
      "You can set `force_row_wise=true` to remove the overhead.\n",
      "And if memory is not enough, you can set `force_col_wise=true`.\n",
      "[LightGBM] [Info] Total Bins 23274\n",
      "[LightGBM] [Info] Number of data points in the train set: 10672, number of used features: 1127\n",
      "[LightGBM] [Warning] Found whitespace in feature_names, replace with underlines\n",
      "[LightGBM] [Info] Start training from score -0.863102\n",
      "[LightGBM] [Info] Start training from score -0.927078\n",
      "[LightGBM] [Info] Start training from score -2.169593\n",
      "[LightGBM] [Info] Start training from score -2.685078\n",
      "Training until validation scores don't improve for 50 rounds\n"
     ]
    },
    {
     "name": "stderr",
     "output_type": "stream",
     "text": [
      "[I 2024-02-29 00:35:07,076] Trial 32 finished with value: 0.841079460269865 and parameters: {'learning_rate': 0.28774769509977394, 'num_leaves': 13}. Best is trial 16 with value: 0.8500749625187406.\n"
     ]
    },
    {
     "name": "stdout",
     "output_type": "stream",
     "text": [
      "Did not meet early stopping. Best iteration is:\n",
      "[99]\tTrain's multi_logloss: 0.255324\tValid's multi_logloss: 0.464314\n",
      "[LightGBM] [Warning] Found whitespace in feature_names, replace with underlines\n"
     ]
    },
    {
     "name": "stderr",
     "output_type": "stream",
     "text": [
      "/var/folders/d4/0c_l5jkx5_n985zcb0gf1ng00000gn/T/ipykernel_4343/3458071427.py:8: FutureWarning: suggest_uniform has been deprecated in v3.0.0. This feature will be removed in v6.0.0. See https://github.com/optuna/optuna/releases/tag/v3.0.0. Use suggest_float instead.\n",
      "  learning_rate = trial.suggest_uniform('learning_rate', 0.001, 1)\n"
     ]
    },
    {
     "name": "stdout",
     "output_type": "stream",
     "text": [
      "[LightGBM] [Info] Auto-choosing col-wise multi-threading, the overhead of testing was 0.047746 seconds.\n",
      "You can set `force_col_wise=true` to remove the overhead.\n",
      "[LightGBM] [Info] Total Bins 23274\n",
      "[LightGBM] [Info] Number of data points in the train set: 10672, number of used features: 1127\n",
      "[LightGBM] [Warning] Found whitespace in feature_names, replace with underlines\n",
      "[LightGBM] [Info] Start training from score -0.863102\n",
      "[LightGBM] [Info] Start training from score -0.927078\n",
      "[LightGBM] [Info] Start training from score -2.169593\n",
      "[LightGBM] [Info] Start training from score -2.685078\n",
      "Training until validation scores don't improve for 50 rounds\n"
     ]
    },
    {
     "name": "stderr",
     "output_type": "stream",
     "text": [
      "[I 2024-02-29 00:35:08,449] Trial 33 finished with value: 0.8178410794602698 and parameters: {'learning_rate': 0.0982582104656298, 'num_leaves': 11}. Best is trial 16 with value: 0.8500749625187406.\n"
     ]
    },
    {
     "name": "stdout",
     "output_type": "stream",
     "text": [
      "Did not meet early stopping. Best iteration is:\n",
      "[100]\tTrain's multi_logloss: 0.468918\tValid's multi_logloss: 0.560632\n",
      "[LightGBM] [Warning] Found whitespace in feature_names, replace with underlines\n"
     ]
    },
    {
     "name": "stderr",
     "output_type": "stream",
     "text": [
      "/var/folders/d4/0c_l5jkx5_n985zcb0gf1ng00000gn/T/ipykernel_4343/3458071427.py:8: FutureWarning: suggest_uniform has been deprecated in v3.0.0. This feature will be removed in v6.0.0. See https://github.com/optuna/optuna/releases/tag/v3.0.0. Use suggest_float instead.\n",
      "  learning_rate = trial.suggest_uniform('learning_rate', 0.001, 1)\n"
     ]
    },
    {
     "name": "stdout",
     "output_type": "stream",
     "text": [
      "[LightGBM] [Info] Auto-choosing row-wise multi-threading, the overhead of testing was 0.050708 seconds.\n",
      "You can set `force_row_wise=true` to remove the overhead.\n",
      "And if memory is not enough, you can set `force_col_wise=true`.\n",
      "[LightGBM] [Info] Total Bins 23274\n",
      "[LightGBM] [Info] Number of data points in the train set: 10672, number of used features: 1127\n",
      "[LightGBM] [Warning] Found whitespace in feature_names, replace with underlines\n",
      "[LightGBM] [Info] Start training from score -0.863102\n",
      "[LightGBM] [Info] Start training from score -0.927078\n",
      "[LightGBM] [Info] Start training from score -2.169593\n",
      "[LightGBM] [Info] Start training from score -2.685078\n",
      "Training until validation scores don't improve for 50 rounds\n"
     ]
    },
    {
     "name": "stderr",
     "output_type": "stream",
     "text": [
      "[I 2024-02-29 00:35:09,518] Trial 34 finished with value: 0.8343328335832084 and parameters: {'learning_rate': 0.2505608882406764, 'num_leaves': 8}. Best is trial 16 with value: 0.8500749625187406.\n"
     ]
    },
    {
     "name": "stdout",
     "output_type": "stream",
     "text": [
      "Did not meet early stopping. Best iteration is:\n",
      "[100]\tTrain's multi_logloss: 0.369462\tValid's multi_logloss: 0.503513\n",
      "[LightGBM] [Warning] Found whitespace in feature_names, replace with underlines\n"
     ]
    },
    {
     "name": "stderr",
     "output_type": "stream",
     "text": [
      "/var/folders/d4/0c_l5jkx5_n985zcb0gf1ng00000gn/T/ipykernel_4343/3458071427.py:8: FutureWarning: suggest_uniform has been deprecated in v3.0.0. This feature will be removed in v6.0.0. See https://github.com/optuna/optuna/releases/tag/v3.0.0. Use suggest_float instead.\n",
      "  learning_rate = trial.suggest_uniform('learning_rate', 0.001, 1)\n"
     ]
    },
    {
     "name": "stdout",
     "output_type": "stream",
     "text": [
      "[LightGBM] [Info] Auto-choosing row-wise multi-threading, the overhead of testing was 0.050215 seconds.\n",
      "You can set `force_row_wise=true` to remove the overhead.\n",
      "And if memory is not enough, you can set `force_col_wise=true`.\n",
      "[LightGBM] [Info] Total Bins 23274\n",
      "[LightGBM] [Info] Number of data points in the train set: 10672, number of used features: 1127\n",
      "[LightGBM] [Warning] Found whitespace in feature_names, replace with underlines\n",
      "[LightGBM] [Info] Start training from score -0.863102\n",
      "[LightGBM] [Info] Start training from score -0.927078\n",
      "[LightGBM] [Info] Start training from score -2.169593\n",
      "[LightGBM] [Info] Start training from score -2.685078\n",
      "Training until validation scores don't improve for 50 rounds\n"
     ]
    },
    {
     "name": "stderr",
     "output_type": "stream",
     "text": [
      "[I 2024-02-29 00:35:13,899] Trial 35 finished with value: 0.8373313343328336 and parameters: {'learning_rate': 0.1715826540879795, 'num_leaves': 44}. Best is trial 16 with value: 0.8500749625187406.\n"
     ]
    },
    {
     "name": "stdout",
     "output_type": "stream",
     "text": [
      "Early stopping, best iteration is:\n",
      "[48]\tTrain's multi_logloss: 0.237939\tValid's multi_logloss: 0.464874\n",
      "[LightGBM] [Warning] Found whitespace in feature_names, replace with underlines\n"
     ]
    },
    {
     "name": "stderr",
     "output_type": "stream",
     "text": [
      "/var/folders/d4/0c_l5jkx5_n985zcb0gf1ng00000gn/T/ipykernel_4343/3458071427.py:8: FutureWarning: suggest_uniform has been deprecated in v3.0.0. This feature will be removed in v6.0.0. See https://github.com/optuna/optuna/releases/tag/v3.0.0. Use suggest_float instead.\n",
      "  learning_rate = trial.suggest_uniform('learning_rate', 0.001, 1)\n"
     ]
    },
    {
     "name": "stdout",
     "output_type": "stream",
     "text": [
      "[LightGBM] [Info] Auto-choosing col-wise multi-threading, the overhead of testing was 0.047546 seconds.\n",
      "You can set `force_col_wise=true` to remove the overhead.\n",
      "[LightGBM] [Info] Total Bins 23274\n",
      "[LightGBM] [Info] Number of data points in the train set: 10672, number of used features: 1127\n",
      "[LightGBM] [Warning] Found whitespace in feature_names, replace with underlines\n",
      "[LightGBM] [Info] Start training from score -0.863102\n",
      "[LightGBM] [Info] Start training from score -0.927078\n",
      "[LightGBM] [Info] Start training from score -2.169593\n",
      "[LightGBM] [Info] Start training from score -2.685078\n",
      "Training until validation scores don't improve for 50 rounds\n"
     ]
    },
    {
     "name": "stderr",
     "output_type": "stream",
     "text": [
      "[I 2024-02-29 00:35:15,343] Trial 36 finished with value: 0.8388305847076462 and parameters: {'learning_rate': 0.3655493876427473, 'num_leaves': 12}. Best is trial 16 with value: 0.8500749625187406.\n"
     ]
    },
    {
     "name": "stdout",
     "output_type": "stream",
     "text": [
      "Did not meet early stopping. Best iteration is:\n",
      "[87]\tTrain's multi_logloss: 0.250591\tValid's multi_logloss: 0.46883\n",
      "[LightGBM] [Warning] Found whitespace in feature_names, replace with underlines\n"
     ]
    },
    {
     "name": "stderr",
     "output_type": "stream",
     "text": [
      "/var/folders/d4/0c_l5jkx5_n985zcb0gf1ng00000gn/T/ipykernel_4343/3458071427.py:8: FutureWarning: suggest_uniform has been deprecated in v3.0.0. This feature will be removed in v6.0.0. See https://github.com/optuna/optuna/releases/tag/v3.0.0. Use suggest_float instead.\n",
      "  learning_rate = trial.suggest_uniform('learning_rate', 0.001, 1)\n"
     ]
    },
    {
     "name": "stdout",
     "output_type": "stream",
     "text": [
      "[LightGBM] [Info] Auto-choosing row-wise multi-threading, the overhead of testing was 0.048062 seconds.\n",
      "You can set `force_row_wise=true` to remove the overhead.\n",
      "And if memory is not enough, you can set `force_col_wise=true`.\n",
      "[LightGBM] [Info] Total Bins 23274\n",
      "[LightGBM] [Info] Number of data points in the train set: 10672, number of used features: 1127\n",
      "[LightGBM] [Warning] Found whitespace in feature_names, replace with underlines\n",
      "[LightGBM] [Info] Start training from score -0.863102\n",
      "[LightGBM] [Info] Start training from score -0.927078\n",
      "[LightGBM] [Info] Start training from score -2.169593\n",
      "[LightGBM] [Info] Start training from score -2.685078\n",
      "Training until validation scores don't improve for 50 rounds\n"
     ]
    },
    {
     "name": "stderr",
     "output_type": "stream",
     "text": [
      "[I 2024-02-29 00:35:16,114] Trial 37 finished with value: 0.8395802098950524 and parameters: {'learning_rate': 0.49343496069114606, 'num_leaves': 5}. Best is trial 16 with value: 0.8500749625187406.\n"
     ]
    },
    {
     "name": "stdout",
     "output_type": "stream",
     "text": [
      "Did not meet early stopping. Best iteration is:\n",
      "[100]\tTrain's multi_logloss: 0.345266\tValid's multi_logloss: 0.502733\n",
      "[LightGBM] [Warning] Found whitespace in feature_names, replace with underlines\n"
     ]
    },
    {
     "name": "stderr",
     "output_type": "stream",
     "text": [
      "/var/folders/d4/0c_l5jkx5_n985zcb0gf1ng00000gn/T/ipykernel_4343/3458071427.py:8: FutureWarning: suggest_uniform has been deprecated in v3.0.0. This feature will be removed in v6.0.0. See https://github.com/optuna/optuna/releases/tag/v3.0.0. Use suggest_float instead.\n",
      "  learning_rate = trial.suggest_uniform('learning_rate', 0.001, 1)\n"
     ]
    },
    {
     "name": "stdout",
     "output_type": "stream",
     "text": [
      "[LightGBM] [Info] Auto-choosing row-wise multi-threading, the overhead of testing was 0.049721 seconds.\n",
      "You can set `force_row_wise=true` to remove the overhead.\n",
      "And if memory is not enough, you can set `force_col_wise=true`.\n",
      "[LightGBM] [Info] Total Bins 23274\n",
      "[LightGBM] [Info] Number of data points in the train set: 10672, number of used features: 1127\n",
      "[LightGBM] [Warning] Found whitespace in feature_names, replace with underlines\n",
      "[LightGBM] [Info] Start training from score -0.863102\n",
      "[LightGBM] [Info] Start training from score -0.927078\n",
      "[LightGBM] [Info] Start training from score -2.169593\n",
      "[LightGBM] [Info] Start training from score -2.685078\n",
      "Training until validation scores don't improve for 50 rounds\n"
     ]
    },
    {
     "name": "stderr",
     "output_type": "stream",
     "text": [
      "[I 2024-02-29 00:35:20,062] Trial 38 finished with value: 0.8328335832083958 and parameters: {'learning_rate': 0.11144570156281836, 'num_leaves': 38}. Best is trial 16 with value: 0.8500749625187406.\n"
     ]
    },
    {
     "name": "stdout",
     "output_type": "stream",
     "text": [
      "Did not meet early stopping. Best iteration is:\n",
      "[95]\tTrain's multi_logloss: 0.224219\tValid's multi_logloss: 0.463932\n",
      "[LightGBM] [Warning] Found whitespace in feature_names, replace with underlines\n"
     ]
    },
    {
     "name": "stderr",
     "output_type": "stream",
     "text": [
      "/var/folders/d4/0c_l5jkx5_n985zcb0gf1ng00000gn/T/ipykernel_4343/3458071427.py:8: FutureWarning: suggest_uniform has been deprecated in v3.0.0. This feature will be removed in v6.0.0. See https://github.com/optuna/optuna/releases/tag/v3.0.0. Use suggest_float instead.\n",
      "  learning_rate = trial.suggest_uniform('learning_rate', 0.001, 1)\n"
     ]
    },
    {
     "name": "stdout",
     "output_type": "stream",
     "text": [
      "[LightGBM] [Info] Auto-choosing row-wise multi-threading, the overhead of testing was 0.049623 seconds.\n",
      "You can set `force_row_wise=true` to remove the overhead.\n",
      "And if memory is not enough, you can set `force_col_wise=true`.\n",
      "[LightGBM] [Info] Total Bins 23274\n",
      "[LightGBM] [Info] Number of data points in the train set: 10672, number of used features: 1127\n",
      "[LightGBM] [Warning] Found whitespace in feature_names, replace with underlines\n",
      "[LightGBM] [Info] Start training from score -0.863102\n",
      "[LightGBM] [Info] Start training from score -0.927078\n",
      "[LightGBM] [Info] Start training from score -2.169593\n",
      "[LightGBM] [Info] Start training from score -2.685078\n",
      "Training until validation scores don't improve for 50 rounds\n"
     ]
    },
    {
     "name": "stderr",
     "output_type": "stream",
     "text": [
      "[I 2024-02-29 00:35:23,020] Trial 39 finished with value: 0.8395802098950524 and parameters: {'learning_rate': 0.2652415437553308, 'num_leaves': 28}. Best is trial 16 with value: 0.8500749625187406.\n"
     ]
    },
    {
     "name": "stdout",
     "output_type": "stream",
     "text": [
      "Did not meet early stopping. Best iteration is:\n",
      "[61]\tTrain's multi_logloss: 0.205755\tValid's multi_logloss: 0.462896\n",
      "[LightGBM] [Warning] Found whitespace in feature_names, replace with underlines\n"
     ]
    },
    {
     "name": "stderr",
     "output_type": "stream",
     "text": [
      "/var/folders/d4/0c_l5jkx5_n985zcb0gf1ng00000gn/T/ipykernel_4343/3458071427.py:8: FutureWarning: suggest_uniform has been deprecated in v3.0.0. This feature will be removed in v6.0.0. See https://github.com/optuna/optuna/releases/tag/v3.0.0. Use suggest_float instead.\n",
      "  learning_rate = trial.suggest_uniform('learning_rate', 0.001, 1)\n"
     ]
    },
    {
     "name": "stdout",
     "output_type": "stream",
     "text": [
      "[LightGBM] [Info] Auto-choosing row-wise multi-threading, the overhead of testing was 0.049202 seconds.\n",
      "You can set `force_row_wise=true` to remove the overhead.\n",
      "And if memory is not enough, you can set `force_col_wise=true`.\n",
      "[LightGBM] [Info] Total Bins 23274\n",
      "[LightGBM] [Info] Number of data points in the train set: 10672, number of used features: 1127\n",
      "[LightGBM] [Warning] Found whitespace in feature_names, replace with underlines\n",
      "[LightGBM] [Info] Start training from score -0.863102\n",
      "[LightGBM] [Info] Start training from score -0.927078\n",
      "[LightGBM] [Info] Start training from score -2.169593\n",
      "[LightGBM] [Info] Start training from score -2.685078\n",
      "Training until validation scores don't improve for 50 rounds\n"
     ]
    },
    {
     "name": "stderr",
     "output_type": "stream",
     "text": [
      "[I 2024-02-29 00:35:25,488] Trial 40 finished with value: 0.8268365817091454 and parameters: {'learning_rate': 0.05953228715597636, 'num_leaves': 22}. Best is trial 16 with value: 0.8500749625187406.\n"
     ]
    },
    {
     "name": "stdout",
     "output_type": "stream",
     "text": [
      "Did not meet early stopping. Best iteration is:\n",
      "[100]\tTrain's multi_logloss: 0.42525\tValid's multi_logloss: 0.534986\n",
      "[LightGBM] [Warning] Found whitespace in feature_names, replace with underlines\n"
     ]
    },
    {
     "name": "stderr",
     "output_type": "stream",
     "text": [
      "/var/folders/d4/0c_l5jkx5_n985zcb0gf1ng00000gn/T/ipykernel_4343/3458071427.py:8: FutureWarning: suggest_uniform has been deprecated in v3.0.0. This feature will be removed in v6.0.0. See https://github.com/optuna/optuna/releases/tag/v3.0.0. Use suggest_float instead.\n",
      "  learning_rate = trial.suggest_uniform('learning_rate', 0.001, 1)\n"
     ]
    },
    {
     "name": "stdout",
     "output_type": "stream",
     "text": [
      "[LightGBM] [Info] Auto-choosing row-wise multi-threading, the overhead of testing was 0.049806 seconds.\n",
      "You can set `force_row_wise=true` to remove the overhead.\n",
      "And if memory is not enough, you can set `force_col_wise=true`.\n",
      "[LightGBM] [Info] Total Bins 23274\n",
      "[LightGBM] [Info] Number of data points in the train set: 10672, number of used features: 1127\n",
      "[LightGBM] [Warning] Found whitespace in feature_names, replace with underlines\n",
      "[LightGBM] [Info] Start training from score -0.863102\n",
      "[LightGBM] [Info] Start training from score -0.927078\n",
      "[LightGBM] [Info] Start training from score -2.169593\n",
      "[LightGBM] [Info] Start training from score -2.685078\n",
      "Training until validation scores don't improve for 50 rounds\n"
     ]
    },
    {
     "name": "stderr",
     "output_type": "stream",
     "text": [
      "[I 2024-02-29 00:35:27,129] Trial 41 finished with value: 0.841079460269865 and parameters: {'learning_rate': 0.3290831076959723, 'num_leaves': 14}. Best is trial 16 with value: 0.8500749625187406.\n"
     ]
    },
    {
     "name": "stdout",
     "output_type": "stream",
     "text": [
      "Did not meet early stopping. Best iteration is:\n",
      "[84]\tTrain's multi_logloss: 0.244305\tValid's multi_logloss: 0.466101\n",
      "[LightGBM] [Warning] Found whitespace in feature_names, replace with underlines\n"
     ]
    },
    {
     "name": "stderr",
     "output_type": "stream",
     "text": [
      "/var/folders/d4/0c_l5jkx5_n985zcb0gf1ng00000gn/T/ipykernel_4343/3458071427.py:8: FutureWarning: suggest_uniform has been deprecated in v3.0.0. This feature will be removed in v6.0.0. See https://github.com/optuna/optuna/releases/tag/v3.0.0. Use suggest_float instead.\n",
      "  learning_rate = trial.suggest_uniform('learning_rate', 0.001, 1)\n"
     ]
    },
    {
     "name": "stdout",
     "output_type": "stream",
     "text": [
      "[LightGBM] [Info] Auto-choosing row-wise multi-threading, the overhead of testing was 0.049386 seconds.\n",
      "You can set `force_row_wise=true` to remove the overhead.\n",
      "And if memory is not enough, you can set `force_col_wise=true`.\n",
      "[LightGBM] [Info] Total Bins 23274\n",
      "[LightGBM] [Info] Number of data points in the train set: 10672, number of used features: 1127\n",
      "[LightGBM] [Warning] Found whitespace in feature_names, replace with underlines\n",
      "[LightGBM] [Info] Start training from score -0.863102\n",
      "[LightGBM] [Info] Start training from score -0.927078\n",
      "[LightGBM] [Info] Start training from score -2.169593\n",
      "[LightGBM] [Info] Start training from score -2.685078\n",
      "Training until validation scores don't improve for 50 rounds\n"
     ]
    },
    {
     "name": "stderr",
     "output_type": "stream",
     "text": [
      "[I 2024-02-29 00:35:29,068] Trial 42 finished with value: 0.8455772113943029 and parameters: {'learning_rate': 0.19269520319343597, 'num_leaves': 17}. Best is trial 16 with value: 0.8500749625187406.\n"
     ]
    },
    {
     "name": "stdout",
     "output_type": "stream",
     "text": [
      "Did not meet early stopping. Best iteration is:\n",
      "[100]\tTrain's multi_logloss: 0.270663\tValid's multi_logloss: 0.467342\n",
      "[LightGBM] [Warning] Found whitespace in feature_names, replace with underlines\n"
     ]
    },
    {
     "name": "stderr",
     "output_type": "stream",
     "text": [
      "/var/folders/d4/0c_l5jkx5_n985zcb0gf1ng00000gn/T/ipykernel_4343/3458071427.py:8: FutureWarning: suggest_uniform has been deprecated in v3.0.0. This feature will be removed in v6.0.0. See https://github.com/optuna/optuna/releases/tag/v3.0.0. Use suggest_float instead.\n",
      "  learning_rate = trial.suggest_uniform('learning_rate', 0.001, 1)\n"
     ]
    },
    {
     "name": "stdout",
     "output_type": "stream",
     "text": [
      "[LightGBM] [Info] Auto-choosing row-wise multi-threading, the overhead of testing was 0.049645 seconds.\n",
      "You can set `force_row_wise=true` to remove the overhead.\n",
      "And if memory is not enough, you can set `force_col_wise=true`.\n",
      "[LightGBM] [Info] Total Bins 23274\n",
      "[LightGBM] [Info] Number of data points in the train set: 10672, number of used features: 1127\n",
      "[LightGBM] [Warning] Found whitespace in feature_names, replace with underlines\n",
      "[LightGBM] [Info] Start training from score -0.863102\n",
      "[LightGBM] [Info] Start training from score -0.927078\n",
      "[LightGBM] [Info] Start training from score -2.169593\n",
      "[LightGBM] [Info] Start training from score -2.685078\n",
      "Training until validation scores don't improve for 50 rounds\n"
     ]
    },
    {
     "name": "stderr",
     "output_type": "stream",
     "text": [
      "[I 2024-02-29 00:35:31,103] Trial 43 finished with value: 0.8463268365817092 and parameters: {'learning_rate': 0.18459927657926575, 'num_leaves': 18}. Best is trial 16 with value: 0.8500749625187406.\n"
     ]
    },
    {
     "name": "stdout",
     "output_type": "stream",
     "text": [
      "Did not meet early stopping. Best iteration is:\n",
      "[99]\tTrain's multi_logloss: 0.268551\tValid's multi_logloss: 0.465666\n",
      "[LightGBM] [Warning] Found whitespace in feature_names, replace with underlines\n"
     ]
    },
    {
     "name": "stderr",
     "output_type": "stream",
     "text": [
      "/var/folders/d4/0c_l5jkx5_n985zcb0gf1ng00000gn/T/ipykernel_4343/3458071427.py:8: FutureWarning: suggest_uniform has been deprecated in v3.0.0. This feature will be removed in v6.0.0. See https://github.com/optuna/optuna/releases/tag/v3.0.0. Use suggest_float instead.\n",
      "  learning_rate = trial.suggest_uniform('learning_rate', 0.001, 1)\n"
     ]
    },
    {
     "name": "stdout",
     "output_type": "stream",
     "text": [
      "[LightGBM] [Info] Auto-choosing col-wise multi-threading, the overhead of testing was 0.048816 seconds.\n",
      "You can set `force_col_wise=true` to remove the overhead.\n",
      "[LightGBM] [Info] Total Bins 23274\n",
      "[LightGBM] [Info] Number of data points in the train set: 10672, number of used features: 1127\n",
      "[LightGBM] [Warning] Found whitespace in feature_names, replace with underlines\n",
      "[LightGBM] [Info] Start training from score -0.863102\n",
      "[LightGBM] [Info] Start training from score -0.927078\n",
      "[LightGBM] [Info] Start training from score -2.169593\n",
      "[LightGBM] [Info] Start training from score -2.685078\n",
      "Training until validation scores don't improve for 50 rounds\n"
     ]
    },
    {
     "name": "stderr",
     "output_type": "stream",
     "text": [
      "[I 2024-02-29 00:35:33,145] Trial 44 finished with value: 0.8440779610194903 and parameters: {'learning_rate': 0.18931531923840528, 'num_leaves': 18}. Best is trial 16 with value: 0.8500749625187406.\n"
     ]
    },
    {
     "name": "stdout",
     "output_type": "stream",
     "text": [
      "Did not meet early stopping. Best iteration is:\n",
      "[99]\tTrain's multi_logloss: 0.264245\tValid's multi_logloss: 0.465891\n",
      "[LightGBM] [Warning] Found whitespace in feature_names, replace with underlines\n"
     ]
    },
    {
     "name": "stderr",
     "output_type": "stream",
     "text": [
      "/var/folders/d4/0c_l5jkx5_n985zcb0gf1ng00000gn/T/ipykernel_4343/3458071427.py:8: FutureWarning: suggest_uniform has been deprecated in v3.0.0. This feature will be removed in v6.0.0. See https://github.com/optuna/optuna/releases/tag/v3.0.0. Use suggest_float instead.\n",
      "  learning_rate = trial.suggest_uniform('learning_rate', 0.001, 1)\n"
     ]
    },
    {
     "name": "stdout",
     "output_type": "stream",
     "text": [
      "[LightGBM] [Info] Auto-choosing row-wise multi-threading, the overhead of testing was 0.049369 seconds.\n",
      "You can set `force_row_wise=true` to remove the overhead.\n",
      "And if memory is not enough, you can set `force_col_wise=true`.\n",
      "[LightGBM] [Info] Total Bins 23274\n",
      "[LightGBM] [Info] Number of data points in the train set: 10672, number of used features: 1127\n",
      "[LightGBM] [Warning] Found whitespace in feature_names, replace with underlines\n",
      "[LightGBM] [Info] Start training from score -0.863102\n",
      "[LightGBM] [Info] Start training from score -0.927078\n",
      "[LightGBM] [Info] Start training from score -2.169593\n",
      "[LightGBM] [Info] Start training from score -2.685078\n",
      "Training until validation scores don't improve for 50 rounds\n"
     ]
    },
    {
     "name": "stderr",
     "output_type": "stream",
     "text": [
      "[I 2024-02-29 00:35:35,406] Trial 45 finished with value: 0.8058470764617691 and parameters: {'learning_rate': 0.04292315745907993, 'num_leaves': 20}. Best is trial 16 with value: 0.8500749625187406.\n"
     ]
    },
    {
     "name": "stdout",
     "output_type": "stream",
     "text": [
      "Did not meet early stopping. Best iteration is:\n",
      "[100]\tTrain's multi_logloss: 0.502066\tValid's multi_logloss: 0.585584\n",
      "[LightGBM] [Warning] Found whitespace in feature_names, replace with underlines\n"
     ]
    },
    {
     "name": "stderr",
     "output_type": "stream",
     "text": [
      "/var/folders/d4/0c_l5jkx5_n985zcb0gf1ng00000gn/T/ipykernel_4343/3458071427.py:8: FutureWarning: suggest_uniform has been deprecated in v3.0.0. This feature will be removed in v6.0.0. See https://github.com/optuna/optuna/releases/tag/v3.0.0. Use suggest_float instead.\n",
      "  learning_rate = trial.suggest_uniform('learning_rate', 0.001, 1)\n"
     ]
    },
    {
     "name": "stdout",
     "output_type": "stream",
     "text": [
      "[LightGBM] [Info] Auto-choosing row-wise multi-threading, the overhead of testing was 0.049584 seconds.\n",
      "You can set `force_row_wise=true` to remove the overhead.\n",
      "And if memory is not enough, you can set `force_col_wise=true`.\n",
      "[LightGBM] [Info] Total Bins 23274\n",
      "[LightGBM] [Info] Number of data points in the train set: 10672, number of used features: 1127\n",
      "[LightGBM] [Warning] Found whitespace in feature_names, replace with underlines\n",
      "[LightGBM] [Info] Start training from score -0.863102\n",
      "[LightGBM] [Info] Start training from score -0.927078\n",
      "[LightGBM] [Info] Start training from score -2.169593\n",
      "[LightGBM] [Info] Start training from score -2.685078\n",
      "Training until validation scores don't improve for 50 rounds\n"
     ]
    },
    {
     "name": "stderr",
     "output_type": "stream",
     "text": [
      "[I 2024-02-29 00:35:36,374] Trial 46 finished with value: 0.8440779610194903 and parameters: {'learning_rate': 0.4222578638172928, 'num_leaves': 7}. Best is trial 16 with value: 0.8500749625187406.\n"
     ]
    },
    {
     "name": "stdout",
     "output_type": "stream",
     "text": [
      "Did not meet early stopping. Best iteration is:\n",
      "[100]\tTrain's multi_logloss: 0.305159\tValid's multi_logloss: 0.482237\n",
      "[LightGBM] [Warning] Found whitespace in feature_names, replace with underlines\n"
     ]
    },
    {
     "name": "stderr",
     "output_type": "stream",
     "text": [
      "/var/folders/d4/0c_l5jkx5_n985zcb0gf1ng00000gn/T/ipykernel_4343/3458071427.py:8: FutureWarning: suggest_uniform has been deprecated in v3.0.0. This feature will be removed in v6.0.0. See https://github.com/optuna/optuna/releases/tag/v3.0.0. Use suggest_float instead.\n",
      "  learning_rate = trial.suggest_uniform('learning_rate', 0.001, 1)\n"
     ]
    },
    {
     "name": "stdout",
     "output_type": "stream",
     "text": [
      "[LightGBM] [Info] Auto-choosing row-wise multi-threading, the overhead of testing was 0.049046 seconds.\n",
      "You can set `force_row_wise=true` to remove the overhead.\n",
      "And if memory is not enough, you can set `force_col_wise=true`.\n",
      "[LightGBM] [Info] Total Bins 23274\n",
      "[LightGBM] [Info] Number of data points in the train set: 10672, number of used features: 1127\n",
      "[LightGBM] [Warning] Found whitespace in feature_names, replace with underlines\n",
      "[LightGBM] [Info] Start training from score -0.863102\n",
      "[LightGBM] [Info] Start training from score -0.927078\n",
      "[LightGBM] [Info] Start training from score -2.169593\n",
      "[LightGBM] [Info] Start training from score -2.685078\n",
      "Training until validation scores don't improve for 50 rounds\n"
     ]
    },
    {
     "name": "stderr",
     "output_type": "stream",
     "text": [
      "[I 2024-02-29 00:35:38,313] Trial 47 finished with value: 0.841079460269865 and parameters: {'learning_rate': 0.18601925668005564, 'num_leaves': 17}. Best is trial 16 with value: 0.8500749625187406.\n"
     ]
    },
    {
     "name": "stdout",
     "output_type": "stream",
     "text": [
      "Did not meet early stopping. Best iteration is:\n",
      "[98]\tTrain's multi_logloss: 0.280263\tValid's multi_logloss: 0.469262\n",
      "[LightGBM] [Warning] Found whitespace in feature_names, replace with underlines\n"
     ]
    },
    {
     "name": "stderr",
     "output_type": "stream",
     "text": [
      "/var/folders/d4/0c_l5jkx5_n985zcb0gf1ng00000gn/T/ipykernel_4343/3458071427.py:8: FutureWarning: suggest_uniform has been deprecated in v3.0.0. This feature will be removed in v6.0.0. See https://github.com/optuna/optuna/releases/tag/v3.0.0. Use suggest_float instead.\n",
      "  learning_rate = trial.suggest_uniform('learning_rate', 0.001, 1)\n"
     ]
    },
    {
     "name": "stdout",
     "output_type": "stream",
     "text": [
      "[LightGBM] [Info] Auto-choosing row-wise multi-threading, the overhead of testing was 0.050312 seconds.\n",
      "You can set `force_row_wise=true` to remove the overhead.\n",
      "And if memory is not enough, you can set `force_col_wise=true`.\n",
      "[LightGBM] [Info] Total Bins 23274\n",
      "[LightGBM] [Info] Number of data points in the train set: 10672, number of used features: 1127\n",
      "[LightGBM] [Warning] Found whitespace in feature_names, replace with underlines\n",
      "[LightGBM] [Info] Start training from score -0.863102\n",
      "[LightGBM] [Info] Start training from score -0.927078\n",
      "[LightGBM] [Info] Start training from score -2.169593\n",
      "[LightGBM] [Info] Start training from score -2.685078\n",
      "Training until validation scores don't improve for 50 rounds\n"
     ]
    },
    {
     "name": "stderr",
     "output_type": "stream",
     "text": [
      "[I 2024-02-29 00:35:39,594] Trial 48 finished with value: 0.8275862068965517 and parameters: {'learning_rate': 0.11898596578113474, 'num_leaves': 10}. Best is trial 16 with value: 0.8500749625187406.\n"
     ]
    },
    {
     "name": "stdout",
     "output_type": "stream",
     "text": [
      "Did not meet early stopping. Best iteration is:\n",
      "[100]\tTrain's multi_logloss: 0.454054\tValid's multi_logloss: 0.548274\n",
      "[LightGBM] [Warning] Found whitespace in feature_names, replace with underlines\n"
     ]
    },
    {
     "name": "stderr",
     "output_type": "stream",
     "text": [
      "/var/folders/d4/0c_l5jkx5_n985zcb0gf1ng00000gn/T/ipykernel_4343/3458071427.py:8: FutureWarning: suggest_uniform has been deprecated in v3.0.0. This feature will be removed in v6.0.0. See https://github.com/optuna/optuna/releases/tag/v3.0.0. Use suggest_float instead.\n",
      "  learning_rate = trial.suggest_uniform('learning_rate', 0.001, 1)\n"
     ]
    },
    {
     "name": "stdout",
     "output_type": "stream",
     "text": [
      "[LightGBM] [Info] Auto-choosing row-wise multi-threading, the overhead of testing was 0.049244 seconds.\n",
      "You can set `force_row_wise=true` to remove the overhead.\n",
      "And if memory is not enough, you can set `force_col_wise=true`.\n",
      "[LightGBM] [Info] Total Bins 23274\n",
      "[LightGBM] [Info] Number of data points in the train set: 10672, number of used features: 1127\n",
      "[LightGBM] [Warning] Found whitespace in feature_names, replace with underlines\n",
      "[LightGBM] [Info] Start training from score -0.863102\n",
      "[LightGBM] [Info] Start training from score -0.927078\n",
      "[LightGBM] [Info] Start training from score -2.169593\n",
      "[LightGBM] [Info] Start training from score -2.685078\n",
      "Training until validation scores don't improve for 50 rounds\n"
     ]
    },
    {
     "name": "stderr",
     "output_type": "stream",
     "text": [
      "[I 2024-02-29 00:35:41,086] Trial 49 finished with value: 0.7991004497751124 and parameters: {'learning_rate': 0.061004344268404384, 'num_leaves': 12}. Best is trial 16 with value: 0.8500749625187406.\n"
     ]
    },
    {
     "name": "stdout",
     "output_type": "stream",
     "text": [
      "Did not meet early stopping. Best iteration is:\n",
      "[100]\tTrain's multi_logloss: 0.535185\tValid's multi_logloss: 0.607162\n",
      "[LightGBM] [Warning] Found whitespace in feature_names, replace with underlines\n"
     ]
    },
    {
     "name": "stderr",
     "output_type": "stream",
     "text": [
      "/var/folders/d4/0c_l5jkx5_n985zcb0gf1ng00000gn/T/ipykernel_4343/3458071427.py:8: FutureWarning: suggest_uniform has been deprecated in v3.0.0. This feature will be removed in v6.0.0. See https://github.com/optuna/optuna/releases/tag/v3.0.0. Use suggest_float instead.\n",
      "  learning_rate = trial.suggest_uniform('learning_rate', 0.001, 1)\n"
     ]
    },
    {
     "name": "stdout",
     "output_type": "stream",
     "text": [
      "[LightGBM] [Info] Auto-choosing col-wise multi-threading, the overhead of testing was 0.048404 seconds.\n",
      "You can set `force_col_wise=true` to remove the overhead.\n",
      "[LightGBM] [Info] Total Bins 23274\n",
      "[LightGBM] [Info] Number of data points in the train set: 10672, number of used features: 1127\n",
      "[LightGBM] [Warning] Found whitespace in feature_names, replace with underlines\n",
      "[LightGBM] [Info] Start training from score -0.863102\n",
      "[LightGBM] [Info] Start training from score -0.927078\n",
      "[LightGBM] [Info] Start training from score -2.169593\n",
      "[LightGBM] [Info] Start training from score -2.685078\n",
      "Training until validation scores don't improve for 50 rounds\n"
     ]
    },
    {
     "name": "stderr",
     "output_type": "stream",
     "text": [
      "[I 2024-02-29 00:35:42,927] Trial 50 finished with value: 0.8418290854572713 and parameters: {'learning_rate': 0.25457278051916266, 'num_leaves': 16}. Best is trial 16 with value: 0.8500749625187406.\n"
     ]
    },
    {
     "name": "stdout",
     "output_type": "stream",
     "text": [
      "Did not meet early stopping. Best iteration is:\n",
      "[98]\tTrain's multi_logloss: 0.238291\tValid's multi_logloss: 0.464032\n",
      "[LightGBM] [Warning] Found whitespace in feature_names, replace with underlines\n"
     ]
    },
    {
     "name": "stderr",
     "output_type": "stream",
     "text": [
      "/var/folders/d4/0c_l5jkx5_n985zcb0gf1ng00000gn/T/ipykernel_4343/3458071427.py:8: FutureWarning: suggest_uniform has been deprecated in v3.0.0. This feature will be removed in v6.0.0. See https://github.com/optuna/optuna/releases/tag/v3.0.0. Use suggest_float instead.\n",
      "  learning_rate = trial.suggest_uniform('learning_rate', 0.001, 1)\n"
     ]
    },
    {
     "name": "stdout",
     "output_type": "stream",
     "text": [
      "[LightGBM] [Info] Auto-choosing row-wise multi-threading, the overhead of testing was 0.049208 seconds.\n",
      "You can set `force_row_wise=true` to remove the overhead.\n",
      "And if memory is not enough, you can set `force_col_wise=true`.\n",
      "[LightGBM] [Info] Total Bins 23274\n",
      "[LightGBM] [Info] Number of data points in the train set: 10672, number of used features: 1127\n",
      "[LightGBM] [Warning] Found whitespace in feature_names, replace with underlines\n",
      "[LightGBM] [Info] Start training from score -0.863102\n",
      "[LightGBM] [Info] Start training from score -0.927078\n",
      "[LightGBM] [Info] Start training from score -2.169593\n",
      "[LightGBM] [Info] Start training from score -2.685078\n",
      "Training until validation scores don't improve for 50 rounds\n"
     ]
    },
    {
     "name": "stderr",
     "output_type": "stream",
     "text": [
      "[I 2024-02-29 00:35:45,157] Trial 51 finished with value: 0.8448275862068966 and parameters: {'learning_rate': 0.18065752025737064, 'num_leaves': 20}. Best is trial 16 with value: 0.8500749625187406.\n"
     ]
    },
    {
     "name": "stdout",
     "output_type": "stream",
     "text": [
      "Did not meet early stopping. Best iteration is:\n",
      "[93]\tTrain's multi_logloss: 0.262713\tValid's multi_logloss: 0.463743\n",
      "[LightGBM] [Warning] Found whitespace in feature_names, replace with underlines\n"
     ]
    },
    {
     "name": "stderr",
     "output_type": "stream",
     "text": [
      "/var/folders/d4/0c_l5jkx5_n985zcb0gf1ng00000gn/T/ipykernel_4343/3458071427.py:8: FutureWarning: suggest_uniform has been deprecated in v3.0.0. This feature will be removed in v6.0.0. See https://github.com/optuna/optuna/releases/tag/v3.0.0. Use suggest_float instead.\n",
      "  learning_rate = trial.suggest_uniform('learning_rate', 0.001, 1)\n"
     ]
    },
    {
     "name": "stdout",
     "output_type": "stream",
     "text": [
      "[LightGBM] [Info] Auto-choosing row-wise multi-threading, the overhead of testing was 0.048894 seconds.\n",
      "You can set `force_row_wise=true` to remove the overhead.\n",
      "And if memory is not enough, you can set `force_col_wise=true`.\n",
      "[LightGBM] [Info] Total Bins 23274\n",
      "[LightGBM] [Info] Number of data points in the train set: 10672, number of used features: 1127\n",
      "[LightGBM] [Warning] Found whitespace in feature_names, replace with underlines\n",
      "[LightGBM] [Info] Start training from score -0.863102\n",
      "[LightGBM] [Info] Start training from score -0.927078\n",
      "[LightGBM] [Info] Start training from score -2.169593\n",
      "[LightGBM] [Info] Start training from score -2.685078\n",
      "Training until validation scores don't improve for 50 rounds\n"
     ]
    },
    {
     "name": "stderr",
     "output_type": "stream",
     "text": [
      "[I 2024-02-29 00:35:47,294] Trial 52 finished with value: 0.843328335832084 and parameters: {'learning_rate': 0.17187020414158213, 'num_leaves': 19}. Best is trial 16 with value: 0.8500749625187406.\n"
     ]
    },
    {
     "name": "stdout",
     "output_type": "stream",
     "text": [
      "Did not meet early stopping. Best iteration is:\n",
      "[100]\tTrain's multi_logloss: 0.268719\tValid's multi_logloss: 0.469925\n",
      "[LightGBM] [Warning] Found whitespace in feature_names, replace with underlines\n"
     ]
    },
    {
     "name": "stderr",
     "output_type": "stream",
     "text": [
      "/var/folders/d4/0c_l5jkx5_n985zcb0gf1ng00000gn/T/ipykernel_4343/3458071427.py:8: FutureWarning: suggest_uniform has been deprecated in v3.0.0. This feature will be removed in v6.0.0. See https://github.com/optuna/optuna/releases/tag/v3.0.0. Use suggest_float instead.\n",
      "  learning_rate = trial.suggest_uniform('learning_rate', 0.001, 1)\n"
     ]
    },
    {
     "name": "stdout",
     "output_type": "stream",
     "text": [
      "[LightGBM] [Info] Auto-choosing col-wise multi-threading, the overhead of testing was 0.048027 seconds.\n",
      "You can set `force_col_wise=true` to remove the overhead.\n",
      "[LightGBM] [Info] Total Bins 23274\n",
      "[LightGBM] [Info] Number of data points in the train set: 10672, number of used features: 1127\n",
      "[LightGBM] [Warning] Found whitespace in feature_names, replace with underlines\n",
      "[LightGBM] [Info] Start training from score -0.863102\n",
      "[LightGBM] [Info] Start training from score -0.927078\n",
      "[LightGBM] [Info] Start training from score -2.169593\n",
      "[LightGBM] [Info] Start training from score -2.685078\n",
      "Training until validation scores don't improve for 50 rounds\n"
     ]
    },
    {
     "name": "stderr",
     "output_type": "stream",
     "text": [
      "[I 2024-02-29 00:35:49,650] Trial 53 finished with value: 0.8373313343328336 and parameters: {'learning_rate': 0.32208308442943345, 'num_leaves': 21}. Best is trial 16 with value: 0.8500749625187406.\n"
     ]
    },
    {
     "name": "stdout",
     "output_type": "stream",
     "text": [
      "Did not meet early stopping. Best iteration is:\n",
      "[62]\tTrain's multi_logloss: 0.222639\tValid's multi_logloss: 0.464826\n",
      "[LightGBM] [Warning] Found whitespace in feature_names, replace with underlines\n"
     ]
    },
    {
     "name": "stderr",
     "output_type": "stream",
     "text": [
      "/var/folders/d4/0c_l5jkx5_n985zcb0gf1ng00000gn/T/ipykernel_4343/3458071427.py:8: FutureWarning: suggest_uniform has been deprecated in v3.0.0. This feature will be removed in v6.0.0. See https://github.com/optuna/optuna/releases/tag/v3.0.0. Use suggest_float instead.\n",
      "  learning_rate = trial.suggest_uniform('learning_rate', 0.001, 1)\n"
     ]
    },
    {
     "name": "stdout",
     "output_type": "stream",
     "text": [
      "[LightGBM] [Info] Auto-choosing row-wise multi-threading, the overhead of testing was 0.048793 seconds.\n",
      "You can set `force_row_wise=true` to remove the overhead.\n",
      "And if memory is not enough, you can set `force_col_wise=true`.\n",
      "[LightGBM] [Info] Total Bins 23274\n",
      "[LightGBM] [Info] Number of data points in the train set: 10672, number of used features: 1127\n",
      "[LightGBM] [Warning] Found whitespace in feature_names, replace with underlines\n",
      "[LightGBM] [Info] Start training from score -0.863102\n",
      "[LightGBM] [Info] Start training from score -0.927078\n",
      "[LightGBM] [Info] Start training from score -2.169593\n",
      "[LightGBM] [Info] Start training from score -2.685078\n",
      "Training until validation scores don't improve for 50 rounds\n"
     ]
    },
    {
     "name": "stderr",
     "output_type": "stream",
     "text": [
      "[I 2024-02-29 00:35:50,999] Trial 54 finished with value: 0.8365817091454273 and parameters: {'learning_rate': 0.771467959936373, 'num_leaves': 15}. Best is trial 16 with value: 0.8500749625187406.\n"
     ]
    },
    {
     "name": "stdout",
     "output_type": "stream",
     "text": [
      "Early stopping, best iteration is:\n",
      "[26]\tTrain's multi_logloss: 0.266524\tValid's multi_logloss: 0.495185\n",
      "[LightGBM] [Warning] Found whitespace in feature_names, replace with underlines\n",
      "[LightGBM] [Info] Auto-choosing row-wise multi-threading, the overhead of testing was 0.049251 seconds.\n",
      "You can set `force_row_wise=true` to remove the overhead.\n",
      "And if memory is not enough, you can set `force_col_wise=true`.\n"
     ]
    },
    {
     "name": "stderr",
     "output_type": "stream",
     "text": [
      "/var/folders/d4/0c_l5jkx5_n985zcb0gf1ng00000gn/T/ipykernel_4343/3458071427.py:8: FutureWarning: suggest_uniform has been deprecated in v3.0.0. This feature will be removed in v6.0.0. See https://github.com/optuna/optuna/releases/tag/v3.0.0. Use suggest_float instead.\n",
      "  learning_rate = trial.suggest_uniform('learning_rate', 0.001, 1)\n"
     ]
    },
    {
     "name": "stdout",
     "output_type": "stream",
     "text": [
      "[LightGBM] [Info] Total Bins 23274\n",
      "[LightGBM] [Info] Number of data points in the train set: 10672, number of used features: 1127\n",
      "[LightGBM] [Warning] Found whitespace in feature_names, replace with underlines\n",
      "[LightGBM] [Info] Start training from score -0.863102\n",
      "[LightGBM] [Info] Start training from score -0.927078\n",
      "[LightGBM] [Info] Start training from score -2.169593\n",
      "[LightGBM] [Info] Start training from score -2.685078\n",
      "Training until validation scores don't improve for 50 rounds\n"
     ]
    },
    {
     "name": "stderr",
     "output_type": "stream",
     "text": [
      "[I 2024-02-29 00:35:52,162] Trial 55 finished with value: 0.843328335832084 and parameters: {'learning_rate': 0.2186948397967902, 'num_leaves': 9}. Best is trial 16 with value: 0.8500749625187406.\n"
     ]
    },
    {
     "name": "stdout",
     "output_type": "stream",
     "text": [
      "Did not meet early stopping. Best iteration is:\n",
      "[100]\tTrain's multi_logloss: 0.369435\tValid's multi_logloss: 0.501384\n",
      "[LightGBM] [Warning] Found whitespace in feature_names, replace with underlines\n"
     ]
    },
    {
     "name": "stderr",
     "output_type": "stream",
     "text": [
      "/var/folders/d4/0c_l5jkx5_n985zcb0gf1ng00000gn/T/ipykernel_4343/3458071427.py:8: FutureWarning: suggest_uniform has been deprecated in v3.0.0. This feature will be removed in v6.0.0. See https://github.com/optuna/optuna/releases/tag/v3.0.0. Use suggest_float instead.\n",
      "  learning_rate = trial.suggest_uniform('learning_rate', 0.001, 1)\n"
     ]
    },
    {
     "name": "stdout",
     "output_type": "stream",
     "text": [
      "[LightGBM] [Info] Auto-choosing row-wise multi-threading, the overhead of testing was 0.049100 seconds.\n",
      "You can set `force_row_wise=true` to remove the overhead.\n",
      "And if memory is not enough, you can set `force_col_wise=true`.\n",
      "[LightGBM] [Info] Total Bins 23274\n",
      "[LightGBM] [Info] Number of data points in the train set: 10672, number of used features: 1127\n",
      "[LightGBM] [Warning] Found whitespace in feature_names, replace with underlines\n",
      "[LightGBM] [Info] Start training from score -0.863102\n",
      "[LightGBM] [Info] Start training from score -0.927078\n",
      "[LightGBM] [Info] Start training from score -2.169593\n",
      "[LightGBM] [Info] Start training from score -2.685078\n",
      "Training until validation scores don't improve for 50 rounds\n"
     ]
    },
    {
     "name": "stderr",
     "output_type": "stream",
     "text": [
      "[I 2024-02-29 00:35:54,011] Trial 56 finished with value: 0.8193403298350824 and parameters: {'learning_rate': 0.9962291590208401, 'num_leaves': 30}. Best is trial 16 with value: 0.8500749625187406.\n"
     ]
    },
    {
     "name": "stdout",
     "output_type": "stream",
     "text": [
      "Early stopping, best iteration is:\n",
      "[8]\tTrain's multi_logloss: 0.468963\tValid's multi_logloss: 0.667351\n",
      "[LightGBM] [Warning] Found whitespace in feature_names, replace with underlines\n"
     ]
    },
    {
     "name": "stderr",
     "output_type": "stream",
     "text": [
      "/var/folders/d4/0c_l5jkx5_n985zcb0gf1ng00000gn/T/ipykernel_4343/3458071427.py:8: FutureWarning: suggest_uniform has been deprecated in v3.0.0. This feature will be removed in v6.0.0. See https://github.com/optuna/optuna/releases/tag/v3.0.0. Use suggest_float instead.\n",
      "  learning_rate = trial.suggest_uniform('learning_rate', 0.001, 1)\n"
     ]
    },
    {
     "name": "stdout",
     "output_type": "stream",
     "text": [
      "[LightGBM] [Info] Auto-choosing row-wise multi-threading, the overhead of testing was 0.048485 seconds.\n",
      "You can set `force_row_wise=true` to remove the overhead.\n",
      "And if memory is not enough, you can set `force_col_wise=true`.\n",
      "[LightGBM] [Info] Total Bins 23274\n",
      "[LightGBM] [Info] Number of data points in the train set: 10672, number of used features: 1127\n",
      "[LightGBM] [Warning] Found whitespace in feature_names, replace with underlines\n",
      "[LightGBM] [Info] Start training from score -0.863102\n",
      "[LightGBM] [Info] Start training from score -0.927078\n",
      "[LightGBM] [Info] Start training from score -2.169593\n",
      "[LightGBM] [Info] Start training from score -2.685078\n",
      "Training until validation scores don't improve for 50 rounds\n"
     ]
    },
    {
     "name": "stderr",
     "output_type": "stream",
     "text": [
      "[I 2024-02-29 00:35:55,590] Trial 57 finished with value: 0.8335832083958021 and parameters: {'learning_rate': 0.1296080955203823, 'num_leaves': 13}. Best is trial 16 with value: 0.8500749625187406.\n"
     ]
    },
    {
     "name": "stdout",
     "output_type": "stream",
     "text": [
      "Did not meet early stopping. Best iteration is:\n",
      "[100]\tTrain's multi_logloss: 0.388398\tValid's multi_logloss: 0.512823\n",
      "[LightGBM] [Warning] Found whitespace in feature_names, replace with underlines\n"
     ]
    },
    {
     "name": "stderr",
     "output_type": "stream",
     "text": [
      "/var/folders/d4/0c_l5jkx5_n985zcb0gf1ng00000gn/T/ipykernel_4343/3458071427.py:8: FutureWarning: suggest_uniform has been deprecated in v3.0.0. This feature will be removed in v6.0.0. See https://github.com/optuna/optuna/releases/tag/v3.0.0. Use suggest_float instead.\n",
      "  learning_rate = trial.suggest_uniform('learning_rate', 0.001, 1)\n"
     ]
    },
    {
     "name": "stdout",
     "output_type": "stream",
     "text": [
      "[LightGBM] [Info] Auto-choosing col-wise multi-threading, the overhead of testing was 0.047696 seconds.\n",
      "You can set `force_col_wise=true` to remove the overhead.\n",
      "[LightGBM] [Info] Total Bins 23274\n",
      "[LightGBM] [Info] Number of data points in the train set: 10672, number of used features: 1127\n",
      "[LightGBM] [Warning] Found whitespace in feature_names, replace with underlines\n",
      "[LightGBM] [Info] Start training from score -0.863102\n",
      "[LightGBM] [Info] Start training from score -0.927078\n",
      "[LightGBM] [Info] Start training from score -2.169593\n",
      "[LightGBM] [Info] Start training from score -2.685078\n",
      "Training until validation scores don't improve for 50 rounds\n"
     ]
    },
    {
     "name": "stderr",
     "output_type": "stream",
     "text": [
      "[I 2024-02-29 00:35:57,647] Trial 58 finished with value: 0.8320839580209896 and parameters: {'learning_rate': 0.09136971290646978, 'num_leaves': 18}. Best is trial 16 with value: 0.8500749625187406.\n"
     ]
    },
    {
     "name": "stdout",
     "output_type": "stream",
     "text": [
      "Did not meet early stopping. Best iteration is:\n",
      "[100]\tTrain's multi_logloss: 0.386613\tValid's multi_logloss: 0.51275\n",
      "[LightGBM] [Warning] Found whitespace in feature_names, replace with underlines\n"
     ]
    },
    {
     "name": "stderr",
     "output_type": "stream",
     "text": [
      "/var/folders/d4/0c_l5jkx5_n985zcb0gf1ng00000gn/T/ipykernel_4343/3458071427.py:8: FutureWarning: suggest_uniform has been deprecated in v3.0.0. This feature will be removed in v6.0.0. See https://github.com/optuna/optuna/releases/tag/v3.0.0. Use suggest_float instead.\n",
      "  learning_rate = trial.suggest_uniform('learning_rate', 0.001, 1)\n"
     ]
    },
    {
     "name": "stdout",
     "output_type": "stream",
     "text": [
      "[LightGBM] [Info] Auto-choosing row-wise multi-threading, the overhead of testing was 0.050322 seconds.\n",
      "You can set `force_row_wise=true` to remove the overhead.\n",
      "And if memory is not enough, you can set `force_col_wise=true`.\n",
      "[LightGBM] [Info] Total Bins 23274\n",
      "[LightGBM] [Info] Number of data points in the train set: 10672, number of used features: 1127\n",
      "[LightGBM] [Warning] Found whitespace in feature_names, replace with underlines\n",
      "[LightGBM] [Info] Start training from score -0.863102\n",
      "[LightGBM] [Info] Start training from score -0.927078\n",
      "[LightGBM] [Info] Start training from score -2.169593\n",
      "[LightGBM] [Info] Start training from score -2.685078\n",
      "Training until validation scores don't improve for 50 rounds\n"
     ]
    },
    {
     "name": "stderr",
     "output_type": "stream",
     "text": [
      "[I 2024-02-29 00:36:00,422] Trial 59 finished with value: 0.8418290854572713 and parameters: {'learning_rate': 0.2491355108878223, 'num_leaves': 26}. Best is trial 16 with value: 0.8500749625187406.\n"
     ]
    },
    {
     "name": "stdout",
     "output_type": "stream",
     "text": [
      "Did not meet early stopping. Best iteration is:\n",
      "[71]\tTrain's multi_logloss: 0.204566\tValid's multi_logloss: 0.468381\n",
      "[LightGBM] [Warning] Found whitespace in feature_names, replace with underlines\n"
     ]
    },
    {
     "name": "stderr",
     "output_type": "stream",
     "text": [
      "/var/folders/d4/0c_l5jkx5_n985zcb0gf1ng00000gn/T/ipykernel_4343/3458071427.py:8: FutureWarning: suggest_uniform has been deprecated in v3.0.0. This feature will be removed in v6.0.0. See https://github.com/optuna/optuna/releases/tag/v3.0.0. Use suggest_float instead.\n",
      "  learning_rate = trial.suggest_uniform('learning_rate', 0.001, 1)\n"
     ]
    },
    {
     "name": "stdout",
     "output_type": "stream",
     "text": [
      "[LightGBM] [Info] Auto-choosing row-wise multi-threading, the overhead of testing was 0.049336 seconds.\n",
      "You can set `force_row_wise=true` to remove the overhead.\n",
      "And if memory is not enough, you can set `force_col_wise=true`.\n",
      "[LightGBM] [Info] Total Bins 23274\n",
      "[LightGBM] [Info] Number of data points in the train set: 10672, number of used features: 1127\n",
      "[LightGBM] [Warning] Found whitespace in feature_names, replace with underlines\n",
      "[LightGBM] [Info] Start training from score -0.863102\n",
      "[LightGBM] [Info] Start training from score -0.927078\n",
      "[LightGBM] [Info] Start training from score -2.169593\n",
      "[LightGBM] [Info] Start training from score -2.685078\n",
      "Training until validation scores don't improve for 50 rounds\n"
     ]
    },
    {
     "name": "stderr",
     "output_type": "stream",
     "text": [
      "[I 2024-02-29 00:36:01,290] Trial 60 finished with value: 0.8470764617691154 and parameters: {'learning_rate': 0.3952118572986786, 'num_leaves': 6}. Best is trial 16 with value: 0.8500749625187406.\n"
     ]
    },
    {
     "name": "stdout",
     "output_type": "stream",
     "text": [
      "Did not meet early stopping. Best iteration is:\n",
      "[100]\tTrain's multi_logloss: 0.347934\tValid's multi_logloss: 0.494182\n",
      "[LightGBM] [Warning] Found whitespace in feature_names, replace with underlines\n"
     ]
    },
    {
     "name": "stderr",
     "output_type": "stream",
     "text": [
      "/var/folders/d4/0c_l5jkx5_n985zcb0gf1ng00000gn/T/ipykernel_4343/3458071427.py:8: FutureWarning: suggest_uniform has been deprecated in v3.0.0. This feature will be removed in v6.0.0. See https://github.com/optuna/optuna/releases/tag/v3.0.0. Use suggest_float instead.\n",
      "  learning_rate = trial.suggest_uniform('learning_rate', 0.001, 1)\n"
     ]
    },
    {
     "name": "stdout",
     "output_type": "stream",
     "text": [
      "[LightGBM] [Info] Auto-choosing row-wise multi-threading, the overhead of testing was 0.048895 seconds.\n",
      "You can set `force_row_wise=true` to remove the overhead.\n",
      "And if memory is not enough, you can set `force_col_wise=true`.\n",
      "[LightGBM] [Info] Total Bins 23274\n",
      "[LightGBM] [Info] Number of data points in the train set: 10672, number of used features: 1127\n",
      "[LightGBM] [Warning] Found whitespace in feature_names, replace with underlines\n",
      "[LightGBM] [Info] Start training from score -0.863102\n",
      "[LightGBM] [Info] Start training from score -0.927078\n",
      "[LightGBM] [Info] Start training from score -2.169593\n",
      "[LightGBM] [Info] Start training from score -2.685078\n",
      "Training until validation scores don't improve for 50 rounds\n"
     ]
    },
    {
     "name": "stderr",
     "output_type": "stream",
     "text": [
      "[I 2024-02-29 00:36:02,061] Trial 61 finished with value: 0.841079460269865 and parameters: {'learning_rate': 0.40506192940674357, 'num_leaves': 5}. Best is trial 16 with value: 0.8500749625187406.\n"
     ]
    },
    {
     "name": "stdout",
     "output_type": "stream",
     "text": [
      "Did not meet early stopping. Best iteration is:\n",
      "[100]\tTrain's multi_logloss: 0.380449\tValid's multi_logloss: 0.51208\n",
      "[LightGBM] [Warning] Found whitespace in feature_names, replace with underlines\n"
     ]
    },
    {
     "name": "stderr",
     "output_type": "stream",
     "text": [
      "/var/folders/d4/0c_l5jkx5_n985zcb0gf1ng00000gn/T/ipykernel_4343/3458071427.py:8: FutureWarning: suggest_uniform has been deprecated in v3.0.0. This feature will be removed in v6.0.0. See https://github.com/optuna/optuna/releases/tag/v3.0.0. Use suggest_float instead.\n",
      "  learning_rate = trial.suggest_uniform('learning_rate', 0.001, 1)\n"
     ]
    },
    {
     "name": "stdout",
     "output_type": "stream",
     "text": [
      "[LightGBM] [Info] Auto-choosing row-wise multi-threading, the overhead of testing was 0.049695 seconds.\n",
      "You can set `force_row_wise=true` to remove the overhead.\n",
      "And if memory is not enough, you can set `force_col_wise=true`.\n",
      "[LightGBM] [Info] Total Bins 23274\n",
      "[LightGBM] [Info] Number of data points in the train set: 10672, number of used features: 1127\n",
      "[LightGBM] [Warning] Found whitespace in feature_names, replace with underlines\n",
      "[LightGBM] [Info] Start training from score -0.863102\n",
      "[LightGBM] [Info] Start training from score -0.927078\n",
      "[LightGBM] [Info] Start training from score -2.169593\n",
      "[LightGBM] [Info] Start training from score -2.685078\n",
      "Training until validation scores don't improve for 50 rounds\n"
     ]
    },
    {
     "name": "stderr",
     "output_type": "stream",
     "text": [
      "[I 2024-02-29 00:36:03,026] Trial 62 finished with value: 0.843328335832084 and parameters: {'learning_rate': 0.4619419552235097, 'num_leaves': 7}. Best is trial 16 with value: 0.8500749625187406.\n"
     ]
    },
    {
     "name": "stdout",
     "output_type": "stream",
     "text": [
      "Did not meet early stopping. Best iteration is:\n",
      "[100]\tTrain's multi_logloss: 0.288755\tValid's multi_logloss: 0.469374\n",
      "[LightGBM] [Warning] Found whitespace in feature_names, replace with underlines\n"
     ]
    },
    {
     "name": "stderr",
     "output_type": "stream",
     "text": [
      "/var/folders/d4/0c_l5jkx5_n985zcb0gf1ng00000gn/T/ipykernel_4343/3458071427.py:8: FutureWarning: suggest_uniform has been deprecated in v3.0.0. This feature will be removed in v6.0.0. See https://github.com/optuna/optuna/releases/tag/v3.0.0. Use suggest_float instead.\n",
      "  learning_rate = trial.suggest_uniform('learning_rate', 0.001, 1)\n"
     ]
    },
    {
     "name": "stdout",
     "output_type": "stream",
     "text": [
      "[LightGBM] [Info] Auto-choosing row-wise multi-threading, the overhead of testing was 0.049071 seconds.\n",
      "You can set `force_row_wise=true` to remove the overhead.\n",
      "And if memory is not enough, you can set `force_col_wise=true`.\n",
      "[LightGBM] [Info] Total Bins 23274\n",
      "[LightGBM] [Info] Number of data points in the train set: 10672, number of used features: 1127\n",
      "[LightGBM] [Warning] Found whitespace in feature_names, replace with underlines\n",
      "[LightGBM] [Info] Start training from score -0.863102\n",
      "[LightGBM] [Info] Start training from score -0.927078\n",
      "[LightGBM] [Info] Start training from score -2.169593\n",
      "[LightGBM] [Info] Start training from score -2.685078\n",
      "Training until validation scores don't improve for 50 rounds\n"
     ]
    },
    {
     "name": "stderr",
     "output_type": "stream",
     "text": [
      "[I 2024-02-29 00:36:04,278] Trial 63 finished with value: 0.8425787106446777 and parameters: {'learning_rate': 0.3828756375960808, 'num_leaves': 10}. Best is trial 16 with value: 0.8500749625187406.\n"
     ]
    },
    {
     "name": "stdout",
     "output_type": "stream",
     "text": [
      "Did not meet early stopping. Best iteration is:\n",
      "[97]\tTrain's multi_logloss: 0.260694\tValid's multi_logloss: 0.468775\n",
      "[LightGBM] [Warning] Found whitespace in feature_names, replace with underlines\n"
     ]
    },
    {
     "name": "stderr",
     "output_type": "stream",
     "text": [
      "/var/folders/d4/0c_l5jkx5_n985zcb0gf1ng00000gn/T/ipykernel_4343/3458071427.py:8: FutureWarning: suggest_uniform has been deprecated in v3.0.0. This feature will be removed in v6.0.0. See https://github.com/optuna/optuna/releases/tag/v3.0.0. Use suggest_float instead.\n",
      "  learning_rate = trial.suggest_uniform('learning_rate', 0.001, 1)\n"
     ]
    },
    {
     "name": "stdout",
     "output_type": "stream",
     "text": [
      "[LightGBM] [Info] Auto-choosing row-wise multi-threading, the overhead of testing was 0.049561 seconds.\n",
      "You can set `force_row_wise=true` to remove the overhead.\n",
      "And if memory is not enough, you can set `force_col_wise=true`.\n",
      "[LightGBM] [Info] Total Bins 23274\n",
      "[LightGBM] [Info] Number of data points in the train set: 10672, number of used features: 1127\n",
      "[LightGBM] [Warning] Found whitespace in feature_names, replace with underlines\n",
      "[LightGBM] [Info] Start training from score -0.863102\n",
      "[LightGBM] [Info] Start training from score -0.927078\n",
      "[LightGBM] [Info] Start training from score -2.169593\n",
      "[LightGBM] [Info] Start training from score -2.685078\n",
      "Training until validation scores don't improve for 50 rounds\n"
     ]
    },
    {
     "name": "stderr",
     "output_type": "stream",
     "text": [
      "[I 2024-02-29 00:36:05,148] Trial 64 finished with value: 0.8440779610194903 and parameters: {'learning_rate': 0.3170664183749865, 'num_leaves': 6}. Best is trial 16 with value: 0.8500749625187406.\n"
     ]
    },
    {
     "name": "stdout",
     "output_type": "stream",
     "text": [
      "Did not meet early stopping. Best iteration is:\n",
      "[100]\tTrain's multi_logloss: 0.386815\tValid's multi_logloss: 0.512183\n",
      "[LightGBM] [Warning] Found whitespace in feature_names, replace with underlines\n"
     ]
    },
    {
     "name": "stderr",
     "output_type": "stream",
     "text": [
      "/var/folders/d4/0c_l5jkx5_n985zcb0gf1ng00000gn/T/ipykernel_4343/3458071427.py:8: FutureWarning: suggest_uniform has been deprecated in v3.0.0. This feature will be removed in v6.0.0. See https://github.com/optuna/optuna/releases/tag/v3.0.0. Use suggest_float instead.\n",
      "  learning_rate = trial.suggest_uniform('learning_rate', 0.001, 1)\n"
     ]
    },
    {
     "name": "stdout",
     "output_type": "stream",
     "text": [
      "[LightGBM] [Info] Auto-choosing row-wise multi-threading, the overhead of testing was 0.048288 seconds.\n",
      "You can set `force_row_wise=true` to remove the overhead.\n",
      "And if memory is not enough, you can set `force_col_wise=true`.\n",
      "[LightGBM] [Info] Total Bins 23274\n",
      "[LightGBM] [Info] Number of data points in the train set: 10672, number of used features: 1127\n",
      "[LightGBM] [Warning] Found whitespace in feature_names, replace with underlines\n",
      "[LightGBM] [Info] Start training from score -0.863102\n",
      "[LightGBM] [Info] Start training from score -0.927078\n",
      "[LightGBM] [Info] Start training from score -2.169593\n",
      "[LightGBM] [Info] Start training from score -2.685078\n",
      "Training until validation scores don't improve for 50 rounds\n"
     ]
    },
    {
     "name": "stderr",
     "output_type": "stream",
     "text": [
      "[I 2024-02-29 00:36:06,313] Trial 65 finished with value: 0.843328335832084 and parameters: {'learning_rate': 0.20807205607502613, 'num_leaves': 9}. Best is trial 16 with value: 0.8500749625187406.\n"
     ]
    },
    {
     "name": "stdout",
     "output_type": "stream",
     "text": [
      "Did not meet early stopping. Best iteration is:\n",
      "[100]\tTrain's multi_logloss: 0.378354\tValid's multi_logloss: 0.507905\n",
      "[LightGBM] [Warning] Found whitespace in feature_names, replace with underlines\n"
     ]
    },
    {
     "name": "stderr",
     "output_type": "stream",
     "text": [
      "/var/folders/d4/0c_l5jkx5_n985zcb0gf1ng00000gn/T/ipykernel_4343/3458071427.py:8: FutureWarning: suggest_uniform has been deprecated in v3.0.0. This feature will be removed in v6.0.0. See https://github.com/optuna/optuna/releases/tag/v3.0.0. Use suggest_float instead.\n",
      "  learning_rate = trial.suggest_uniform('learning_rate', 0.001, 1)\n"
     ]
    },
    {
     "name": "stdout",
     "output_type": "stream",
     "text": [
      "[LightGBM] [Info] Auto-choosing row-wise multi-threading, the overhead of testing was 0.050363 seconds.\n",
      "You can set `force_row_wise=true` to remove the overhead.\n",
      "And if memory is not enough, you can set `force_col_wise=true`.\n",
      "[LightGBM] [Info] Total Bins 23274\n",
      "[LightGBM] [Info] Number of data points in the train set: 10672, number of used features: 1127\n",
      "[LightGBM] [Warning] Found whitespace in feature_names, replace with underlines\n",
      "[LightGBM] [Info] Start training from score -0.863102\n",
      "[LightGBM] [Info] Start training from score -0.927078\n",
      "[LightGBM] [Info] Start training from score -2.169593\n",
      "[LightGBM] [Info] Start training from score -2.685078\n",
      "Training until validation scores don't improve for 50 rounds\n"
     ]
    },
    {
     "name": "stderr",
     "output_type": "stream",
     "text": [
      "[I 2024-02-29 00:36:07,659] Trial 66 finished with value: 0.8320839580209896 and parameters: {'learning_rate': 0.5569767286859162, 'num_leaves': 11}. Best is trial 16 with value: 0.8500749625187406.\n"
     ]
    },
    {
     "name": "stdout",
     "output_type": "stream",
     "text": [
      "Did not meet early stopping. Best iteration is:\n",
      "[68]\tTrain's multi_logloss: 0.232653\tValid's multi_logloss: 0.47657\n",
      "[LightGBM] [Warning] Found whitespace in feature_names, replace with underlines\n"
     ]
    },
    {
     "name": "stderr",
     "output_type": "stream",
     "text": [
      "/var/folders/d4/0c_l5jkx5_n985zcb0gf1ng00000gn/T/ipykernel_4343/3458071427.py:8: FutureWarning: suggest_uniform has been deprecated in v3.0.0. This feature will be removed in v6.0.0. See https://github.com/optuna/optuna/releases/tag/v3.0.0. Use suggest_float instead.\n",
      "  learning_rate = trial.suggest_uniform('learning_rate', 0.001, 1)\n"
     ]
    },
    {
     "name": "stdout",
     "output_type": "stream",
     "text": [
      "[LightGBM] [Info] Auto-choosing row-wise multi-threading, the overhead of testing was 0.049195 seconds.\n",
      "You can set `force_row_wise=true` to remove the overhead.\n",
      "And if memory is not enough, you can set `force_col_wise=true`.\n",
      "[LightGBM] [Info] Total Bins 23274\n",
      "[LightGBM] [Info] Number of data points in the train set: 10672, number of used features: 1127\n",
      "[LightGBM] [Warning] Found whitespace in feature_names, replace with underlines\n",
      "[LightGBM] [Info] Start training from score -0.863102\n",
      "[LightGBM] [Info] Start training from score -0.927078\n",
      "[LightGBM] [Info] Start training from score -2.169593\n",
      "[LightGBM] [Info] Start training from score -2.685078\n",
      "Training until validation scores don't improve for 50 rounds\n"
     ]
    },
    {
     "name": "stderr",
     "output_type": "stream",
     "text": [
      "[I 2024-02-29 00:36:09,491] Trial 67 finished with value: 0.8403298350824587 and parameters: {'learning_rate': 0.2851009794433097, 'num_leaves': 16}. Best is trial 16 with value: 0.8500749625187406.\n"
     ]
    },
    {
     "name": "stdout",
     "output_type": "stream",
     "text": [
      "Did not meet early stopping. Best iteration is:\n",
      "[89]\tTrain's multi_logloss: 0.234835\tValid's multi_logloss: 0.467128\n",
      "[LightGBM] [Warning] Found whitespace in feature_names, replace with underlines\n"
     ]
    },
    {
     "name": "stderr",
     "output_type": "stream",
     "text": [
      "/var/folders/d4/0c_l5jkx5_n985zcb0gf1ng00000gn/T/ipykernel_4343/3458071427.py:8: FutureWarning: suggest_uniform has been deprecated in v3.0.0. This feature will be removed in v6.0.0. See https://github.com/optuna/optuna/releases/tag/v3.0.0. Use suggest_float instead.\n",
      "  learning_rate = trial.suggest_uniform('learning_rate', 0.001, 1)\n"
     ]
    },
    {
     "name": "stdout",
     "output_type": "stream",
     "text": [
      "[LightGBM] [Info] Auto-choosing row-wise multi-threading, the overhead of testing was 0.048352 seconds.\n",
      "You can set `force_row_wise=true` to remove the overhead.\n",
      "And if memory is not enough, you can set `force_col_wise=true`.\n",
      "[LightGBM] [Info] Total Bins 23274\n",
      "[LightGBM] [Info] Number of data points in the train set: 10672, number of used features: 1127\n",
      "[LightGBM] [Warning] Found whitespace in feature_names, replace with underlines\n",
      "[LightGBM] [Info] Start training from score -0.863102\n",
      "[LightGBM] [Info] Start training from score -0.927078\n",
      "[LightGBM] [Info] Start training from score -2.169593\n",
      "[LightGBM] [Info] Start training from score -2.685078\n",
      "Training until validation scores don't improve for 50 rounds\n"
     ]
    },
    {
     "name": "stderr",
     "output_type": "stream",
     "text": [
      "[I 2024-02-29 00:36:11,044] Trial 68 finished with value: 0.8418290854572713 and parameters: {'learning_rate': 0.23863200576092852, 'num_leaves': 13}. Best is trial 16 with value: 0.8500749625187406.\n"
     ]
    },
    {
     "name": "stdout",
     "output_type": "stream",
     "text": [
      "Did not meet early stopping. Best iteration is:\n",
      "[98]\tTrain's multi_logloss: 0.288221\tValid's multi_logloss: 0.466683\n",
      "[LightGBM] [Warning] Found whitespace in feature_names, replace with underlines\n"
     ]
    },
    {
     "name": "stderr",
     "output_type": "stream",
     "text": [
      "/var/folders/d4/0c_l5jkx5_n985zcb0gf1ng00000gn/T/ipykernel_4343/3458071427.py:8: FutureWarning: suggest_uniform has been deprecated in v3.0.0. This feature will be removed in v6.0.0. See https://github.com/optuna/optuna/releases/tag/v3.0.0. Use suggest_float instead.\n",
      "  learning_rate = trial.suggest_uniform('learning_rate', 0.001, 1)\n"
     ]
    },
    {
     "name": "stdout",
     "output_type": "stream",
     "text": [
      "[LightGBM] [Info] Auto-choosing row-wise multi-threading, the overhead of testing was 0.049718 seconds.\n",
      "You can set `force_row_wise=true` to remove the overhead.\n",
      "And if memory is not enough, you can set `force_col_wise=true`.\n",
      "[LightGBM] [Info] Total Bins 23274\n",
      "[LightGBM] [Info] Number of data points in the train set: 10672, number of used features: 1127\n",
      "[LightGBM] [Warning] Found whitespace in feature_names, replace with underlines\n",
      "[LightGBM] [Info] Start training from score -0.863102\n",
      "[LightGBM] [Info] Start training from score -0.927078\n",
      "[LightGBM] [Info] Start training from score -2.169593\n",
      "[LightGBM] [Info] Start training from score -2.685078\n",
      "Training until validation scores don't improve for 50 rounds\n"
     ]
    },
    {
     "name": "stderr",
     "output_type": "stream",
     "text": [
      "[I 2024-02-29 00:36:13,575] Trial 69 finished with value: 0.8380809595202399 and parameters: {'learning_rate': 0.1355888558812105, 'num_leaves': 23}. Best is trial 16 with value: 0.8500749625187406.\n"
     ]
    },
    {
     "name": "stdout",
     "output_type": "stream",
     "text": [
      "Did not meet early stopping. Best iteration is:\n",
      "[100]\tTrain's multi_logloss: 0.273851\tValid's multi_logloss: 0.465819\n",
      "[LightGBM] [Warning] Found whitespace in feature_names, replace with underlines\n"
     ]
    },
    {
     "name": "stderr",
     "output_type": "stream",
     "text": [
      "/var/folders/d4/0c_l5jkx5_n985zcb0gf1ng00000gn/T/ipykernel_4343/3458071427.py:8: FutureWarning: suggest_uniform has been deprecated in v3.0.0. This feature will be removed in v6.0.0. See https://github.com/optuna/optuna/releases/tag/v3.0.0. Use suggest_float instead.\n",
      "  learning_rate = trial.suggest_uniform('learning_rate', 0.001, 1)\n"
     ]
    },
    {
     "name": "stdout",
     "output_type": "stream",
     "text": [
      "[LightGBM] [Info] Auto-choosing row-wise multi-threading, the overhead of testing was 0.050036 seconds.\n",
      "You can set `force_row_wise=true` to remove the overhead.\n",
      "And if memory is not enough, you can set `force_col_wise=true`.\n",
      "[LightGBM] [Info] Total Bins 23274\n",
      "[LightGBM] [Info] Number of data points in the train set: 10672, number of used features: 1127\n",
      "[LightGBM] [Warning] Found whitespace in feature_names, replace with underlines\n",
      "[LightGBM] [Info] Start training from score -0.863102\n",
      "[LightGBM] [Info] Start training from score -0.927078\n",
      "[LightGBM] [Info] Start training from score -2.169593\n",
      "[LightGBM] [Info] Start training from score -2.685078\n",
      "Training until validation scores don't improve for 50 rounds\n"
     ]
    },
    {
     "name": "stderr",
     "output_type": "stream",
     "text": [
      "[I 2024-02-29 00:36:14,646] Trial 70 finished with value: 0.8305847076461769 and parameters: {'learning_rate': 0.15572088903387832, 'num_leaves': 8}. Best is trial 16 with value: 0.8500749625187406.\n"
     ]
    },
    {
     "name": "stdout",
     "output_type": "stream",
     "text": [
      "Did not meet early stopping. Best iteration is:\n",
      "[100]\tTrain's multi_logloss: 0.451558\tValid's multi_logloss: 0.54671\n",
      "[LightGBM] [Warning] Found whitespace in feature_names, replace with underlines\n"
     ]
    },
    {
     "name": "stderr",
     "output_type": "stream",
     "text": [
      "/var/folders/d4/0c_l5jkx5_n985zcb0gf1ng00000gn/T/ipykernel_4343/3458071427.py:8: FutureWarning: suggest_uniform has been deprecated in v3.0.0. This feature will be removed in v6.0.0. See https://github.com/optuna/optuna/releases/tag/v3.0.0. Use suggest_float instead.\n",
      "  learning_rate = trial.suggest_uniform('learning_rate', 0.001, 1)\n"
     ]
    },
    {
     "name": "stdout",
     "output_type": "stream",
     "text": [
      "[LightGBM] [Info] Auto-choosing row-wise multi-threading, the overhead of testing was 0.049725 seconds.\n",
      "You can set `force_row_wise=true` to remove the overhead.\n",
      "And if memory is not enough, you can set `force_col_wise=true`.\n",
      "[LightGBM] [Info] Total Bins 23274\n",
      "[LightGBM] [Info] Number of data points in the train set: 10672, number of used features: 1127\n",
      "[LightGBM] [Warning] Found whitespace in feature_names, replace with underlines\n",
      "[LightGBM] [Info] Start training from score -0.863102\n",
      "[LightGBM] [Info] Start training from score -0.927078\n",
      "[LightGBM] [Info] Start training from score -2.169593\n",
      "[LightGBM] [Info] Start training from score -2.685078\n",
      "Training until validation scores don't improve for 50 rounds\n"
     ]
    },
    {
     "name": "stderr",
     "output_type": "stream",
     "text": [
      "[I 2024-02-29 00:36:16,872] Trial 71 finished with value: 0.8380809595202399 and parameters: {'learning_rate': 0.19559284126115323, 'num_leaves': 20}. Best is trial 16 with value: 0.8500749625187406.\n"
     ]
    },
    {
     "name": "stdout",
     "output_type": "stream",
     "text": [
      "Did not meet early stopping. Best iteration is:\n",
      "[91]\tTrain's multi_logloss: 0.252655\tValid's multi_logloss: 0.46465\n",
      "[LightGBM] [Warning] Found whitespace in feature_names, replace with underlines\n"
     ]
    },
    {
     "name": "stderr",
     "output_type": "stream",
     "text": [
      "/var/folders/d4/0c_l5jkx5_n985zcb0gf1ng00000gn/T/ipykernel_4343/3458071427.py:8: FutureWarning: suggest_uniform has been deprecated in v3.0.0. This feature will be removed in v6.0.0. See https://github.com/optuna/optuna/releases/tag/v3.0.0. Use suggest_float instead.\n",
      "  learning_rate = trial.suggest_uniform('learning_rate', 0.001, 1)\n"
     ]
    },
    {
     "name": "stdout",
     "output_type": "stream",
     "text": [
      "[LightGBM] [Info] Auto-choosing row-wise multi-threading, the overhead of testing was 0.049710 seconds.\n",
      "You can set `force_row_wise=true` to remove the overhead.\n",
      "And if memory is not enough, you can set `force_col_wise=true`.\n",
      "[LightGBM] [Info] Total Bins 23274\n",
      "[LightGBM] [Info] Number of data points in the train set: 10672, number of used features: 1127\n",
      "[LightGBM] [Warning] Found whitespace in feature_names, replace with underlines\n",
      "[LightGBM] [Info] Start training from score -0.863102\n",
      "[LightGBM] [Info] Start training from score -0.927078\n",
      "[LightGBM] [Info] Start training from score -2.169593\n",
      "[LightGBM] [Info] Start training from score -2.685078\n",
      "Training until validation scores don't improve for 50 rounds\n"
     ]
    },
    {
     "name": "stderr",
     "output_type": "stream",
     "text": [
      "[I 2024-02-29 00:36:18,809] Trial 72 finished with value: 0.843328335832084 and parameters: {'learning_rate': 0.1960908614689928, 'num_leaves': 17}. Best is trial 16 with value: 0.8500749625187406.\n"
     ]
    },
    {
     "name": "stdout",
     "output_type": "stream",
     "text": [
      "Did not meet early stopping. Best iteration is:\n",
      "[100]\tTrain's multi_logloss: 0.267972\tValid's multi_logloss: 0.464467\n",
      "[LightGBM] [Warning] Found whitespace in feature_names, replace with underlines\n"
     ]
    },
    {
     "name": "stderr",
     "output_type": "stream",
     "text": [
      "/var/folders/d4/0c_l5jkx5_n985zcb0gf1ng00000gn/T/ipykernel_4343/3458071427.py:8: FutureWarning: suggest_uniform has been deprecated in v3.0.0. This feature will be removed in v6.0.0. See https://github.com/optuna/optuna/releases/tag/v3.0.0. Use suggest_float instead.\n",
      "  learning_rate = trial.suggest_uniform('learning_rate', 0.001, 1)\n"
     ]
    },
    {
     "name": "stdout",
     "output_type": "stream",
     "text": [
      "[LightGBM] [Info] Auto-choosing row-wise multi-threading, the overhead of testing was 0.049668 seconds.\n",
      "You can set `force_row_wise=true` to remove the overhead.\n",
      "And if memory is not enough, you can set `force_col_wise=true`.\n",
      "[LightGBM] [Info] Total Bins 23274\n",
      "[LightGBM] [Info] Number of data points in the train set: 10672, number of used features: 1127\n",
      "[LightGBM] [Warning] Found whitespace in feature_names, replace with underlines\n",
      "[LightGBM] [Info] Start training from score -0.863102\n",
      "[LightGBM] [Info] Start training from score -0.927078\n",
      "[LightGBM] [Info] Start training from score -2.169593\n",
      "[LightGBM] [Info] Start training from score -2.685078\n",
      "Training until validation scores don't improve for 50 rounds\n"
     ]
    },
    {
     "name": "stderr",
     "output_type": "stream",
     "text": [
      "[I 2024-02-29 00:36:20,830] Trial 73 finished with value: 0.843328335832084 and parameters: {'learning_rate': 0.3424084001132399, 'num_leaves': 18}. Best is trial 16 with value: 0.8500749625187406.\n"
     ]
    },
    {
     "name": "stdout",
     "output_type": "stream",
     "text": [
      "Did not meet early stopping. Best iteration is:\n",
      "[58]\tTrain's multi_logloss: 0.249778\tValid's multi_logloss: 0.463426\n",
      "[LightGBM] [Warning] Found whitespace in feature_names, replace with underlines\n"
     ]
    },
    {
     "name": "stderr",
     "output_type": "stream",
     "text": [
      "/var/folders/d4/0c_l5jkx5_n985zcb0gf1ng00000gn/T/ipykernel_4343/3458071427.py:8: FutureWarning: suggest_uniform has been deprecated in v3.0.0. This feature will be removed in v6.0.0. See https://github.com/optuna/optuna/releases/tag/v3.0.0. Use suggest_float instead.\n",
      "  learning_rate = trial.suggest_uniform('learning_rate', 0.001, 1)\n"
     ]
    },
    {
     "name": "stdout",
     "output_type": "stream",
     "text": [
      "[LightGBM] [Info] Auto-choosing row-wise multi-threading, the overhead of testing was 0.049348 seconds.\n",
      "You can set `force_row_wise=true` to remove the overhead.\n",
      "And if memory is not enough, you can set `force_col_wise=true`.\n",
      "[LightGBM] [Info] Total Bins 23274\n",
      "[LightGBM] [Info] Number of data points in the train set: 10672, number of used features: 1127\n",
      "[LightGBM] [Warning] Found whitespace in feature_names, replace with underlines\n",
      "[LightGBM] [Info] Start training from score -0.863102\n",
      "[LightGBM] [Info] Start training from score -0.927078\n",
      "[LightGBM] [Info] Start training from score -2.169593\n",
      "[LightGBM] [Info] Start training from score -2.685078\n",
      "Training until validation scores don't improve for 50 rounds\n"
     ]
    },
    {
     "name": "stderr",
     "output_type": "stream",
     "text": [
      "[I 2024-02-29 00:36:22,982] Trial 74 finished with value: 0.8425787106446777 and parameters: {'learning_rate': 0.1627285767084582, 'num_leaves': 19}. Best is trial 16 with value: 0.8500749625187406.\n"
     ]
    },
    {
     "name": "stdout",
     "output_type": "stream",
     "text": [
      "Did not meet early stopping. Best iteration is:\n",
      "[98]\tTrain's multi_logloss: 0.281232\tValid's multi_logloss: 0.46651\n",
      "[LightGBM] [Warning] Found whitespace in feature_names, replace with underlines\n"
     ]
    },
    {
     "name": "stderr",
     "output_type": "stream",
     "text": [
      "/var/folders/d4/0c_l5jkx5_n985zcb0gf1ng00000gn/T/ipykernel_4343/3458071427.py:8: FutureWarning: suggest_uniform has been deprecated in v3.0.0. This feature will be removed in v6.0.0. See https://github.com/optuna/optuna/releases/tag/v3.0.0. Use suggest_float instead.\n",
      "  learning_rate = trial.suggest_uniform('learning_rate', 0.001, 1)\n"
     ]
    },
    {
     "name": "stdout",
     "output_type": "stream",
     "text": [
      "[LightGBM] [Info] Auto-choosing row-wise multi-threading, the overhead of testing was 0.050044 seconds.\n",
      "You can set `force_row_wise=true` to remove the overhead.\n",
      "And if memory is not enough, you can set `force_col_wise=true`.\n",
      "[LightGBM] [Info] Total Bins 23274\n",
      "[LightGBM] [Info] Number of data points in the train set: 10672, number of used features: 1127\n",
      "[LightGBM] [Warning] Found whitespace in feature_names, replace with underlines\n",
      "[LightGBM] [Info] Start training from score -0.863102\n",
      "[LightGBM] [Info] Start training from score -0.927078\n",
      "[LightGBM] [Info] Start training from score -2.169593\n",
      "[LightGBM] [Info] Start training from score -2.685078\n",
      "Training until validation scores don't improve for 50 rounds\n"
     ]
    },
    {
     "name": "stderr",
     "output_type": "stream",
     "text": [
      "[I 2024-02-29 00:36:24,724] Trial 75 finished with value: 0.8335832083958021 and parameters: {'learning_rate': 0.2854337616338595, 'num_leaves': 15}. Best is trial 16 with value: 0.8500749625187406.\n"
     ]
    },
    {
     "name": "stdout",
     "output_type": "stream",
     "text": [
      "Did not meet early stopping. Best iteration is:\n",
      "[100]\tTrain's multi_logloss: 0.227859\tValid's multi_logloss: 0.468494\n",
      "[LightGBM] [Warning] Found whitespace in feature_names, replace with underlines\n"
     ]
    },
    {
     "name": "stderr",
     "output_type": "stream",
     "text": [
      "/var/folders/d4/0c_l5jkx5_n985zcb0gf1ng00000gn/T/ipykernel_4343/3458071427.py:8: FutureWarning: suggest_uniform has been deprecated in v3.0.0. This feature will be removed in v6.0.0. See https://github.com/optuna/optuna/releases/tag/v3.0.0. Use suggest_float instead.\n",
      "  learning_rate = trial.suggest_uniform('learning_rate', 0.001, 1)\n"
     ]
    },
    {
     "name": "stdout",
     "output_type": "stream",
     "text": [
      "[LightGBM] [Info] Auto-choosing row-wise multi-threading, the overhead of testing was 0.049951 seconds.\n",
      "You can set `force_row_wise=true` to remove the overhead.\n",
      "And if memory is not enough, you can set `force_col_wise=true`.\n",
      "[LightGBM] [Info] Total Bins 23274\n",
      "[LightGBM] [Info] Number of data points in the train set: 10672, number of used features: 1127\n",
      "[LightGBM] [Warning] Found whitespace in feature_names, replace with underlines\n",
      "[LightGBM] [Info] Start training from score -0.863102\n",
      "[LightGBM] [Info] Start training from score -0.927078\n",
      "[LightGBM] [Info] Start training from score -2.169593\n",
      "[LightGBM] [Info] Start training from score -2.685078\n",
      "Training until validation scores don't improve for 50 rounds\n"
     ]
    },
    {
     "name": "stderr",
     "output_type": "stream",
     "text": [
      "[I 2024-02-29 00:36:26,135] Trial 76 finished with value: 0.8223388305847077 and parameters: {'learning_rate': 0.09709699655715309, 'num_leaves': 11}. Best is trial 16 with value: 0.8500749625187406.\n"
     ]
    },
    {
     "name": "stdout",
     "output_type": "stream",
     "text": [
      "Did not meet early stopping. Best iteration is:\n",
      "[100]\tTrain's multi_logloss: 0.471013\tValid's multi_logloss: 0.55918\n",
      "[LightGBM] [Warning] Found whitespace in feature_names, replace with underlines\n"
     ]
    },
    {
     "name": "stderr",
     "output_type": "stream",
     "text": [
      "/var/folders/d4/0c_l5jkx5_n985zcb0gf1ng00000gn/T/ipykernel_4343/3458071427.py:8: FutureWarning: suggest_uniform has been deprecated in v3.0.0. This feature will be removed in v6.0.0. See https://github.com/optuna/optuna/releases/tag/v3.0.0. Use suggest_float instead.\n",
      "  learning_rate = trial.suggest_uniform('learning_rate', 0.001, 1)\n"
     ]
    },
    {
     "name": "stdout",
     "output_type": "stream",
     "text": [
      "[LightGBM] [Info] Auto-choosing row-wise multi-threading, the overhead of testing was 0.049428 seconds.\n",
      "You can set `force_row_wise=true` to remove the overhead.\n",
      "And if memory is not enough, you can set `force_col_wise=true`.\n",
      "[LightGBM] [Info] Total Bins 23274\n",
      "[LightGBM] [Info] Number of data points in the train set: 10672, number of used features: 1127\n",
      "[LightGBM] [Warning] Found whitespace in feature_names, replace with underlines\n",
      "[LightGBM] [Info] Start training from score -0.863102\n",
      "[LightGBM] [Info] Start training from score -0.927078\n",
      "[LightGBM] [Info] Start training from score -2.169593\n",
      "[LightGBM] [Info] Start training from score -2.685078\n",
      "Training until validation scores don't improve for 50 rounds\n"
     ]
    },
    {
     "name": "stderr",
     "output_type": "stream",
     "text": [
      "[I 2024-02-29 00:36:28,426] Trial 77 finished with value: 0.8335832083958021 and parameters: {'learning_rate': 0.45470607181002987, 'num_leaves': 22}. Best is trial 16 with value: 0.8500749625187406.\n"
     ]
    },
    {
     "name": "stdout",
     "output_type": "stream",
     "text": [
      "Early stopping, best iteration is:\n",
      "[46]\tTrain's multi_logloss: 0.204802\tValid's multi_logloss: 0.478295\n",
      "[LightGBM] [Warning] Found whitespace in feature_names, replace with underlines\n"
     ]
    },
    {
     "name": "stderr",
     "output_type": "stream",
     "text": [
      "/var/folders/d4/0c_l5jkx5_n985zcb0gf1ng00000gn/T/ipykernel_4343/3458071427.py:8: FutureWarning: suggest_uniform has been deprecated in v3.0.0. This feature will be removed in v6.0.0. See https://github.com/optuna/optuna/releases/tag/v3.0.0. Use suggest_float instead.\n",
      "  learning_rate = trial.suggest_uniform('learning_rate', 0.001, 1)\n"
     ]
    },
    {
     "name": "stdout",
     "output_type": "stream",
     "text": [
      "[LightGBM] [Info] Auto-choosing row-wise multi-threading, the overhead of testing was 0.048170 seconds.\n",
      "You can set `force_row_wise=true` to remove the overhead.\n",
      "And if memory is not enough, you can set `force_col_wise=true`.\n",
      "[LightGBM] [Info] Total Bins 23274\n",
      "[LightGBM] [Info] Number of data points in the train set: 10672, number of used features: 1127\n",
      "[LightGBM] [Warning] Found whitespace in feature_names, replace with underlines\n",
      "[LightGBM] [Info] Start training from score -0.863102\n",
      "[LightGBM] [Info] Start training from score -0.927078\n",
      "[LightGBM] [Info] Start training from score -2.169593\n",
      "[LightGBM] [Info] Start training from score -2.685078\n",
      "Training until validation scores don't improve for 50 rounds\n"
     ]
    },
    {
     "name": "stderr",
     "output_type": "stream",
     "text": [
      "[I 2024-02-29 00:36:29,966] Trial 78 finished with value: 0.8395802098950524 and parameters: {'learning_rate': 0.3719292228895136, 'num_leaves': 13}. Best is trial 16 with value: 0.8500749625187406.\n"
     ]
    },
    {
     "name": "stdout",
     "output_type": "stream",
     "text": [
      "Did not meet early stopping. Best iteration is:\n",
      "[98]\tTrain's multi_logloss: 0.213557\tValid's multi_logloss: 0.468771\n",
      "[LightGBM] [Warning] Found whitespace in feature_names, replace with underlines\n"
     ]
    },
    {
     "name": "stderr",
     "output_type": "stream",
     "text": [
      "/var/folders/d4/0c_l5jkx5_n985zcb0gf1ng00000gn/T/ipykernel_4343/3458071427.py:8: FutureWarning: suggest_uniform has been deprecated in v3.0.0. This feature will be removed in v6.0.0. See https://github.com/optuna/optuna/releases/tag/v3.0.0. Use suggest_float instead.\n",
      "  learning_rate = trial.suggest_uniform('learning_rate', 0.001, 1)\n"
     ]
    },
    {
     "name": "stdout",
     "output_type": "stream",
     "text": [
      "[LightGBM] [Info] Auto-choosing col-wise multi-threading, the overhead of testing was 0.047952 seconds.\n",
      "You can set `force_col_wise=true` to remove the overhead.\n",
      "[LightGBM] [Info] Total Bins 23274\n",
      "[LightGBM] [Info] Number of data points in the train set: 10672, number of used features: 1127\n",
      "[LightGBM] [Warning] Found whitespace in feature_names, replace with underlines\n",
      "[LightGBM] [Info] Start training from score -0.863102\n",
      "[LightGBM] [Info] Start training from score -0.927078\n",
      "[LightGBM] [Info] Start training from score -2.169593\n",
      "[LightGBM] [Info] Start training from score -2.685078\n",
      "Training until validation scores don't improve for 50 rounds\n"
     ]
    },
    {
     "name": "stderr",
     "output_type": "stream",
     "text": [
      "[I 2024-02-29 00:36:31,134] Trial 79 finished with value: 0.8463268365817092 and parameters: {'learning_rate': 0.22865142038900033, 'num_leaves': 9}. Best is trial 16 with value: 0.8500749625187406.\n"
     ]
    },
    {
     "name": "stdout",
     "output_type": "stream",
     "text": [
      "Did not meet early stopping. Best iteration is:\n",
      "[100]\tTrain's multi_logloss: 0.361929\tValid's multi_logloss: 0.498125\n",
      "[LightGBM] [Warning] Found whitespace in feature_names, replace with underlines\n"
     ]
    },
    {
     "name": "stderr",
     "output_type": "stream",
     "text": [
      "/var/folders/d4/0c_l5jkx5_n985zcb0gf1ng00000gn/T/ipykernel_4343/3458071427.py:8: FutureWarning: suggest_uniform has been deprecated in v3.0.0. This feature will be removed in v6.0.0. See https://github.com/optuna/optuna/releases/tag/v3.0.0. Use suggest_float instead.\n",
      "  learning_rate = trial.suggest_uniform('learning_rate', 0.001, 1)\n"
     ]
    },
    {
     "name": "stdout",
     "output_type": "stream",
     "text": [
      "[LightGBM] [Info] Auto-choosing row-wise multi-threading, the overhead of testing was 0.048571 seconds.\n",
      "You can set `force_row_wise=true` to remove the overhead.\n",
      "And if memory is not enough, you can set `force_col_wise=true`.\n",
      "[LightGBM] [Info] Total Bins 23274\n",
      "[LightGBM] [Info] Number of data points in the train set: 10672, number of used features: 1127\n",
      "[LightGBM] [Warning] Found whitespace in feature_names, replace with underlines\n",
      "[LightGBM] [Info] Start training from score -0.863102\n",
      "[LightGBM] [Info] Start training from score -0.927078\n",
      "[LightGBM] [Info] Start training from score -2.169593\n",
      "[LightGBM] [Info] Start training from score -2.685078\n",
      "Training until validation scores don't improve for 50 rounds\n"
     ]
    },
    {
     "name": "stderr",
     "output_type": "stream",
     "text": [
      "[I 2024-02-29 00:36:32,007] Trial 80 finished with value: 0.8395802098950524 and parameters: {'learning_rate': 0.27616091053576003, 'num_leaves': 6}. Best is trial 16 with value: 0.8500749625187406.\n"
     ]
    },
    {
     "name": "stdout",
     "output_type": "stream",
     "text": [
      "Did not meet early stopping. Best iteration is:\n",
      "[100]\tTrain's multi_logloss: 0.411079\tValid's multi_logloss: 0.526422\n",
      "[LightGBM] [Warning] Found whitespace in feature_names, replace with underlines\n"
     ]
    },
    {
     "name": "stderr",
     "output_type": "stream",
     "text": [
      "/var/folders/d4/0c_l5jkx5_n985zcb0gf1ng00000gn/T/ipykernel_4343/3458071427.py:8: FutureWarning: suggest_uniform has been deprecated in v3.0.0. This feature will be removed in v6.0.0. See https://github.com/optuna/optuna/releases/tag/v3.0.0. Use suggest_float instead.\n",
      "  learning_rate = trial.suggest_uniform('learning_rate', 0.001, 1)\n"
     ]
    },
    {
     "name": "stdout",
     "output_type": "stream",
     "text": [
      "[LightGBM] [Info] Auto-choosing row-wise multi-threading, the overhead of testing was 0.049866 seconds.\n",
      "You can set `force_row_wise=true` to remove the overhead.\n",
      "And if memory is not enough, you can set `force_col_wise=true`.\n",
      "[LightGBM] [Info] Total Bins 23274\n",
      "[LightGBM] [Info] Number of data points in the train set: 10672, number of used features: 1127\n",
      "[LightGBM] [Warning] Found whitespace in feature_names, replace with underlines\n",
      "[LightGBM] [Info] Start training from score -0.863102\n",
      "[LightGBM] [Info] Start training from score -0.927078\n",
      "[LightGBM] [Info] Start training from score -2.169593\n",
      "[LightGBM] [Info] Start training from score -2.685078\n",
      "Training until validation scores don't improve for 50 rounds\n"
     ]
    },
    {
     "name": "stderr",
     "output_type": "stream",
     "text": [
      "[I 2024-02-29 00:36:33,175] Trial 81 finished with value: 0.841079460269865 and parameters: {'learning_rate': 0.22067111909450518, 'num_leaves': 9}. Best is trial 16 with value: 0.8500749625187406.\n"
     ]
    },
    {
     "name": "stdout",
     "output_type": "stream",
     "text": [
      "Did not meet early stopping. Best iteration is:\n",
      "[100]\tTrain's multi_logloss: 0.368814\tValid's multi_logloss: 0.503537\n",
      "[LightGBM] [Warning] Found whitespace in feature_names, replace with underlines\n"
     ]
    },
    {
     "name": "stderr",
     "output_type": "stream",
     "text": [
      "/var/folders/d4/0c_l5jkx5_n985zcb0gf1ng00000gn/T/ipykernel_4343/3458071427.py:8: FutureWarning: suggest_uniform has been deprecated in v3.0.0. This feature will be removed in v6.0.0. See https://github.com/optuna/optuna/releases/tag/v3.0.0. Use suggest_float instead.\n",
      "  learning_rate = trial.suggest_uniform('learning_rate', 0.001, 1)\n"
     ]
    },
    {
     "name": "stdout",
     "output_type": "stream",
     "text": [
      "[LightGBM] [Info] Auto-choosing row-wise multi-threading, the overhead of testing was 0.049831 seconds.\n",
      "You can set `force_row_wise=true` to remove the overhead.\n",
      "And if memory is not enough, you can set `force_col_wise=true`.\n",
      "[LightGBM] [Info] Total Bins 23274\n",
      "[LightGBM] [Info] Number of data points in the train set: 10672, number of used features: 1127\n",
      "[LightGBM] [Warning] Found whitespace in feature_names, replace with underlines\n",
      "[LightGBM] [Info] Start training from score -0.863102\n",
      "[LightGBM] [Info] Start training from score -0.927078\n",
      "[LightGBM] [Info] Start training from score -2.169593\n",
      "[LightGBM] [Info] Start training from score -2.685078\n",
      "Training until validation scores don't improve for 50 rounds\n"
     ]
    },
    {
     "name": "stderr",
     "output_type": "stream",
     "text": [
      "[I 2024-02-29 00:36:34,952] Trial 82 finished with value: 0.8418290854572713 and parameters: {'learning_rate': 0.17755583945614395, 'num_leaves': 15}. Best is trial 16 with value: 0.8500749625187406.\n"
     ]
    },
    {
     "name": "stdout",
     "output_type": "stream",
     "text": [
      "Did not meet early stopping. Best iteration is:\n",
      "[99]\tTrain's multi_logloss: 0.309877\tValid's multi_logloss: 0.476133\n",
      "[LightGBM] [Warning] Found whitespace in feature_names, replace with underlines\n"
     ]
    },
    {
     "name": "stderr",
     "output_type": "stream",
     "text": [
      "/var/folders/d4/0c_l5jkx5_n985zcb0gf1ng00000gn/T/ipykernel_4343/3458071427.py:8: FutureWarning: suggest_uniform has been deprecated in v3.0.0. This feature will be removed in v6.0.0. See https://github.com/optuna/optuna/releases/tag/v3.0.0. Use suggest_float instead.\n",
      "  learning_rate = trial.suggest_uniform('learning_rate', 0.001, 1)\n"
     ]
    },
    {
     "name": "stdout",
     "output_type": "stream",
     "text": [
      "[LightGBM] [Info] Auto-choosing row-wise multi-threading, the overhead of testing was 0.049395 seconds.\n",
      "You can set `force_row_wise=true` to remove the overhead.\n",
      "And if memory is not enough, you can set `force_col_wise=true`.\n",
      "[LightGBM] [Info] Total Bins 23274\n",
      "[LightGBM] [Info] Number of data points in the train set: 10672, number of used features: 1127\n",
      "[LightGBM] [Warning] Found whitespace in feature_names, replace with underlines\n",
      "[LightGBM] [Info] Start training from score -0.863102\n",
      "[LightGBM] [Info] Start training from score -0.927078\n",
      "[LightGBM] [Info] Start training from score -2.169593\n",
      "[LightGBM] [Info] Start training from score -2.685078\n",
      "Training until validation scores don't improve for 50 rounds\n"
     ]
    },
    {
     "name": "stderr",
     "output_type": "stream",
     "text": [
      "[I 2024-02-29 00:36:35,925] Trial 83 finished with value: 0.8395802098950524 and parameters: {'learning_rate': 0.23671280404364012, 'num_leaves': 7}. Best is trial 16 with value: 0.8500749625187406.\n"
     ]
    },
    {
     "name": "stdout",
     "output_type": "stream",
     "text": [
      "Did not meet early stopping. Best iteration is:\n",
      "[100]\tTrain's multi_logloss: 0.406082\tValid's multi_logloss: 0.522605\n",
      "[LightGBM] [Warning] Found whitespace in feature_names, replace with underlines\n"
     ]
    },
    {
     "name": "stderr",
     "output_type": "stream",
     "text": [
      "/var/folders/d4/0c_l5jkx5_n985zcb0gf1ng00000gn/T/ipykernel_4343/3458071427.py:8: FutureWarning: suggest_uniform has been deprecated in v3.0.0. This feature will be removed in v6.0.0. See https://github.com/optuna/optuna/releases/tag/v3.0.0. Use suggest_float instead.\n",
      "  learning_rate = trial.suggest_uniform('learning_rate', 0.001, 1)\n"
     ]
    },
    {
     "name": "stdout",
     "output_type": "stream",
     "text": [
      "[LightGBM] [Info] Auto-choosing row-wise multi-threading, the overhead of testing was 0.050316 seconds.\n",
      "You can set `force_row_wise=true` to remove the overhead.\n",
      "And if memory is not enough, you can set `force_col_wise=true`.\n",
      "[LightGBM] [Info] Total Bins 23274\n",
      "[LightGBM] [Info] Number of data points in the train set: 10672, number of used features: 1127\n",
      "[LightGBM] [Warning] Found whitespace in feature_names, replace with underlines\n",
      "[LightGBM] [Info] Start training from score -0.863102\n",
      "[LightGBM] [Info] Start training from score -0.927078\n",
      "[LightGBM] [Info] Start training from score -2.169593\n",
      "[LightGBM] [Info] Start training from score -2.685078\n",
      "Training until validation scores don't improve for 50 rounds\n"
     ]
    },
    {
     "name": "stderr",
     "output_type": "stream",
     "text": [
      "[I 2024-02-29 00:36:37,376] Trial 84 finished with value: 0.8440779610194903 and parameters: {'learning_rate': 0.30594364495486126, 'num_leaves': 12}. Best is trial 16 with value: 0.8500749625187406.\n"
     ]
    },
    {
     "name": "stdout",
     "output_type": "stream",
     "text": [
      "Did not meet early stopping. Best iteration is:\n",
      "[100]\tTrain's multi_logloss: 0.257704\tValid's multi_logloss: 0.466088\n",
      "[LightGBM] [Warning] Found whitespace in feature_names, replace with underlines\n"
     ]
    },
    {
     "name": "stderr",
     "output_type": "stream",
     "text": [
      "/var/folders/d4/0c_l5jkx5_n985zcb0gf1ng00000gn/T/ipykernel_4343/3458071427.py:8: FutureWarning: suggest_uniform has been deprecated in v3.0.0. This feature will be removed in v6.0.0. See https://github.com/optuna/optuna/releases/tag/v3.0.0. Use suggest_float instead.\n",
      "  learning_rate = trial.suggest_uniform('learning_rate', 0.001, 1)\n"
     ]
    },
    {
     "name": "stdout",
     "output_type": "stream",
     "text": [
      "[LightGBM] [Info] Auto-choosing row-wise multi-threading, the overhead of testing was 0.048278 seconds.\n",
      "You can set `force_row_wise=true` to remove the overhead.\n",
      "And if memory is not enough, you can set `force_col_wise=true`.\n",
      "[LightGBM] [Info] Total Bins 23274\n",
      "[LightGBM] [Info] Number of data points in the train set: 10672, number of used features: 1127\n",
      "[LightGBM] [Warning] Found whitespace in feature_names, replace with underlines\n",
      "[LightGBM] [Info] Start training from score -0.863102\n",
      "[LightGBM] [Info] Start training from score -0.927078\n",
      "[LightGBM] [Info] Start training from score -2.169593\n",
      "[LightGBM] [Info] Start training from score -2.685078\n",
      "Training until validation scores don't improve for 50 rounds\n"
     ]
    },
    {
     "name": "stderr",
     "output_type": "stream",
     "text": [
      "[I 2024-02-29 00:36:39,036] Trial 85 finished with value: 0.8395802098950524 and parameters: {'learning_rate': 0.15030211700833146, 'num_leaves': 14}. Best is trial 16 with value: 0.8500749625187406.\n"
     ]
    },
    {
     "name": "stdout",
     "output_type": "stream",
     "text": [
      "Did not meet early stopping. Best iteration is:\n",
      "[100]\tTrain's multi_logloss: 0.348787\tValid's multi_logloss: 0.494531\n",
      "[LightGBM] [Warning] Found whitespace in feature_names, replace with underlines\n"
     ]
    },
    {
     "name": "stderr",
     "output_type": "stream",
     "text": [
      "/var/folders/d4/0c_l5jkx5_n985zcb0gf1ng00000gn/T/ipykernel_4343/3458071427.py:8: FutureWarning: suggest_uniform has been deprecated in v3.0.0. This feature will be removed in v6.0.0. See https://github.com/optuna/optuna/releases/tag/v3.0.0. Use suggest_float instead.\n",
      "  learning_rate = trial.suggest_uniform('learning_rate', 0.001, 1)\n"
     ]
    },
    {
     "name": "stdout",
     "output_type": "stream",
     "text": [
      "[LightGBM] [Info] Auto-choosing col-wise multi-threading, the overhead of testing was 0.047789 seconds.\n",
      "You can set `force_col_wise=true` to remove the overhead.\n",
      "[LightGBM] [Info] Total Bins 23274\n",
      "[LightGBM] [Info] Number of data points in the train set: 10672, number of used features: 1127\n",
      "[LightGBM] [Warning] Found whitespace in feature_names, replace with underlines\n",
      "[LightGBM] [Info] Start training from score -0.863102\n",
      "[LightGBM] [Info] Start training from score -0.927078\n",
      "[LightGBM] [Info] Start training from score -2.169593\n",
      "[LightGBM] [Info] Start training from score -2.685078\n",
      "Training until validation scores don't improve for 50 rounds\n"
     ]
    },
    {
     "name": "stderr",
     "output_type": "stream",
     "text": [
      "[I 2024-02-29 00:36:40,304] Trial 86 finished with value: 0.8425787106446777 and parameters: {'learning_rate': 0.19422342461326597, 'num_leaves': 10}. Best is trial 16 with value: 0.8500749625187406.\n"
     ]
    },
    {
     "name": "stdout",
     "output_type": "stream",
     "text": [
      "Did not meet early stopping. Best iteration is:\n",
      "[100]\tTrain's multi_logloss: 0.370041\tValid's multi_logloss: 0.504267\n",
      "[LightGBM] [Warning] Found whitespace in feature_names, replace with underlines\n"
     ]
    },
    {
     "name": "stderr",
     "output_type": "stream",
     "text": [
      "/var/folders/d4/0c_l5jkx5_n985zcb0gf1ng00000gn/T/ipykernel_4343/3458071427.py:8: FutureWarning: suggest_uniform has been deprecated in v3.0.0. This feature will be removed in v6.0.0. See https://github.com/optuna/optuna/releases/tag/v3.0.0. Use suggest_float instead.\n",
      "  learning_rate = trial.suggest_uniform('learning_rate', 0.001, 1)\n"
     ]
    },
    {
     "name": "stdout",
     "output_type": "stream",
     "text": [
      "[LightGBM] [Info] Auto-choosing row-wise multi-threading, the overhead of testing was 0.049535 seconds.\n",
      "You can set `force_row_wise=true` to remove the overhead.\n",
      "And if memory is not enough, you can set `force_col_wise=true`.\n",
      "[LightGBM] [Info] Total Bins 23274\n",
      "[LightGBM] [Info] Number of data points in the train set: 10672, number of used features: 1127\n",
      "[LightGBM] [Warning] Found whitespace in feature_names, replace with underlines\n",
      "[LightGBM] [Info] Start training from score -0.863102\n",
      "[LightGBM] [Info] Start training from score -0.927078\n",
      "[LightGBM] [Info] Start training from score -2.169593\n",
      "[LightGBM] [Info] Start training from score -2.685078\n",
      "Training until validation scores don't improve for 50 rounds\n"
     ]
    },
    {
     "name": "stderr",
     "output_type": "stream",
     "text": [
      "[I 2024-02-29 00:36:41,380] Trial 87 finished with value: 0.7961019490254873 and parameters: {'learning_rate': 0.08158280529552346, 'num_leaves': 8}. Best is trial 16 with value: 0.8500749625187406.\n"
     ]
    },
    {
     "name": "stdout",
     "output_type": "stream",
     "text": [
      "Did not meet early stopping. Best iteration is:\n",
      "[100]\tTrain's multi_logloss: 0.563701\tValid's multi_logloss: 0.626006\n",
      "[LightGBM] [Warning] Found whitespace in feature_names, replace with underlines\n"
     ]
    },
    {
     "name": "stderr",
     "output_type": "stream",
     "text": [
      "/var/folders/d4/0c_l5jkx5_n985zcb0gf1ng00000gn/T/ipykernel_4343/3458071427.py:8: FutureWarning: suggest_uniform has been deprecated in v3.0.0. This feature will be removed in v6.0.0. See https://github.com/optuna/optuna/releases/tag/v3.0.0. Use suggest_float instead.\n",
      "  learning_rate = trial.suggest_uniform('learning_rate', 0.001, 1)\n"
     ]
    },
    {
     "name": "stdout",
     "output_type": "stream",
     "text": [
      "[LightGBM] [Info] Auto-choosing row-wise multi-threading, the overhead of testing was 0.050339 seconds.\n",
      "You can set `force_row_wise=true` to remove the overhead.\n",
      "And if memory is not enough, you can set `force_col_wise=true`.\n",
      "[LightGBM] [Info] Total Bins 23274\n",
      "[LightGBM] [Info] Number of data points in the train set: 10672, number of used features: 1127\n",
      "[LightGBM] [Warning] Found whitespace in feature_names, replace with underlines\n",
      "[LightGBM] [Info] Start training from score -0.863102\n",
      "[LightGBM] [Info] Start training from score -0.927078\n",
      "[LightGBM] [Info] Start training from score -2.169593\n",
      "[LightGBM] [Info] Start training from score -2.685078\n",
      "Training until validation scores don't improve for 50 rounds\n"
     ]
    },
    {
     "name": "stderr",
     "output_type": "stream",
     "text": [
      "[I 2024-02-29 00:36:42,259] Trial 88 finished with value: 0.732383808095952 and parameters: {'learning_rate': 0.0315700544520881, 'num_leaves': 6}. Best is trial 16 with value: 0.8500749625187406.\n"
     ]
    },
    {
     "name": "stdout",
     "output_type": "stream",
     "text": [
      "Did not meet early stopping. Best iteration is:\n",
      "[100]\tTrain's multi_logloss: 0.773271\tValid's multi_logloss: 0.793603\n",
      "[LightGBM] [Warning] Found whitespace in feature_names, replace with underlines\n"
     ]
    },
    {
     "name": "stderr",
     "output_type": "stream",
     "text": [
      "/var/folders/d4/0c_l5jkx5_n985zcb0gf1ng00000gn/T/ipykernel_4343/3458071427.py:8: FutureWarning: suggest_uniform has been deprecated in v3.0.0. This feature will be removed in v6.0.0. See https://github.com/optuna/optuna/releases/tag/v3.0.0. Use suggest_float instead.\n",
      "  learning_rate = trial.suggest_uniform('learning_rate', 0.001, 1)\n"
     ]
    },
    {
     "name": "stdout",
     "output_type": "stream",
     "text": [
      "[LightGBM] [Info] Auto-choosing row-wise multi-threading, the overhead of testing was 0.050033 seconds.\n",
      "You can set `force_row_wise=true` to remove the overhead.\n",
      "And if memory is not enough, you can set `force_col_wise=true`.\n",
      "[LightGBM] [Info] Total Bins 23274\n",
      "[LightGBM] [Info] Number of data points in the train set: 10672, number of used features: 1127\n",
      "[LightGBM] [Warning] Found whitespace in feature_names, replace with underlines\n",
      "[LightGBM] [Info] Start training from score -0.863102\n",
      "[LightGBM] [Info] Start training from score -0.927078\n",
      "[LightGBM] [Info] Start training from score -2.169593\n",
      "[LightGBM] [Info] Start training from score -2.685078\n",
      "Training until validation scores don't improve for 50 rounds\n"
     ]
    },
    {
     "name": "stderr",
     "output_type": "stream",
     "text": [
      "[I 2024-02-29 00:36:44,192] Trial 89 finished with value: 0.8418290854572713 and parameters: {'learning_rate': 0.2471203049030572, 'num_leaves': 17}. Best is trial 16 with value: 0.8500749625187406.\n"
     ]
    },
    {
     "name": "stdout",
     "output_type": "stream",
     "text": [
      "Did not meet early stopping. Best iteration is:\n",
      "[92]\tTrain's multi_logloss: 0.243175\tValid's multi_logloss: 0.466767\n",
      "[LightGBM] [Warning] Found whitespace in feature_names, replace with underlines\n"
     ]
    },
    {
     "name": "stderr",
     "output_type": "stream",
     "text": [
      "/var/folders/d4/0c_l5jkx5_n985zcb0gf1ng00000gn/T/ipykernel_4343/3458071427.py:8: FutureWarning: suggest_uniform has been deprecated in v3.0.0. This feature will be removed in v6.0.0. See https://github.com/optuna/optuna/releases/tag/v3.0.0. Use suggest_float instead.\n",
      "  learning_rate = trial.suggest_uniform('learning_rate', 0.001, 1)\n"
     ]
    },
    {
     "name": "stdout",
     "output_type": "stream",
     "text": [
      "[LightGBM] [Info] Auto-choosing row-wise multi-threading, the overhead of testing was 0.049242 seconds.\n",
      "You can set `force_row_wise=true` to remove the overhead.\n",
      "And if memory is not enough, you can set `force_col_wise=true`.\n",
      "[LightGBM] [Info] Total Bins 23274\n",
      "[LightGBM] [Info] Number of data points in the train set: 10672, number of used features: 1127\n",
      "[LightGBM] [Warning] Found whitespace in feature_names, replace with underlines\n",
      "[LightGBM] [Info] Start training from score -0.863102\n",
      "[LightGBM] [Info] Start training from score -0.927078\n",
      "[LightGBM] [Info] Start training from score -2.169593\n",
      "[LightGBM] [Info] Start training from score -2.685078\n",
      "Training until validation scores don't improve for 50 rounds\n"
     ]
    },
    {
     "name": "stderr",
     "output_type": "stream",
     "text": [
      "[I 2024-02-29 00:36:45,558] Trial 90 finished with value: 0.8320839580209896 and parameters: {'learning_rate': 0.13153718774763326, 'num_leaves': 11}. Best is trial 16 with value: 0.8500749625187406.\n"
     ]
    },
    {
     "name": "stdout",
     "output_type": "stream",
     "text": [
      "Did not meet early stopping. Best iteration is:\n",
      "[100]\tTrain's multi_logloss: 0.417994\tValid's multi_logloss: 0.528306\n",
      "[LightGBM] [Warning] Found whitespace in feature_names, replace with underlines\n"
     ]
    },
    {
     "name": "stderr",
     "output_type": "stream",
     "text": [
      "/var/folders/d4/0c_l5jkx5_n985zcb0gf1ng00000gn/T/ipykernel_4343/3458071427.py:8: FutureWarning: suggest_uniform has been deprecated in v3.0.0. This feature will be removed in v6.0.0. See https://github.com/optuna/optuna/releases/tag/v3.0.0. Use suggest_float instead.\n",
      "  learning_rate = trial.suggest_uniform('learning_rate', 0.001, 1)\n"
     ]
    },
    {
     "name": "stdout",
     "output_type": "stream",
     "text": [
      "[LightGBM] [Info] Auto-choosing row-wise multi-threading, the overhead of testing was 0.049135 seconds.\n",
      "You can set `force_row_wise=true` to remove the overhead.\n",
      "And if memory is not enough, you can set `force_col_wise=true`.\n",
      "[LightGBM] [Info] Total Bins 23274\n",
      "[LightGBM] [Info] Number of data points in the train set: 10672, number of used features: 1127\n",
      "[LightGBM] [Warning] Found whitespace in feature_names, replace with underlines\n",
      "[LightGBM] [Info] Start training from score -0.863102\n",
      "[LightGBM] [Info] Start training from score -0.927078\n",
      "[LightGBM] [Info] Start training from score -2.169593\n",
      "[LightGBM] [Info] Start training from score -2.685078\n",
      "Training until validation scores don't improve for 50 rounds\n"
     ]
    },
    {
     "name": "stderr",
     "output_type": "stream",
     "text": [
      "[I 2024-02-29 00:36:46,526] Trial 91 finished with value: 0.8455772113943029 and parameters: {'learning_rate': 0.416761455397451, 'num_leaves': 7}. Best is trial 16 with value: 0.8500749625187406.\n"
     ]
    },
    {
     "name": "stdout",
     "output_type": "stream",
     "text": [
      "Did not meet early stopping. Best iteration is:\n",
      "[100]\tTrain's multi_logloss: 0.307032\tValid's multi_logloss: 0.48205\n",
      "[LightGBM] [Warning] Found whitespace in feature_names, replace with underlines\n"
     ]
    },
    {
     "name": "stderr",
     "output_type": "stream",
     "text": [
      "/var/folders/d4/0c_l5jkx5_n985zcb0gf1ng00000gn/T/ipykernel_4343/3458071427.py:8: FutureWarning: suggest_uniform has been deprecated in v3.0.0. This feature will be removed in v6.0.0. See https://github.com/optuna/optuna/releases/tag/v3.0.0. Use suggest_float instead.\n",
      "  learning_rate = trial.suggest_uniform('learning_rate', 0.001, 1)\n"
     ]
    },
    {
     "name": "stdout",
     "output_type": "stream",
     "text": [
      "[LightGBM] [Info] Auto-choosing col-wise multi-threading, the overhead of testing was 0.048245 seconds.\n",
      "You can set `force_col_wise=true` to remove the overhead.\n",
      "[LightGBM] [Info] Total Bins 23274\n",
      "[LightGBM] [Info] Number of data points in the train set: 10672, number of used features: 1127\n",
      "[LightGBM] [Warning] Found whitespace in feature_names, replace with underlines\n",
      "[LightGBM] [Info] Start training from score -0.863102\n",
      "[LightGBM] [Info] Start training from score -0.927078\n",
      "[LightGBM] [Info] Start training from score -2.169593\n",
      "[LightGBM] [Info] Start training from score -2.685078\n",
      "Training until validation scores don't improve for 50 rounds\n"
     ]
    },
    {
     "name": "stderr",
     "output_type": "stream",
     "text": [
      "[I 2024-02-29 00:36:47,301] Trial 92 finished with value: 0.8365817091454273 and parameters: {'learning_rate': 0.47661572377958006, 'num_leaves': 5}. Best is trial 16 with value: 0.8500749625187406.\n"
     ]
    },
    {
     "name": "stdout",
     "output_type": "stream",
     "text": [
      "Did not meet early stopping. Best iteration is:\n",
      "[100]\tTrain's multi_logloss: 0.352208\tValid's multi_logloss: 0.501571\n",
      "[LightGBM] [Warning] Found whitespace in feature_names, replace with underlines\n"
     ]
    },
    {
     "name": "stderr",
     "output_type": "stream",
     "text": [
      "/var/folders/d4/0c_l5jkx5_n985zcb0gf1ng00000gn/T/ipykernel_4343/3458071427.py:8: FutureWarning: suggest_uniform has been deprecated in v3.0.0. This feature will be removed in v6.0.0. See https://github.com/optuna/optuna/releases/tag/v3.0.0. Use suggest_float instead.\n",
      "  learning_rate = trial.suggest_uniform('learning_rate', 0.001, 1)\n"
     ]
    },
    {
     "name": "stdout",
     "output_type": "stream",
     "text": [
      "[LightGBM] [Info] Auto-choosing row-wise multi-threading, the overhead of testing was 0.049284 seconds.\n",
      "You can set `force_row_wise=true` to remove the overhead.\n",
      "And if memory is not enough, you can set `force_col_wise=true`.\n",
      "[LightGBM] [Info] Total Bins 23274\n",
      "[LightGBM] [Info] Number of data points in the train set: 10672, number of used features: 1127\n",
      "[LightGBM] [Warning] Found whitespace in feature_names, replace with underlines\n",
      "[LightGBM] [Info] Start training from score -0.863102\n",
      "[LightGBM] [Info] Start training from score -0.927078\n",
      "[LightGBM] [Info] Start training from score -2.169593\n",
      "[LightGBM] [Info] Start training from score -2.685078\n",
      "Training until validation scores don't improve for 50 rounds\n"
     ]
    },
    {
     "name": "stderr",
     "output_type": "stream",
     "text": [
      "[I 2024-02-29 00:36:48,275] Trial 93 finished with value: 0.8403298350824587 and parameters: {'learning_rate': 0.431468788348808, 'num_leaves': 7}. Best is trial 16 with value: 0.8500749625187406.\n"
     ]
    },
    {
     "name": "stdout",
     "output_type": "stream",
     "text": [
      "Did not meet early stopping. Best iteration is:\n",
      "[100]\tTrain's multi_logloss: 0.301067\tValid's multi_logloss: 0.482043\n",
      "[LightGBM] [Warning] Found whitespace in feature_names, replace with underlines\n"
     ]
    },
    {
     "name": "stderr",
     "output_type": "stream",
     "text": [
      "/var/folders/d4/0c_l5jkx5_n985zcb0gf1ng00000gn/T/ipykernel_4343/3458071427.py:8: FutureWarning: suggest_uniform has been deprecated in v3.0.0. This feature will be removed in v6.0.0. See https://github.com/optuna/optuna/releases/tag/v3.0.0. Use suggest_float instead.\n",
      "  learning_rate = trial.suggest_uniform('learning_rate', 0.001, 1)\n"
     ]
    },
    {
     "name": "stdout",
     "output_type": "stream",
     "text": [
      "[LightGBM] [Info] Auto-choosing row-wise multi-threading, the overhead of testing was 0.048872 seconds.\n",
      "You can set `force_row_wise=true` to remove the overhead.\n",
      "And if memory is not enough, you can set `force_col_wise=true`.\n",
      "[LightGBM] [Info] Total Bins 23274\n",
      "[LightGBM] [Info] Number of data points in the train set: 10672, number of used features: 1127\n",
      "[LightGBM] [Warning] Found whitespace in feature_names, replace with underlines\n",
      "[LightGBM] [Info] Start training from score -0.863102\n",
      "[LightGBM] [Info] Start training from score -0.927078\n",
      "[LightGBM] [Info] Start training from score -2.169593\n",
      "[LightGBM] [Info] Start training from score -2.685078\n",
      "Training until validation scores don't improve for 50 rounds\n"
     ]
    },
    {
     "name": "stderr",
     "output_type": "stream",
     "text": [
      "[I 2024-02-29 00:36:49,718] Trial 94 finished with value: 0.8448275862068966 and parameters: {'learning_rate': 0.4042798105763111, 'num_leaves': 12}. Best is trial 16 with value: 0.8500749625187406.\n"
     ]
    },
    {
     "name": "stdout",
     "output_type": "stream",
     "text": [
      "Did not meet early stopping. Best iteration is:\n",
      "[84]\tTrain's multi_logloss: 0.238014\tValid's multi_logloss: 0.470318\n",
      "[LightGBM] [Warning] Found whitespace in feature_names, replace with underlines\n"
     ]
    },
    {
     "name": "stderr",
     "output_type": "stream",
     "text": [
      "/var/folders/d4/0c_l5jkx5_n985zcb0gf1ng00000gn/T/ipykernel_4343/3458071427.py:8: FutureWarning: suggest_uniform has been deprecated in v3.0.0. This feature will be removed in v6.0.0. See https://github.com/optuna/optuna/releases/tag/v3.0.0. Use suggest_float instead.\n",
      "  learning_rate = trial.suggest_uniform('learning_rate', 0.001, 1)\n"
     ]
    },
    {
     "name": "stdout",
     "output_type": "stream",
     "text": [
      "[LightGBM] [Info] Auto-choosing col-wise multi-threading, the overhead of testing was 0.048358 seconds.\n",
      "You can set `force_col_wise=true` to remove the overhead.\n",
      "[LightGBM] [Info] Total Bins 23274\n",
      "[LightGBM] [Info] Number of data points in the train set: 10672, number of used features: 1127\n",
      "[LightGBM] [Warning] Found whitespace in feature_names, replace with underlines\n",
      "[LightGBM] [Info] Start training from score -0.863102\n",
      "[LightGBM] [Info] Start training from score -0.927078\n",
      "[LightGBM] [Info] Start training from score -2.169593\n",
      "[LightGBM] [Info] Start training from score -2.685078\n",
      "Training until validation scores don't improve for 50 rounds\n"
     ]
    },
    {
     "name": "stderr",
     "output_type": "stream",
     "text": [
      "[I 2024-02-29 00:36:51,160] Trial 95 finished with value: 0.8448275862068966 and parameters: {'learning_rate': 0.39714786412389214, 'num_leaves': 12}. Best is trial 16 with value: 0.8500749625187406.\n"
     ]
    },
    {
     "name": "stdout",
     "output_type": "stream",
     "text": [
      "Did not meet early stopping. Best iteration is:\n",
      "[63]\tTrain's multi_logloss: 0.288031\tValid's multi_logloss: 0.470364\n",
      "[LightGBM] [Warning] Found whitespace in feature_names, replace with underlines\n"
     ]
    },
    {
     "name": "stderr",
     "output_type": "stream",
     "text": [
      "/var/folders/d4/0c_l5jkx5_n985zcb0gf1ng00000gn/T/ipykernel_4343/3458071427.py:8: FutureWarning: suggest_uniform has been deprecated in v3.0.0. This feature will be removed in v6.0.0. See https://github.com/optuna/optuna/releases/tag/v3.0.0. Use suggest_float instead.\n",
      "  learning_rate = trial.suggest_uniform('learning_rate', 0.001, 1)\n"
     ]
    },
    {
     "name": "stdout",
     "output_type": "stream",
     "text": [
      "[LightGBM] [Info] Auto-choosing col-wise multi-threading, the overhead of testing was 0.048145 seconds.\n",
      "You can set `force_col_wise=true` to remove the overhead.\n",
      "[LightGBM] [Info] Total Bins 23274\n",
      "[LightGBM] [Info] Number of data points in the train set: 10672, number of used features: 1127\n",
      "[LightGBM] [Warning] Found whitespace in feature_names, replace with underlines\n",
      "[LightGBM] [Info] Start training from score -0.863102\n",
      "[LightGBM] [Info] Start training from score -0.927078\n",
      "[LightGBM] [Info] Start training from score -2.169593\n",
      "[LightGBM] [Info] Start training from score -2.685078\n",
      "Training until validation scores don't improve for 50 rounds\n"
     ]
    },
    {
     "name": "stderr",
     "output_type": "stream",
     "text": [
      "[I 2024-02-29 00:36:52,690] Trial 96 finished with value: 0.8403298350824587 and parameters: {'learning_rate': 0.5126809200463984, 'num_leaves': 13}. Best is trial 16 with value: 0.8500749625187406.\n"
     ]
    },
    {
     "name": "stdout",
     "output_type": "stream",
     "text": [
      "Did not meet early stopping. Best iteration is:\n",
      "[59]\tTrain's multi_logloss: 0.239335\tValid's multi_logloss: 0.472591\n",
      "[LightGBM] [Warning] Found whitespace in feature_names, replace with underlines\n"
     ]
    },
    {
     "name": "stderr",
     "output_type": "stream",
     "text": [
      "/var/folders/d4/0c_l5jkx5_n985zcb0gf1ng00000gn/T/ipykernel_4343/3458071427.py:8: FutureWarning: suggest_uniform has been deprecated in v3.0.0. This feature will be removed in v6.0.0. See https://github.com/optuna/optuna/releases/tag/v3.0.0. Use suggest_float instead.\n",
      "  learning_rate = trial.suggest_uniform('learning_rate', 0.001, 1)\n"
     ]
    },
    {
     "name": "stdout",
     "output_type": "stream",
     "text": [
      "[LightGBM] [Info] Auto-choosing row-wise multi-threading, the overhead of testing was 0.049155 seconds.\n",
      "You can set `force_row_wise=true` to remove the overhead.\n",
      "And if memory is not enough, you can set `force_col_wise=true`.\n",
      "[LightGBM] [Info] Total Bins 23274\n",
      "[LightGBM] [Info] Number of data points in the train set: 10672, number of used features: 1127\n",
      "[LightGBM] [Warning] Found whitespace in feature_names, replace with underlines\n",
      "[LightGBM] [Info] Start training from score -0.863102\n",
      "[LightGBM] [Info] Start training from score -0.927078\n",
      "[LightGBM] [Info] Start training from score -2.169593\n",
      "[LightGBM] [Info] Start training from score -2.685078\n",
      "Training until validation scores don't improve for 50 rounds\n"
     ]
    },
    {
     "name": "stderr",
     "output_type": "stream",
     "text": [
      "[I 2024-02-29 00:36:53,949] Trial 97 finished with value: 0.843328335832084 and parameters: {'learning_rate': 0.39380023190494834, 'num_leaves': 10}. Best is trial 16 with value: 0.8500749625187406.\n"
     ]
    },
    {
     "name": "stdout",
     "output_type": "stream",
     "text": [
      "Did not meet early stopping. Best iteration is:\n",
      "[93]\tTrain's multi_logloss: 0.26046\tValid's multi_logloss: 0.4731\n",
      "[LightGBM] [Warning] Found whitespace in feature_names, replace with underlines\n"
     ]
    },
    {
     "name": "stderr",
     "output_type": "stream",
     "text": [
      "/var/folders/d4/0c_l5jkx5_n985zcb0gf1ng00000gn/T/ipykernel_4343/3458071427.py:8: FutureWarning: suggest_uniform has been deprecated in v3.0.0. This feature will be removed in v6.0.0. See https://github.com/optuna/optuna/releases/tag/v3.0.0. Use suggest_float instead.\n",
      "  learning_rate = trial.suggest_uniform('learning_rate', 0.001, 1)\n"
     ]
    },
    {
     "name": "stdout",
     "output_type": "stream",
     "text": [
      "[LightGBM] [Info] Auto-choosing row-wise multi-threading, the overhead of testing was 0.049635 seconds.\n",
      "You can set `force_row_wise=true` to remove the overhead.\n",
      "And if memory is not enough, you can set `force_col_wise=true`.\n",
      "[LightGBM] [Info] Total Bins 23274\n",
      "[LightGBM] [Info] Number of data points in the train set: 10672, number of used features: 1127\n",
      "[LightGBM] [Warning] Found whitespace in feature_names, replace with underlines\n",
      "[LightGBM] [Info] Start training from score -0.863102\n",
      "[LightGBM] [Info] Start training from score -0.927078\n",
      "[LightGBM] [Info] Start training from score -2.169593\n",
      "[LightGBM] [Info] Start training from score -2.685078\n",
      "Training until validation scores don't improve for 50 rounds\n"
     ]
    },
    {
     "name": "stderr",
     "output_type": "stream",
     "text": [
      "[I 2024-02-29 00:36:55,385] Trial 98 finished with value: 0.8343328335832084 and parameters: {'learning_rate': 0.6483780219707835, 'num_leaves': 12}. Best is trial 16 with value: 0.8500749625187406.\n"
     ]
    },
    {
     "name": "stdout",
     "output_type": "stream",
     "text": [
      "Did not meet early stopping. Best iteration is:\n",
      "[54]\tTrain's multi_logloss: 0.224978\tValid's multi_logloss: 0.494354\n",
      "[LightGBM] [Warning] Found whitespace in feature_names, replace with underlines\n"
     ]
    },
    {
     "name": "stderr",
     "output_type": "stream",
     "text": [
      "/var/folders/d4/0c_l5jkx5_n985zcb0gf1ng00000gn/T/ipykernel_4343/3458071427.py:8: FutureWarning: suggest_uniform has been deprecated in v3.0.0. This feature will be removed in v6.0.0. See https://github.com/optuna/optuna/releases/tag/v3.0.0. Use suggest_float instead.\n",
      "  learning_rate = trial.suggest_uniform('learning_rate', 0.001, 1)\n"
     ]
    },
    {
     "name": "stdout",
     "output_type": "stream",
     "text": [
      "[LightGBM] [Info] Auto-choosing row-wise multi-threading, the overhead of testing was 0.049588 seconds.\n",
      "You can set `force_row_wise=true` to remove the overhead.\n",
      "And if memory is not enough, you can set `force_col_wise=true`.\n",
      "[LightGBM] [Info] Total Bins 23274\n",
      "[LightGBM] [Info] Number of data points in the train set: 10672, number of used features: 1127\n",
      "[LightGBM] [Warning] Found whitespace in feature_names, replace with underlines\n",
      "[LightGBM] [Info] Start training from score -0.863102\n",
      "[LightGBM] [Info] Start training from score -0.927078\n",
      "[LightGBM] [Info] Start training from score -2.169593\n",
      "[LightGBM] [Info] Start training from score -2.685078\n",
      "Training until validation scores don't improve for 50 rounds\n"
     ]
    },
    {
     "name": "stderr",
     "output_type": "stream",
     "text": [
      "[I 2024-02-29 00:36:56,550] Trial 99 finished with value: 0.8508245877061469 and parameters: {'learning_rate': 0.33329151644262134, 'num_leaves': 9}. Best is trial 99 with value: 0.8508245877061469.\n"
     ]
    },
    {
     "name": "stdout",
     "output_type": "stream",
     "text": [
      "Did not meet early stopping. Best iteration is:\n",
      "[100]\tTrain's multi_logloss: 0.29932\tValid's multi_logloss: 0.470064\n",
      "[LightGBM] [Warning] Found whitespace in feature_names, replace with underlines\n"
     ]
    },
    {
     "name": "stderr",
     "output_type": "stream",
     "text": [
      "/var/folders/d4/0c_l5jkx5_n985zcb0gf1ng00000gn/T/ipykernel_4343/3458071427.py:8: FutureWarning: suggest_uniform has been deprecated in v3.0.0. This feature will be removed in v6.0.0. See https://github.com/optuna/optuna/releases/tag/v3.0.0. Use suggest_float instead.\n",
      "  learning_rate = trial.suggest_uniform('learning_rate', 0.001, 1)\n"
     ]
    },
    {
     "name": "stdout",
     "output_type": "stream",
     "text": [
      "[LightGBM] [Info] Auto-choosing row-wise multi-threading, the overhead of testing was 0.050349 seconds.\n",
      "You can set `force_row_wise=true` to remove the overhead.\n",
      "And if memory is not enough, you can set `force_col_wise=true`.\n",
      "[LightGBM] [Info] Total Bins 23274\n",
      "[LightGBM] [Info] Number of data points in the train set: 10672, number of used features: 1127\n",
      "[LightGBM] [Warning] Found whitespace in feature_names, replace with underlines\n",
      "[LightGBM] [Info] Start training from score -0.863102\n",
      "[LightGBM] [Info] Start training from score -0.927078\n",
      "[LightGBM] [Info] Start training from score -2.169593\n",
      "[LightGBM] [Info] Start training from score -2.685078\n",
      "Training until validation scores don't improve for 50 rounds\n"
     ]
    },
    {
     "name": "stderr",
     "output_type": "stream",
     "text": [
      "[I 2024-02-29 00:36:57,622] Trial 100 finished with value: 0.8425787106446777 and parameters: {'learning_rate': 0.33964184275197973, 'num_leaves': 8}. Best is trial 99 with value: 0.8508245877061469.\n"
     ]
    },
    {
     "name": "stdout",
     "output_type": "stream",
     "text": [
      "Did not meet early stopping. Best iteration is:\n",
      "[100]\tTrain's multi_logloss: 0.317854\tValid's multi_logloss: 0.484794\n",
      "[LightGBM] [Warning] Found whitespace in feature_names, replace with underlines\n"
     ]
    },
    {
     "name": "stderr",
     "output_type": "stream",
     "text": [
      "/var/folders/d4/0c_l5jkx5_n985zcb0gf1ng00000gn/T/ipykernel_4343/3458071427.py:8: FutureWarning: suggest_uniform has been deprecated in v3.0.0. This feature will be removed in v6.0.0. See https://github.com/optuna/optuna/releases/tag/v3.0.0. Use suggest_float instead.\n",
      "  learning_rate = trial.suggest_uniform('learning_rate', 0.001, 1)\n"
     ]
    },
    {
     "name": "stdout",
     "output_type": "stream",
     "text": [
      "[LightGBM] [Info] Auto-choosing row-wise multi-threading, the overhead of testing was 0.049340 seconds.\n",
      "You can set `force_row_wise=true` to remove the overhead.\n",
      "And if memory is not enough, you can set `force_col_wise=true`.\n",
      "[LightGBM] [Info] Total Bins 23274\n",
      "[LightGBM] [Info] Number of data points in the train set: 10672, number of used features: 1127\n",
      "[LightGBM] [Warning] Found whitespace in feature_names, replace with underlines\n",
      "[LightGBM] [Info] Start training from score -0.863102\n",
      "[LightGBM] [Info] Start training from score -0.927078\n",
      "[LightGBM] [Info] Start training from score -2.169593\n",
      "[LightGBM] [Info] Start training from score -2.685078\n",
      "Training until validation scores don't improve for 50 rounds\n"
     ]
    },
    {
     "name": "stderr",
     "output_type": "stream",
     "text": [
      "[I 2024-02-29 00:36:58,777] Trial 101 finished with value: 0.8448275862068966 and parameters: {'learning_rate': 0.426668174201858, 'num_leaves': 9}. Best is trial 99 with value: 0.8508245877061469.\n"
     ]
    },
    {
     "name": "stdout",
     "output_type": "stream",
     "text": [
      "Did not meet early stopping. Best iteration is:\n",
      "[94]\tTrain's multi_logloss: 0.265927\tValid's multi_logloss: 0.46688\n",
      "[LightGBM] [Warning] Found whitespace in feature_names, replace with underlines\n"
     ]
    },
    {
     "name": "stderr",
     "output_type": "stream",
     "text": [
      "/var/folders/d4/0c_l5jkx5_n985zcb0gf1ng00000gn/T/ipykernel_4343/3458071427.py:8: FutureWarning: suggest_uniform has been deprecated in v3.0.0. This feature will be removed in v6.0.0. See https://github.com/optuna/optuna/releases/tag/v3.0.0. Use suggest_float instead.\n",
      "  learning_rate = trial.suggest_uniform('learning_rate', 0.001, 1)\n"
     ]
    },
    {
     "name": "stdout",
     "output_type": "stream",
     "text": [
      "[LightGBM] [Info] Auto-choosing row-wise multi-threading, the overhead of testing was 0.049177 seconds.\n",
      "You can set `force_row_wise=true` to remove the overhead.\n",
      "And if memory is not enough, you can set `force_col_wise=true`.\n",
      "[LightGBM] [Info] Total Bins 23274\n",
      "[LightGBM] [Info] Number of data points in the train set: 10672, number of used features: 1127\n",
      "[LightGBM] [Warning] Found whitespace in feature_names, replace with underlines\n",
      "[LightGBM] [Info] Start training from score -0.863102\n",
      "[LightGBM] [Info] Start training from score -0.927078\n",
      "[LightGBM] [Info] Start training from score -2.169593\n",
      "[LightGBM] [Info] Start training from score -2.685078\n",
      "Training until validation scores don't improve for 50 rounds\n"
     ]
    },
    {
     "name": "stderr",
     "output_type": "stream",
     "text": [
      "[I 2024-02-29 00:37:00,220] Trial 102 finished with value: 0.8418290854572713 and parameters: {'learning_rate': 0.3704349396875594, 'num_leaves': 12}. Best is trial 99 with value: 0.8508245877061469.\n"
     ]
    },
    {
     "name": "stdout",
     "output_type": "stream",
     "text": [
      "Did not meet early stopping. Best iteration is:\n",
      "[86]\tTrain's multi_logloss: 0.25013\tValid's multi_logloss: 0.46558\n",
      "[LightGBM] [Warning] Found whitespace in feature_names, replace with underlines\n"
     ]
    },
    {
     "name": "stderr",
     "output_type": "stream",
     "text": [
      "/var/folders/d4/0c_l5jkx5_n985zcb0gf1ng00000gn/T/ipykernel_4343/3458071427.py:8: FutureWarning: suggest_uniform has been deprecated in v3.0.0. This feature will be removed in v6.0.0. See https://github.com/optuna/optuna/releases/tag/v3.0.0. Use suggest_float instead.\n",
      "  learning_rate = trial.suggest_uniform('learning_rate', 0.001, 1)\n"
     ]
    },
    {
     "name": "stdout",
     "output_type": "stream",
     "text": [
      "[LightGBM] [Info] Auto-choosing row-wise multi-threading, the overhead of testing was 0.049479 seconds.\n",
      "You can set `force_row_wise=true` to remove the overhead.\n",
      "And if memory is not enough, you can set `force_col_wise=true`.\n",
      "[LightGBM] [Info] Total Bins 23274\n",
      "[LightGBM] [Info] Number of data points in the train set: 10672, number of used features: 1127\n",
      "[LightGBM] [Warning] Found whitespace in feature_names, replace with underlines\n",
      "[LightGBM] [Info] Start training from score -0.863102\n",
      "[LightGBM] [Info] Start training from score -0.927078\n",
      "[LightGBM] [Info] Start training from score -2.169593\n",
      "[LightGBM] [Info] Start training from score -2.685078\n",
      "Training until validation scores don't improve for 50 rounds\n"
     ]
    },
    {
     "name": "stderr",
     "output_type": "stream",
     "text": [
      "[I 2024-02-29 00:37:03,439] Trial 103 finished with value: 0.8403298350824587 and parameters: {'learning_rate': 0.40764429878904096, 'num_leaves': 44}. Best is trial 99 with value: 0.8508245877061469.\n"
     ]
    },
    {
     "name": "stdout",
     "output_type": "stream",
     "text": [
      "Early stopping, best iteration is:\n",
      "[21]\tTrain's multi_logloss: 0.22632\tValid's multi_logloss: 0.472212\n",
      "[LightGBM] [Warning] Found whitespace in feature_names, replace with underlines\n"
     ]
    },
    {
     "name": "stderr",
     "output_type": "stream",
     "text": [
      "/var/folders/d4/0c_l5jkx5_n985zcb0gf1ng00000gn/T/ipykernel_4343/3458071427.py:8: FutureWarning: suggest_uniform has been deprecated in v3.0.0. This feature will be removed in v6.0.0. See https://github.com/optuna/optuna/releases/tag/v3.0.0. Use suggest_float instead.\n",
      "  learning_rate = trial.suggest_uniform('learning_rate', 0.001, 1)\n"
     ]
    },
    {
     "name": "stdout",
     "output_type": "stream",
     "text": [
      "[LightGBM] [Info] Auto-choosing col-wise multi-threading, the overhead of testing was 0.047929 seconds.\n",
      "You can set `force_col_wise=true` to remove the overhead.\n",
      "[LightGBM] [Info] Total Bins 23274\n",
      "[LightGBM] [Info] Number of data points in the train set: 10672, number of used features: 1127\n",
      "[LightGBM] [Warning] Found whitespace in feature_names, replace with underlines\n",
      "[LightGBM] [Info] Start training from score -0.863102\n",
      "[LightGBM] [Info] Start training from score -0.927078\n",
      "[LightGBM] [Info] Start training from score -2.169593\n",
      "[LightGBM] [Info] Start training from score -2.685078\n",
      "Training until validation scores don't improve for 50 rounds\n"
     ]
    },
    {
     "name": "stderr",
     "output_type": "stream",
     "text": [
      "[I 2024-02-29 00:37:04,994] Trial 104 finished with value: 0.8403298350824587 and parameters: {'learning_rate': 0.5311251630843759, 'num_leaves': 14}. Best is trial 99 with value: 0.8508245877061469.\n"
     ]
    },
    {
     "name": "stdout",
     "output_type": "stream",
     "text": [
      "Early stopping, best iteration is:\n",
      "[44]\tTrain's multi_logloss: 0.265531\tValid's multi_logloss: 0.477963\n",
      "[LightGBM] [Warning] Found whitespace in feature_names, replace with underlines\n"
     ]
    },
    {
     "name": "stderr",
     "output_type": "stream",
     "text": [
      "/var/folders/d4/0c_l5jkx5_n985zcb0gf1ng00000gn/T/ipykernel_4343/3458071427.py:8: FutureWarning: suggest_uniform has been deprecated in v3.0.0. This feature will be removed in v6.0.0. See https://github.com/optuna/optuna/releases/tag/v3.0.0. Use suggest_float instead.\n",
      "  learning_rate = trial.suggest_uniform('learning_rate', 0.001, 1)\n"
     ]
    },
    {
     "name": "stdout",
     "output_type": "stream",
     "text": [
      "[LightGBM] [Info] Auto-choosing col-wise multi-threading, the overhead of testing was 0.048384 seconds.\n",
      "You can set `force_col_wise=true` to remove the overhead.\n",
      "[LightGBM] [Info] Total Bins 23274\n",
      "[LightGBM] [Info] Number of data points in the train set: 10672, number of used features: 1127\n",
      "[LightGBM] [Warning] Found whitespace in feature_names, replace with underlines\n",
      "[LightGBM] [Info] Start training from score -0.863102\n",
      "[LightGBM] [Info] Start training from score -0.927078\n",
      "[LightGBM] [Info] Start training from score -2.169593\n",
      "[LightGBM] [Info] Start training from score -2.685078\n",
      "Training until validation scores don't improve for 50 rounds\n"
     ]
    },
    {
     "name": "stderr",
     "output_type": "stream",
     "text": [
      "[I 2024-02-29 00:37:06,832] Trial 105 finished with value: 0.843328335832084 and parameters: {'learning_rate': 0.26350546214128123, 'num_leaves': 16}. Best is trial 99 with value: 0.8508245877061469.\n"
     ]
    },
    {
     "name": "stdout",
     "output_type": "stream",
     "text": [
      "Did not meet early stopping. Best iteration is:\n",
      "[91]\tTrain's multi_logloss: 0.245181\tValid's multi_logloss: 0.462833\n",
      "[LightGBM] [Warning] Found whitespace in feature_names, replace with underlines\n"
     ]
    },
    {
     "name": "stderr",
     "output_type": "stream",
     "text": [
      "/var/folders/d4/0c_l5jkx5_n985zcb0gf1ng00000gn/T/ipykernel_4343/3458071427.py:8: FutureWarning: suggest_uniform has been deprecated in v3.0.0. This feature will be removed in v6.0.0. See https://github.com/optuna/optuna/releases/tag/v3.0.0. Use suggest_float instead.\n",
      "  learning_rate = trial.suggest_uniform('learning_rate', 0.001, 1)\n"
     ]
    },
    {
     "name": "stdout",
     "output_type": "stream",
     "text": [
      "[LightGBM] [Info] Auto-choosing row-wise multi-threading, the overhead of testing was 0.049965 seconds.\n",
      "You can set `force_row_wise=true` to remove the overhead.\n",
      "And if memory is not enough, you can set `force_col_wise=true`.\n",
      "[LightGBM] [Info] Total Bins 23274\n",
      "[LightGBM] [Info] Number of data points in the train set: 10672, number of used features: 1127\n",
      "[LightGBM] [Warning] Found whitespace in feature_names, replace with underlines\n",
      "[LightGBM] [Info] Start training from score -0.863102\n",
      "[LightGBM] [Info] Start training from score -0.927078\n",
      "[LightGBM] [Info] Start training from score -2.169593\n",
      "[LightGBM] [Info] Start training from score -2.685078\n",
      "Training until validation scores don't improve for 50 rounds\n"
     ]
    },
    {
     "name": "stderr",
     "output_type": "stream",
     "text": [
      "[I 2024-02-29 00:37:08,189] Trial 106 finished with value: 0.8448275862068966 and parameters: {'learning_rate': 0.3150018141660802, 'num_leaves': 11}. Best is trial 99 with value: 0.8508245877061469.\n"
     ]
    },
    {
     "name": "stdout",
     "output_type": "stream",
     "text": [
      "Did not meet early stopping. Best iteration is:\n",
      "[94]\tTrain's multi_logloss: 0.280126\tValid's multi_logloss: 0.473752\n",
      "[LightGBM] [Warning] Found whitespace in feature_names, replace with underlines\n"
     ]
    },
    {
     "name": "stderr",
     "output_type": "stream",
     "text": [
      "/var/folders/d4/0c_l5jkx5_n985zcb0gf1ng00000gn/T/ipykernel_4343/3458071427.py:8: FutureWarning: suggest_uniform has been deprecated in v3.0.0. This feature will be removed in v6.0.0. See https://github.com/optuna/optuna/releases/tag/v3.0.0. Use suggest_float instead.\n",
      "  learning_rate = trial.suggest_uniform('learning_rate', 0.001, 1)\n"
     ]
    },
    {
     "name": "stdout",
     "output_type": "stream",
     "text": [
      "[LightGBM] [Info] Auto-choosing row-wise multi-threading, the overhead of testing was 0.049135 seconds.\n",
      "You can set `force_row_wise=true` to remove the overhead.\n",
      "And if memory is not enough, you can set `force_col_wise=true`.\n",
      "[LightGBM] [Info] Total Bins 23274\n",
      "[LightGBM] [Info] Number of data points in the train set: 10672, number of used features: 1127\n",
      "[LightGBM] [Warning] Found whitespace in feature_names, replace with underlines\n",
      "[LightGBM] [Info] Start training from score -0.863102\n",
      "[LightGBM] [Info] Start training from score -0.927078\n",
      "[LightGBM] [Info] Start training from score -2.169593\n",
      "[LightGBM] [Info] Start training from score -2.685078\n",
      "Training until validation scores don't improve for 50 rounds\n"
     ]
    },
    {
     "name": "stderr",
     "output_type": "stream",
     "text": [
      "[I 2024-02-29 00:37:09,439] Trial 107 finished with value: 0.8440779610194903 and parameters: {'learning_rate': 0.47387697362795866, 'num_leaves': 10}. Best is trial 99 with value: 0.8508245877061469.\n"
     ]
    },
    {
     "name": "stdout",
     "output_type": "stream",
     "text": [
      "Did not meet early stopping. Best iteration is:\n",
      "[79]\tTrain's multi_logloss: 0.255164\tValid's multi_logloss: 0.470043\n",
      "[LightGBM] [Warning] Found whitespace in feature_names, replace with underlines\n"
     ]
    },
    {
     "name": "stderr",
     "output_type": "stream",
     "text": [
      "/var/folders/d4/0c_l5jkx5_n985zcb0gf1ng00000gn/T/ipykernel_4343/3458071427.py:8: FutureWarning: suggest_uniform has been deprecated in v3.0.0. This feature will be removed in v6.0.0. See https://github.com/optuna/optuna/releases/tag/v3.0.0. Use suggest_float instead.\n",
      "  learning_rate = trial.suggest_uniform('learning_rate', 0.001, 1)\n"
     ]
    },
    {
     "name": "stdout",
     "output_type": "stream",
     "text": [
      "[LightGBM] [Info] Auto-choosing col-wise multi-threading, the overhead of testing was 0.047709 seconds.\n",
      "You can set `force_col_wise=true` to remove the overhead.\n",
      "[LightGBM] [Info] Total Bins 23274\n",
      "[LightGBM] [Info] Number of data points in the train set: 10672, number of used features: 1127\n",
      "[LightGBM] [Warning] Found whitespace in feature_names, replace with underlines\n",
      "[LightGBM] [Info] Start training from score -0.863102\n",
      "[LightGBM] [Info] Start training from score -0.927078\n",
      "[LightGBM] [Info] Start training from score -2.169593\n",
      "[LightGBM] [Info] Start training from score -2.685078\n",
      "Training until validation scores don't improve for 50 rounds\n"
     ]
    },
    {
     "name": "stderr",
     "output_type": "stream",
     "text": [
      "[I 2024-02-29 00:37:12,727] Trial 108 finished with value: 0.8350824587706147 and parameters: {'learning_rate': 0.4432143754691393, 'num_leaves': 48}. Best is trial 99 with value: 0.8508245877061469.\n"
     ]
    },
    {
     "name": "stdout",
     "output_type": "stream",
     "text": [
      "Early stopping, best iteration is:\n",
      "[17]\tTrain's multi_logloss: 0.233396\tValid's multi_logloss: 0.471673\n",
      "[LightGBM] [Warning] Found whitespace in feature_names, replace with underlines\n"
     ]
    },
    {
     "name": "stderr",
     "output_type": "stream",
     "text": [
      "/var/folders/d4/0c_l5jkx5_n985zcb0gf1ng00000gn/T/ipykernel_4343/3458071427.py:8: FutureWarning: suggest_uniform has been deprecated in v3.0.0. This feature will be removed in v6.0.0. See https://github.com/optuna/optuna/releases/tag/v3.0.0. Use suggest_float instead.\n",
      "  learning_rate = trial.suggest_uniform('learning_rate', 0.001, 1)\n"
     ]
    },
    {
     "name": "stdout",
     "output_type": "stream",
     "text": [
      "[LightGBM] [Info] Auto-choosing col-wise multi-threading, the overhead of testing was 0.048525 seconds.\n",
      "You can set `force_col_wise=true` to remove the overhead.\n",
      "[LightGBM] [Info] Total Bins 23274\n",
      "[LightGBM] [Info] Number of data points in the train set: 10672, number of used features: 1127\n",
      "[LightGBM] [Warning] Found whitespace in feature_names, replace with underlines\n",
      "[LightGBM] [Info] Start training from score -0.863102\n",
      "[LightGBM] [Info] Start training from score -0.927078\n",
      "[LightGBM] [Info] Start training from score -2.169593\n",
      "[LightGBM] [Info] Start training from score -2.685078\n",
      "Training until validation scores don't improve for 50 rounds\n"
     ]
    },
    {
     "name": "stderr",
     "output_type": "stream",
     "text": [
      "[I 2024-02-29 00:37:13,600] Trial 109 finished with value: 0.841079460269865 and parameters: {'learning_rate': 0.35661993975758105, 'num_leaves': 6}. Best is trial 99 with value: 0.8508245877061469.\n"
     ]
    },
    {
     "name": "stdout",
     "output_type": "stream",
     "text": [
      "Did not meet early stopping. Best iteration is:\n",
      "[100]\tTrain's multi_logloss: 0.366139\tValid's multi_logloss: 0.509688\n",
      "[LightGBM] [Warning] Found whitespace in feature_names, replace with underlines\n"
     ]
    },
    {
     "name": "stderr",
     "output_type": "stream",
     "text": [
      "/var/folders/d4/0c_l5jkx5_n985zcb0gf1ng00000gn/T/ipykernel_4343/3458071427.py:8: FutureWarning: suggest_uniform has been deprecated in v3.0.0. This feature will be removed in v6.0.0. See https://github.com/optuna/optuna/releases/tag/v3.0.0. Use suggest_float instead.\n",
      "  learning_rate = trial.suggest_uniform('learning_rate', 0.001, 1)\n"
     ]
    },
    {
     "name": "stdout",
     "output_type": "stream",
     "text": [
      "[LightGBM] [Info] Auto-choosing col-wise multi-threading, the overhead of testing was 0.049535 seconds.\n",
      "You can set `force_col_wise=true` to remove the overhead.\n",
      "[LightGBM] [Info] Total Bins 23274\n",
      "[LightGBM] [Info] Number of data points in the train set: 10672, number of used features: 1127\n",
      "[LightGBM] [Warning] Found whitespace in feature_names, replace with underlines\n",
      "[LightGBM] [Info] Start training from score -0.863102\n",
      "[LightGBM] [Info] Start training from score -0.927078\n",
      "[LightGBM] [Info] Start training from score -2.169593\n",
      "[LightGBM] [Info] Start training from score -2.685078\n",
      "Training until validation scores don't improve for 50 rounds\n"
     ]
    },
    {
     "name": "stderr",
     "output_type": "stream",
     "text": [
      "[I 2024-02-29 00:37:14,793] Trial 110 finished with value: 0.8395802098950524 and parameters: {'learning_rate': 0.21174801968090873, 'num_leaves': 9}. Best is trial 99 with value: 0.8508245877061469.\n"
     ]
    },
    {
     "name": "stdout",
     "output_type": "stream",
     "text": [
      "Did not meet early stopping. Best iteration is:\n",
      "[100]\tTrain's multi_logloss: 0.375837\tValid's multi_logloss: 0.506863\n",
      "[LightGBM] [Warning] Found whitespace in feature_names, replace with underlines\n"
     ]
    },
    {
     "name": "stderr",
     "output_type": "stream",
     "text": [
      "/var/folders/d4/0c_l5jkx5_n985zcb0gf1ng00000gn/T/ipykernel_4343/3458071427.py:8: FutureWarning: suggest_uniform has been deprecated in v3.0.0. This feature will be removed in v6.0.0. See https://github.com/optuna/optuna/releases/tag/v3.0.0. Use suggest_float instead.\n",
      "  learning_rate = trial.suggest_uniform('learning_rate', 0.001, 1)\n"
     ]
    },
    {
     "name": "stdout",
     "output_type": "stream",
     "text": [
      "[LightGBM] [Info] Auto-choosing row-wise multi-threading, the overhead of testing was 0.049457 seconds.\n",
      "You can set `force_row_wise=true` to remove the overhead.\n",
      "And if memory is not enough, you can set `force_col_wise=true`.\n",
      "[LightGBM] [Info] Total Bins 23274\n",
      "[LightGBM] [Info] Number of data points in the train set: 10672, number of used features: 1127\n",
      "[LightGBM] [Warning] Found whitespace in feature_names, replace with underlines\n",
      "[LightGBM] [Info] Start training from score -0.863102\n",
      "[LightGBM] [Info] Start training from score -0.927078\n",
      "[LightGBM] [Info] Start training from score -2.169593\n",
      "[LightGBM] [Info] Start training from score -2.685078\n",
      "Training until validation scores don't improve for 50 rounds\n"
     ]
    },
    {
     "name": "stderr",
     "output_type": "stream",
     "text": [
      "[I 2024-02-29 00:37:15,974] Trial 111 finished with value: 0.843328335832084 and parameters: {'learning_rate': 0.3903996757726194, 'num_leaves': 9}. Best is trial 99 with value: 0.8508245877061469.\n"
     ]
    },
    {
     "name": "stdout",
     "output_type": "stream",
     "text": [
      "Did not meet early stopping. Best iteration is:\n",
      "[87]\tTrain's multi_logloss: 0.293529\tValid's multi_logloss: 0.477266\n",
      "[LightGBM] [Warning] Found whitespace in feature_names, replace with underlines\n"
     ]
    },
    {
     "name": "stderr",
     "output_type": "stream",
     "text": [
      "/var/folders/d4/0c_l5jkx5_n985zcb0gf1ng00000gn/T/ipykernel_4343/3458071427.py:8: FutureWarning: suggest_uniform has been deprecated in v3.0.0. This feature will be removed in v6.0.0. See https://github.com/optuna/optuna/releases/tag/v3.0.0. Use suggest_float instead.\n",
      "  learning_rate = trial.suggest_uniform('learning_rate', 0.001, 1)\n"
     ]
    },
    {
     "name": "stdout",
     "output_type": "stream",
     "text": [
      "[LightGBM] [Info] Auto-choosing row-wise multi-threading, the overhead of testing was 0.048040 seconds.\n",
      "You can set `force_row_wise=true` to remove the overhead.\n",
      "And if memory is not enough, you can set `force_col_wise=true`.\n",
      "[LightGBM] [Info] Total Bins 23274\n",
      "[LightGBM] [Info] Number of data points in the train set: 10672, number of used features: 1127\n",
      "[LightGBM] [Warning] Found whitespace in feature_names, replace with underlines\n",
      "[LightGBM] [Info] Start training from score -0.863102\n",
      "[LightGBM] [Info] Start training from score -0.927078\n",
      "[LightGBM] [Info] Start training from score -2.169593\n",
      "[LightGBM] [Info] Start training from score -2.685078\n",
      "Training until validation scores don't improve for 50 rounds\n"
     ]
    },
    {
     "name": "stderr",
     "output_type": "stream",
     "text": [
      "[I 2024-02-29 00:37:17,056] Trial 112 finished with value: 0.841079460269865 and parameters: {'learning_rate': 0.4151467895054558, 'num_leaves': 8}. Best is trial 99 with value: 0.8508245877061469.\n"
     ]
    },
    {
     "name": "stdout",
     "output_type": "stream",
     "text": [
      "Did not meet early stopping. Best iteration is:\n",
      "[100]\tTrain's multi_logloss: 0.281954\tValid's multi_logloss: 0.470362\n",
      "[LightGBM] [Warning] Found whitespace in feature_names, replace with underlines\n"
     ]
    },
    {
     "name": "stderr",
     "output_type": "stream",
     "text": [
      "/var/folders/d4/0c_l5jkx5_n985zcb0gf1ng00000gn/T/ipykernel_4343/3458071427.py:8: FutureWarning: suggest_uniform has been deprecated in v3.0.0. This feature will be removed in v6.0.0. See https://github.com/optuna/optuna/releases/tag/v3.0.0. Use suggest_float instead.\n",
      "  learning_rate = trial.suggest_uniform('learning_rate', 0.001, 1)\n"
     ]
    },
    {
     "name": "stdout",
     "output_type": "stream",
     "text": [
      "[LightGBM] [Info] Auto-choosing row-wise multi-threading, the overhead of testing was 0.049782 seconds.\n",
      "You can set `force_row_wise=true` to remove the overhead.\n",
      "And if memory is not enough, you can set `force_col_wise=true`.\n",
      "[LightGBM] [Info] Total Bins 23274\n",
      "[LightGBM] [Info] Number of data points in the train set: 10672, number of used features: 1127\n",
      "[LightGBM] [Warning] Found whitespace in feature_names, replace with underlines\n",
      "[LightGBM] [Info] Start training from score -0.863102\n",
      "[LightGBM] [Info] Start training from score -0.927078\n",
      "[LightGBM] [Info] Start training from score -2.169593\n",
      "[LightGBM] [Info] Start training from score -2.685078\n",
      "Training until validation scores don't improve for 50 rounds\n"
     ]
    },
    {
     "name": "stderr",
     "output_type": "stream",
     "text": [
      "[I 2024-02-29 00:37:19,073] Trial 113 finished with value: 0.8425787106446777 and parameters: {'learning_rate': 0.3355620604801386, 'num_leaves': 15}. Best is trial 99 with value: 0.8508245877061469.\n"
     ]
    },
    {
     "name": "stdout",
     "output_type": "stream",
     "text": [
      "Did not meet early stopping. Best iteration is:\n",
      "[77]\tTrain's multi_logloss: 0.243348\tValid's multi_logloss: 0.466078\n",
      "[LightGBM] [Warning] Found whitespace in feature_names, replace with underlines\n"
     ]
    },
    {
     "name": "stderr",
     "output_type": "stream",
     "text": [
      "/var/folders/d4/0c_l5jkx5_n985zcb0gf1ng00000gn/T/ipykernel_4343/3458071427.py:8: FutureWarning: suggest_uniform has been deprecated in v3.0.0. This feature will be removed in v6.0.0. See https://github.com/optuna/optuna/releases/tag/v3.0.0. Use suggest_float instead.\n",
      "  learning_rate = trial.suggest_uniform('learning_rate', 0.001, 1)\n"
     ]
    },
    {
     "name": "stdout",
     "output_type": "stream",
     "text": [
      "[LightGBM] [Info] Auto-choosing row-wise multi-threading, the overhead of testing was 0.048745 seconds.\n",
      "You can set `force_row_wise=true` to remove the overhead.\n",
      "And if memory is not enough, you can set `force_col_wise=true`.\n",
      "[LightGBM] [Info] Total Bins 23274\n",
      "[LightGBM] [Info] Number of data points in the train set: 10672, number of used features: 1127\n",
      "[LightGBM] [Warning] Found whitespace in feature_names, replace with underlines\n",
      "[LightGBM] [Info] Start training from score -0.863102\n",
      "[LightGBM] [Info] Start training from score -0.927078\n",
      "[LightGBM] [Info] Start training from score -2.169593\n",
      "[LightGBM] [Info] Start training from score -2.685078\n",
      "Training until validation scores don't improve for 50 rounds\n"
     ]
    },
    {
     "name": "stderr",
     "output_type": "stream",
     "text": [
      "[I 2024-02-29 00:37:20,328] Trial 114 finished with value: 0.8470764617691154 and parameters: {'learning_rate': 0.29679989467691986, 'num_leaves': 10}. Best is trial 99 with value: 0.8508245877061469.\n"
     ]
    },
    {
     "name": "stdout",
     "output_type": "stream",
     "text": [
      "Did not meet early stopping. Best iteration is:\n",
      "[100]\tTrain's multi_logloss: 0.29783\tValid's multi_logloss: 0.477645\n",
      "[LightGBM] [Warning] Found whitespace in feature_names, replace with underlines\n"
     ]
    },
    {
     "name": "stderr",
     "output_type": "stream",
     "text": [
      "/var/folders/d4/0c_l5jkx5_n985zcb0gf1ng00000gn/T/ipykernel_4343/3458071427.py:8: FutureWarning: suggest_uniform has been deprecated in v3.0.0. This feature will be removed in v6.0.0. See https://github.com/optuna/optuna/releases/tag/v3.0.0. Use suggest_float instead.\n",
      "  learning_rate = trial.suggest_uniform('learning_rate', 0.001, 1)\n"
     ]
    },
    {
     "name": "stdout",
     "output_type": "stream",
     "text": [
      "[LightGBM] [Info] Auto-choosing row-wise multi-threading, the overhead of testing was 0.048979 seconds.\n",
      "You can set `force_row_wise=true` to remove the overhead.\n",
      "And if memory is not enough, you can set `force_col_wise=true`.\n",
      "[LightGBM] [Info] Total Bins 23274\n",
      "[LightGBM] [Info] Number of data points in the train set: 10672, number of used features: 1127\n",
      "[LightGBM] [Warning] Found whitespace in feature_names, replace with underlines\n",
      "[LightGBM] [Info] Start training from score -0.863102\n",
      "[LightGBM] [Info] Start training from score -0.927078\n",
      "[LightGBM] [Info] Start training from score -2.169593\n",
      "[LightGBM] [Info] Start training from score -2.685078\n",
      "Training until validation scores don't improve for 50 rounds\n"
     ]
    },
    {
     "name": "stderr",
     "output_type": "stream",
     "text": [
      "[I 2024-02-29 00:37:21,885] Trial 115 finished with value: 0.8403298350824587 and parameters: {'learning_rate': 0.2666042444395393, 'num_leaves': 13}. Best is trial 99 with value: 0.8508245877061469.\n"
     ]
    },
    {
     "name": "stdout",
     "output_type": "stream",
     "text": [
      "Did not meet early stopping. Best iteration is:\n",
      "[94]\tTrain's multi_logloss: 0.276658\tValid's multi_logloss: 0.465968\n",
      "[LightGBM] [Warning] Found whitespace in feature_names, replace with underlines\n"
     ]
    },
    {
     "name": "stderr",
     "output_type": "stream",
     "text": [
      "/var/folders/d4/0c_l5jkx5_n985zcb0gf1ng00000gn/T/ipykernel_4343/3458071427.py:8: FutureWarning: suggest_uniform has been deprecated in v3.0.0. This feature will be removed in v6.0.0. See https://github.com/optuna/optuna/releases/tag/v3.0.0. Use suggest_float instead.\n",
      "  learning_rate = trial.suggest_uniform('learning_rate', 0.001, 1)\n"
     ]
    },
    {
     "name": "stdout",
     "output_type": "stream",
     "text": [
      "[LightGBM] [Info] Auto-choosing row-wise multi-threading, the overhead of testing was 0.049692 seconds.\n",
      "You can set `force_row_wise=true` to remove the overhead.\n",
      "And if memory is not enough, you can set `force_col_wise=true`.\n",
      "[LightGBM] [Info] Total Bins 23274\n",
      "[LightGBM] [Info] Number of data points in the train set: 10672, number of used features: 1127\n",
      "[LightGBM] [Warning] Found whitespace in feature_names, replace with underlines\n",
      "[LightGBM] [Info] Start training from score -0.863102\n",
      "[LightGBM] [Info] Start training from score -0.927078\n",
      "[LightGBM] [Info] Start training from score -2.169593\n",
      "[LightGBM] [Info] Start training from score -2.685078\n",
      "Training until validation scores don't improve for 50 rounds\n"
     ]
    },
    {
     "name": "stderr",
     "output_type": "stream",
     "text": [
      "[I 2024-02-29 00:37:23,172] Trial 116 finished with value: 0.835832083958021 and parameters: {'learning_rate': 0.17004828680666262, 'num_leaves': 10}. Best is trial 99 with value: 0.8508245877061469.\n"
     ]
    },
    {
     "name": "stdout",
     "output_type": "stream",
     "text": [
      "Did not meet early stopping. Best iteration is:\n",
      "[100]\tTrain's multi_logloss: 0.392635\tValid's multi_logloss: 0.51321\n",
      "[LightGBM] [Warning] Found whitespace in feature_names, replace with underlines\n"
     ]
    },
    {
     "name": "stderr",
     "output_type": "stream",
     "text": [
      "/var/folders/d4/0c_l5jkx5_n985zcb0gf1ng00000gn/T/ipykernel_4343/3458071427.py:8: FutureWarning: suggest_uniform has been deprecated in v3.0.0. This feature will be removed in v6.0.0. See https://github.com/optuna/optuna/releases/tag/v3.0.0. Use suggest_float instead.\n",
      "  learning_rate = trial.suggest_uniform('learning_rate', 0.001, 1)\n"
     ]
    },
    {
     "name": "stdout",
     "output_type": "stream",
     "text": [
      "[LightGBM] [Info] Auto-choosing col-wise multi-threading, the overhead of testing was 0.046689 seconds.\n",
      "You can set `force_col_wise=true` to remove the overhead.\n",
      "[LightGBM] [Info] Total Bins 23274\n",
      "[LightGBM] [Info] Number of data points in the train set: 10672, number of used features: 1127\n",
      "[LightGBM] [Warning] Found whitespace in feature_names, replace with underlines\n",
      "[LightGBM] [Info] Start training from score -0.863102\n",
      "[LightGBM] [Info] Start training from score -0.927078\n",
      "[LightGBM] [Info] Start training from score -2.169593\n",
      "[LightGBM] [Info] Start training from score -2.685078\n",
      "Training until validation scores don't improve for 50 rounds\n"
     ]
    },
    {
     "name": "stderr",
     "output_type": "stream",
     "text": [
      "[I 2024-02-29 00:37:26,174] Trial 117 finished with value: 0.8305847076461769 and parameters: {'learning_rate': 0.3013155111567536, 'num_leaves': 33}. Best is trial 99 with value: 0.8508245877061469.\n"
     ]
    },
    {
     "name": "stdout",
     "output_type": "stream",
     "text": [
      "Early stopping, best iteration is:\n",
      "[37]\tTrain's multi_logloss: 0.238837\tValid's multi_logloss: 0.470516\n",
      "[LightGBM] [Warning] Found whitespace in feature_names, replace with underlines\n"
     ]
    },
    {
     "name": "stderr",
     "output_type": "stream",
     "text": [
      "/var/folders/d4/0c_l5jkx5_n985zcb0gf1ng00000gn/T/ipykernel_4343/3458071427.py:8: FutureWarning: suggest_uniform has been deprecated in v3.0.0. This feature will be removed in v6.0.0. See https://github.com/optuna/optuna/releases/tag/v3.0.0. Use suggest_float instead.\n",
      "  learning_rate = trial.suggest_uniform('learning_rate', 0.001, 1)\n"
     ]
    },
    {
     "name": "stdout",
     "output_type": "stream",
     "text": [
      "[LightGBM] [Info] Auto-choosing row-wise multi-threading, the overhead of testing was 0.049534 seconds.\n",
      "You can set `force_row_wise=true` to remove the overhead.\n",
      "And if memory is not enough, you can set `force_col_wise=true`.\n",
      "[LightGBM] [Info] Total Bins 23274\n",
      "[LightGBM] [Info] Number of data points in the train set: 10672, number of used features: 1127\n",
      "[LightGBM] [Warning] Found whitespace in feature_names, replace with underlines\n",
      "[LightGBM] [Info] Start training from score -0.863102\n",
      "[LightGBM] [Info] Start training from score -0.927078\n",
      "[LightGBM] [Info] Start training from score -2.169593\n",
      "[LightGBM] [Info] Start training from score -2.685078\n",
      "Training until validation scores don't improve for 50 rounds\n"
     ]
    },
    {
     "name": "stderr",
     "output_type": "stream",
     "text": [
      "[I 2024-02-29 00:37:27,557] Trial 118 finished with value: 0.841079460269865 and parameters: {'learning_rate': 0.22966804674692942, 'num_leaves': 11}. Best is trial 99 with value: 0.8508245877061469.\n"
     ]
    },
    {
     "name": "stdout",
     "output_type": "stream",
     "text": [
      "Did not meet early stopping. Best iteration is:\n",
      "[100]\tTrain's multi_logloss: 0.321935\tValid's multi_logloss: 0.482588\n",
      "[LightGBM] [Warning] Found whitespace in feature_names, replace with underlines\n"
     ]
    },
    {
     "name": "stderr",
     "output_type": "stream",
     "text": [
      "/var/folders/d4/0c_l5jkx5_n985zcb0gf1ng00000gn/T/ipykernel_4343/3458071427.py:8: FutureWarning: suggest_uniform has been deprecated in v3.0.0. This feature will be removed in v6.0.0. See https://github.com/optuna/optuna/releases/tag/v3.0.0. Use suggest_float instead.\n",
      "  learning_rate = trial.suggest_uniform('learning_rate', 0.001, 1)\n"
     ]
    },
    {
     "name": "stdout",
     "output_type": "stream",
     "text": [
      "[LightGBM] [Info] Auto-choosing row-wise multi-threading, the overhead of testing was 0.049023 seconds.\n",
      "You can set `force_row_wise=true` to remove the overhead.\n",
      "And if memory is not enough, you can set `force_col_wise=true`.\n",
      "[LightGBM] [Info] Total Bins 23274\n",
      "[LightGBM] [Info] Number of data points in the train set: 10672, number of used features: 1127\n",
      "[LightGBM] [Warning] Found whitespace in feature_names, replace with underlines\n",
      "[LightGBM] [Info] Start training from score -0.863102\n",
      "[LightGBM] [Info] Start training from score -0.927078\n",
      "[LightGBM] [Info] Start training from score -2.169593\n",
      "[LightGBM] [Info] Start training from score -2.685078\n",
      "Training until validation scores don't improve for 50 rounds\n"
     ]
    },
    {
     "name": "stderr",
     "output_type": "stream",
     "text": [
      "[I 2024-02-29 00:37:28,428] Trial 119 finished with value: 0.8373313343328336 and parameters: {'learning_rate': 0.32486509662605, 'num_leaves': 6}. Best is trial 99 with value: 0.8508245877061469.\n"
     ]
    },
    {
     "name": "stdout",
     "output_type": "stream",
     "text": [
      "Did not meet early stopping. Best iteration is:\n",
      "[100]\tTrain's multi_logloss: 0.382856\tValid's multi_logloss: 0.512555\n",
      "[LightGBM] [Warning] Found whitespace in feature_names, replace with underlines\n"
     ]
    },
    {
     "name": "stderr",
     "output_type": "stream",
     "text": [
      "/var/folders/d4/0c_l5jkx5_n985zcb0gf1ng00000gn/T/ipykernel_4343/3458071427.py:8: FutureWarning: suggest_uniform has been deprecated in v3.0.0. This feature will be removed in v6.0.0. See https://github.com/optuna/optuna/releases/tag/v3.0.0. Use suggest_float instead.\n",
      "  learning_rate = trial.suggest_uniform('learning_rate', 0.001, 1)\n"
     ]
    },
    {
     "name": "stdout",
     "output_type": "stream",
     "text": [
      "[LightGBM] [Info] Auto-choosing row-wise multi-threading, the overhead of testing was 0.047871 seconds.\n",
      "You can set `force_row_wise=true` to remove the overhead.\n",
      "And if memory is not enough, you can set `force_col_wise=true`.\n",
      "[LightGBM] [Info] Total Bins 23274\n",
      "[LightGBM] [Info] Number of data points in the train set: 10672, number of used features: 1127\n",
      "[LightGBM] [Warning] Found whitespace in feature_names, replace with underlines\n",
      "[LightGBM] [Info] Start training from score -0.863102\n",
      "[LightGBM] [Info] Start training from score -0.927078\n",
      "[LightGBM] [Info] Start training from score -2.169593\n",
      "[LightGBM] [Info] Start training from score -2.685078\n",
      "Training until validation scores don't improve for 50 rounds\n"
     ]
    },
    {
     "name": "stderr",
     "output_type": "stream",
     "text": [
      "[I 2024-02-29 00:37:29,897] Trial 120 finished with value: 0.8365817091454273 and parameters: {'learning_rate': 0.2921333031474249, 'num_leaves': 12}. Best is trial 99 with value: 0.8508245877061469.\n"
     ]
    },
    {
     "name": "stdout",
     "output_type": "stream",
     "text": [
      "Did not meet early stopping. Best iteration is:\n",
      "[100]\tTrain's multi_logloss: 0.264566\tValid's multi_logloss: 0.472092\n",
      "[LightGBM] [Warning] Found whitespace in feature_names, replace with underlines\n"
     ]
    },
    {
     "name": "stderr",
     "output_type": "stream",
     "text": [
      "/var/folders/d4/0c_l5jkx5_n985zcb0gf1ng00000gn/T/ipykernel_4343/3458071427.py:8: FutureWarning: suggest_uniform has been deprecated in v3.0.0. This feature will be removed in v6.0.0. See https://github.com/optuna/optuna/releases/tag/v3.0.0. Use suggest_float instead.\n",
      "  learning_rate = trial.suggest_uniform('learning_rate', 0.001, 1)\n"
     ]
    },
    {
     "name": "stdout",
     "output_type": "stream",
     "text": [
      "[LightGBM] [Info] Auto-choosing col-wise multi-threading, the overhead of testing was 0.047683 seconds.\n",
      "You can set `force_col_wise=true` to remove the overhead.\n",
      "[LightGBM] [Info] Total Bins 23274\n",
      "[LightGBM] [Info] Number of data points in the train set: 10672, number of used features: 1127\n",
      "[LightGBM] [Warning] Found whitespace in feature_names, replace with underlines\n",
      "[LightGBM] [Info] Start training from score -0.863102\n",
      "[LightGBM] [Info] Start training from score -0.927078\n",
      "[LightGBM] [Info] Start training from score -2.169593\n",
      "[LightGBM] [Info] Start training from score -2.685078\n",
      "Training until validation scores don't improve for 50 rounds\n"
     ]
    },
    {
     "name": "stderr",
     "output_type": "stream",
     "text": [
      "[I 2024-02-29 00:37:31,049] Trial 121 finished with value: 0.8440779610194903 and parameters: {'learning_rate': 0.37597458014538854, 'num_leaves': 9}. Best is trial 99 with value: 0.8508245877061469.\n"
     ]
    },
    {
     "name": "stdout",
     "output_type": "stream",
     "text": [
      "Did not meet early stopping. Best iteration is:\n",
      "[99]\tTrain's multi_logloss: 0.280795\tValid's multi_logloss: 0.470363\n",
      "[LightGBM] [Warning] Found whitespace in feature_names, replace with underlines\n"
     ]
    },
    {
     "name": "stderr",
     "output_type": "stream",
     "text": [
      "/var/folders/d4/0c_l5jkx5_n985zcb0gf1ng00000gn/T/ipykernel_4343/3458071427.py:8: FutureWarning: suggest_uniform has been deprecated in v3.0.0. This feature will be removed in v6.0.0. See https://github.com/optuna/optuna/releases/tag/v3.0.0. Use suggest_float instead.\n",
      "  learning_rate = trial.suggest_uniform('learning_rate', 0.001, 1)\n"
     ]
    },
    {
     "name": "stdout",
     "output_type": "stream",
     "text": [
      "[LightGBM] [Info] Auto-choosing row-wise multi-threading, the overhead of testing was 0.049574 seconds.\n",
      "You can set `force_row_wise=true` to remove the overhead.\n",
      "And if memory is not enough, you can set `force_col_wise=true`.\n",
      "[LightGBM] [Info] Total Bins 23274\n",
      "[LightGBM] [Info] Number of data points in the train set: 10672, number of used features: 1127\n",
      "[LightGBM] [Warning] Found whitespace in feature_names, replace with underlines\n",
      "[LightGBM] [Info] Start training from score -0.863102\n",
      "[LightGBM] [Info] Start training from score -0.927078\n",
      "[LightGBM] [Info] Start training from score -2.169593\n",
      "[LightGBM] [Info] Start training from score -2.685078\n",
      "Training until validation scores don't improve for 50 rounds\n"
     ]
    },
    {
     "name": "stderr",
     "output_type": "stream",
     "text": [
      "[I 2024-02-29 00:37:32,106] Trial 122 finished with value: 0.8470764617691154 and parameters: {'learning_rate': 0.4333755578663134, 'num_leaves': 8}. Best is trial 99 with value: 0.8508245877061469.\n"
     ]
    },
    {
     "name": "stdout",
     "output_type": "stream",
     "text": [
      "Did not meet early stopping. Best iteration is:\n",
      "[100]\tTrain's multi_logloss: 0.273926\tValid's multi_logloss: 0.472339\n",
      "[LightGBM] [Warning] Found whitespace in feature_names, replace with underlines\n"
     ]
    },
    {
     "name": "stderr",
     "output_type": "stream",
     "text": [
      "/var/folders/d4/0c_l5jkx5_n985zcb0gf1ng00000gn/T/ipykernel_4343/3458071427.py:8: FutureWarning: suggest_uniform has been deprecated in v3.0.0. This feature will be removed in v6.0.0. See https://github.com/optuna/optuna/releases/tag/v3.0.0. Use suggest_float instead.\n",
      "  learning_rate = trial.suggest_uniform('learning_rate', 0.001, 1)\n"
     ]
    },
    {
     "name": "stdout",
     "output_type": "stream",
     "text": [
      "[LightGBM] [Info] Auto-choosing row-wise multi-threading, the overhead of testing was 0.049557 seconds.\n",
      "You can set `force_row_wise=true` to remove the overhead.\n",
      "And if memory is not enough, you can set `force_col_wise=true`.\n",
      "[LightGBM] [Info] Total Bins 23274\n",
      "[LightGBM] [Info] Number of data points in the train set: 10672, number of used features: 1127\n",
      "[LightGBM] [Warning] Found whitespace in feature_names, replace with underlines\n",
      "[LightGBM] [Info] Start training from score -0.863102\n",
      "[LightGBM] [Info] Start training from score -0.927078\n",
      "[LightGBM] [Info] Start training from score -2.169593\n",
      "[LightGBM] [Info] Start training from score -2.685078\n",
      "Training until validation scores don't improve for 50 rounds\n"
     ]
    },
    {
     "name": "stderr",
     "output_type": "stream",
     "text": [
      "[I 2024-02-29 00:37:33,166] Trial 123 finished with value: 0.8425787106446777 and parameters: {'learning_rate': 0.39586455921101055, 'num_leaves': 8}. Best is trial 99 with value: 0.8508245877061469.\n"
     ]
    },
    {
     "name": "stdout",
     "output_type": "stream",
     "text": [
      "Did not meet early stopping. Best iteration is:\n",
      "[99]\tTrain's multi_logloss: 0.292954\tValid's multi_logloss: 0.473955\n",
      "[LightGBM] [Warning] Found whitespace in feature_names, replace with underlines\n"
     ]
    },
    {
     "name": "stderr",
     "output_type": "stream",
     "text": [
      "/var/folders/d4/0c_l5jkx5_n985zcb0gf1ng00000gn/T/ipykernel_4343/3458071427.py:8: FutureWarning: suggest_uniform has been deprecated in v3.0.0. This feature will be removed in v6.0.0. See https://github.com/optuna/optuna/releases/tag/v3.0.0. Use suggest_float instead.\n",
      "  learning_rate = trial.suggest_uniform('learning_rate', 0.001, 1)\n"
     ]
    },
    {
     "name": "stdout",
     "output_type": "stream",
     "text": [
      "[LightGBM] [Info] Auto-choosing row-wise multi-threading, the overhead of testing was 0.049102 seconds.\n",
      "You can set `force_row_wise=true` to remove the overhead.\n",
      "And if memory is not enough, you can set `force_col_wise=true`.\n",
      "[LightGBM] [Info] Total Bins 23274\n",
      "[LightGBM] [Info] Number of data points in the train set: 10672, number of used features: 1127\n",
      "[LightGBM] [Warning] Found whitespace in feature_names, replace with underlines\n",
      "[LightGBM] [Info] Start training from score -0.863102\n",
      "[LightGBM] [Info] Start training from score -0.927078\n",
      "[LightGBM] [Info] Start training from score -2.169593\n",
      "[LightGBM] [Info] Start training from score -2.685078\n",
      "Training until validation scores don't improve for 50 rounds\n"
     ]
    },
    {
     "name": "stderr",
     "output_type": "stream",
     "text": [
      "[I 2024-02-29 00:37:34,127] Trial 124 finished with value: 0.8440779610194903 and parameters: {'learning_rate': 0.445100982476545, 'num_leaves': 7}. Best is trial 99 with value: 0.8508245877061469.\n"
     ]
    },
    {
     "name": "stdout",
     "output_type": "stream",
     "text": [
      "Did not meet early stopping. Best iteration is:\n",
      "[100]\tTrain's multi_logloss: 0.297024\tValid's multi_logloss: 0.476989\n",
      "[LightGBM] [Warning] Found whitespace in feature_names, replace with underlines\n"
     ]
    },
    {
     "name": "stderr",
     "output_type": "stream",
     "text": [
      "/var/folders/d4/0c_l5jkx5_n985zcb0gf1ng00000gn/T/ipykernel_4343/3458071427.py:8: FutureWarning: suggest_uniform has been deprecated in v3.0.0. This feature will be removed in v6.0.0. See https://github.com/optuna/optuna/releases/tag/v3.0.0. Use suggest_float instead.\n",
      "  learning_rate = trial.suggest_uniform('learning_rate', 0.001, 1)\n"
     ]
    },
    {
     "name": "stdout",
     "output_type": "stream",
     "text": [
      "[LightGBM] [Info] Auto-choosing col-wise multi-threading, the overhead of testing was 0.055042 seconds.\n",
      "You can set `force_col_wise=true` to remove the overhead.\n",
      "[LightGBM] [Info] Total Bins 23274\n",
      "[LightGBM] [Info] Number of data points in the train set: 10672, number of used features: 1127\n",
      "[LightGBM] [Warning] Found whitespace in feature_names, replace with underlines\n",
      "[LightGBM] [Info] Start training from score -0.863102\n",
      "[LightGBM] [Info] Start training from score -0.927078\n",
      "[LightGBM] [Info] Start training from score -2.169593\n",
      "[LightGBM] [Info] Start training from score -2.685078\n",
      "Training until validation scores don't improve for 50 rounds\n"
     ]
    },
    {
     "name": "stderr",
     "output_type": "stream",
     "text": [
      "[I 2024-02-29 00:37:36,584] Trial 125 finished with value: 0.8403298350824587 and parameters: {'learning_rate': 0.35329355843791016, 'num_leaves': 21}. Best is trial 99 with value: 0.8508245877061469.\n"
     ]
    },
    {
     "name": "stdout",
     "output_type": "stream",
     "text": [
      "Did not meet early stopping. Best iteration is:\n",
      "[56]\tTrain's multi_logloss: 0.224407\tValid's multi_logloss: 0.462241\n",
      "[LightGBM] [Warning] Found whitespace in feature_names, replace with underlines\n"
     ]
    },
    {
     "name": "stderr",
     "output_type": "stream",
     "text": [
      "/var/folders/d4/0c_l5jkx5_n985zcb0gf1ng00000gn/T/ipykernel_4343/3458071427.py:8: FutureWarning: suggest_uniform has been deprecated in v3.0.0. This feature will be removed in v6.0.0. See https://github.com/optuna/optuna/releases/tag/v3.0.0. Use suggest_float instead.\n",
      "  learning_rate = trial.suggest_uniform('learning_rate', 0.001, 1)\n"
     ]
    },
    {
     "name": "stdout",
     "output_type": "stream",
     "text": [
      "[LightGBM] [Info] Auto-choosing row-wise multi-threading, the overhead of testing was 0.049172 seconds.\n",
      "You can set `force_row_wise=true` to remove the overhead.\n",
      "And if memory is not enough, you can set `force_col_wise=true`.\n",
      "[LightGBM] [Info] Total Bins 23274\n",
      "[LightGBM] [Info] Number of data points in the train set: 10672, number of used features: 1127\n",
      "[LightGBM] [Warning] Found whitespace in feature_names, replace with underlines\n",
      "[LightGBM] [Info] Start training from score -0.863102\n",
      "[LightGBM] [Info] Start training from score -0.927078\n",
      "[LightGBM] [Info] Start training from score -2.169593\n",
      "[LightGBM] [Info] Start training from score -2.685078\n",
      "Training until validation scores don't improve for 50 rounds\n"
     ]
    },
    {
     "name": "stderr",
     "output_type": "stream",
     "text": [
      "[I 2024-02-29 00:37:38,533] Trial 126 finished with value: 0.8418290854572713 and parameters: {'learning_rate': 0.46196980605560334, 'num_leaves': 19}. Best is trial 99 with value: 0.8508245877061469.\n"
     ]
    },
    {
     "name": "stdout",
     "output_type": "stream",
     "text": [
      "Early stopping, best iteration is:\n",
      "[41]\tTrain's multi_logloss: 0.245779\tValid's multi_logloss: 0.466449\n",
      "[LightGBM] [Warning] Found whitespace in feature_names, replace with underlines\n"
     ]
    },
    {
     "name": "stderr",
     "output_type": "stream",
     "text": [
      "/var/folders/d4/0c_l5jkx5_n985zcb0gf1ng00000gn/T/ipykernel_4343/3458071427.py:8: FutureWarning: suggest_uniform has been deprecated in v3.0.0. This feature will be removed in v6.0.0. See https://github.com/optuna/optuna/releases/tag/v3.0.0. Use suggest_float instead.\n",
      "  learning_rate = trial.suggest_uniform('learning_rate', 0.001, 1)\n"
     ]
    },
    {
     "name": "stdout",
     "output_type": "stream",
     "text": [
      "[LightGBM] [Info] Auto-choosing row-wise multi-threading, the overhead of testing was 0.049064 seconds.\n",
      "You can set `force_row_wise=true` to remove the overhead.\n",
      "And if memory is not enough, you can set `force_col_wise=true`.\n",
      "[LightGBM] [Info] Total Bins 23274\n",
      "[LightGBM] [Info] Number of data points in the train set: 10672, number of used features: 1127\n",
      "[LightGBM] [Warning] Found whitespace in feature_names, replace with underlines\n",
      "[LightGBM] [Info] Start training from score -0.863102\n",
      "[LightGBM] [Info] Start training from score -0.927078\n",
      "[LightGBM] [Info] Start training from score -2.169593\n",
      "[LightGBM] [Info] Start training from score -2.685078\n",
      "Training until validation scores don't improve for 50 rounds\n"
     ]
    },
    {
     "name": "stderr",
     "output_type": "stream",
     "text": [
      "[I 2024-02-29 00:37:40,235] Trial 127 finished with value: 0.8425787106446777 and parameters: {'learning_rate': 0.2164311066186763, 'num_leaves': 14}. Best is trial 99 with value: 0.8508245877061469.\n"
     ]
    },
    {
     "name": "stdout",
     "output_type": "stream",
     "text": [
      "Did not meet early stopping. Best iteration is:\n",
      "[98]\tTrain's multi_logloss: 0.290989\tValid's multi_logloss: 0.47222\n",
      "[LightGBM] [Warning] Found whitespace in feature_names, replace with underlines\n"
     ]
    },
    {
     "name": "stderr",
     "output_type": "stream",
     "text": [
      "/var/folders/d4/0c_l5jkx5_n985zcb0gf1ng00000gn/T/ipykernel_4343/3458071427.py:8: FutureWarning: suggest_uniform has been deprecated in v3.0.0. This feature will be removed in v6.0.0. See https://github.com/optuna/optuna/releases/tag/v3.0.0. Use suggest_float instead.\n",
      "  learning_rate = trial.suggest_uniform('learning_rate', 0.001, 1)\n"
     ]
    },
    {
     "name": "stdout",
     "output_type": "stream",
     "text": [
      "[LightGBM] [Info] Auto-choosing row-wise multi-threading, the overhead of testing was 0.048615 seconds.\n",
      "You can set `force_row_wise=true` to remove the overhead.\n",
      "And if memory is not enough, you can set `force_col_wise=true`.\n",
      "[LightGBM] [Info] Total Bins 23274\n",
      "[LightGBM] [Info] Number of data points in the train set: 10672, number of used features: 1127\n",
      "[LightGBM] [Warning] Found whitespace in feature_names, replace with underlines\n",
      "[LightGBM] [Info] Start training from score -0.863102\n",
      "[LightGBM] [Info] Start training from score -0.927078\n",
      "[LightGBM] [Info] Start training from score -2.169593\n",
      "[LightGBM] [Info] Start training from score -2.685078\n",
      "Training until validation scores don't improve for 50 rounds\n"
     ]
    },
    {
     "name": "stderr",
     "output_type": "stream",
     "text": [
      "[I 2024-02-29 00:37:41,756] Trial 128 finished with value: 0.8373313343328336 and parameters: {'learning_rate': 0.4876934648972256, 'num_leaves': 11}. Best is trial 99 with value: 0.8508245877061469.\n"
     ]
    },
    {
     "name": "stdout",
     "output_type": "stream",
     "text": [
      "Did not meet early stopping. Best iteration is:\n",
      "[77]\tTrain's multi_logloss: 0.236698\tValid's multi_logloss: 0.477853\n",
      "[LightGBM] [Warning] Found whitespace in feature_names, replace with underlines\n"
     ]
    },
    {
     "name": "stderr",
     "output_type": "stream",
     "text": [
      "/var/folders/d4/0c_l5jkx5_n985zcb0gf1ng00000gn/T/ipykernel_4343/3458071427.py:8: FutureWarning: suggest_uniform has been deprecated in v3.0.0. This feature will be removed in v6.0.0. See https://github.com/optuna/optuna/releases/tag/v3.0.0. Use suggest_float instead.\n",
      "  learning_rate = trial.suggest_uniform('learning_rate', 0.001, 1)\n"
     ]
    },
    {
     "name": "stdout",
     "output_type": "stream",
     "text": [
      "[LightGBM] [Info] Auto-choosing row-wise multi-threading, the overhead of testing was 0.048753 seconds.\n",
      "You can set `force_row_wise=true` to remove the overhead.\n",
      "And if memory is not enough, you can set `force_col_wise=true`.\n",
      "[LightGBM] [Info] Total Bins 23274\n",
      "[LightGBM] [Info] Number of data points in the train set: 10672, number of used features: 1127\n",
      "[LightGBM] [Warning] Found whitespace in feature_names, replace with underlines\n",
      "[LightGBM] [Info] Start training from score -0.863102\n",
      "[LightGBM] [Info] Start training from score -0.927078\n",
      "[LightGBM] [Info] Start training from score -2.169593\n",
      "[LightGBM] [Info] Start training from score -2.685078\n",
      "Training until validation scores don't improve for 50 rounds\n"
     ]
    },
    {
     "name": "stderr",
     "output_type": "stream",
     "text": [
      "[I 2024-02-29 00:37:42,892] Trial 129 finished with value: 0.8350824587706147 and parameters: {'learning_rate': 0.18651137881856644, 'num_leaves': 8}. Best is trial 99 with value: 0.8508245877061469.\n"
     ]
    },
    {
     "name": "stdout",
     "output_type": "stream",
     "text": [
      "Did not meet early stopping. Best iteration is:\n",
      "[100]\tTrain's multi_logloss: 0.420744\tValid's multi_logloss: 0.5283\n",
      "[LightGBM] [Warning] Found whitespace in feature_names, replace with underlines\n"
     ]
    },
    {
     "name": "stderr",
     "output_type": "stream",
     "text": [
      "/var/folders/d4/0c_l5jkx5_n985zcb0gf1ng00000gn/T/ipykernel_4343/3458071427.py:8: FutureWarning: suggest_uniform has been deprecated in v3.0.0. This feature will be removed in v6.0.0. See https://github.com/optuna/optuna/releases/tag/v3.0.0. Use suggest_float instead.\n",
      "  learning_rate = trial.suggest_uniform('learning_rate', 0.001, 1)\n"
     ]
    },
    {
     "name": "stdout",
     "output_type": "stream",
     "text": [
      "[LightGBM] [Info] Auto-choosing row-wise multi-threading, the overhead of testing was 0.061714 seconds.\n",
      "You can set `force_row_wise=true` to remove the overhead.\n",
      "And if memory is not enough, you can set `force_col_wise=true`.\n",
      "[LightGBM] [Info] Total Bins 23274\n",
      "[LightGBM] [Info] Number of data points in the train set: 10672, number of used features: 1127\n",
      "[LightGBM] [Warning] Found whitespace in feature_names, replace with underlines\n",
      "[LightGBM] [Info] Start training from score -0.863102\n",
      "[LightGBM] [Info] Start training from score -0.927078\n",
      "[LightGBM] [Info] Start training from score -2.169593\n",
      "[LightGBM] [Info] Start training from score -2.685078\n",
      "Training until validation scores don't improve for 50 rounds\n"
     ]
    },
    {
     "name": "stderr",
     "output_type": "stream",
     "text": [
      "[I 2024-02-29 00:37:43,833] Trial 130 finished with value: 0.843328335832084 and parameters: {'learning_rate': 0.41880342934268067, 'num_leaves': 5}. Best is trial 99 with value: 0.8508245877061469.\n"
     ]
    },
    {
     "name": "stdout",
     "output_type": "stream",
     "text": [
      "Did not meet early stopping. Best iteration is:\n",
      "[100]\tTrain's multi_logloss: 0.375229\tValid's multi_logloss: 0.507825\n",
      "[LightGBM] [Warning] Found whitespace in feature_names, replace with underlines\n"
     ]
    },
    {
     "name": "stderr",
     "output_type": "stream",
     "text": [
      "/var/folders/d4/0c_l5jkx5_n985zcb0gf1ng00000gn/T/ipykernel_4343/3458071427.py:8: FutureWarning: suggest_uniform has been deprecated in v3.0.0. This feature will be removed in v6.0.0. See https://github.com/optuna/optuna/releases/tag/v3.0.0. Use suggest_float instead.\n",
      "  learning_rate = trial.suggest_uniform('learning_rate', 0.001, 1)\n"
     ]
    },
    {
     "name": "stdout",
     "output_type": "stream",
     "text": [
      "[LightGBM] [Info] Auto-choosing row-wise multi-threading, the overhead of testing was 0.049746 seconds.\n",
      "You can set `force_row_wise=true` to remove the overhead.\n",
      "And if memory is not enough, you can set `force_col_wise=true`.\n",
      "[LightGBM] [Info] Total Bins 23274\n",
      "[LightGBM] [Info] Number of data points in the train set: 10672, number of used features: 1127\n",
      "[LightGBM] [Warning] Found whitespace in feature_names, replace with underlines\n",
      "[LightGBM] [Info] Start training from score -0.863102\n",
      "[LightGBM] [Info] Start training from score -0.927078\n",
      "[LightGBM] [Info] Start training from score -2.169593\n",
      "[LightGBM] [Info] Start training from score -2.685078\n",
      "Training until validation scores don't improve for 50 rounds\n"
     ]
    },
    {
     "name": "stderr",
     "output_type": "stream",
     "text": [
      "[I 2024-02-29 00:37:45,084] Trial 131 finished with value: 0.8328335832083958 and parameters: {'learning_rate': 0.42943398036173336, 'num_leaves': 10}. Best is trial 99 with value: 0.8508245877061469.\n"
     ]
    },
    {
     "name": "stdout",
     "output_type": "stream",
     "text": [
      "Did not meet early stopping. Best iteration is:\n",
      "[100]\tTrain's multi_logloss: 0.235458\tValid's multi_logloss: 0.480795\n",
      "[LightGBM] [Warning] Found whitespace in feature_names, replace with underlines\n"
     ]
    },
    {
     "name": "stderr",
     "output_type": "stream",
     "text": [
      "/var/folders/d4/0c_l5jkx5_n985zcb0gf1ng00000gn/T/ipykernel_4343/3458071427.py:8: FutureWarning: suggest_uniform has been deprecated in v3.0.0. This feature will be removed in v6.0.0. See https://github.com/optuna/optuna/releases/tag/v3.0.0. Use suggest_float instead.\n",
      "  learning_rate = trial.suggest_uniform('learning_rate', 0.001, 1)\n"
     ]
    },
    {
     "name": "stdout",
     "output_type": "stream",
     "text": [
      "[LightGBM] [Info] Auto-choosing row-wise multi-threading, the overhead of testing was 0.049117 seconds.\n",
      "You can set `force_row_wise=true` to remove the overhead.\n",
      "And if memory is not enough, you can set `force_col_wise=true`.\n",
      "[LightGBM] [Info] Total Bins 23274\n",
      "[LightGBM] [Info] Number of data points in the train set: 10672, number of used features: 1127\n",
      "[LightGBM] [Warning] Found whitespace in feature_names, replace with underlines\n",
      "[LightGBM] [Info] Start training from score -0.863102\n",
      "[LightGBM] [Info] Start training from score -0.927078\n",
      "[LightGBM] [Info] Start training from score -2.169593\n",
      "[LightGBM] [Info] Start training from score -2.685078\n",
      "Training until validation scores don't improve for 50 rounds\n"
     ]
    },
    {
     "name": "stderr",
     "output_type": "stream",
     "text": [
      "[I 2024-02-29 00:37:46,244] Trial 132 finished with value: 0.8403298350824587 and parameters: {'learning_rate': 0.25177588093545056, 'num_leaves': 9}. Best is trial 99 with value: 0.8508245877061469.\n"
     ]
    },
    {
     "name": "stdout",
     "output_type": "stream",
     "text": [
      "Did not meet early stopping. Best iteration is:\n",
      "[100]\tTrain's multi_logloss: 0.34568\tValid's multi_logloss: 0.495108\n",
      "[LightGBM] [Warning] Found whitespace in feature_names, replace with underlines\n"
     ]
    },
    {
     "name": "stderr",
     "output_type": "stream",
     "text": [
      "/var/folders/d4/0c_l5jkx5_n985zcb0gf1ng00000gn/T/ipykernel_4343/3458071427.py:8: FutureWarning: suggest_uniform has been deprecated in v3.0.0. This feature will be removed in v6.0.0. See https://github.com/optuna/optuna/releases/tag/v3.0.0. Use suggest_float instead.\n",
      "  learning_rate = trial.suggest_uniform('learning_rate', 0.001, 1)\n"
     ]
    },
    {
     "name": "stdout",
     "output_type": "stream",
     "text": [
      "[LightGBM] [Info] Auto-choosing row-wise multi-threading, the overhead of testing was 0.049055 seconds.\n",
      "You can set `force_row_wise=true` to remove the overhead.\n",
      "And if memory is not enough, you can set `force_col_wise=true`.\n",
      "[LightGBM] [Info] Total Bins 23274\n",
      "[LightGBM] [Info] Number of data points in the train set: 10672, number of used features: 1127\n",
      "[LightGBM] [Warning] Found whitespace in feature_names, replace with underlines\n",
      "[LightGBM] [Info] Start training from score -0.863102\n",
      "[LightGBM] [Info] Start training from score -0.927078\n",
      "[LightGBM] [Info] Start training from score -2.169593\n",
      "[LightGBM] [Info] Start training from score -2.685078\n",
      "Training until validation scores don't improve for 50 rounds\n"
     ]
    },
    {
     "name": "stderr",
     "output_type": "stream",
     "text": [
      "[I 2024-02-29 00:37:47,220] Trial 133 finished with value: 0.8298350824587706 and parameters: {'learning_rate': 0.8829401354360419, 'num_leaves': 7}. Best is trial 99 with value: 0.8508245877061469.\n"
     ]
    },
    {
     "name": "stdout",
     "output_type": "stream",
     "text": [
      "Did not meet early stopping. Best iteration is:\n",
      "[97]\tTrain's multi_logloss: 0.181245\tValid's multi_logloss: 0.527618\n",
      "[LightGBM] [Warning] Found whitespace in feature_names, replace with underlines\n"
     ]
    },
    {
     "name": "stderr",
     "output_type": "stream",
     "text": [
      "/var/folders/d4/0c_l5jkx5_n985zcb0gf1ng00000gn/T/ipykernel_4343/3458071427.py:8: FutureWarning: suggest_uniform has been deprecated in v3.0.0. This feature will be removed in v6.0.0. See https://github.com/optuna/optuna/releases/tag/v3.0.0. Use suggest_float instead.\n",
      "  learning_rate = trial.suggest_uniform('learning_rate', 0.001, 1)\n"
     ]
    },
    {
     "name": "stdout",
     "output_type": "stream",
     "text": [
      "[LightGBM] [Info] Auto-choosing row-wise multi-threading, the overhead of testing was 0.049520 seconds.\n",
      "You can set `force_row_wise=true` to remove the overhead.\n",
      "And if memory is not enough, you can set `force_col_wise=true`.\n",
      "[LightGBM] [Info] Total Bins 23274\n",
      "[LightGBM] [Info] Number of data points in the train set: 10672, number of used features: 1127\n",
      "[LightGBM] [Warning] Found whitespace in feature_names, replace with underlines\n",
      "[LightGBM] [Info] Start training from score -0.863102\n",
      "[LightGBM] [Info] Start training from score -0.927078\n",
      "[LightGBM] [Info] Start training from score -2.169593\n",
      "[LightGBM] [Info] Start training from score -2.685078\n",
      "Training until validation scores don't improve for 50 rounds\n"
     ]
    },
    {
     "name": "stderr",
     "output_type": "stream",
     "text": [
      "[I 2024-02-29 00:37:48,752] Trial 134 finished with value: 0.8388305847076462 and parameters: {'learning_rate': 0.3823098795091789, 'num_leaves': 13}. Best is trial 99 with value: 0.8508245877061469.\n"
     ]
    },
    {
     "name": "stdout",
     "output_type": "stream",
     "text": [
      "Did not meet early stopping. Best iteration is:\n",
      "[87]\tTrain's multi_logloss: 0.228194\tValid's multi_logloss: 0.471194\n",
      "[LightGBM] [Warning] Found whitespace in feature_names, replace with underlines\n"
     ]
    },
    {
     "name": "stderr",
     "output_type": "stream",
     "text": [
      "/var/folders/d4/0c_l5jkx5_n985zcb0gf1ng00000gn/T/ipykernel_4343/3458071427.py:8: FutureWarning: suggest_uniform has been deprecated in v3.0.0. This feature will be removed in v6.0.0. See https://github.com/optuna/optuna/releases/tag/v3.0.0. Use suggest_float instead.\n",
      "  learning_rate = trial.suggest_uniform('learning_rate', 0.001, 1)\n"
     ]
    },
    {
     "name": "stdout",
     "output_type": "stream",
     "text": [
      "[LightGBM] [Info] Auto-choosing row-wise multi-threading, the overhead of testing was 0.049221 seconds.\n",
      "You can set `force_row_wise=true` to remove the overhead.\n",
      "And if memory is not enough, you can set `force_col_wise=true`.\n",
      "[LightGBM] [Info] Total Bins 23274\n",
      "[LightGBM] [Info] Number of data points in the train set: 10672, number of used features: 1127\n",
      "[LightGBM] [Warning] Found whitespace in feature_names, replace with underlines\n",
      "[LightGBM] [Info] Start training from score -0.863102\n",
      "[LightGBM] [Info] Start training from score -0.927078\n",
      "[LightGBM] [Info] Start training from score -2.169593\n",
      "[LightGBM] [Info] Start training from score -2.685078\n",
      "Training until validation scores don't improve for 50 rounds\n"
     ]
    },
    {
     "name": "stderr",
     "output_type": "stream",
     "text": [
      "[I 2024-02-29 00:37:50,234] Trial 135 finished with value: 0.835832083958021 and parameters: {'learning_rate': 0.15209547754000535, 'num_leaves': 12}. Best is trial 99 with value: 0.8508245877061469.\n"
     ]
    },
    {
     "name": "stdout",
     "output_type": "stream",
     "text": [
      "Did not meet early stopping. Best iteration is:\n",
      "[100]\tTrain's multi_logloss: 0.376365\tValid's multi_logloss: 0.504557\n",
      "[LightGBM] [Warning] Found whitespace in feature_names, replace with underlines\n"
     ]
    },
    {
     "name": "stderr",
     "output_type": "stream",
     "text": [
      "/var/folders/d4/0c_l5jkx5_n985zcb0gf1ng00000gn/T/ipykernel_4343/3458071427.py:8: FutureWarning: suggest_uniform has been deprecated in v3.0.0. This feature will be removed in v6.0.0. See https://github.com/optuna/optuna/releases/tag/v3.0.0. Use suggest_float instead.\n",
      "  learning_rate = trial.suggest_uniform('learning_rate', 0.001, 1)\n"
     ]
    },
    {
     "name": "stdout",
     "output_type": "stream",
     "text": [
      "[LightGBM] [Info] Auto-choosing row-wise multi-threading, the overhead of testing was 0.053174 seconds.\n",
      "You can set `force_row_wise=true` to remove the overhead.\n",
      "And if memory is not enough, you can set `force_col_wise=true`.\n",
      "[LightGBM] [Info] Total Bins 23274\n",
      "[LightGBM] [Info] Number of data points in the train set: 10672, number of used features: 1127\n",
      "[LightGBM] [Warning] Found whitespace in feature_names, replace with underlines\n",
      "[LightGBM] [Info] Start training from score -0.863102\n",
      "[LightGBM] [Info] Start training from score -0.927078\n",
      "[LightGBM] [Info] Start training from score -2.169593\n",
      "[LightGBM] [Info] Start training from score -2.685078\n",
      "Training until validation scores don't improve for 50 rounds\n"
     ]
    },
    {
     "name": "stderr",
     "output_type": "stream",
     "text": [
      "[I 2024-02-29 00:37:51,464] Trial 136 finished with value: 0.835832083958021 and parameters: {'learning_rate': 0.5184109121032523, 'num_leaves': 9}. Best is trial 99 with value: 0.8508245877061469.\n"
     ]
    },
    {
     "name": "stdout",
     "output_type": "stream",
     "text": [
      "Did not meet early stopping. Best iteration is:\n",
      "[94]\tTrain's multi_logloss: 0.229899\tValid's multi_logloss: 0.476041\n",
      "[LightGBM] [Warning] Found whitespace in feature_names, replace with underlines\n"
     ]
    },
    {
     "name": "stderr",
     "output_type": "stream",
     "text": [
      "/var/folders/d4/0c_l5jkx5_n985zcb0gf1ng00000gn/T/ipykernel_4343/3458071427.py:8: FutureWarning: suggest_uniform has been deprecated in v3.0.0. This feature will be removed in v6.0.0. See https://github.com/optuna/optuna/releases/tag/v3.0.0. Use suggest_float instead.\n",
      "  learning_rate = trial.suggest_uniform('learning_rate', 0.001, 1)\n"
     ]
    },
    {
     "name": "stdout",
     "output_type": "stream",
     "text": [
      "[LightGBM] [Info] Auto-choosing row-wise multi-threading, the overhead of testing was 0.050032 seconds.\n",
      "You can set `force_row_wise=true` to remove the overhead.\n",
      "And if memory is not enough, you can set `force_col_wise=true`.\n",
      "[LightGBM] [Info] Total Bins 23274\n",
      "[LightGBM] [Info] Number of data points in the train set: 10672, number of used features: 1127\n",
      "[LightGBM] [Warning] Found whitespace in feature_names, replace with underlines\n",
      "[LightGBM] [Info] Start training from score -0.863102\n",
      "[LightGBM] [Info] Start training from score -0.927078\n",
      "[LightGBM] [Info] Start training from score -2.169593\n",
      "[LightGBM] [Info] Start training from score -2.685078\n",
      "Training until validation scores don't improve for 50 rounds\n"
     ]
    },
    {
     "name": "stderr",
     "output_type": "stream",
     "text": [
      "[I 2024-02-29 00:37:52,816] Trial 137 finished with value: 0.8365817091454273 and parameters: {'learning_rate': 0.4339152964868289, 'num_leaves': 11}. Best is trial 99 with value: 0.8508245877061469.\n"
     ]
    },
    {
     "name": "stdout",
     "output_type": "stream",
     "text": [
      "Did not meet early stopping. Best iteration is:\n",
      "[85]\tTrain's multi_logloss: 0.242174\tValid's multi_logloss: 0.46642\n",
      "[LightGBM] [Warning] Found whitespace in feature_names, replace with underlines\n"
     ]
    },
    {
     "name": "stderr",
     "output_type": "stream",
     "text": [
      "/var/folders/d4/0c_l5jkx5_n985zcb0gf1ng00000gn/T/ipykernel_4343/3458071427.py:8: FutureWarning: suggest_uniform has been deprecated in v3.0.0. This feature will be removed in v6.0.0. See https://github.com/optuna/optuna/releases/tag/v3.0.0. Use suggest_float instead.\n",
      "  learning_rate = trial.suggest_uniform('learning_rate', 0.001, 1)\n"
     ]
    },
    {
     "name": "stdout",
     "output_type": "stream",
     "text": [
      "[LightGBM] [Info] Auto-choosing col-wise multi-threading, the overhead of testing was 0.048096 seconds.\n",
      "You can set `force_col_wise=true` to remove the overhead.\n",
      "[LightGBM] [Info] Total Bins 23274\n",
      "[LightGBM] [Info] Number of data points in the train set: 10672, number of used features: 1127\n",
      "[LightGBM] [Warning] Found whitespace in feature_names, replace with underlines\n",
      "[LightGBM] [Info] Start training from score -0.863102\n",
      "[LightGBM] [Info] Start training from score -0.927078\n",
      "[LightGBM] [Info] Start training from score -2.169593\n",
      "[LightGBM] [Info] Start training from score -2.685078\n",
      "Training until validation scores don't improve for 50 rounds\n"
     ]
    },
    {
     "name": "stderr",
     "output_type": "stream",
     "text": [
      "[I 2024-02-29 00:37:54,630] Trial 138 finished with value: 0.8388305847076462 and parameters: {'learning_rate': 0.40899659173381697, 'num_leaves': 16}. Best is trial 99 with value: 0.8508245877061469.\n"
     ]
    },
    {
     "name": "stdout",
     "output_type": "stream",
     "text": [
      "Did not meet early stopping. Best iteration is:\n",
      "[73]\tTrain's multi_logloss: 0.207402\tValid's multi_logloss: 0.46573\n",
      "[LightGBM] [Warning] Found whitespace in feature_names, replace with underlines\n"
     ]
    },
    {
     "name": "stderr",
     "output_type": "stream",
     "text": [
      "/var/folders/d4/0c_l5jkx5_n985zcb0gf1ng00000gn/T/ipykernel_4343/3458071427.py:8: FutureWarning: suggest_uniform has been deprecated in v3.0.0. This feature will be removed in v6.0.0. See https://github.com/optuna/optuna/releases/tag/v3.0.0. Use suggest_float instead.\n",
      "  learning_rate = trial.suggest_uniform('learning_rate', 0.001, 1)\n"
     ]
    },
    {
     "name": "stdout",
     "output_type": "stream",
     "text": [
      "[LightGBM] [Info] Auto-choosing row-wise multi-threading, the overhead of testing was 0.048688 seconds.\n",
      "You can set `force_row_wise=true` to remove the overhead.\n",
      "And if memory is not enough, you can set `force_col_wise=true`.\n",
      "[LightGBM] [Info] Total Bins 23274\n",
      "[LightGBM] [Info] Number of data points in the train set: 10672, number of used features: 1127\n",
      "[LightGBM] [Warning] Found whitespace in feature_names, replace with underlines\n",
      "[LightGBM] [Info] Start training from score -0.863102\n",
      "[LightGBM] [Info] Start training from score -0.927078\n",
      "[LightGBM] [Info] Start training from score -2.169593\n",
      "[LightGBM] [Info] Start training from score -2.685078\n",
      "Training until validation scores don't improve for 50 rounds\n"
     ]
    },
    {
     "name": "stderr",
     "output_type": "stream",
     "text": [
      "[I 2024-02-29 00:37:55,497] Trial 139 finished with value: 0.8388305847076462 and parameters: {'learning_rate': 0.2755217254201685, 'num_leaves': 6}. Best is trial 99 with value: 0.8508245877061469.\n"
     ]
    },
    {
     "name": "stdout",
     "output_type": "stream",
     "text": [
      "Did not meet early stopping. Best iteration is:\n",
      "[100]\tTrain's multi_logloss: 0.411494\tValid's multi_logloss: 0.52397\n",
      "[LightGBM] [Warning] Found whitespace in feature_names, replace with underlines\n"
     ]
    },
    {
     "name": "stderr",
     "output_type": "stream",
     "text": [
      "/var/folders/d4/0c_l5jkx5_n985zcb0gf1ng00000gn/T/ipykernel_4343/3458071427.py:8: FutureWarning: suggest_uniform has been deprecated in v3.0.0. This feature will be removed in v6.0.0. See https://github.com/optuna/optuna/releases/tag/v3.0.0. Use suggest_float instead.\n",
      "  learning_rate = trial.suggest_uniform('learning_rate', 0.001, 1)\n"
     ]
    },
    {
     "name": "stdout",
     "output_type": "stream",
     "text": [
      "[LightGBM] [Info] Auto-choosing col-wise multi-threading, the overhead of testing was 0.057034 seconds.\n",
      "You can set `force_col_wise=true` to remove the overhead.\n",
      "[LightGBM] [Info] Total Bins 23274\n",
      "[LightGBM] [Info] Number of data points in the train set: 10672, number of used features: 1127\n",
      "[LightGBM] [Warning] Found whitespace in feature_names, replace with underlines\n",
      "[LightGBM] [Info] Start training from score -0.863102\n",
      "[LightGBM] [Info] Start training from score -0.927078\n",
      "[LightGBM] [Info] Start training from score -2.169593\n",
      "[LightGBM] [Info] Start training from score -2.685078\n",
      "Training until validation scores don't improve for 50 rounds\n"
     ]
    },
    {
     "name": "stderr",
     "output_type": "stream",
     "text": [
      "[I 2024-02-29 00:37:56,530] Trial 140 finished with value: 0.8095952023988006 and parameters: {'learning_rate': 0.12226834402977538, 'num_leaves': 7}. Best is trial 99 with value: 0.8508245877061469.\n"
     ]
    },
    {
     "name": "stdout",
     "output_type": "stream",
     "text": [
      "Did not meet early stopping. Best iteration is:\n",
      "[100]\tTrain's multi_logloss: 0.521015\tValid's multi_logloss: 0.594188\n",
      "[LightGBM] [Warning] Found whitespace in feature_names, replace with underlines\n"
     ]
    },
    {
     "name": "stderr",
     "output_type": "stream",
     "text": [
      "/var/folders/d4/0c_l5jkx5_n985zcb0gf1ng00000gn/T/ipykernel_4343/3458071427.py:8: FutureWarning: suggest_uniform has been deprecated in v3.0.0. This feature will be removed in v6.0.0. See https://github.com/optuna/optuna/releases/tag/v3.0.0. Use suggest_float instead.\n",
      "  learning_rate = trial.suggest_uniform('learning_rate', 0.001, 1)\n"
     ]
    },
    {
     "name": "stdout",
     "output_type": "stream",
     "text": [
      "[LightGBM] [Info] Auto-choosing row-wise multi-threading, the overhead of testing was 0.049829 seconds.\n",
      "You can set `force_row_wise=true` to remove the overhead.\n",
      "And if memory is not enough, you can set `force_col_wise=true`.\n",
      "[LightGBM] [Info] Total Bins 23274\n",
      "[LightGBM] [Info] Number of data points in the train set: 10672, number of used features: 1127\n",
      "[LightGBM] [Warning] Found whitespace in feature_names, replace with underlines\n",
      "[LightGBM] [Info] Start training from score -0.863102\n",
      "[LightGBM] [Info] Start training from score -0.927078\n",
      "[LightGBM] [Info] Start training from score -2.169593\n",
      "[LightGBM] [Info] Start training from score -2.685078\n",
      "Training until validation scores don't improve for 50 rounds\n"
     ]
    },
    {
     "name": "stderr",
     "output_type": "stream",
     "text": [
      "[I 2024-02-29 00:37:57,793] Trial 141 finished with value: 0.8425787106446777 and parameters: {'learning_rate': 0.33044470777340573, 'num_leaves': 10}. Best is trial 99 with value: 0.8508245877061469.\n"
     ]
    },
    {
     "name": "stdout",
     "output_type": "stream",
     "text": [
      "Did not meet early stopping. Best iteration is:\n",
      "[100]\tTrain's multi_logloss: 0.279516\tValid's multi_logloss: 0.472201\n",
      "[LightGBM] [Warning] Found whitespace in feature_names, replace with underlines\n"
     ]
    },
    {
     "name": "stderr",
     "output_type": "stream",
     "text": [
      "/var/folders/d4/0c_l5jkx5_n985zcb0gf1ng00000gn/T/ipykernel_4343/3458071427.py:8: FutureWarning: suggest_uniform has been deprecated in v3.0.0. This feature will be removed in v6.0.0. See https://github.com/optuna/optuna/releases/tag/v3.0.0. Use suggest_float instead.\n",
      "  learning_rate = trial.suggest_uniform('learning_rate', 0.001, 1)\n"
     ]
    },
    {
     "name": "stdout",
     "output_type": "stream",
     "text": [
      "[LightGBM] [Info] Auto-choosing row-wise multi-threading, the overhead of testing was 0.050573 seconds.\n",
      "You can set `force_row_wise=true` to remove the overhead.\n",
      "And if memory is not enough, you can set `force_col_wise=true`.\n",
      "[LightGBM] [Info] Total Bins 23274\n",
      "[LightGBM] [Info] Number of data points in the train set: 10672, number of used features: 1127\n",
      "[LightGBM] [Warning] Found whitespace in feature_names, replace with underlines\n",
      "[LightGBM] [Info] Start training from score -0.863102\n",
      "[LightGBM] [Info] Start training from score -0.927078\n",
      "[LightGBM] [Info] Start training from score -2.169593\n",
      "[LightGBM] [Info] Start training from score -2.685078\n",
      "Training until validation scores don't improve for 50 rounds\n"
     ]
    },
    {
     "name": "stderr",
     "output_type": "stream",
     "text": [
      "[I 2024-02-29 00:37:59,139] Trial 142 finished with value: 0.8440779610194903 and parameters: {'learning_rate': 0.3049999828162443, 'num_leaves': 11}. Best is trial 99 with value: 0.8508245877061469.\n"
     ]
    },
    {
     "name": "stdout",
     "output_type": "stream",
     "text": [
      "Did not meet early stopping. Best iteration is:\n",
      "[98]\tTrain's multi_logloss: 0.279129\tValid's multi_logloss: 0.467431\n",
      "[LightGBM] [Warning] Found whitespace in feature_names, replace with underlines\n"
     ]
    },
    {
     "name": "stderr",
     "output_type": "stream",
     "text": [
      "/var/folders/d4/0c_l5jkx5_n985zcb0gf1ng00000gn/T/ipykernel_4343/3458071427.py:8: FutureWarning: suggest_uniform has been deprecated in v3.0.0. This feature will be removed in v6.0.0. See https://github.com/optuna/optuna/releases/tag/v3.0.0. Use suggest_float instead.\n",
      "  learning_rate = trial.suggest_uniform('learning_rate', 0.001, 1)\n"
     ]
    },
    {
     "name": "stdout",
     "output_type": "stream",
     "text": [
      "[LightGBM] [Info] Auto-choosing row-wise multi-threading, the overhead of testing was 0.050067 seconds.\n",
      "You can set `force_row_wise=true` to remove the overhead.\n",
      "And if memory is not enough, you can set `force_col_wise=true`.\n",
      "[LightGBM] [Info] Total Bins 23274\n",
      "[LightGBM] [Info] Number of data points in the train set: 10672, number of used features: 1127\n",
      "[LightGBM] [Warning] Found whitespace in feature_names, replace with underlines\n",
      "[LightGBM] [Info] Start training from score -0.863102\n",
      "[LightGBM] [Info] Start training from score -0.927078\n",
      "[LightGBM] [Info] Start training from score -2.169593\n",
      "[LightGBM] [Info] Start training from score -2.685078\n",
      "Training until validation scores don't improve for 50 rounds\n"
     ]
    },
    {
     "name": "stderr",
     "output_type": "stream",
     "text": [
      "[I 2024-02-29 00:38:00,580] Trial 143 finished with value: 0.8463268365817092 and parameters: {'learning_rate': 0.20141305274211624, 'num_leaves': 12}. Best is trial 99 with value: 0.8508245877061469.\n"
     ]
    },
    {
     "name": "stdout",
     "output_type": "stream",
     "text": [
      "Did not meet early stopping. Best iteration is:\n",
      "[100]\tTrain's multi_logloss: 0.328284\tValid's multi_logloss: 0.480583\n",
      "[LightGBM] [Warning] Found whitespace in feature_names, replace with underlines\n"
     ]
    },
    {
     "name": "stderr",
     "output_type": "stream",
     "text": [
      "/var/folders/d4/0c_l5jkx5_n985zcb0gf1ng00000gn/T/ipykernel_4343/3458071427.py:8: FutureWarning: suggest_uniform has been deprecated in v3.0.0. This feature will be removed in v6.0.0. See https://github.com/optuna/optuna/releases/tag/v3.0.0. Use suggest_float instead.\n",
      "  learning_rate = trial.suggest_uniform('learning_rate', 0.001, 1)\n"
     ]
    },
    {
     "name": "stdout",
     "output_type": "stream",
     "text": [
      "[LightGBM] [Info] Auto-choosing row-wise multi-threading, the overhead of testing was 0.050133 seconds.\n",
      "You can set `force_row_wise=true` to remove the overhead.\n",
      "And if memory is not enough, you can set `force_col_wise=true`.\n",
      "[LightGBM] [Info] Total Bins 23274\n",
      "[LightGBM] [Info] Number of data points in the train set: 10672, number of used features: 1127\n",
      "[LightGBM] [Warning] Found whitespace in feature_names, replace with underlines\n",
      "[LightGBM] [Info] Start training from score -0.863102\n",
      "[LightGBM] [Info] Start training from score -0.927078\n",
      "[LightGBM] [Info] Start training from score -2.169593\n",
      "[LightGBM] [Info] Start training from score -2.685078\n",
      "Training until validation scores don't improve for 50 rounds\n"
     ]
    },
    {
     "name": "stderr",
     "output_type": "stream",
     "text": [
      "[I 2024-02-29 00:38:02,219] Trial 144 finished with value: 0.8470764617691154 and parameters: {'learning_rate': 0.19533496712035658, 'num_leaves': 14}. Best is trial 99 with value: 0.8508245877061469.\n"
     ]
    },
    {
     "name": "stdout",
     "output_type": "stream",
     "text": [
      "Did not meet early stopping. Best iteration is:\n",
      "[100]\tTrain's multi_logloss: 0.3041\tValid's multi_logloss: 0.474849\n",
      "[LightGBM] [Warning] Found whitespace in feature_names, replace with underlines\n"
     ]
    },
    {
     "name": "stderr",
     "output_type": "stream",
     "text": [
      "/var/folders/d4/0c_l5jkx5_n985zcb0gf1ng00000gn/T/ipykernel_4343/3458071427.py:8: FutureWarning: suggest_uniform has been deprecated in v3.0.0. This feature will be removed in v6.0.0. See https://github.com/optuna/optuna/releases/tag/v3.0.0. Use suggest_float instead.\n",
      "  learning_rate = trial.suggest_uniform('learning_rate', 0.001, 1)\n"
     ]
    },
    {
     "name": "stdout",
     "output_type": "stream",
     "text": [
      "[LightGBM] [Info] Auto-choosing row-wise multi-threading, the overhead of testing was 0.048720 seconds.\n",
      "You can set `force_row_wise=true` to remove the overhead.\n",
      "And if memory is not enough, you can set `force_col_wise=true`.\n",
      "[LightGBM] [Info] Total Bins 23274\n",
      "[LightGBM] [Info] Number of data points in the train set: 10672, number of used features: 1127\n",
      "[LightGBM] [Warning] Found whitespace in feature_names, replace with underlines\n",
      "[LightGBM] [Info] Start training from score -0.863102\n",
      "[LightGBM] [Info] Start training from score -0.927078\n",
      "[LightGBM] [Info] Start training from score -2.169593\n",
      "[LightGBM] [Info] Start training from score -2.685078\n",
      "Training until validation scores don't improve for 50 rounds\n"
     ]
    },
    {
     "name": "stderr",
     "output_type": "stream",
     "text": [
      "[I 2024-02-29 00:38:04,138] Trial 145 finished with value: 0.8448275862068966 and parameters: {'learning_rate': 0.19604489929100163, 'num_leaves': 17}. Best is trial 99 with value: 0.8508245877061469.\n"
     ]
    },
    {
     "name": "stdout",
     "output_type": "stream",
     "text": [
      "Did not meet early stopping. Best iteration is:\n",
      "[100]\tTrain's multi_logloss: 0.268135\tValid's multi_logloss: 0.462964\n",
      "[LightGBM] [Warning] Found whitespace in feature_names, replace with underlines\n"
     ]
    },
    {
     "name": "stderr",
     "output_type": "stream",
     "text": [
      "/var/folders/d4/0c_l5jkx5_n985zcb0gf1ng00000gn/T/ipykernel_4343/3458071427.py:8: FutureWarning: suggest_uniform has been deprecated in v3.0.0. This feature will be removed in v6.0.0. See https://github.com/optuna/optuna/releases/tag/v3.0.0. Use suggest_float instead.\n",
      "  learning_rate = trial.suggest_uniform('learning_rate', 0.001, 1)\n"
     ]
    },
    {
     "name": "stdout",
     "output_type": "stream",
     "text": [
      "[LightGBM] [Info] Auto-choosing row-wise multi-threading, the overhead of testing was 0.049546 seconds.\n",
      "You can set `force_row_wise=true` to remove the overhead.\n",
      "And if memory is not enough, you can set `force_col_wise=true`.\n",
      "[LightGBM] [Info] Total Bins 23274\n",
      "[LightGBM] [Info] Number of data points in the train set: 10672, number of used features: 1127\n",
      "[LightGBM] [Warning] Found whitespace in feature_names, replace with underlines\n",
      "[LightGBM] [Info] Start training from score -0.863102\n",
      "[LightGBM] [Info] Start training from score -0.927078\n",
      "[LightGBM] [Info] Start training from score -2.169593\n",
      "[LightGBM] [Info] Start training from score -2.685078\n",
      "Training until validation scores don't improve for 50 rounds\n"
     ]
    },
    {
     "name": "stderr",
     "output_type": "stream",
     "text": [
      "[I 2024-02-29 00:38:05,923] Trial 146 finished with value: 0.8455772113943029 and parameters: {'learning_rate': 0.21184543739078426, 'num_leaves': 15}. Best is trial 99 with value: 0.8508245877061469.\n"
     ]
    },
    {
     "name": "stdout",
     "output_type": "stream",
     "text": [
      "Did not meet early stopping. Best iteration is:\n",
      "[100]\tTrain's multi_logloss: 0.278098\tValid's multi_logloss: 0.469478\n",
      "[LightGBM] [Warning] Found whitespace in feature_names, replace with underlines\n"
     ]
    },
    {
     "name": "stderr",
     "output_type": "stream",
     "text": [
      "/var/folders/d4/0c_l5jkx5_n985zcb0gf1ng00000gn/T/ipykernel_4343/3458071427.py:8: FutureWarning: suggest_uniform has been deprecated in v3.0.0. This feature will be removed in v6.0.0. See https://github.com/optuna/optuna/releases/tag/v3.0.0. Use suggest_float instead.\n",
      "  learning_rate = trial.suggest_uniform('learning_rate', 0.001, 1)\n"
     ]
    },
    {
     "name": "stdout",
     "output_type": "stream",
     "text": [
      "[LightGBM] [Info] Auto-choosing row-wise multi-threading, the overhead of testing was 0.041128 seconds.\n",
      "You can set `force_row_wise=true` to remove the overhead.\n",
      "And if memory is not enough, you can set `force_col_wise=true`.\n",
      "[LightGBM] [Info] Total Bins 23274\n",
      "[LightGBM] [Info] Number of data points in the train set: 10672, number of used features: 1127\n",
      "[LightGBM] [Warning] Found whitespace in feature_names, replace with underlines\n",
      "[LightGBM] [Info] Start training from score -0.863102\n",
      "[LightGBM] [Info] Start training from score -0.927078\n",
      "[LightGBM] [Info] Start training from score -2.169593\n",
      "[LightGBM] [Info] Start training from score -2.685078\n",
      "Training until validation scores don't improve for 50 rounds\n"
     ]
    },
    {
     "name": "stderr",
     "output_type": "stream",
     "text": [
      "[I 2024-02-29 00:38:08,008] Trial 147 finished with value: 0.8418290854572713 and parameters: {'learning_rate': 0.17837790579461843, 'num_leaves': 18}. Best is trial 99 with value: 0.8508245877061469.\n"
     ]
    },
    {
     "name": "stdout",
     "output_type": "stream",
     "text": [
      "Did not meet early stopping. Best iteration is:\n",
      "[100]\tTrain's multi_logloss: 0.2721\tValid's multi_logloss: 0.470384\n",
      "[LightGBM] [Warning] Found whitespace in feature_names, replace with underlines\n"
     ]
    },
    {
     "name": "stderr",
     "output_type": "stream",
     "text": [
      "/var/folders/d4/0c_l5jkx5_n985zcb0gf1ng00000gn/T/ipykernel_4343/3458071427.py:8: FutureWarning: suggest_uniform has been deprecated in v3.0.0. This feature will be removed in v6.0.0. See https://github.com/optuna/optuna/releases/tag/v3.0.0. Use suggest_float instead.\n",
      "  learning_rate = trial.suggest_uniform('learning_rate', 0.001, 1)\n"
     ]
    },
    {
     "name": "stdout",
     "output_type": "stream",
     "text": [
      "[LightGBM] [Info] Auto-choosing row-wise multi-threading, the overhead of testing was 0.049325 seconds.\n",
      "You can set `force_row_wise=true` to remove the overhead.\n",
      "And if memory is not enough, you can set `force_col_wise=true`.\n",
      "[LightGBM] [Info] Total Bins 23274\n",
      "[LightGBM] [Info] Number of data points in the train set: 10672, number of used features: 1127\n",
      "[LightGBM] [Warning] Found whitespace in feature_names, replace with underlines\n",
      "[LightGBM] [Info] Start training from score -0.863102\n",
      "[LightGBM] [Info] Start training from score -0.927078\n",
      "[LightGBM] [Info] Start training from score -2.169593\n",
      "[LightGBM] [Info] Start training from score -2.685078\n",
      "Training until validation scores don't improve for 50 rounds\n"
     ]
    },
    {
     "name": "stderr",
     "output_type": "stream",
     "text": [
      "[I 2024-02-29 00:38:09,667] Trial 148 finished with value: 0.8418290854572713 and parameters: {'learning_rate': 0.21000705135224784, 'num_leaves': 14}. Best is trial 99 with value: 0.8508245877061469.\n"
     ]
    },
    {
     "name": "stdout",
     "output_type": "stream",
     "text": [
      "Did not meet early stopping. Best iteration is:\n",
      "[100]\tTrain's multi_logloss: 0.292168\tValid's multi_logloss: 0.475127\n",
      "[LightGBM] [Warning] Found whitespace in feature_names, replace with underlines\n"
     ]
    },
    {
     "name": "stderr",
     "output_type": "stream",
     "text": [
      "/var/folders/d4/0c_l5jkx5_n985zcb0gf1ng00000gn/T/ipykernel_4343/3458071427.py:8: FutureWarning: suggest_uniform has been deprecated in v3.0.0. This feature will be removed in v6.0.0. See https://github.com/optuna/optuna/releases/tag/v3.0.0. Use suggest_float instead.\n",
      "  learning_rate = trial.suggest_uniform('learning_rate', 0.001, 1)\n"
     ]
    },
    {
     "name": "stdout",
     "output_type": "stream",
     "text": [
      "[LightGBM] [Info] Auto-choosing col-wise multi-threading, the overhead of testing was 0.047137 seconds.\n",
      "You can set `force_col_wise=true` to remove the overhead.\n",
      "[LightGBM] [Info] Total Bins 23274\n",
      "[LightGBM] [Info] Number of data points in the train set: 10672, number of used features: 1127\n",
      "[LightGBM] [Warning] Found whitespace in feature_names, replace with underlines\n",
      "[LightGBM] [Info] Start training from score -0.863102\n",
      "[LightGBM] [Info] Start training from score -0.927078\n",
      "[LightGBM] [Info] Start training from score -2.169593\n",
      "[LightGBM] [Info] Start training from score -2.685078\n",
      "Training until validation scores don't improve for 50 rounds\n"
     ]
    },
    {
     "name": "stderr",
     "output_type": "stream",
     "text": [
      "[I 2024-02-29 00:38:11,522] Trial 149 finished with value: 0.8395802098950524 and parameters: {'learning_rate': 0.23194052509802313, 'num_leaves': 16}. Best is trial 99 with value: 0.8508245877061469.\n"
     ]
    },
    {
     "name": "stdout",
     "output_type": "stream",
     "text": [
      "Did not meet early stopping. Best iteration is:\n",
      "[98]\tTrain's multi_logloss: 0.254508\tValid's multi_logloss: 0.469315\n",
      "[LightGBM] [Warning] Found whitespace in feature_names, replace with underlines\n"
     ]
    },
    {
     "name": "stderr",
     "output_type": "stream",
     "text": [
      "/var/folders/d4/0c_l5jkx5_n985zcb0gf1ng00000gn/T/ipykernel_4343/3458071427.py:8: FutureWarning: suggest_uniform has been deprecated in v3.0.0. This feature will be removed in v6.0.0. See https://github.com/optuna/optuna/releases/tag/v3.0.0. Use suggest_float instead.\n",
      "  learning_rate = trial.suggest_uniform('learning_rate', 0.001, 1)\n"
     ]
    },
    {
     "name": "stdout",
     "output_type": "stream",
     "text": [
      "[LightGBM] [Info] Auto-choosing row-wise multi-threading, the overhead of testing was 0.049381 seconds.\n",
      "You can set `force_row_wise=true` to remove the overhead.\n",
      "And if memory is not enough, you can set `force_col_wise=true`.\n",
      "[LightGBM] [Info] Total Bins 23274\n",
      "[LightGBM] [Info] Number of data points in the train set: 10672, number of used features: 1127\n",
      "[LightGBM] [Warning] Found whitespace in feature_names, replace with underlines\n",
      "[LightGBM] [Info] Start training from score -0.863102\n",
      "[LightGBM] [Info] Start training from score -0.927078\n",
      "[LightGBM] [Info] Start training from score -2.169593\n",
      "[LightGBM] [Info] Start training from score -2.685078\n",
      "Training until validation scores don't improve for 50 rounds\n"
     ]
    },
    {
     "name": "stderr",
     "output_type": "stream",
     "text": [
      "[I 2024-02-29 00:38:13,144] Trial 150 finished with value: 0.841079460269865 and parameters: {'learning_rate': 0.1422634506724818, 'num_leaves': 13}. Best is trial 99 with value: 0.8508245877061469.\n"
     ]
    },
    {
     "name": "stdout",
     "output_type": "stream",
     "text": [
      "Did not meet early stopping. Best iteration is:\n",
      "[100]\tTrain's multi_logloss: 0.372265\tValid's multi_logloss: 0.502709\n",
      "[LightGBM] [Warning] Found whitespace in feature_names, replace with underlines\n"
     ]
    },
    {
     "name": "stderr",
     "output_type": "stream",
     "text": [
      "/var/folders/d4/0c_l5jkx5_n985zcb0gf1ng00000gn/T/ipykernel_4343/3458071427.py:8: FutureWarning: suggest_uniform has been deprecated in v3.0.0. This feature will be removed in v6.0.0. See https://github.com/optuna/optuna/releases/tag/v3.0.0. Use suggest_float instead.\n",
      "  learning_rate = trial.suggest_uniform('learning_rate', 0.001, 1)\n"
     ]
    },
    {
     "name": "stdout",
     "output_type": "stream",
     "text": [
      "[LightGBM] [Info] Auto-choosing col-wise multi-threading, the overhead of testing was 0.048336 seconds.\n",
      "You can set `force_col_wise=true` to remove the overhead.\n",
      "[LightGBM] [Info] Total Bins 23274\n",
      "[LightGBM] [Info] Number of data points in the train set: 10672, number of used features: 1127\n",
      "[LightGBM] [Warning] Found whitespace in feature_names, replace with underlines\n",
      "[LightGBM] [Info] Start training from score -0.863102\n",
      "[LightGBM] [Info] Start training from score -0.927078\n",
      "[LightGBM] [Info] Start training from score -2.169593\n",
      "[LightGBM] [Info] Start training from score -2.685078\n",
      "Training until validation scores don't improve for 50 rounds\n"
     ]
    },
    {
     "name": "stderr",
     "output_type": "stream",
     "text": [
      "[I 2024-02-29 00:38:14,603] Trial 151 finished with value: 0.8425787106446777 and parameters: {'learning_rate': 0.20305129136043917, 'num_leaves': 12}. Best is trial 99 with value: 0.8508245877061469.\n"
     ]
    },
    {
     "name": "stdout",
     "output_type": "stream",
     "text": [
      "Did not meet early stopping. Best iteration is:\n",
      "[100]\tTrain's multi_logloss: 0.327049\tValid's multi_logloss: 0.484149\n",
      "[LightGBM] [Warning] Found whitespace in feature_names, replace with underlines\n"
     ]
    },
    {
     "name": "stderr",
     "output_type": "stream",
     "text": [
      "/var/folders/d4/0c_l5jkx5_n985zcb0gf1ng00000gn/T/ipykernel_4343/3458071427.py:8: FutureWarning: suggest_uniform has been deprecated in v3.0.0. This feature will be removed in v6.0.0. See https://github.com/optuna/optuna/releases/tag/v3.0.0. Use suggest_float instead.\n",
      "  learning_rate = trial.suggest_uniform('learning_rate', 0.001, 1)\n"
     ]
    },
    {
     "name": "stdout",
     "output_type": "stream",
     "text": [
      "[LightGBM] [Info] Auto-choosing row-wise multi-threading, the overhead of testing was 0.049189 seconds.\n",
      "You can set `force_row_wise=true` to remove the overhead.\n",
      "And if memory is not enough, you can set `force_col_wise=true`.\n",
      "[LightGBM] [Info] Total Bins 23274\n",
      "[LightGBM] [Info] Number of data points in the train set: 10672, number of used features: 1127\n",
      "[LightGBM] [Warning] Found whitespace in feature_names, replace with underlines\n",
      "[LightGBM] [Info] Start training from score -0.863102\n",
      "[LightGBM] [Info] Start training from score -0.927078\n",
      "[LightGBM] [Info] Start training from score -2.169593\n",
      "[LightGBM] [Info] Start training from score -2.685078\n",
      "Training until validation scores don't improve for 50 rounds\n"
     ]
    },
    {
     "name": "stderr",
     "output_type": "stream",
     "text": [
      "[I 2024-02-29 00:38:16,344] Trial 152 finished with value: 0.8403298350824587 and parameters: {'learning_rate': 0.1647529508791883, 'num_leaves': 15}. Best is trial 99 with value: 0.8508245877061469.\n"
     ]
    },
    {
     "name": "stdout",
     "output_type": "stream",
     "text": [
      "Did not meet early stopping. Best iteration is:\n",
      "[100]\tTrain's multi_logloss: 0.320999\tValid's multi_logloss: 0.479724\n",
      "[LightGBM] [Warning] Found whitespace in feature_names, replace with underlines\n"
     ]
    },
    {
     "name": "stderr",
     "output_type": "stream",
     "text": [
      "/var/folders/d4/0c_l5jkx5_n985zcb0gf1ng00000gn/T/ipykernel_4343/3458071427.py:8: FutureWarning: suggest_uniform has been deprecated in v3.0.0. This feature will be removed in v6.0.0. See https://github.com/optuna/optuna/releases/tag/v3.0.0. Use suggest_float instead.\n",
      "  learning_rate = trial.suggest_uniform('learning_rate', 0.001, 1)\n"
     ]
    },
    {
     "name": "stdout",
     "output_type": "stream",
     "text": [
      "[LightGBM] [Info] Auto-choosing row-wise multi-threading, the overhead of testing was 0.048378 seconds.\n",
      "You can set `force_row_wise=true` to remove the overhead.\n",
      "And if memory is not enough, you can set `force_col_wise=true`.\n",
      "[LightGBM] [Info] Total Bins 23274\n",
      "[LightGBM] [Info] Number of data points in the train set: 10672, number of used features: 1127\n",
      "[LightGBM] [Warning] Found whitespace in feature_names, replace with underlines\n",
      "[LightGBM] [Info] Start training from score -0.863102\n",
      "[LightGBM] [Info] Start training from score -0.927078\n",
      "[LightGBM] [Info] Start training from score -2.169593\n",
      "[LightGBM] [Info] Start training from score -2.685078\n",
      "Training until validation scores don't improve for 50 rounds\n"
     ]
    },
    {
     "name": "stderr",
     "output_type": "stream",
     "text": [
      "[I 2024-02-29 00:38:18,068] Trial 153 finished with value: 0.8455772113943029 and parameters: {'learning_rate': 0.2475450130796769, 'num_leaves': 15}. Best is trial 99 with value: 0.8508245877061469.\n"
     ]
    },
    {
     "name": "stdout",
     "output_type": "stream",
     "text": [
      "Did not meet early stopping. Best iteration is:\n",
      "[88]\tTrain's multi_logloss: 0.272588\tValid's multi_logloss: 0.466944\n",
      "[LightGBM] [Warning] Found whitespace in feature_names, replace with underlines\n"
     ]
    },
    {
     "name": "stderr",
     "output_type": "stream",
     "text": [
      "/var/folders/d4/0c_l5jkx5_n985zcb0gf1ng00000gn/T/ipykernel_4343/3458071427.py:8: FutureWarning: suggest_uniform has been deprecated in v3.0.0. This feature will be removed in v6.0.0. See https://github.com/optuna/optuna/releases/tag/v3.0.0. Use suggest_float instead.\n",
      "  learning_rate = trial.suggest_uniform('learning_rate', 0.001, 1)\n"
     ]
    },
    {
     "name": "stdout",
     "output_type": "stream",
     "text": [
      "[LightGBM] [Info] Auto-choosing row-wise multi-threading, the overhead of testing was 0.048481 seconds.\n",
      "You can set `force_row_wise=true` to remove the overhead.\n",
      "And if memory is not enough, you can set `force_col_wise=true`.\n",
      "[LightGBM] [Info] Total Bins 23274\n",
      "[LightGBM] [Info] Number of data points in the train set: 10672, number of used features: 1127\n",
      "[LightGBM] [Warning] Found whitespace in feature_names, replace with underlines\n",
      "[LightGBM] [Info] Start training from score -0.863102\n",
      "[LightGBM] [Info] Start training from score -0.927078\n",
      "[LightGBM] [Info] Start training from score -2.169593\n",
      "[LightGBM] [Info] Start training from score -2.685078\n",
      "Training until validation scores don't improve for 50 rounds\n"
     ]
    },
    {
     "name": "stderr",
     "output_type": "stream",
     "text": [
      "[I 2024-02-29 00:38:19,728] Trial 154 finished with value: 0.841079460269865 and parameters: {'learning_rate': 0.2320334830343452, 'num_leaves': 14}. Best is trial 99 with value: 0.8508245877061469.\n"
     ]
    },
    {
     "name": "stdout",
     "output_type": "stream",
     "text": [
      "Did not meet early stopping. Best iteration is:\n",
      "[100]\tTrain's multi_logloss: 0.276027\tValid's multi_logloss: 0.468437\n",
      "[LightGBM] [Warning] Found whitespace in feature_names, replace with underlines\n"
     ]
    },
    {
     "name": "stderr",
     "output_type": "stream",
     "text": [
      "/var/folders/d4/0c_l5jkx5_n985zcb0gf1ng00000gn/T/ipykernel_4343/3458071427.py:8: FutureWarning: suggest_uniform has been deprecated in v3.0.0. This feature will be removed in v6.0.0. See https://github.com/optuna/optuna/releases/tag/v3.0.0. Use suggest_float instead.\n",
      "  learning_rate = trial.suggest_uniform('learning_rate', 0.001, 1)\n"
     ]
    },
    {
     "name": "stdout",
     "output_type": "stream",
     "text": [
      "[LightGBM] [Info] Auto-choosing row-wise multi-threading, the overhead of testing was 0.049482 seconds.\n",
      "You can set `force_row_wise=true` to remove the overhead.\n",
      "And if memory is not enough, you can set `force_col_wise=true`.\n",
      "[LightGBM] [Info] Total Bins 23274\n",
      "[LightGBM] [Info] Number of data points in the train set: 10672, number of used features: 1127\n",
      "[LightGBM] [Warning] Found whitespace in feature_names, replace with underlines\n",
      "[LightGBM] [Info] Start training from score -0.863102\n",
      "[LightGBM] [Info] Start training from score -0.927078\n",
      "[LightGBM] [Info] Start training from score -2.169593\n",
      "[LightGBM] [Info] Start training from score -2.685078\n",
      "Training until validation scores don't improve for 50 rounds\n"
     ]
    },
    {
     "name": "stderr",
     "output_type": "stream",
     "text": [
      "[I 2024-02-29 00:38:21,528] Trial 155 finished with value: 0.8418290854572713 and parameters: {'learning_rate': 0.2553289404410297, 'num_leaves': 15}. Best is trial 99 with value: 0.8508245877061469.\n"
     ]
    },
    {
     "name": "stdout",
     "output_type": "stream",
     "text": [
      "Did not meet early stopping. Best iteration is:\n",
      "[98]\tTrain's multi_logloss: 0.250868\tValid's multi_logloss: 0.465725\n",
      "[LightGBM] [Warning] Found whitespace in feature_names, replace with underlines\n"
     ]
    },
    {
     "name": "stderr",
     "output_type": "stream",
     "text": [
      "/var/folders/d4/0c_l5jkx5_n985zcb0gf1ng00000gn/T/ipykernel_4343/3458071427.py:8: FutureWarning: suggest_uniform has been deprecated in v3.0.0. This feature will be removed in v6.0.0. See https://github.com/optuna/optuna/releases/tag/v3.0.0. Use suggest_float instead.\n",
      "  learning_rate = trial.suggest_uniform('learning_rate', 0.001, 1)\n"
     ]
    },
    {
     "name": "stdout",
     "output_type": "stream",
     "text": [
      "[LightGBM] [Info] Auto-choosing row-wise multi-threading, the overhead of testing was 0.053184 seconds.\n",
      "You can set `force_row_wise=true` to remove the overhead.\n",
      "And if memory is not enough, you can set `force_col_wise=true`.\n",
      "[LightGBM] [Info] Total Bins 23274\n",
      "[LightGBM] [Info] Number of data points in the train set: 10672, number of used features: 1127\n",
      "[LightGBM] [Warning] Found whitespace in feature_names, replace with underlines\n",
      "[LightGBM] [Info] Start training from score -0.863102\n",
      "[LightGBM] [Info] Start training from score -0.927078\n",
      "[LightGBM] [Info] Start training from score -2.169593\n",
      "[LightGBM] [Info] Start training from score -2.685078\n",
      "Training until validation scores don't improve for 50 rounds\n"
     ]
    },
    {
     "name": "stderr",
     "output_type": "stream",
     "text": [
      "[I 2024-02-29 00:38:23,748] Trial 156 finished with value: 0.8395802098950524 and parameters: {'learning_rate': 0.24642401466904457, 'num_leaves': 20}. Best is trial 99 with value: 0.8508245877061469.\n"
     ]
    },
    {
     "name": "stdout",
     "output_type": "stream",
     "text": [
      "Did not meet early stopping. Best iteration is:\n",
      "[71]\tTrain's multi_logloss: 0.25471\tValid's multi_logloss: 0.461369\n",
      "[LightGBM] [Warning] Found whitespace in feature_names, replace with underlines\n"
     ]
    },
    {
     "name": "stderr",
     "output_type": "stream",
     "text": [
      "/var/folders/d4/0c_l5jkx5_n985zcb0gf1ng00000gn/T/ipykernel_4343/3458071427.py:8: FutureWarning: suggest_uniform has been deprecated in v3.0.0. This feature will be removed in v6.0.0. See https://github.com/optuna/optuna/releases/tag/v3.0.0. Use suggest_float instead.\n",
      "  learning_rate = trial.suggest_uniform('learning_rate', 0.001, 1)\n"
     ]
    },
    {
     "name": "stdout",
     "output_type": "stream",
     "text": [
      "[LightGBM] [Info] Auto-choosing col-wise multi-threading, the overhead of testing was 0.047281 seconds.\n",
      "You can set `force_col_wise=true` to remove the overhead.\n",
      "[LightGBM] [Info] Total Bins 23274\n",
      "[LightGBM] [Info] Number of data points in the train set: 10672, number of used features: 1127\n",
      "[LightGBM] [Warning] Found whitespace in feature_names, replace with underlines\n",
      "[LightGBM] [Info] Start training from score -0.863102\n",
      "[LightGBM] [Info] Start training from score -0.927078\n",
      "[LightGBM] [Info] Start training from score -2.169593\n",
      "[LightGBM] [Info] Start training from score -2.685078\n",
      "Training until validation scores don't improve for 50 rounds\n"
     ]
    },
    {
     "name": "stderr",
     "output_type": "stream",
     "text": [
      "[I 2024-02-29 00:38:25,685] Trial 157 finished with value: 0.8425787106446777 and parameters: {'learning_rate': 0.17839974103349537, 'num_leaves': 17}. Best is trial 99 with value: 0.8508245877061469.\n"
     ]
    },
    {
     "name": "stdout",
     "output_type": "stream",
     "text": [
      "Did not meet early stopping. Best iteration is:\n",
      "[100]\tTrain's multi_logloss: 0.28302\tValid's multi_logloss: 0.469704\n",
      "[LightGBM] [Warning] Found whitespace in feature_names, replace with underlines\n"
     ]
    },
    {
     "name": "stderr",
     "output_type": "stream",
     "text": [
      "/var/folders/d4/0c_l5jkx5_n985zcb0gf1ng00000gn/T/ipykernel_4343/3458071427.py:8: FutureWarning: suggest_uniform has been deprecated in v3.0.0. This feature will be removed in v6.0.0. See https://github.com/optuna/optuna/releases/tag/v3.0.0. Use suggest_float instead.\n",
      "  learning_rate = trial.suggest_uniform('learning_rate', 0.001, 1)\n"
     ]
    },
    {
     "name": "stdout",
     "output_type": "stream",
     "text": [
      "[LightGBM] [Info] Auto-choosing row-wise multi-threading, the overhead of testing was 0.049546 seconds.\n",
      "You can set `force_row_wise=true` to remove the overhead.\n",
      "And if memory is not enough, you can set `force_col_wise=true`.\n",
      "[LightGBM] [Info] Total Bins 23274\n",
      "[LightGBM] [Info] Number of data points in the train set: 10672, number of used features: 1127\n",
      "[LightGBM] [Warning] Found whitespace in feature_names, replace with underlines\n",
      "[LightGBM] [Info] Start training from score -0.863102\n",
      "[LightGBM] [Info] Start training from score -0.927078\n",
      "[LightGBM] [Info] Start training from score -2.169593\n",
      "[LightGBM] [Info] Start training from score -2.685078\n",
      "Training until validation scores don't improve for 50 rounds\n"
     ]
    },
    {
     "name": "stderr",
     "output_type": "stream",
     "text": [
      "[I 2024-02-29 00:38:27,223] Trial 158 finished with value: 0.8448275862068966 and parameters: {'learning_rate': 0.26653891074033553, 'num_leaves': 13}. Best is trial 99 with value: 0.8508245877061469.\n"
     ]
    },
    {
     "name": "stdout",
     "output_type": "stream",
     "text": [
      "Did not meet early stopping. Best iteration is:\n",
      "[94]\tTrain's multi_logloss: 0.27604\tValid's multi_logloss: 0.466698\n",
      "[LightGBM] [Warning] Found whitespace in feature_names, replace with underlines\n"
     ]
    },
    {
     "name": "stderr",
     "output_type": "stream",
     "text": [
      "/var/folders/d4/0c_l5jkx5_n985zcb0gf1ng00000gn/T/ipykernel_4343/3458071427.py:8: FutureWarning: suggest_uniform has been deprecated in v3.0.0. This feature will be removed in v6.0.0. See https://github.com/optuna/optuna/releases/tag/v3.0.0. Use suggest_float instead.\n",
      "  learning_rate = trial.suggest_uniform('learning_rate', 0.001, 1)\n"
     ]
    },
    {
     "name": "stdout",
     "output_type": "stream",
     "text": [
      "[LightGBM] [Info] Auto-choosing row-wise multi-threading, the overhead of testing was 0.050447 seconds.\n",
      "You can set `force_row_wise=true` to remove the overhead.\n",
      "And if memory is not enough, you can set `force_col_wise=true`.\n",
      "[LightGBM] [Info] Total Bins 23274\n",
      "[LightGBM] [Info] Number of data points in the train set: 10672, number of used features: 1127\n",
      "[LightGBM] [Warning] Found whitespace in feature_names, replace with underlines\n",
      "[LightGBM] [Info] Start training from score -0.863102\n",
      "[LightGBM] [Info] Start training from score -0.927078\n",
      "[LightGBM] [Info] Start training from score -2.169593\n",
      "[LightGBM] [Info] Start training from score -2.685078\n",
      "Training until validation scores don't improve for 50 rounds\n"
     ]
    },
    {
     "name": "stderr",
     "output_type": "stream",
     "text": [
      "[I 2024-02-29 00:38:29,056] Trial 159 finished with value: 0.8470764617691154 and parameters: {'learning_rate': 0.2225909554907003, 'num_leaves': 16}. Best is trial 99 with value: 0.8508245877061469.\n"
     ]
    },
    {
     "name": "stdout",
     "output_type": "stream",
     "text": [
      "Did not meet early stopping. Best iteration is:\n",
      "[97]\tTrain's multi_logloss: 0.262088\tValid's multi_logloss: 0.463193\n",
      "[LightGBM] [Warning] Found whitespace in feature_names, replace with underlines\n"
     ]
    },
    {
     "name": "stderr",
     "output_type": "stream",
     "text": [
      "/var/folders/d4/0c_l5jkx5_n985zcb0gf1ng00000gn/T/ipykernel_4343/3458071427.py:8: FutureWarning: suggest_uniform has been deprecated in v3.0.0. This feature will be removed in v6.0.0. See https://github.com/optuna/optuna/releases/tag/v3.0.0. Use suggest_float instead.\n",
      "  learning_rate = trial.suggest_uniform('learning_rate', 0.001, 1)\n"
     ]
    },
    {
     "name": "stdout",
     "output_type": "stream",
     "text": [
      "[LightGBM] [Info] Auto-choosing row-wise multi-threading, the overhead of testing was 0.050187 seconds.\n",
      "You can set `force_row_wise=true` to remove the overhead.\n",
      "And if memory is not enough, you can set `force_col_wise=true`.\n",
      "[LightGBM] [Info] Total Bins 23274\n",
      "[LightGBM] [Info] Number of data points in the train set: 10672, number of used features: 1127\n",
      "[LightGBM] [Warning] Found whitespace in feature_names, replace with underlines\n",
      "[LightGBM] [Info] Start training from score -0.863102\n",
      "[LightGBM] [Info] Start training from score -0.927078\n",
      "[LightGBM] [Info] Start training from score -2.169593\n",
      "[LightGBM] [Info] Start training from score -2.685078\n",
      "Training until validation scores don't improve for 50 rounds\n"
     ]
    },
    {
     "name": "stderr",
     "output_type": "stream",
     "text": [
      "[I 2024-02-29 00:38:31,074] Trial 160 finished with value: 0.841079460269865 and parameters: {'learning_rate': 0.19099785082180076, 'num_leaves': 18}. Best is trial 99 with value: 0.8508245877061469.\n"
     ]
    },
    {
     "name": "stdout",
     "output_type": "stream",
     "text": [
      "Did not meet early stopping. Best iteration is:\n",
      "[100]\tTrain's multi_logloss: 0.260907\tValid's multi_logloss: 0.469152\n",
      "[LightGBM] [Warning] Found whitespace in feature_names, replace with underlines\n"
     ]
    },
    {
     "name": "stderr",
     "output_type": "stream",
     "text": [
      "/var/folders/d4/0c_l5jkx5_n985zcb0gf1ng00000gn/T/ipykernel_4343/3458071427.py:8: FutureWarning: suggest_uniform has been deprecated in v3.0.0. This feature will be removed in v6.0.0. See https://github.com/optuna/optuna/releases/tag/v3.0.0. Use suggest_float instead.\n",
      "  learning_rate = trial.suggest_uniform('learning_rate', 0.001, 1)\n"
     ]
    },
    {
     "name": "stdout",
     "output_type": "stream",
     "text": [
      "[LightGBM] [Info] Auto-choosing row-wise multi-threading, the overhead of testing was 0.050139 seconds.\n",
      "You can set `force_row_wise=true` to remove the overhead.\n",
      "And if memory is not enough, you can set `force_col_wise=true`.\n",
      "[LightGBM] [Info] Total Bins 23274\n",
      "[LightGBM] [Info] Number of data points in the train set: 10672, number of used features: 1127\n",
      "[LightGBM] [Warning] Found whitespace in feature_names, replace with underlines\n",
      "[LightGBM] [Info] Start training from score -0.863102\n",
      "[LightGBM] [Info] Start training from score -0.927078\n",
      "[LightGBM] [Info] Start training from score -2.169593\n",
      "[LightGBM] [Info] Start training from score -2.685078\n",
      "Training until validation scores don't improve for 50 rounds\n"
     ]
    },
    {
     "name": "stderr",
     "output_type": "stream",
     "text": [
      "[I 2024-02-29 00:38:32,968] Trial 161 finished with value: 0.8440779610194903 and parameters: {'learning_rate': 0.23207059710612063, 'num_leaves': 16}. Best is trial 99 with value: 0.8508245877061469.\n"
     ]
    },
    {
     "name": "stdout",
     "output_type": "stream",
     "text": [
      "Did not meet early stopping. Best iteration is:\n",
      "[100]\tTrain's multi_logloss: 0.250839\tValid's multi_logloss: 0.467812\n",
      "[LightGBM] [Warning] Found whitespace in feature_names, replace with underlines\n"
     ]
    },
    {
     "name": "stderr",
     "output_type": "stream",
     "text": [
      "/var/folders/d4/0c_l5jkx5_n985zcb0gf1ng00000gn/T/ipykernel_4343/3458071427.py:8: FutureWarning: suggest_uniform has been deprecated in v3.0.0. This feature will be removed in v6.0.0. See https://github.com/optuna/optuna/releases/tag/v3.0.0. Use suggest_float instead.\n",
      "  learning_rate = trial.suggest_uniform('learning_rate', 0.001, 1)\n"
     ]
    },
    {
     "name": "stdout",
     "output_type": "stream",
     "text": [
      "[LightGBM] [Info] Auto-choosing col-wise multi-threading, the overhead of testing was 0.048670 seconds.\n",
      "You can set `force_col_wise=true` to remove the overhead.\n",
      "[LightGBM] [Info] Total Bins 23274\n",
      "[LightGBM] [Info] Number of data points in the train set: 10672, number of used features: 1127\n",
      "[LightGBM] [Warning] Found whitespace in feature_names, replace with underlines\n",
      "[LightGBM] [Info] Start training from score -0.863102\n",
      "[LightGBM] [Info] Start training from score -0.927078\n",
      "[LightGBM] [Info] Start training from score -2.169593\n",
      "[LightGBM] [Info] Start training from score -2.685078\n",
      "Training until validation scores don't improve for 50 rounds\n"
     ]
    },
    {
     "name": "stderr",
     "output_type": "stream",
     "text": [
      "[I 2024-02-29 00:38:34,702] Trial 162 finished with value: 0.843328335832084 and parameters: {'learning_rate': 0.21644718573588767, 'num_leaves': 15}. Best is trial 99 with value: 0.8508245877061469.\n"
     ]
    },
    {
     "name": "stdout",
     "output_type": "stream",
     "text": [
      "Did not meet early stopping. Best iteration is:\n",
      "[100]\tTrain's multi_logloss: 0.273337\tValid's multi_logloss: 0.469303\n",
      "[LightGBM] [Warning] Found whitespace in feature_names, replace with underlines\n"
     ]
    },
    {
     "name": "stderr",
     "output_type": "stream",
     "text": [
      "/var/folders/d4/0c_l5jkx5_n985zcb0gf1ng00000gn/T/ipykernel_4343/3458071427.py:8: FutureWarning: suggest_uniform has been deprecated in v3.0.0. This feature will be removed in v6.0.0. See https://github.com/optuna/optuna/releases/tag/v3.0.0. Use suggest_float instead.\n",
      "  learning_rate = trial.suggest_uniform('learning_rate', 0.001, 1)\n"
     ]
    },
    {
     "name": "stdout",
     "output_type": "stream",
     "text": [
      "[LightGBM] [Info] Auto-choosing row-wise multi-threading, the overhead of testing was 0.049639 seconds.\n",
      "You can set `force_row_wise=true` to remove the overhead.\n",
      "And if memory is not enough, you can set `force_col_wise=true`.\n",
      "[LightGBM] [Info] Total Bins 23274\n",
      "[LightGBM] [Info] Number of data points in the train set: 10672, number of used features: 1127\n",
      "[LightGBM] [Warning] Found whitespace in feature_names, replace with underlines\n",
      "[LightGBM] [Info] Start training from score -0.863102\n",
      "[LightGBM] [Info] Start training from score -0.927078\n",
      "[LightGBM] [Info] Start training from score -2.169593\n",
      "[LightGBM] [Info] Start training from score -2.685078\n",
      "Training until validation scores don't improve for 50 rounds\n"
     ]
    },
    {
     "name": "stderr",
     "output_type": "stream",
     "text": [
      "[I 2024-02-29 00:38:36,667] Trial 163 finished with value: 0.8455772113943029 and parameters: {'learning_rate': 0.159957542040836, 'num_leaves': 17}. Best is trial 99 with value: 0.8508245877061469.\n"
     ]
    },
    {
     "name": "stdout",
     "output_type": "stream",
     "text": [
      "Did not meet early stopping. Best iteration is:\n",
      "[100]\tTrain's multi_logloss: 0.301737\tValid's multi_logloss: 0.476517\n",
      "[LightGBM] [Warning] Found whitespace in feature_names, replace with underlines\n"
     ]
    },
    {
     "name": "stderr",
     "output_type": "stream",
     "text": [
      "/var/folders/d4/0c_l5jkx5_n985zcb0gf1ng00000gn/T/ipykernel_4343/3458071427.py:8: FutureWarning: suggest_uniform has been deprecated in v3.0.0. This feature will be removed in v6.0.0. See https://github.com/optuna/optuna/releases/tag/v3.0.0. Use suggest_float instead.\n",
      "  learning_rate = trial.suggest_uniform('learning_rate', 0.001, 1)\n"
     ]
    },
    {
     "name": "stdout",
     "output_type": "stream",
     "text": [
      "[LightGBM] [Info] Auto-choosing row-wise multi-threading, the overhead of testing was 0.049600 seconds.\n",
      "You can set `force_row_wise=true` to remove the overhead.\n",
      "And if memory is not enough, you can set `force_col_wise=true`.\n",
      "[LightGBM] [Info] Total Bins 23274\n",
      "[LightGBM] [Info] Number of data points in the train set: 10672, number of used features: 1127\n",
      "[LightGBM] [Warning] Found whitespace in feature_names, replace with underlines\n",
      "[LightGBM] [Info] Start training from score -0.863102\n",
      "[LightGBM] [Info] Start training from score -0.927078\n",
      "[LightGBM] [Info] Start training from score -2.169593\n",
      "[LightGBM] [Info] Start training from score -2.685078\n",
      "Training until validation scores don't improve for 50 rounds\n"
     ]
    },
    {
     "name": "stderr",
     "output_type": "stream",
     "text": [
      "[I 2024-02-29 00:38:38,702] Trial 164 finished with value: 0.8470764617691154 and parameters: {'learning_rate': 0.16105145739677218, 'num_leaves': 18}. Best is trial 99 with value: 0.8508245877061469.\n"
     ]
    },
    {
     "name": "stdout",
     "output_type": "stream",
     "text": [
      "Did not meet early stopping. Best iteration is:\n",
      "[100]\tTrain's multi_logloss: 0.289729\tValid's multi_logloss: 0.470606\n",
      "[LightGBM] [Warning] Found whitespace in feature_names, replace with underlines\n"
     ]
    },
    {
     "name": "stderr",
     "output_type": "stream",
     "text": [
      "/var/folders/d4/0c_l5jkx5_n985zcb0gf1ng00000gn/T/ipykernel_4343/3458071427.py:8: FutureWarning: suggest_uniform has been deprecated in v3.0.0. This feature will be removed in v6.0.0. See https://github.com/optuna/optuna/releases/tag/v3.0.0. Use suggest_float instead.\n",
      "  learning_rate = trial.suggest_uniform('learning_rate', 0.001, 1)\n"
     ]
    },
    {
     "name": "stdout",
     "output_type": "stream",
     "text": [
      "[LightGBM] [Info] Auto-choosing row-wise multi-threading, the overhead of testing was 0.049451 seconds.\n",
      "You can set `force_row_wise=true` to remove the overhead.\n",
      "And if memory is not enough, you can set `force_col_wise=true`.\n",
      "[LightGBM] [Info] Total Bins 23274\n",
      "[LightGBM] [Info] Number of data points in the train set: 10672, number of used features: 1127\n",
      "[LightGBM] [Warning] Found whitespace in feature_names, replace with underlines\n",
      "[LightGBM] [Info] Start training from score -0.863102\n",
      "[LightGBM] [Info] Start training from score -0.927078\n",
      "[LightGBM] [Info] Start training from score -2.169593\n",
      "[LightGBM] [Info] Start training from score -2.685078\n",
      "Training until validation scores don't improve for 50 rounds\n"
     ]
    },
    {
     "name": "stderr",
     "output_type": "stream",
     "text": [
      "[I 2024-02-29 00:38:40,635] Trial 165 finished with value: 0.8380809595202399 and parameters: {'learning_rate': 0.15979983357650998, 'num_leaves': 17}. Best is trial 99 with value: 0.8508245877061469.\n"
     ]
    },
    {
     "name": "stdout",
     "output_type": "stream",
     "text": [
      "Did not meet early stopping. Best iteration is:\n",
      "[100]\tTrain's multi_logloss: 0.302452\tValid's multi_logloss: 0.47375\n",
      "[LightGBM] [Warning] Found whitespace in feature_names, replace with underlines\n"
     ]
    },
    {
     "name": "stderr",
     "output_type": "stream",
     "text": [
      "/var/folders/d4/0c_l5jkx5_n985zcb0gf1ng00000gn/T/ipykernel_4343/3458071427.py:8: FutureWarning: suggest_uniform has been deprecated in v3.0.0. This feature will be removed in v6.0.0. See https://github.com/optuna/optuna/releases/tag/v3.0.0. Use suggest_float instead.\n",
      "  learning_rate = trial.suggest_uniform('learning_rate', 0.001, 1)\n"
     ]
    },
    {
     "name": "stdout",
     "output_type": "stream",
     "text": [
      "[LightGBM] [Info] Auto-choosing row-wise multi-threading, the overhead of testing was 0.050232 seconds.\n",
      "You can set `force_row_wise=true` to remove the overhead.\n",
      "And if memory is not enough, you can set `force_col_wise=true`.\n",
      "[LightGBM] [Info] Total Bins 23274\n",
      "[LightGBM] [Info] Number of data points in the train set: 10672, number of used features: 1127\n",
      "[LightGBM] [Warning] Found whitespace in feature_names, replace with underlines\n",
      "[LightGBM] [Info] Start training from score -0.863102\n",
      "[LightGBM] [Info] Start training from score -0.927078\n",
      "[LightGBM] [Info] Start training from score -2.169593\n",
      "[LightGBM] [Info] Start training from score -2.685078\n",
      "Training until validation scores don't improve for 50 rounds\n"
     ]
    },
    {
     "name": "stderr",
     "output_type": "stream",
     "text": [
      "[I 2024-02-29 00:38:44,553] Trial 166 finished with value: 0.835832083958021 and parameters: {'learning_rate': 0.13927235449038583, 'num_leaves': 38}. Best is trial 99 with value: 0.8508245877061469.\n"
     ]
    },
    {
     "name": "stdout",
     "output_type": "stream",
     "text": [
      "Did not meet early stopping. Best iteration is:\n",
      "[73]\tTrain's multi_logloss: 0.229896\tValid's multi_logloss: 0.464062\n",
      "[LightGBM] [Warning] Found whitespace in feature_names, replace with underlines\n"
     ]
    },
    {
     "name": "stderr",
     "output_type": "stream",
     "text": [
      "/var/folders/d4/0c_l5jkx5_n985zcb0gf1ng00000gn/T/ipykernel_4343/3458071427.py:8: FutureWarning: suggest_uniform has been deprecated in v3.0.0. This feature will be removed in v6.0.0. See https://github.com/optuna/optuna/releases/tag/v3.0.0. Use suggest_float instead.\n",
      "  learning_rate = trial.suggest_uniform('learning_rate', 0.001, 1)\n"
     ]
    },
    {
     "name": "stdout",
     "output_type": "stream",
     "text": [
      "[LightGBM] [Info] Auto-choosing row-wise multi-threading, the overhead of testing was 0.049929 seconds.\n",
      "You can set `force_row_wise=true` to remove the overhead.\n",
      "And if memory is not enough, you can set `force_col_wise=true`.\n",
      "[LightGBM] [Info] Total Bins 23274\n",
      "[LightGBM] [Info] Number of data points in the train set: 10672, number of used features: 1127\n",
      "[LightGBM] [Warning] Found whitespace in feature_names, replace with underlines\n",
      "[LightGBM] [Info] Start training from score -0.863102\n",
      "[LightGBM] [Info] Start training from score -0.927078\n",
      "[LightGBM] [Info] Start training from score -2.169593\n",
      "[LightGBM] [Info] Start training from score -2.685078\n",
      "Training until validation scores don't improve for 50 rounds\n"
     ]
    },
    {
     "name": "stderr",
     "output_type": "stream",
     "text": [
      "[I 2024-02-29 00:38:46,428] Trial 167 finished with value: 0.8425787106446777 and parameters: {'learning_rate': 0.11842603931597921, 'num_leaves': 16}. Best is trial 99 with value: 0.8508245877061469.\n"
     ]
    },
    {
     "name": "stdout",
     "output_type": "stream",
     "text": [
      "Did not meet early stopping. Best iteration is:\n",
      "[100]\tTrain's multi_logloss: 0.364843\tValid's multi_logloss: 0.499104\n",
      "[LightGBM] [Warning] Found whitespace in feature_names, replace with underlines\n"
     ]
    },
    {
     "name": "stderr",
     "output_type": "stream",
     "text": [
      "/var/folders/d4/0c_l5jkx5_n985zcb0gf1ng00000gn/T/ipykernel_4343/3458071427.py:8: FutureWarning: suggest_uniform has been deprecated in v3.0.0. This feature will be removed in v6.0.0. See https://github.com/optuna/optuna/releases/tag/v3.0.0. Use suggest_float instead.\n",
      "  learning_rate = trial.suggest_uniform('learning_rate', 0.001, 1)\n"
     ]
    },
    {
     "name": "stdout",
     "output_type": "stream",
     "text": [
      "[LightGBM] [Info] Auto-choosing row-wise multi-threading, the overhead of testing was 0.050369 seconds.\n",
      "You can set `force_row_wise=true` to remove the overhead.\n",
      "And if memory is not enough, you can set `force_col_wise=true`.\n",
      "[LightGBM] [Info] Total Bins 23274\n",
      "[LightGBM] [Info] Number of data points in the train set: 10672, number of used features: 1127\n",
      "[LightGBM] [Warning] Found whitespace in feature_names, replace with underlines\n",
      "[LightGBM] [Info] Start training from score -0.863102\n",
      "[LightGBM] [Info] Start training from score -0.927078\n",
      "[LightGBM] [Info] Start training from score -2.169593\n",
      "[LightGBM] [Info] Start training from score -2.685078\n",
      "Training until validation scores don't improve for 50 rounds\n"
     ]
    },
    {
     "name": "stderr",
     "output_type": "stream",
     "text": [
      "[I 2024-02-29 00:38:48,547] Trial 168 finished with value: 0.8403298350824587 and parameters: {'learning_rate': 0.20314342130360047, 'num_leaves': 19}. Best is trial 99 with value: 0.8508245877061469.\n"
     ]
    },
    {
     "name": "stdout",
     "output_type": "stream",
     "text": [
      "Did not meet early stopping. Best iteration is:\n",
      "[94]\tTrain's multi_logloss: 0.250621\tValid's multi_logloss: 0.464651\n",
      "[LightGBM] [Warning] Found whitespace in feature_names, replace with underlines\n"
     ]
    },
    {
     "name": "stderr",
     "output_type": "stream",
     "text": [
      "/var/folders/d4/0c_l5jkx5_n985zcb0gf1ng00000gn/T/ipykernel_4343/3458071427.py:8: FutureWarning: suggest_uniform has been deprecated in v3.0.0. This feature will be removed in v6.0.0. See https://github.com/optuna/optuna/releases/tag/v3.0.0. Use suggest_float instead.\n",
      "  learning_rate = trial.suggest_uniform('learning_rate', 0.001, 1)\n"
     ]
    },
    {
     "name": "stdout",
     "output_type": "stream",
     "text": [
      "[LightGBM] [Info] Auto-choosing row-wise multi-threading, the overhead of testing was 0.058184 seconds.\n",
      "You can set `force_row_wise=true` to remove the overhead.\n",
      "And if memory is not enough, you can set `force_col_wise=true`.\n",
      "[LightGBM] [Info] Total Bins 23274\n",
      "[LightGBM] [Info] Number of data points in the train set: 10672, number of used features: 1127\n",
      "[LightGBM] [Warning] Found whitespace in feature_names, replace with underlines\n",
      "[LightGBM] [Info] Start training from score -0.863102\n",
      "[LightGBM] [Info] Start training from score -0.927078\n",
      "[LightGBM] [Info] Start training from score -2.169593\n",
      "[LightGBM] [Info] Start training from score -2.685078\n",
      "Training until validation scores don't improve for 50 rounds\n"
     ]
    },
    {
     "name": "stderr",
     "output_type": "stream",
     "text": [
      "[I 2024-02-29 00:38:50,573] Trial 169 finished with value: 0.8380809595202399 and parameters: {'learning_rate': 0.28240592339535203, 'num_leaves': 18}. Best is trial 99 with value: 0.8508245877061469.\n"
     ]
    },
    {
     "name": "stdout",
     "output_type": "stream",
     "text": [
      "Did not meet early stopping. Best iteration is:\n",
      "[81]\tTrain's multi_logloss: 0.230248\tValid's multi_logloss: 0.471815\n",
      "[LightGBM] [Warning] Found whitespace in feature_names, replace with underlines\n"
     ]
    },
    {
     "name": "stderr",
     "output_type": "stream",
     "text": [
      "/var/folders/d4/0c_l5jkx5_n985zcb0gf1ng00000gn/T/ipykernel_4343/3458071427.py:8: FutureWarning: suggest_uniform has been deprecated in v3.0.0. This feature will be removed in v6.0.0. See https://github.com/optuna/optuna/releases/tag/v3.0.0. Use suggest_float instead.\n",
      "  learning_rate = trial.suggest_uniform('learning_rate', 0.001, 1)\n"
     ]
    },
    {
     "name": "stdout",
     "output_type": "stream",
     "text": [
      "[LightGBM] [Info] Auto-choosing col-wise multi-threading, the overhead of testing was 0.047821 seconds.\n",
      "You can set `force_col_wise=true` to remove the overhead.\n",
      "[LightGBM] [Info] Total Bins 23274\n",
      "[LightGBM] [Info] Number of data points in the train set: 10672, number of used features: 1127\n",
      "[LightGBM] [Warning] Found whitespace in feature_names, replace with underlines\n",
      "[LightGBM] [Info] Start training from score -0.863102\n",
      "[LightGBM] [Info] Start training from score -0.927078\n",
      "[LightGBM] [Info] Start training from score -2.169593\n",
      "[LightGBM] [Info] Start training from score -2.685078\n",
      "Training until validation scores don't improve for 50 rounds\n"
     ]
    },
    {
     "name": "stderr",
     "output_type": "stream",
     "text": [
      "[I 2024-02-29 00:38:52,224] Trial 170 finished with value: 0.841079460269865 and parameters: {'learning_rate': 0.2205872512881263, 'num_leaves': 14}. Best is trial 99 with value: 0.8508245877061469.\n"
     ]
    },
    {
     "name": "stdout",
     "output_type": "stream",
     "text": [
      "Did not meet early stopping. Best iteration is:\n",
      "[99]\tTrain's multi_logloss: 0.284853\tValid's multi_logloss: 0.470693\n",
      "[LightGBM] [Warning] Found whitespace in feature_names, replace with underlines\n"
     ]
    },
    {
     "name": "stderr",
     "output_type": "stream",
     "text": [
      "/var/folders/d4/0c_l5jkx5_n985zcb0gf1ng00000gn/T/ipykernel_4343/3458071427.py:8: FutureWarning: suggest_uniform has been deprecated in v3.0.0. This feature will be removed in v6.0.0. See https://github.com/optuna/optuna/releases/tag/v3.0.0. Use suggest_float instead.\n",
      "  learning_rate = trial.suggest_uniform('learning_rate', 0.001, 1)\n"
     ]
    },
    {
     "name": "stdout",
     "output_type": "stream",
     "text": [
      "[LightGBM] [Info] Auto-choosing row-wise multi-threading, the overhead of testing was 0.048175 seconds.\n",
      "You can set `force_row_wise=true` to remove the overhead.\n",
      "And if memory is not enough, you can set `force_col_wise=true`.\n",
      "[LightGBM] [Info] Total Bins 23274\n",
      "[LightGBM] [Info] Number of data points in the train set: 10672, number of used features: 1127\n",
      "[LightGBM] [Warning] Found whitespace in feature_names, replace with underlines\n",
      "[LightGBM] [Info] Start training from score -0.863102\n",
      "[LightGBM] [Info] Start training from score -0.927078\n",
      "[LightGBM] [Info] Start training from score -2.169593\n",
      "[LightGBM] [Info] Start training from score -2.685078\n",
      "Training until validation scores don't improve for 50 rounds\n"
     ]
    },
    {
     "name": "stderr",
     "output_type": "stream",
     "text": [
      "[I 2024-02-29 00:38:54,384] Trial 171 finished with value: 0.8440779610194903 and parameters: {'learning_rate': 0.17343123360146145, 'num_leaves': 19}. Best is trial 99 with value: 0.8508245877061469.\n"
     ]
    },
    {
     "name": "stdout",
     "output_type": "stream",
     "text": [
      "Did not meet early stopping. Best iteration is:\n",
      "[100]\tTrain's multi_logloss: 0.267037\tValid's multi_logloss: 0.465009\n",
      "[LightGBM] [Warning] Found whitespace in feature_names, replace with underlines\n"
     ]
    },
    {
     "name": "stderr",
     "output_type": "stream",
     "text": [
      "/var/folders/d4/0c_l5jkx5_n985zcb0gf1ng00000gn/T/ipykernel_4343/3458071427.py:8: FutureWarning: suggest_uniform has been deprecated in v3.0.0. This feature will be removed in v6.0.0. See https://github.com/optuna/optuna/releases/tag/v3.0.0. Use suggest_float instead.\n",
      "  learning_rate = trial.suggest_uniform('learning_rate', 0.001, 1)\n"
     ]
    },
    {
     "name": "stdout",
     "output_type": "stream",
     "text": [
      "[LightGBM] [Info] Auto-choosing row-wise multi-threading, the overhead of testing was 0.052372 seconds.\n",
      "You can set `force_row_wise=true` to remove the overhead.\n",
      "And if memory is not enough, you can set `force_col_wise=true`.\n",
      "[LightGBM] [Info] Total Bins 23274\n",
      "[LightGBM] [Info] Number of data points in the train set: 10672, number of used features: 1127\n",
      "[LightGBM] [Warning] Found whitespace in feature_names, replace with underlines\n",
      "[LightGBM] [Info] Start training from score -0.863102\n",
      "[LightGBM] [Info] Start training from score -0.927078\n",
      "[LightGBM] [Info] Start training from score -2.169593\n",
      "[LightGBM] [Info] Start training from score -2.685078\n",
      "Training until validation scores don't improve for 50 rounds\n"
     ]
    },
    {
     "name": "stderr",
     "output_type": "stream",
     "text": [
      "[I 2024-02-29 00:38:56,374] Trial 172 finished with value: 0.8463268365817092 and parameters: {'learning_rate': 0.15286489847761747, 'num_leaves': 17}. Best is trial 99 with value: 0.8508245877061469.\n"
     ]
    },
    {
     "name": "stdout",
     "output_type": "stream",
     "text": [
      "Did not meet early stopping. Best iteration is:\n",
      "[100]\tTrain's multi_logloss: 0.309068\tValid's multi_logloss: 0.476366\n",
      "[LightGBM] [Warning] Found whitespace in feature_names, replace with underlines\n"
     ]
    },
    {
     "name": "stderr",
     "output_type": "stream",
     "text": [
      "/var/folders/d4/0c_l5jkx5_n985zcb0gf1ng00000gn/T/ipykernel_4343/3458071427.py:8: FutureWarning: suggest_uniform has been deprecated in v3.0.0. This feature will be removed in v6.0.0. See https://github.com/optuna/optuna/releases/tag/v3.0.0. Use suggest_float instead.\n",
      "  learning_rate = trial.suggest_uniform('learning_rate', 0.001, 1)\n"
     ]
    },
    {
     "name": "stdout",
     "output_type": "stream",
     "text": [
      "[LightGBM] [Info] Auto-choosing row-wise multi-threading, the overhead of testing was 0.049948 seconds.\n",
      "You can set `force_row_wise=true` to remove the overhead.\n",
      "And if memory is not enough, you can set `force_col_wise=true`.\n",
      "[LightGBM] [Info] Total Bins 23274\n",
      "[LightGBM] [Info] Number of data points in the train set: 10672, number of used features: 1127\n",
      "[LightGBM] [Warning] Found whitespace in feature_names, replace with underlines\n",
      "[LightGBM] [Info] Start training from score -0.863102\n",
      "[LightGBM] [Info] Start training from score -0.927078\n",
      "[LightGBM] [Info] Start training from score -2.169593\n",
      "[LightGBM] [Info] Start training from score -2.685078\n",
      "Training until validation scores don't improve for 50 rounds\n"
     ]
    },
    {
     "name": "stderr",
     "output_type": "stream",
     "text": [
      "[I 2024-02-29 00:38:58,324] Trial 173 finished with value: 0.843328335832084 and parameters: {'learning_rate': 0.15516664681792885, 'num_leaves': 16}. Best is trial 99 with value: 0.8508245877061469.\n"
     ]
    },
    {
     "name": "stdout",
     "output_type": "stream",
     "text": [
      "Did not meet early stopping. Best iteration is:\n",
      "[100]\tTrain's multi_logloss: 0.318642\tValid's multi_logloss: 0.480044\n",
      "[LightGBM] [Warning] Found whitespace in feature_names, replace with underlines\n"
     ]
    },
    {
     "name": "stderr",
     "output_type": "stream",
     "text": [
      "/var/folders/d4/0c_l5jkx5_n985zcb0gf1ng00000gn/T/ipykernel_4343/3458071427.py:8: FutureWarning: suggest_uniform has been deprecated in v3.0.0. This feature will be removed in v6.0.0. See https://github.com/optuna/optuna/releases/tag/v3.0.0. Use suggest_float instead.\n",
      "  learning_rate = trial.suggest_uniform('learning_rate', 0.001, 1)\n"
     ]
    },
    {
     "name": "stdout",
     "output_type": "stream",
     "text": [
      "[LightGBM] [Info] Auto-choosing row-wise multi-threading, the overhead of testing was 0.048481 seconds.\n",
      "You can set `force_row_wise=true` to remove the overhead.\n",
      "And if memory is not enough, you can set `force_col_wise=true`.\n",
      "[LightGBM] [Info] Total Bins 23274\n",
      "[LightGBM] [Info] Number of data points in the train set: 10672, number of used features: 1127\n",
      "[LightGBM] [Warning] Found whitespace in feature_names, replace with underlines\n",
      "[LightGBM] [Info] Start training from score -0.863102\n",
      "[LightGBM] [Info] Start training from score -0.927078\n",
      "[LightGBM] [Info] Start training from score -2.169593\n",
      "[LightGBM] [Info] Start training from score -2.685078\n",
      "Training until validation scores don't improve for 50 rounds\n"
     ]
    },
    {
     "name": "stderr",
     "output_type": "stream",
     "text": [
      "[I 2024-02-29 00:39:00,314] Trial 174 finished with value: 0.8455772113943029 and parameters: {'learning_rate': 0.19541842837903228, 'num_leaves': 17}. Best is trial 99 with value: 0.8508245877061469.\n"
     ]
    },
    {
     "name": "stdout",
     "output_type": "stream",
     "text": [
      "Did not meet early stopping. Best iteration is:\n",
      "[100]\tTrain's multi_logloss: 0.269116\tValid's multi_logloss: 0.463984\n",
      "[LightGBM] [Warning] Found whitespace in feature_names, replace with underlines\n"
     ]
    },
    {
     "name": "stderr",
     "output_type": "stream",
     "text": [
      "/var/folders/d4/0c_l5jkx5_n985zcb0gf1ng00000gn/T/ipykernel_4343/3458071427.py:8: FutureWarning: suggest_uniform has been deprecated in v3.0.0. This feature will be removed in v6.0.0. See https://github.com/optuna/optuna/releases/tag/v3.0.0. Use suggest_float instead.\n",
      "  learning_rate = trial.suggest_uniform('learning_rate', 0.001, 1)\n"
     ]
    },
    {
     "name": "stdout",
     "output_type": "stream",
     "text": [
      "[LightGBM] [Info] Auto-choosing col-wise multi-threading, the overhead of testing was 0.048452 seconds.\n",
      "You can set `force_col_wise=true` to remove the overhead.\n",
      "[LightGBM] [Info] Total Bins 23274\n",
      "[LightGBM] [Info] Number of data points in the train set: 10672, number of used features: 1127\n",
      "[LightGBM] [Warning] Found whitespace in feature_names, replace with underlines\n",
      "[LightGBM] [Info] Start training from score -0.863102\n",
      "[LightGBM] [Info] Start training from score -0.927078\n",
      "[LightGBM] [Info] Start training from score -2.169593\n",
      "[LightGBM] [Info] Start training from score -2.685078\n",
      "Training until validation scores don't improve for 50 rounds\n"
     ]
    },
    {
     "name": "stderr",
     "output_type": "stream",
     "text": [
      "[I 2024-02-29 00:39:02,077] Trial 175 finished with value: 0.823088455772114 and parameters: {'learning_rate': 0.08198870435577227, 'num_leaves': 15}. Best is trial 99 with value: 0.8508245877061469.\n"
     ]
    },
    {
     "name": "stdout",
     "output_type": "stream",
     "text": [
      "Did not meet early stopping. Best iteration is:\n",
      "[100]\tTrain's multi_logloss: 0.440686\tValid's multi_logloss: 0.542065\n",
      "[LightGBM] [Warning] Found whitespace in feature_names, replace with underlines\n"
     ]
    },
    {
     "name": "stderr",
     "output_type": "stream",
     "text": [
      "/var/folders/d4/0c_l5jkx5_n985zcb0gf1ng00000gn/T/ipykernel_4343/3458071427.py:8: FutureWarning: suggest_uniform has been deprecated in v3.0.0. This feature will be removed in v6.0.0. See https://github.com/optuna/optuna/releases/tag/v3.0.0. Use suggest_float instead.\n",
      "  learning_rate = trial.suggest_uniform('learning_rate', 0.001, 1)\n"
     ]
    },
    {
     "name": "stdout",
     "output_type": "stream",
     "text": [
      "[LightGBM] [Info] Auto-choosing row-wise multi-threading, the overhead of testing was 0.049720 seconds.\n",
      "You can set `force_row_wise=true` to remove the overhead.\n",
      "And if memory is not enough, you can set `force_col_wise=true`.\n",
      "[LightGBM] [Info] Total Bins 23274\n",
      "[LightGBM] [Info] Number of data points in the train set: 10672, number of used features: 1127\n",
      "[LightGBM] [Warning] Found whitespace in feature_names, replace with underlines\n",
      "[LightGBM] [Info] Start training from score -0.863102\n",
      "[LightGBM] [Info] Start training from score -0.927078\n",
      "[LightGBM] [Info] Start training from score -2.169593\n",
      "[LightGBM] [Info] Start training from score -2.685078\n",
      "Training until validation scores don't improve for 50 rounds\n"
     ]
    },
    {
     "name": "stderr",
     "output_type": "stream",
     "text": [
      "[I 2024-02-29 00:39:03,149] Trial 176 finished with value: 0.8148425787106447 and parameters: {'learning_rate': 0.11023954285742563, 'num_leaves': 8}. Best is trial 99 with value: 0.8508245877061469.\n"
     ]
    },
    {
     "name": "stdout",
     "output_type": "stream",
     "text": [
      "Did not meet early stopping. Best iteration is:\n",
      "[100]\tTrain's multi_logloss: 0.511683\tValid's multi_logloss: 0.587439\n",
      "[LightGBM] [Warning] Found whitespace in feature_names, replace with underlines\n"
     ]
    },
    {
     "name": "stderr",
     "output_type": "stream",
     "text": [
      "/var/folders/d4/0c_l5jkx5_n985zcb0gf1ng00000gn/T/ipykernel_4343/3458071427.py:8: FutureWarning: suggest_uniform has been deprecated in v3.0.0. This feature will be removed in v6.0.0. See https://github.com/optuna/optuna/releases/tag/v3.0.0. Use suggest_float instead.\n",
      "  learning_rate = trial.suggest_uniform('learning_rate', 0.001, 1)\n"
     ]
    },
    {
     "name": "stdout",
     "output_type": "stream",
     "text": [
      "[LightGBM] [Info] Auto-choosing row-wise multi-threading, the overhead of testing was 0.049262 seconds.\n",
      "You can set `force_row_wise=true` to remove the overhead.\n",
      "And if memory is not enough, you can set `force_col_wise=true`.\n",
      "[LightGBM] [Info] Total Bins 23274\n",
      "[LightGBM] [Info] Number of data points in the train set: 10672, number of used features: 1127\n",
      "[LightGBM] [Warning] Found whitespace in feature_names, replace with underlines\n",
      "[LightGBM] [Info] Start training from score -0.863102\n",
      "[LightGBM] [Info] Start training from score -0.927078\n",
      "[LightGBM] [Info] Start training from score -2.169593\n",
      "[LightGBM] [Info] Start training from score -2.685078\n",
      "Training until validation scores don't improve for 50 rounds\n"
     ]
    },
    {
     "name": "stderr",
     "output_type": "stream",
     "text": [
      "[I 2024-02-29 00:39:05,098] Trial 177 finished with value: 0.8418290854572713 and parameters: {'learning_rate': 0.13701395827527557, 'num_leaves': 17}. Best is trial 99 with value: 0.8508245877061469.\n"
     ]
    },
    {
     "name": "stdout",
     "output_type": "stream",
     "text": [
      "Did not meet early stopping. Best iteration is:\n",
      "[100]\tTrain's multi_logloss: 0.327847\tValid's multi_logloss: 0.479737\n",
      "[LightGBM] [Warning] Found whitespace in feature_names, replace with underlines\n"
     ]
    },
    {
     "name": "stderr",
     "output_type": "stream",
     "text": [
      "/var/folders/d4/0c_l5jkx5_n985zcb0gf1ng00000gn/T/ipykernel_4343/3458071427.py:8: FutureWarning: suggest_uniform has been deprecated in v3.0.0. This feature will be removed in v6.0.0. See https://github.com/optuna/optuna/releases/tag/v3.0.0. Use suggest_float instead.\n",
      "  learning_rate = trial.suggest_uniform('learning_rate', 0.001, 1)\n"
     ]
    },
    {
     "name": "stdout",
     "output_type": "stream",
     "text": [
      "[LightGBM] [Info] Auto-choosing col-wise multi-threading, the overhead of testing was 0.049681 seconds.\n",
      "You can set `force_col_wise=true` to remove the overhead.\n",
      "[LightGBM] [Info] Total Bins 23274\n",
      "[LightGBM] [Info] Number of data points in the train set: 10672, number of used features: 1127\n",
      "[LightGBM] [Warning] Found whitespace in feature_names, replace with underlines\n",
      "[LightGBM] [Info] Start training from score -0.863102\n",
      "[LightGBM] [Info] Start training from score -0.927078\n",
      "[LightGBM] [Info] Start training from score -2.169593\n",
      "[LightGBM] [Info] Start training from score -2.685078\n",
      "Training until validation scores don't improve for 50 rounds\n"
     ]
    },
    {
     "name": "stderr",
     "output_type": "stream",
     "text": [
      "[I 2024-02-29 00:39:06,808] Trial 178 finished with value: 0.8403298350824587 and parameters: {'learning_rate': 0.23977686361668468, 'num_leaves': 14}. Best is trial 99 with value: 0.8508245877061469.\n"
     ]
    },
    {
     "name": "stdout",
     "output_type": "stream",
     "text": [
      "Did not meet early stopping. Best iteration is:\n",
      "[93]\tTrain's multi_logloss: 0.28173\tValid's multi_logloss: 0.468019\n",
      "[LightGBM] [Warning] Found whitespace in feature_names, replace with underlines\n"
     ]
    },
    {
     "name": "stderr",
     "output_type": "stream",
     "text": [
      "/var/folders/d4/0c_l5jkx5_n985zcb0gf1ng00000gn/T/ipykernel_4343/3458071427.py:8: FutureWarning: suggest_uniform has been deprecated in v3.0.0. This feature will be removed in v6.0.0. See https://github.com/optuna/optuna/releases/tag/v3.0.0. Use suggest_float instead.\n",
      "  learning_rate = trial.suggest_uniform('learning_rate', 0.001, 1)\n"
     ]
    },
    {
     "name": "stdout",
     "output_type": "stream",
     "text": [
      "[LightGBM] [Info] Auto-choosing row-wise multi-threading, the overhead of testing was 0.051601 seconds.\n",
      "You can set `force_row_wise=true` to remove the overhead.\n",
      "And if memory is not enough, you can set `force_col_wise=true`.\n",
      "[LightGBM] [Info] Total Bins 23274\n",
      "[LightGBM] [Info] Number of data points in the train set: 10672, number of used features: 1127\n",
      "[LightGBM] [Warning] Found whitespace in feature_names, replace with underlines\n",
      "[LightGBM] [Info] Start training from score -0.863102\n",
      "[LightGBM] [Info] Start training from score -0.927078\n",
      "[LightGBM] [Info] Start training from score -2.169593\n",
      "[LightGBM] [Info] Start training from score -2.685078\n",
      "Training until validation scores don't improve for 50 rounds\n"
     ]
    },
    {
     "name": "stderr",
     "output_type": "stream",
     "text": [
      "[I 2024-02-29 00:39:08,946] Trial 179 finished with value: 0.841079460269865 and parameters: {'learning_rate': 0.20748868341862436, 'num_leaves': 19}. Best is trial 99 with value: 0.8508245877061469.\n"
     ]
    },
    {
     "name": "stdout",
     "output_type": "stream",
     "text": [
      "Did not meet early stopping. Best iteration is:\n",
      "[100]\tTrain's multi_logloss: 0.237116\tValid's multi_logloss: 0.462455\n",
      "[LightGBM] [Warning] Found whitespace in feature_names, replace with underlines\n"
     ]
    },
    {
     "name": "stderr",
     "output_type": "stream",
     "text": [
      "/var/folders/d4/0c_l5jkx5_n985zcb0gf1ng00000gn/T/ipykernel_4343/3458071427.py:8: FutureWarning: suggest_uniform has been deprecated in v3.0.0. This feature will be removed in v6.0.0. See https://github.com/optuna/optuna/releases/tag/v3.0.0. Use suggest_float instead.\n",
      "  learning_rate = trial.suggest_uniform('learning_rate', 0.001, 1)\n"
     ]
    },
    {
     "name": "stdout",
     "output_type": "stream",
     "text": [
      "[LightGBM] [Info] Auto-choosing row-wise multi-threading, the overhead of testing was 0.049773 seconds.\n",
      "You can set `force_row_wise=true` to remove the overhead.\n",
      "And if memory is not enough, you can set `force_col_wise=true`.\n",
      "[LightGBM] [Info] Total Bins 23274\n",
      "[LightGBM] [Info] Number of data points in the train set: 10672, number of used features: 1127\n",
      "[LightGBM] [Warning] Found whitespace in feature_names, replace with underlines\n",
      "[LightGBM] [Info] Start training from score -0.863102\n",
      "[LightGBM] [Info] Start training from score -0.927078\n",
      "[LightGBM] [Info] Start training from score -2.169593\n",
      "[LightGBM] [Info] Start training from score -2.685078\n",
      "Training until validation scores don't improve for 50 rounds\n"
     ]
    },
    {
     "name": "stderr",
     "output_type": "stream",
     "text": [
      "[I 2024-02-29 00:39:12,211] Trial 180 finished with value: 0.8335832083958021 and parameters: {'learning_rate': 0.1634639220028306, 'num_leaves': 31}. Best is trial 99 with value: 0.8508245877061469.\n"
     ]
    },
    {
     "name": "stdout",
     "output_type": "stream",
     "text": [
      "Did not meet early stopping. Best iteration is:\n",
      "[75]\tTrain's multi_logloss: 0.234686\tValid's multi_logloss: 0.465723\n",
      "[LightGBM] [Warning] Found whitespace in feature_names, replace with underlines\n"
     ]
    },
    {
     "name": "stderr",
     "output_type": "stream",
     "text": [
      "/var/folders/d4/0c_l5jkx5_n985zcb0gf1ng00000gn/T/ipykernel_4343/3458071427.py:8: FutureWarning: suggest_uniform has been deprecated in v3.0.0. This feature will be removed in v6.0.0. See https://github.com/optuna/optuna/releases/tag/v3.0.0. Use suggest_float instead.\n",
      "  learning_rate = trial.suggest_uniform('learning_rate', 0.001, 1)\n"
     ]
    },
    {
     "name": "stdout",
     "output_type": "stream",
     "text": [
      "[LightGBM] [Info] Auto-choosing row-wise multi-threading, the overhead of testing was 0.050304 seconds.\n",
      "You can set `force_row_wise=true` to remove the overhead.\n",
      "And if memory is not enough, you can set `force_col_wise=true`.\n",
      "[LightGBM] [Info] Total Bins 23274\n",
      "[LightGBM] [Info] Number of data points in the train set: 10672, number of used features: 1127\n",
      "[LightGBM] [Warning] Found whitespace in feature_names, replace with underlines\n",
      "[LightGBM] [Info] Start training from score -0.863102\n",
      "[LightGBM] [Info] Start training from score -0.927078\n",
      "[LightGBM] [Info] Start training from score -2.169593\n",
      "[LightGBM] [Info] Start training from score -2.685078\n",
      "Training until validation scores don't improve for 50 rounds\n"
     ]
    },
    {
     "name": "stderr",
     "output_type": "stream",
     "text": [
      "[I 2024-02-29 00:39:14,152] Trial 181 finished with value: 0.841079460269865 and parameters: {'learning_rate': 0.18468551830389834, 'num_leaves': 17}. Best is trial 99 with value: 0.8508245877061469.\n"
     ]
    },
    {
     "name": "stdout",
     "output_type": "stream",
     "text": [
      "Did not meet early stopping. Best iteration is:\n",
      "[100]\tTrain's multi_logloss: 0.278088\tValid's multi_logloss: 0.466538\n",
      "[LightGBM] [Warning] Found whitespace in feature_names, replace with underlines\n"
     ]
    },
    {
     "name": "stderr",
     "output_type": "stream",
     "text": [
      "/var/folders/d4/0c_l5jkx5_n985zcb0gf1ng00000gn/T/ipykernel_4343/3458071427.py:8: FutureWarning: suggest_uniform has been deprecated in v3.0.0. This feature will be removed in v6.0.0. See https://github.com/optuna/optuna/releases/tag/v3.0.0. Use suggest_float instead.\n",
      "  learning_rate = trial.suggest_uniform('learning_rate', 0.001, 1)\n"
     ]
    },
    {
     "name": "stdout",
     "output_type": "stream",
     "text": [
      "[LightGBM] [Info] Auto-choosing row-wise multi-threading, the overhead of testing was 0.049712 seconds.\n",
      "You can set `force_row_wise=true` to remove the overhead.\n",
      "And if memory is not enough, you can set `force_col_wise=true`.\n",
      "[LightGBM] [Info] Total Bins 23274\n",
      "[LightGBM] [Info] Number of data points in the train set: 10672, number of used features: 1127\n",
      "[LightGBM] [Warning] Found whitespace in feature_names, replace with underlines\n",
      "[LightGBM] [Info] Start training from score -0.863102\n",
      "[LightGBM] [Info] Start training from score -0.927078\n",
      "[LightGBM] [Info] Start training from score -2.169593\n",
      "[LightGBM] [Info] Start training from score -2.685078\n",
      "Training until validation scores don't improve for 50 rounds\n"
     ]
    },
    {
     "name": "stderr",
     "output_type": "stream",
     "text": [
      "[I 2024-02-29 00:39:15,940] Trial 182 finished with value: 0.8388305847076462 and parameters: {'learning_rate': 0.19426836431249592, 'num_leaves': 15}. Best is trial 99 with value: 0.8508245877061469.\n"
     ]
    },
    {
     "name": "stdout",
     "output_type": "stream",
     "text": [
      "Did not meet early stopping. Best iteration is:\n",
      "[100]\tTrain's multi_logloss: 0.29272\tValid's multi_logloss: 0.474752\n",
      "[LightGBM] [Warning] Found whitespace in feature_names, replace with underlines\n"
     ]
    },
    {
     "name": "stderr",
     "output_type": "stream",
     "text": [
      "/var/folders/d4/0c_l5jkx5_n985zcb0gf1ng00000gn/T/ipykernel_4343/3458071427.py:8: FutureWarning: suggest_uniform has been deprecated in v3.0.0. This feature will be removed in v6.0.0. See https://github.com/optuna/optuna/releases/tag/v3.0.0. Use suggest_float instead.\n",
      "  learning_rate = trial.suggest_uniform('learning_rate', 0.001, 1)\n"
     ]
    },
    {
     "name": "stdout",
     "output_type": "stream",
     "text": [
      "[LightGBM] [Info] Auto-choosing row-wise multi-threading, the overhead of testing was 0.050201 seconds.\n",
      "You can set `force_row_wise=true` to remove the overhead.\n",
      "And if memory is not enough, you can set `force_col_wise=true`.\n",
      "[LightGBM] [Info] Total Bins 23274\n",
      "[LightGBM] [Info] Number of data points in the train set: 10672, number of used features: 1127\n",
      "[LightGBM] [Warning] Found whitespace in feature_names, replace with underlines\n",
      "[LightGBM] [Info] Start training from score -0.863102\n",
      "[LightGBM] [Info] Start training from score -0.927078\n",
      "[LightGBM] [Info] Start training from score -2.169593\n",
      "[LightGBM] [Info] Start training from score -2.685078\n",
      "Training until validation scores don't improve for 50 rounds\n"
     ]
    },
    {
     "name": "stderr",
     "output_type": "stream",
     "text": [
      "[I 2024-02-29 00:39:17,958] Trial 183 finished with value: 0.843328335832084 and parameters: {'learning_rate': 0.25562531795100996, 'num_leaves': 18}. Best is trial 99 with value: 0.8508245877061469.\n"
     ]
    },
    {
     "name": "stdout",
     "output_type": "stream",
     "text": [
      "Did not meet early stopping. Best iteration is:\n",
      "[79]\tTrain's multi_logloss: 0.250354\tValid's multi_logloss: 0.466844\n",
      "[LightGBM] [Warning] Found whitespace in feature_names, replace with underlines\n"
     ]
    },
    {
     "name": "stderr",
     "output_type": "stream",
     "text": [
      "/var/folders/d4/0c_l5jkx5_n985zcb0gf1ng00000gn/T/ipykernel_4343/3458071427.py:8: FutureWarning: suggest_uniform has been deprecated in v3.0.0. This feature will be removed in v6.0.0. See https://github.com/optuna/optuna/releases/tag/v3.0.0. Use suggest_float instead.\n",
      "  learning_rate = trial.suggest_uniform('learning_rate', 0.001, 1)\n"
     ]
    },
    {
     "name": "stdout",
     "output_type": "stream",
     "text": [
      "[LightGBM] [Info] Auto-choosing row-wise multi-threading, the overhead of testing was 0.049157 seconds.\n",
      "You can set `force_row_wise=true` to remove the overhead.\n",
      "And if memory is not enough, you can set `force_col_wise=true`.\n",
      "[LightGBM] [Info] Total Bins 23274\n",
      "[LightGBM] [Info] Number of data points in the train set: 10672, number of used features: 1127\n",
      "[LightGBM] [Warning] Found whitespace in feature_names, replace with underlines\n",
      "[LightGBM] [Info] Start training from score -0.863102\n",
      "[LightGBM] [Info] Start training from score -0.927078\n",
      "[LightGBM] [Info] Start training from score -2.169593\n",
      "[LightGBM] [Info] Start training from score -2.685078\n",
      "Training until validation scores don't improve for 50 rounds\n"
     ]
    },
    {
     "name": "stderr",
     "output_type": "stream",
     "text": [
      "[I 2024-02-29 00:39:19,803] Trial 184 finished with value: 0.8448275862068966 and parameters: {'learning_rate': 0.22407937639575337, 'num_leaves': 16}. Best is trial 99 with value: 0.8508245877061469.\n"
     ]
    },
    {
     "name": "stdout",
     "output_type": "stream",
     "text": [
      "Did not meet early stopping. Best iteration is:\n",
      "[96]\tTrain's multi_logloss: 0.262279\tValid's multi_logloss: 0.466646\n",
      "[LightGBM] [Warning] Found whitespace in feature_names, replace with underlines\n"
     ]
    },
    {
     "name": "stderr",
     "output_type": "stream",
     "text": [
      "/var/folders/d4/0c_l5jkx5_n985zcb0gf1ng00000gn/T/ipykernel_4343/3458071427.py:8: FutureWarning: suggest_uniform has been deprecated in v3.0.0. This feature will be removed in v6.0.0. See https://github.com/optuna/optuna/releases/tag/v3.0.0. Use suggest_float instead.\n",
      "  learning_rate = trial.suggest_uniform('learning_rate', 0.001, 1)\n"
     ]
    },
    {
     "name": "stdout",
     "output_type": "stream",
     "text": [
      "[LightGBM] [Info] Auto-choosing row-wise multi-threading, the overhead of testing was 0.049817 seconds.\n",
      "You can set `force_row_wise=true` to remove the overhead.\n",
      "And if memory is not enough, you can set `force_col_wise=true`.\n",
      "[LightGBM] [Info] Total Bins 23274\n",
      "[LightGBM] [Info] Number of data points in the train set: 10672, number of used features: 1127\n",
      "[LightGBM] [Warning] Found whitespace in feature_names, replace with underlines\n",
      "[LightGBM] [Info] Start training from score -0.863102\n",
      "[LightGBM] [Info] Start training from score -0.927078\n",
      "[LightGBM] [Info] Start training from score -2.169593\n",
      "[LightGBM] [Info] Start training from score -2.685078\n",
      "Training until validation scores don't improve for 50 rounds\n"
     ]
    },
    {
     "name": "stderr",
     "output_type": "stream",
     "text": [
      "[I 2024-02-29 00:39:21,754] Trial 185 finished with value: 0.8418290854572713 and parameters: {'learning_rate': 0.20272525443492131, 'num_leaves': 17}. Best is trial 99 with value: 0.8508245877061469.\n"
     ]
    },
    {
     "name": "stdout",
     "output_type": "stream",
     "text": [
      "Did not meet early stopping. Best iteration is:\n",
      "[100]\tTrain's multi_logloss: 0.261914\tValid's multi_logloss: 0.469579\n",
      "[LightGBM] [Warning] Found whitespace in feature_names, replace with underlines\n"
     ]
    },
    {
     "name": "stderr",
     "output_type": "stream",
     "text": [
      "/var/folders/d4/0c_l5jkx5_n985zcb0gf1ng00000gn/T/ipykernel_4343/3458071427.py:8: FutureWarning: suggest_uniform has been deprecated in v3.0.0. This feature will be removed in v6.0.0. See https://github.com/optuna/optuna/releases/tag/v3.0.0. Use suggest_float instead.\n",
      "  learning_rate = trial.suggest_uniform('learning_rate', 0.001, 1)\n"
     ]
    },
    {
     "name": "stdout",
     "output_type": "stream",
     "text": [
      "[LightGBM] [Info] Auto-choosing row-wise multi-threading, the overhead of testing was 0.049610 seconds.\n",
      "You can set `force_row_wise=true` to remove the overhead.\n",
      "And if memory is not enough, you can set `force_col_wise=true`.\n",
      "[LightGBM] [Info] Total Bins 23274\n",
      "[LightGBM] [Info] Number of data points in the train set: 10672, number of used features: 1127\n",
      "[LightGBM] [Warning] Found whitespace in feature_names, replace with underlines\n",
      "[LightGBM] [Info] Start training from score -0.863102\n",
      "[LightGBM] [Info] Start training from score -0.927078\n",
      "[LightGBM] [Info] Start training from score -2.169593\n",
      "[LightGBM] [Info] Start training from score -2.685078\n",
      "Training until validation scores don't improve for 50 rounds\n"
     ]
    },
    {
     "name": "stderr",
     "output_type": "stream",
     "text": [
      "[I 2024-02-29 00:39:24,075] Trial 186 finished with value: 0.8403298350824587 and parameters: {'learning_rate': 0.17529178609612894, 'num_leaves': 21}. Best is trial 99 with value: 0.8508245877061469.\n"
     ]
    },
    {
     "name": "stdout",
     "output_type": "stream",
     "text": [
      "Did not meet early stopping. Best iteration is:\n",
      "[100]\tTrain's multi_logloss: 0.246918\tValid's multi_logloss: 0.461079\n",
      "[LightGBM] [Warning] Found whitespace in feature_names, replace with underlines\n"
     ]
    },
    {
     "name": "stderr",
     "output_type": "stream",
     "text": [
      "/var/folders/d4/0c_l5jkx5_n985zcb0gf1ng00000gn/T/ipykernel_4343/3458071427.py:8: FutureWarning: suggest_uniform has been deprecated in v3.0.0. This feature will be removed in v6.0.0. See https://github.com/optuna/optuna/releases/tag/v3.0.0. Use suggest_float instead.\n",
      "  learning_rate = trial.suggest_uniform('learning_rate', 0.001, 1)\n"
     ]
    },
    {
     "name": "stdout",
     "output_type": "stream",
     "text": [
      "[LightGBM] [Info] Auto-choosing row-wise multi-threading, the overhead of testing was 0.049411 seconds.\n",
      "You can set `force_row_wise=true` to remove the overhead.\n",
      "And if memory is not enough, you can set `force_col_wise=true`.\n",
      "[LightGBM] [Info] Total Bins 23274\n",
      "[LightGBM] [Info] Number of data points in the train set: 10672, number of used features: 1127\n",
      "[LightGBM] [Warning] Found whitespace in feature_names, replace with underlines\n",
      "[LightGBM] [Info] Start training from score -0.863102\n",
      "[LightGBM] [Info] Start training from score -0.927078\n",
      "[LightGBM] [Info] Start training from score -2.169593\n",
      "[LightGBM] [Info] Start training from score -2.685078\n",
      "Training until validation scores don't improve for 50 rounds\n"
     ]
    },
    {
     "name": "stderr",
     "output_type": "stream",
     "text": [
      "[I 2024-02-29 00:39:25,631] Trial 187 finished with value: 0.8373313343328336 and parameters: {'learning_rate': 0.1522697425459958, 'num_leaves': 13}. Best is trial 99 with value: 0.8508245877061469.\n"
     ]
    },
    {
     "name": "stdout",
     "output_type": "stream",
     "text": [
      "Did not meet early stopping. Best iteration is:\n",
      "[100]\tTrain's multi_logloss: 0.36141\tValid's multi_logloss: 0.498539\n",
      "[LightGBM] [Warning] Found whitespace in feature_names, replace with underlines\n"
     ]
    },
    {
     "name": "stderr",
     "output_type": "stream",
     "text": [
      "/var/folders/d4/0c_l5jkx5_n985zcb0gf1ng00000gn/T/ipykernel_4343/3458071427.py:8: FutureWarning: suggest_uniform has been deprecated in v3.0.0. This feature will be removed in v6.0.0. See https://github.com/optuna/optuna/releases/tag/v3.0.0. Use suggest_float instead.\n",
      "  learning_rate = trial.suggest_uniform('learning_rate', 0.001, 1)\n"
     ]
    },
    {
     "name": "stdout",
     "output_type": "stream",
     "text": [
      "[LightGBM] [Info] Auto-choosing row-wise multi-threading, the overhead of testing was 0.049217 seconds.\n",
      "You can set `force_row_wise=true` to remove the overhead.\n",
      "And if memory is not enough, you can set `force_col_wise=true`.\n",
      "[LightGBM] [Info] Total Bins 23274\n",
      "[LightGBM] [Info] Number of data points in the train set: 10672, number of used features: 1127\n",
      "[LightGBM] [Warning] Found whitespace in feature_names, replace with underlines\n",
      "[LightGBM] [Info] Start training from score -0.863102\n",
      "[LightGBM] [Info] Start training from score -0.927078\n",
      "[LightGBM] [Info] Start training from score -2.169593\n",
      "[LightGBM] [Info] Start training from score -2.685078\n",
      "Training until validation scores don't improve for 50 rounds\n"
     ]
    },
    {
     "name": "stderr",
     "output_type": "stream",
     "text": [
      "[I 2024-02-29 00:39:26,405] Trial 188 finished with value: 0.8343328335832084 and parameters: {'learning_rate': 0.2674947071083503, 'num_leaves': 5}. Best is trial 99 with value: 0.8508245877061469.\n"
     ]
    },
    {
     "name": "stdout",
     "output_type": "stream",
     "text": [
      "Did not meet early stopping. Best iteration is:\n",
      "[100]\tTrain's multi_logloss: 0.455382\tValid's multi_logloss: 0.549624\n",
      "[LightGBM] [Warning] Found whitespace in feature_names, replace with underlines\n"
     ]
    },
    {
     "name": "stderr",
     "output_type": "stream",
     "text": [
      "/var/folders/d4/0c_l5jkx5_n985zcb0gf1ng00000gn/T/ipykernel_4343/3458071427.py:8: FutureWarning: suggest_uniform has been deprecated in v3.0.0. This feature will be removed in v6.0.0. See https://github.com/optuna/optuna/releases/tag/v3.0.0. Use suggest_float instead.\n",
      "  learning_rate = trial.suggest_uniform('learning_rate', 0.001, 1)\n"
     ]
    },
    {
     "name": "stdout",
     "output_type": "stream",
     "text": [
      "[LightGBM] [Info] Auto-choosing row-wise multi-threading, the overhead of testing was 0.049707 seconds.\n",
      "You can set `force_row_wise=true` to remove the overhead.\n",
      "And if memory is not enough, you can set `force_col_wise=true`.\n",
      "[LightGBM] [Info] Total Bins 23274\n",
      "[LightGBM] [Info] Number of data points in the train set: 10672, number of used features: 1127\n",
      "[LightGBM] [Warning] Found whitespace in feature_names, replace with underlines\n",
      "[LightGBM] [Info] Start training from score -0.863102\n",
      "[LightGBM] [Info] Start training from score -0.927078\n",
      "[LightGBM] [Info] Start training from score -2.169593\n",
      "[LightGBM] [Info] Start training from score -2.685078\n",
      "Training until validation scores don't improve for 50 rounds\n"
     ]
    },
    {
     "name": "stderr",
     "output_type": "stream",
     "text": [
      "[I 2024-02-29 00:39:28,433] Trial 189 finished with value: 0.8440779610194903 and parameters: {'learning_rate': 0.21136954379865508, 'num_leaves': 18}. Best is trial 99 with value: 0.8508245877061469.\n"
     ]
    },
    {
     "name": "stdout",
     "output_type": "stream",
     "text": [
      "Did not meet early stopping. Best iteration is:\n",
      "[97]\tTrain's multi_logloss: 0.249478\tValid's multi_logloss: 0.463427\n",
      "[LightGBM] [Warning] Found whitespace in feature_names, replace with underlines\n"
     ]
    },
    {
     "name": "stderr",
     "output_type": "stream",
     "text": [
      "/var/folders/d4/0c_l5jkx5_n985zcb0gf1ng00000gn/T/ipykernel_4343/3458071427.py:8: FutureWarning: suggest_uniform has been deprecated in v3.0.0. This feature will be removed in v6.0.0. See https://github.com/optuna/optuna/releases/tag/v3.0.0. Use suggest_float instead.\n",
      "  learning_rate = trial.suggest_uniform('learning_rate', 0.001, 1)\n"
     ]
    },
    {
     "name": "stdout",
     "output_type": "stream",
     "text": [
      "[LightGBM] [Info] Auto-choosing col-wise multi-threading, the overhead of testing was 0.048465 seconds.\n",
      "You can set `force_col_wise=true` to remove the overhead.\n",
      "[LightGBM] [Info] Total Bins 23274\n",
      "[LightGBM] [Info] Number of data points in the train set: 10672, number of used features: 1127\n",
      "[LightGBM] [Warning] Found whitespace in feature_names, replace with underlines\n",
      "[LightGBM] [Info] Start training from score -0.863102\n",
      "[LightGBM] [Info] Start training from score -0.927078\n",
      "[LightGBM] [Info] Start training from score -2.169593\n",
      "[LightGBM] [Info] Start training from score -2.685078\n",
      "Training until validation scores don't improve for 50 rounds\n"
     ]
    },
    {
     "name": "stderr",
     "output_type": "stream",
     "text": [
      "[I 2024-02-29 00:39:29,694] Trial 190 finished with value: 0.8448275862068966 and parameters: {'learning_rate': 0.2421746573502904, 'num_leaves': 10}. Best is trial 99 with value: 0.8508245877061469.\n"
     ]
    },
    {
     "name": "stdout",
     "output_type": "stream",
     "text": [
      "Did not meet early stopping. Best iteration is:\n",
      "[100]\tTrain's multi_logloss: 0.332005\tValid's multi_logloss: 0.484897\n",
      "[LightGBM] [Warning] Found whitespace in feature_names, replace with underlines\n"
     ]
    },
    {
     "name": "stderr",
     "output_type": "stream",
     "text": [
      "/var/folders/d4/0c_l5jkx5_n985zcb0gf1ng00000gn/T/ipykernel_4343/3458071427.py:8: FutureWarning: suggest_uniform has been deprecated in v3.0.0. This feature will be removed in v6.0.0. See https://github.com/optuna/optuna/releases/tag/v3.0.0. Use suggest_float instead.\n",
      "  learning_rate = trial.suggest_uniform('learning_rate', 0.001, 1)\n"
     ]
    },
    {
     "name": "stdout",
     "output_type": "stream",
     "text": [
      "[LightGBM] [Info] Auto-choosing row-wise multi-threading, the overhead of testing was 0.048854 seconds.\n",
      "You can set `force_row_wise=true` to remove the overhead.\n",
      "And if memory is not enough, you can set `force_col_wise=true`.\n",
      "[LightGBM] [Info] Total Bins 23274\n",
      "[LightGBM] [Info] Number of data points in the train set: 10672, number of used features: 1127\n",
      "[LightGBM] [Warning] Found whitespace in feature_names, replace with underlines\n",
      "[LightGBM] [Info] Start training from score -0.863102\n",
      "[LightGBM] [Info] Start training from score -0.927078\n",
      "[LightGBM] [Info] Start training from score -2.169593\n",
      "[LightGBM] [Info] Start training from score -2.685078\n",
      "Training until validation scores don't improve for 50 rounds\n"
     ]
    },
    {
     "name": "stderr",
     "output_type": "stream",
     "text": [
      "[I 2024-02-29 00:39:31,839] Trial 191 finished with value: 0.8448275862068966 and parameters: {'learning_rate': 0.1803292176965071, 'num_leaves': 19}. Best is trial 99 with value: 0.8508245877061469.\n"
     ]
    },
    {
     "name": "stdout",
     "output_type": "stream",
     "text": [
      "Did not meet early stopping. Best iteration is:\n",
      "[100]\tTrain's multi_logloss: 0.261108\tValid's multi_logloss: 0.465088\n",
      "[LightGBM] [Warning] Found whitespace in feature_names, replace with underlines\n"
     ]
    },
    {
     "name": "stderr",
     "output_type": "stream",
     "text": [
      "/var/folders/d4/0c_l5jkx5_n985zcb0gf1ng00000gn/T/ipykernel_4343/3458071427.py:8: FutureWarning: suggest_uniform has been deprecated in v3.0.0. This feature will be removed in v6.0.0. See https://github.com/optuna/optuna/releases/tag/v3.0.0. Use suggest_float instead.\n",
      "  learning_rate = trial.suggest_uniform('learning_rate', 0.001, 1)\n"
     ]
    },
    {
     "name": "stdout",
     "output_type": "stream",
     "text": [
      "[LightGBM] [Info] Auto-choosing col-wise multi-threading, the overhead of testing was 0.049309 seconds.\n",
      "You can set `force_col_wise=true` to remove the overhead.\n",
      "[LightGBM] [Info] Total Bins 23274\n",
      "[LightGBM] [Info] Number of data points in the train set: 10672, number of used features: 1127\n",
      "[LightGBM] [Warning] Found whitespace in feature_names, replace with underlines\n",
      "[LightGBM] [Info] Start training from score -0.863102\n",
      "[LightGBM] [Info] Start training from score -0.927078\n",
      "[LightGBM] [Info] Start training from score -2.169593\n",
      "[LightGBM] [Info] Start training from score -2.685078\n",
      "Training until validation scores don't improve for 50 rounds\n"
     ]
    },
    {
     "name": "stderr",
     "output_type": "stream",
     "text": [
      "[I 2024-02-29 00:39:34,086] Trial 192 finished with value: 0.8388305847076462 and parameters: {'learning_rate': 0.19000461503416066, 'num_leaves': 20}. Best is trial 99 with value: 0.8508245877061469.\n"
     ]
    },
    {
     "name": "stdout",
     "output_type": "stream",
     "text": [
      "Did not meet early stopping. Best iteration is:\n",
      "[100]\tTrain's multi_logloss: 0.242886\tValid's multi_logloss: 0.464489\n",
      "[LightGBM] [Warning] Found whitespace in feature_names, replace with underlines\n"
     ]
    },
    {
     "name": "stderr",
     "output_type": "stream",
     "text": [
      "/var/folders/d4/0c_l5jkx5_n985zcb0gf1ng00000gn/T/ipykernel_4343/3458071427.py:8: FutureWarning: suggest_uniform has been deprecated in v3.0.0. This feature will be removed in v6.0.0. See https://github.com/optuna/optuna/releases/tag/v3.0.0. Use suggest_float instead.\n",
      "  learning_rate = trial.suggest_uniform('learning_rate', 0.001, 1)\n"
     ]
    },
    {
     "name": "stdout",
     "output_type": "stream",
     "text": [
      "[LightGBM] [Info] Auto-choosing row-wise multi-threading, the overhead of testing was 0.049286 seconds.\n",
      "You can set `force_row_wise=true` to remove the overhead.\n",
      "And if memory is not enough, you can set `force_col_wise=true`.\n",
      "[LightGBM] [Info] Total Bins 23274\n",
      "[LightGBM] [Info] Number of data points in the train set: 10672, number of used features: 1127\n",
      "[LightGBM] [Warning] Found whitespace in feature_names, replace with underlines\n",
      "[LightGBM] [Info] Start training from score -0.863102\n",
      "[LightGBM] [Info] Start training from score -0.927078\n",
      "[LightGBM] [Info] Start training from score -2.169593\n",
      "[LightGBM] [Info] Start training from score -2.685078\n",
      "Training until validation scores don't improve for 50 rounds\n"
     ]
    },
    {
     "name": "stderr",
     "output_type": "stream",
     "text": [
      "[I 2024-02-29 00:39:35,931] Trial 193 finished with value: 0.8395802098950524 and parameters: {'learning_rate': 0.13501799565262862, 'num_leaves': 16}. Best is trial 99 with value: 0.8508245877061469.\n"
     ]
    },
    {
     "name": "stdout",
     "output_type": "stream",
     "text": [
      "Did not meet early stopping. Best iteration is:\n",
      "[100]\tTrain's multi_logloss: 0.341571\tValid's multi_logloss: 0.488401\n",
      "[LightGBM] [Warning] Found whitespace in feature_names, replace with underlines\n"
     ]
    },
    {
     "name": "stderr",
     "output_type": "stream",
     "text": [
      "/var/folders/d4/0c_l5jkx5_n985zcb0gf1ng00000gn/T/ipykernel_4343/3458071427.py:8: FutureWarning: suggest_uniform has been deprecated in v3.0.0. This feature will be removed in v6.0.0. See https://github.com/optuna/optuna/releases/tag/v3.0.0. Use suggest_float instead.\n",
      "  learning_rate = trial.suggest_uniform('learning_rate', 0.001, 1)\n"
     ]
    },
    {
     "name": "stdout",
     "output_type": "stream",
     "text": [
      "[LightGBM] [Info] Auto-choosing row-wise multi-threading, the overhead of testing was 0.049661 seconds.\n",
      "You can set `force_row_wise=true` to remove the overhead.\n",
      "And if memory is not enough, you can set `force_col_wise=true`.\n",
      "[LightGBM] [Info] Total Bins 23274\n",
      "[LightGBM] [Info] Number of data points in the train set: 10672, number of used features: 1127\n",
      "[LightGBM] [Warning] Found whitespace in feature_names, replace with underlines\n",
      "[LightGBM] [Info] Start training from score -0.863102\n",
      "[LightGBM] [Info] Start training from score -0.927078\n",
      "[LightGBM] [Info] Start training from score -2.169593\n",
      "[LightGBM] [Info] Start training from score -2.685078\n",
      "Training until validation scores don't improve for 50 rounds\n"
     ]
    },
    {
     "name": "stderr",
     "output_type": "stream",
     "text": [
      "[I 2024-02-29 00:39:37,978] Trial 194 finished with value: 0.8395802098950524 and parameters: {'learning_rate': 0.22684760957288055, 'num_leaves': 18}. Best is trial 99 with value: 0.8508245877061469.\n"
     ]
    },
    {
     "name": "stdout",
     "output_type": "stream",
     "text": [
      "Did not meet early stopping. Best iteration is:\n",
      "[97]\tTrain's multi_logloss: 0.23734\tValid's multi_logloss: 0.466361\n",
      "[LightGBM] [Warning] Found whitespace in feature_names, replace with underlines\n"
     ]
    },
    {
     "name": "stderr",
     "output_type": "stream",
     "text": [
      "/var/folders/d4/0c_l5jkx5_n985zcb0gf1ng00000gn/T/ipykernel_4343/3458071427.py:8: FutureWarning: suggest_uniform has been deprecated in v3.0.0. This feature will be removed in v6.0.0. See https://github.com/optuna/optuna/releases/tag/v3.0.0. Use suggest_float instead.\n",
      "  learning_rate = trial.suggest_uniform('learning_rate', 0.001, 1)\n"
     ]
    },
    {
     "name": "stdout",
     "output_type": "stream",
     "text": [
      "[LightGBM] [Info] Auto-choosing col-wise multi-threading, the overhead of testing was 0.047838 seconds.\n",
      "You can set `force_col_wise=true` to remove the overhead.\n",
      "[LightGBM] [Info] Total Bins 23274\n",
      "[LightGBM] [Info] Number of data points in the train set: 10672, number of used features: 1127\n",
      "[LightGBM] [Warning] Found whitespace in feature_names, replace with underlines\n",
      "[LightGBM] [Info] Start training from score -0.863102\n",
      "[LightGBM] [Info] Start training from score -0.927078\n",
      "[LightGBM] [Info] Start training from score -2.169593\n",
      "[LightGBM] [Info] Start training from score -2.685078\n",
      "Training until validation scores don't improve for 50 rounds\n"
     ]
    },
    {
     "name": "stderr",
     "output_type": "stream",
     "text": [
      "[I 2024-02-29 00:39:40,689] Trial 195 finished with value: 0.8365817091454273 and parameters: {'learning_rate': 0.1562252523076269, 'num_leaves': 25}. Best is trial 99 with value: 0.8508245877061469.\n"
     ]
    },
    {
     "name": "stdout",
     "output_type": "stream",
     "text": [
      "Did not meet early stopping. Best iteration is:\n",
      "[99]\tTrain's multi_logloss: 0.236143\tValid's multi_logloss: 0.463874\n",
      "[LightGBM] [Warning] Found whitespace in feature_names, replace with underlines\n"
     ]
    },
    {
     "name": "stderr",
     "output_type": "stream",
     "text": [
      "/var/folders/d4/0c_l5jkx5_n985zcb0gf1ng00000gn/T/ipykernel_4343/3458071427.py:8: FutureWarning: suggest_uniform has been deprecated in v3.0.0. This feature will be removed in v6.0.0. See https://github.com/optuna/optuna/releases/tag/v3.0.0. Use suggest_float instead.\n",
      "  learning_rate = trial.suggest_uniform('learning_rate', 0.001, 1)\n"
     ]
    },
    {
     "name": "stdout",
     "output_type": "stream",
     "text": [
      "[LightGBM] [Info] Auto-choosing row-wise multi-threading, the overhead of testing was 0.049506 seconds.\n",
      "You can set `force_row_wise=true` to remove the overhead.\n",
      "And if memory is not enough, you can set `force_col_wise=true`.\n",
      "[LightGBM] [Info] Total Bins 23274\n",
      "[LightGBM] [Info] Number of data points in the train set: 10672, number of used features: 1127\n",
      "[LightGBM] [Warning] Found whitespace in feature_names, replace with underlines\n",
      "[LightGBM] [Info] Start training from score -0.863102\n",
      "[LightGBM] [Info] Start training from score -0.927078\n",
      "[LightGBM] [Info] Start training from score -2.169593\n",
      "[LightGBM] [Info] Start training from score -2.685078\n",
      "Training until validation scores don't improve for 50 rounds\n"
     ]
    },
    {
     "name": "stderr",
     "output_type": "stream",
     "text": [
      "[I 2024-02-29 00:39:42,615] Trial 196 finished with value: 0.8373313343328336 and parameters: {'learning_rate': 0.28699474931037766, 'num_leaves': 17}. Best is trial 99 with value: 0.8508245877061469.\n"
     ]
    },
    {
     "name": "stdout",
     "output_type": "stream",
     "text": [
      "Did not meet early stopping. Best iteration is:\n",
      "[76]\tTrain's multi_logloss: 0.247086\tValid's multi_logloss: 0.472191\n",
      "[LightGBM] [Warning] Found whitespace in feature_names, replace with underlines\n"
     ]
    },
    {
     "name": "stderr",
     "output_type": "stream",
     "text": [
      "/var/folders/d4/0c_l5jkx5_n985zcb0gf1ng00000gn/T/ipykernel_4343/3458071427.py:8: FutureWarning: suggest_uniform has been deprecated in v3.0.0. This feature will be removed in v6.0.0. See https://github.com/optuna/optuna/releases/tag/v3.0.0. Use suggest_float instead.\n",
      "  learning_rate = trial.suggest_uniform('learning_rate', 0.001, 1)\n"
     ]
    },
    {
     "name": "stdout",
     "output_type": "stream",
     "text": [
      "[LightGBM] [Info] Auto-choosing col-wise multi-threading, the overhead of testing was 0.047491 seconds.\n",
      "You can set `force_col_wise=true` to remove the overhead.\n",
      "[LightGBM] [Info] Total Bins 23274\n",
      "[LightGBM] [Info] Number of data points in the train set: 10672, number of used features: 1127\n",
      "[LightGBM] [Warning] Found whitespace in feature_names, replace with underlines\n",
      "[LightGBM] [Info] Start training from score -0.863102\n",
      "[LightGBM] [Info] Start training from score -0.927078\n",
      "[LightGBM] [Info] Start training from score -2.169593\n",
      "[LightGBM] [Info] Start training from score -2.685078\n",
      "Training until validation scores don't improve for 50 rounds\n"
     ]
    },
    {
     "name": "stderr",
     "output_type": "stream",
     "text": [
      "[I 2024-02-29 00:39:44,363] Trial 197 finished with value: 0.848575712143928 and parameters: {'learning_rate': 0.19675045091008156, 'num_leaves': 15}. Best is trial 99 with value: 0.8508245877061469.\n"
     ]
    },
    {
     "name": "stdout",
     "output_type": "stream",
     "text": [
      "Did not meet early stopping. Best iteration is:\n",
      "[100]\tTrain's multi_logloss: 0.289845\tValid's multi_logloss: 0.467544\n",
      "[LightGBM] [Warning] Found whitespace in feature_names, replace with underlines\n"
     ]
    },
    {
     "name": "stderr",
     "output_type": "stream",
     "text": [
      "/var/folders/d4/0c_l5jkx5_n985zcb0gf1ng00000gn/T/ipykernel_4343/3458071427.py:8: FutureWarning: suggest_uniform has been deprecated in v3.0.0. This feature will be removed in v6.0.0. See https://github.com/optuna/optuna/releases/tag/v3.0.0. Use suggest_float instead.\n",
      "  learning_rate = trial.suggest_uniform('learning_rate', 0.001, 1)\n"
     ]
    },
    {
     "name": "stdout",
     "output_type": "stream",
     "text": [
      "[LightGBM] [Info] Auto-choosing row-wise multi-threading, the overhead of testing was 0.048872 seconds.\n",
      "You can set `force_row_wise=true` to remove the overhead.\n",
      "And if memory is not enough, you can set `force_col_wise=true`.\n",
      "[LightGBM] [Info] Total Bins 23274\n",
      "[LightGBM] [Info] Number of data points in the train set: 10672, number of used features: 1127\n",
      "[LightGBM] [Warning] Found whitespace in feature_names, replace with underlines\n",
      "[LightGBM] [Info] Start training from score -0.863102\n",
      "[LightGBM] [Info] Start training from score -0.927078\n",
      "[LightGBM] [Info] Start training from score -2.169593\n",
      "[LightGBM] [Info] Start training from score -2.685078\n",
      "Training until validation scores don't improve for 50 rounds\n"
     ]
    },
    {
     "name": "stderr",
     "output_type": "stream",
     "text": [
      "[I 2024-02-29 00:39:46,122] Trial 198 finished with value: 0.8478260869565217 and parameters: {'learning_rate': 0.2004982992609732, 'num_leaves': 15}. Best is trial 99 with value: 0.8508245877061469.\n"
     ]
    },
    {
     "name": "stdout",
     "output_type": "stream",
     "text": [
      "Did not meet early stopping. Best iteration is:\n",
      "[100]\tTrain's multi_logloss: 0.287743\tValid's multi_logloss: 0.470783\n",
      "[LightGBM] [Warning] Found whitespace in feature_names, replace with underlines\n"
     ]
    },
    {
     "name": "stderr",
     "output_type": "stream",
     "text": [
      "/var/folders/d4/0c_l5jkx5_n985zcb0gf1ng00000gn/T/ipykernel_4343/3458071427.py:8: FutureWarning: suggest_uniform has been deprecated in v3.0.0. This feature will be removed in v6.0.0. See https://github.com/optuna/optuna/releases/tag/v3.0.0. Use suggest_float instead.\n",
      "  learning_rate = trial.suggest_uniform('learning_rate', 0.001, 1)\n"
     ]
    },
    {
     "name": "stdout",
     "output_type": "stream",
     "text": [
      "[LightGBM] [Info] Auto-choosing row-wise multi-threading, the overhead of testing was 0.049905 seconds.\n",
      "You can set `force_row_wise=true` to remove the overhead.\n",
      "And if memory is not enough, you can set `force_col_wise=true`.\n",
      "[LightGBM] [Info] Total Bins 23274\n",
      "[LightGBM] [Info] Number of data points in the train set: 10672, number of used features: 1127\n",
      "[LightGBM] [Warning] Found whitespace in feature_names, replace with underlines\n",
      "[LightGBM] [Info] Start training from score -0.863102\n",
      "[LightGBM] [Info] Start training from score -0.927078\n",
      "[LightGBM] [Info] Start training from score -2.169593\n",
      "[LightGBM] [Info] Start training from score -2.685078\n",
      "Training until validation scores don't improve for 50 rounds\n"
     ]
    },
    {
     "name": "stderr",
     "output_type": "stream",
     "text": [
      "[I 2024-02-29 00:39:47,903] Trial 199 finished with value: 0.841079460269865 and parameters: {'learning_rate': 0.21538740014920416, 'num_leaves': 15}. Best is trial 99 with value: 0.8508245877061469.\n"
     ]
    },
    {
     "name": "stdout",
     "output_type": "stream",
     "text": [
      "Did not meet early stopping. Best iteration is:\n",
      "[100]\tTrain's multi_logloss: 0.274757\tValid's multi_logloss: 0.471406\n"
     ]
    }
   ],
   "source": [
    "study = optuna.create_study(direction='maximize',sampler=optuna.samplers.TPESampler(seed=42))\n",
    "study.optimize(objective, n_trials=200)\n"
   ]
  },
  {
   "cell_type": "code",
   "execution_count": 51,
   "metadata": {},
   "outputs": [
    {
     "name": "stdout",
     "output_type": "stream",
     "text": [
      "=======ベストパラメータ========\n",
      "{'learning_rate': 0.33329151644262134, 'num_leaves': 9}\n"
     ]
    }
   ],
   "source": [
    "print(\"=======ベストパラメータ========\")\n",
    "print(study.best_params)"
   ]
  },
  {
   "cell_type": "code",
   "execution_count": 52,
   "metadata": {},
   "outputs": [
    {
     "data": {
      "text/plain": [
       "0.33329151644262134"
      ]
     },
     "execution_count": 52,
     "metadata": {},
     "output_type": "execute_result"
    }
   ],
   "source": [
    "study.best_params[\"learning_rate\"]"
   ]
  },
  {
   "cell_type": "code",
   "execution_count": 53,
   "metadata": {},
   "outputs": [
    {
     "name": "stdout",
     "output_type": "stream",
     "text": [
      "[LightGBM] [Warning] Found whitespace in feature_names, replace with underlines\n",
      "[LightGBM] [Info] Auto-choosing row-wise multi-threading, the overhead of testing was 0.050995 seconds.\n",
      "You can set `force_row_wise=true` to remove the overhead.\n",
      "And if memory is not enough, you can set `force_col_wise=true`.\n",
      "[LightGBM] [Info] Total Bins 23274\n",
      "[LightGBM] [Info] Number of data points in the train set: 10672, number of used features: 1127\n",
      "[LightGBM] [Warning] Found whitespace in feature_names, replace with underlines\n",
      "[LightGBM] [Info] Start training from score -0.863102\n",
      "[LightGBM] [Info] Start training from score -0.927078\n",
      "[LightGBM] [Info] Start training from score -2.169593\n",
      "[LightGBM] [Info] Start training from score -2.685078\n",
      "Training until validation scores don't improve for 50 rounds\n",
      "Did not meet early stopping. Best iteration is:\n",
      "[10]\tTrain's multi_logloss: 0.672583\tValid's multi_logloss: 0.712981\n",
      "0.767616191904048\n"
     ]
    }
   ],
   "source": [
    "category_dict = {'b': 0, 'e': 1, 't':2, 'm':3}\n",
    "train_label = train['CATEGORY'].map(lambda x: category_dict[x])\n",
    "valid_label = valid['CATEGORY'].map(lambda x: category_dict[x])\n",
    "test_label = test['CATEGORY'].map(lambda x: category_dict[x])\n",
    "\n",
    "train_data = lgb.Dataset(X_train, label=train_label)\n",
    "valid_data = lgb.Dataset(X_valid, label=valid_label)\n",
    "test_data = lgb.Dataset(X_test, label=test_label)\n",
    "\n",
    "params = {\n",
    "        'task': 'train',\n",
    "        'boosting_type': 'gbdt',\n",
    "        'num_class': 4,\n",
    "        'objective': 'multiclass',       \n",
    "        'metric': 'multi_logloss',      \n",
    "        'learning_rate': study.best_params[\"learning_rate\"],\n",
    "        'num_leaves': study.best_params[\"num_leaves\"],\n",
    "        'seed': 42\n",
    "        }\n",
    "params.update(study.best_params)\n",
    "\n",
    "train_data = lgb.Dataset(X_train, label=train_label)\n",
    "valid_data = lgb.Dataset(X_valid, label=valid_label, reference=train_data)\n",
    "\n",
    "model = lgb.train(\n",
    "params=params,\n",
    "train_set=train_data,\n",
    "valid_sets=[train_data, valid_data],\n",
    "valid_names=['Train', 'Valid'],\n",
    "num_boost_round=10,\n",
    "callbacks=[lgb.early_stopping(stopping_rounds=50, verbose=1),\n",
    "        lgb.log_evaluation(-1)],\n",
    ")\n",
    "\n",
    "\n",
    "# 推論\n",
    "y_pred = model.predict(X_test, num_iteration=model.best_iteration)\n",
    "y_pred = np.argmax(y_pred, axis=1)\n",
    "# 評価\n",
    "acc = accuracy_score(test_label, y_pred)\n",
    "print(acc)\n"
   ]
  },
  {
   "cell_type": "code",
   "execution_count": null,
   "metadata": {},
   "outputs": [],
   "source": []
  }
 ],
 "metadata": {
  "kernelspec": {
   "display_name": "Python 3",
   "language": "python",
   "name": "python3"
  },
  "language_info": {
   "codemirror_mode": {
    "name": "ipython",
    "version": 3
   },
   "file_extension": ".py",
   "mimetype": "text/x-python",
   "name": "python",
   "nbconvert_exporter": "python",
   "pygments_lexer": "ipython3",
   "version": "3.9.6"
  }
 },
 "nbformat": 4,
 "nbformat_minor": 2
}
