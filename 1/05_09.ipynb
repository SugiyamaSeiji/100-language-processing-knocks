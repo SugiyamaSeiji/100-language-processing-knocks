{
  "nbformat": 4,
  "nbformat_minor": 0,
  "metadata": {
    "colab": {
      "provenance": [],
      "authorship_tag": "ABX9TyPc31h357H0D2UA532NPzX7",
      "include_colab_link": true
    },
    "kernelspec": {
      "name": "python3",
      "display_name": "Python 3"
    },
    "language_info": {
      "name": "python"
    }
  },
  "cells": [
    {
      "cell_type": "markdown",
      "metadata": {
        "id": "view-in-github",
        "colab_type": "text"
      },
      "source": [
        "<a href=\"https://colab.research.google.com/github/SugiyamaSeiji/100-language-processing-knocks/blob/main/05_09.ipynb\" target=\"_parent\"><img src=\"https://colab.research.google.com/assets/colab-badge.svg\" alt=\"Open In Colab\"/></a>"
      ]
    },
    {
      "cell_type": "markdown",
      "source": [
        "#05. n-gram"
      ],
      "metadata": {
        "id": "gUa62-3TSJI_"
      }
    },
    {
      "cell_type": "code",
      "execution_count": 10,
      "metadata": {
        "colab": {
          "base_uri": "https://localhost:8080/"
        },
        "id": "O_9NiWG6SIko",
        "outputId": "a111d6cf-353e-4de0-cc09-590b65b2eb2d"
      },
      "outputs": [
        {
          "output_type": "execute_result",
          "data": {
            "text/plain": [
              "(['I ', ' a', 'am', 'm ', ' a', 'an', 'n ', ' N', 'NL', 'LP', 'Pe', 'er', 'r'],\n",
              " [['I', 'am'], ['am', 'an'], ['an', 'NLPer'], ['NLPer']])"
            ]
          },
          "metadata": {},
          "execution_count": 10
        }
      ],
      "source": [
        "def n_gram(sentence, n):\n",
        "\n",
        "  bi_gram = []\n",
        "  for i in range(len(sentence)):\n",
        "    bi_gram.append(sentence[i:i+n])\n",
        "\n",
        "  words = sentence.split()\n",
        "  word = []\n",
        "  for i in range(len(words)):\n",
        "    word.append(words[i:i+n])\n",
        "\n",
        "  return bi_gram, word\n",
        "\n",
        "n_gram(\"I am an NLPer\", 2)"
      ]
    },
    {
      "cell_type": "markdown",
      "source": [
        "# 06. 集合"
      ],
      "metadata": {
        "id": "pWRYyumgVqfW"
      }
    },
    {
      "cell_type": "code",
      "source": [
        "s1 = \"paraparaparadise\"\n",
        "s2 = \"paragraph\"\n",
        "\n",
        "x, _ = n_gram(s1,2)\n",
        "y, _ = n_gram(s2,2)\n",
        "\n",
        "X = set(x)\n",
        "Y = set(y)\n",
        "\n",
        "print(\"和集合\", (X | Y))\n",
        "print(\"積集合\", (X & Y))\n",
        "print(\"差集合\", (X - Y))\n",
        "\n",
        "\n",
        "print(\"X:\", \"se\" in X)\n",
        "print(\"Y:\", \"se\" in Y)"
      ],
      "metadata": {
        "colab": {
          "base_uri": "https://localhost:8080/"
        },
        "id": "vnhhouPHTOz4",
        "outputId": "4313d3b8-9377-4ee4-da25-a74583677869"
      },
      "execution_count": 18,
      "outputs": [
        {
          "output_type": "stream",
          "name": "stdout",
          "text": [
            "和集合 {'di', 'ad', 'h', 'ag', 'se', 'is', 'gr', 'ar', 'ra', 'ap', 'e', 'pa', 'ph'}\n",
            "積集合 {'ap', 'pa', 'ar', 'ra'}\n",
            "差集合 {'di', 'ad', 'se', 'is', 'e'}\n",
            "X: True\n",
            "Y: False\n"
          ]
        }
      ]
    },
    {
      "cell_type": "markdown",
      "source": [
        "#07. テンプレートによる文生成"
      ],
      "metadata": {
        "id": "ur8go9vOYZ1p"
      }
    },
    {
      "cell_type": "code",
      "source": [
        "def make_sentence(x, y, z):\n",
        "  return str(x) + '時の' + y + 'は' + str(z)\n",
        "\n",
        "make_sentence(12, '気温', 22.4)"
      ],
      "metadata": {
        "colab": {
          "base_uri": "https://localhost:8080/",
          "height": 36
        },
        "id": "eIP3PUdFWayG",
        "outputId": "e24f717c-a683-4d63-8d41-ef4195fb78d0"
      },
      "execution_count": 22,
      "outputs": [
        {
          "output_type": "execute_result",
          "data": {
            "text/plain": [
              "'12時の気温は22.4'"
            ],
            "application/vnd.google.colaboratory.intrinsic+json": {
              "type": "string"
            }
          },
          "metadata": {},
          "execution_count": 22
        }
      ]
    },
    {
      "cell_type": "markdown",
      "source": [
        "#08. 暗号文"
      ],
      "metadata": {
        "id": "AI5w8BrbZjOK"
      }
    },
    {
      "cell_type": "code",
      "source": [
        "import re\n",
        "\n",
        "def cipher(words):\n",
        "  code = []\n",
        "  for s in words:\n",
        "    if re.findall('[a-z]+', s):\n",
        "      token = chr(219- ord(s))\n",
        "    else:\n",
        "      token = s\n",
        "    code.append(token)\n",
        "\n",
        "  return \"\".join(code)\n",
        "\n",
        "cipher(\"Test Code\")\n"
      ],
      "metadata": {
        "colab": {
          "base_uri": "https://localhost:8080/",
          "height": 36
        },
        "id": "5dZ4vowUZJNI",
        "outputId": "36eecbe1-cd45-47c6-a7c9-e9e9c168cfec"
      },
      "execution_count": 27,
      "outputs": [
        {
          "output_type": "execute_result",
          "data": {
            "text/plain": [
              "'Tvhg Clwv'"
            ],
            "application/vnd.google.colaboratory.intrinsic+json": {
              "type": "string"
            }
          },
          "metadata": {},
          "execution_count": 27
        }
      ]
    },
    {
      "cell_type": "markdown",
      "source": [
        "#09. TypoglycemiaPermalink"
      ],
      "metadata": {
        "id": "VLYehqqmd-fk"
      }
    },
    {
      "cell_type": "code",
      "source": [
        "import random\n",
        "\n",
        "def random_char(sentence):\n",
        "  words = sentence.split()\n",
        "\n",
        "  new = []\n",
        "  for word in words:\n",
        "    num = len(word)\n",
        "\n",
        "    if num <= 4:\n",
        "      token = word\n",
        "    else:\n",
        "      token = word[0] + ''.join(random.sample(word[1:-1], num-2))+ word[-1]\n",
        "\n",
        "    new.append(token)\n",
        "\n",
        "  return ' '.join(new)\n",
        "\n",
        "sentence = \"I couldn’t believe that I could actually understand what I was reading : the phenomenal power of the human mind .\"\n",
        "\n",
        "random_char(sentence)"
      ],
      "metadata": {
        "colab": {
          "base_uri": "https://localhost:8080/",
          "height": 36
        },
        "id": "btLACGsSb13b",
        "outputId": "c479b261-a3d6-48a4-cd8d-264540b455d8"
      },
      "execution_count": 31,
      "outputs": [
        {
          "output_type": "execute_result",
          "data": {
            "text/plain": [
              "'I codn’ult beielve that I culod aclutaly urteasndnd what I was rniaedg : the pemohnneal pwoer of the haumn mind .'"
            ],
            "application/vnd.google.colaboratory.intrinsic+json": {
              "type": "string"
            }
          },
          "metadata": {},
          "execution_count": 31
        }
      ]
    }
  ]
}
