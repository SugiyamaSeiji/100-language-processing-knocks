{
  "nbformat": 4,
  "nbformat_minor": 0,
  "metadata": {
    "colab": {
      "provenance": [],
      "authorship_tag": "ABX9TyP1mGw2Xb7A/Fz+aYad24+a",
      "include_colab_link": true
    },
    "kernelspec": {
      "name": "python3",
      "display_name": "Python 3"
    },
    "language_info": {
      "name": "python"
    }
  },
  "cells": [
    {
      "cell_type": "markdown",
      "metadata": {
        "id": "view-in-github",
        "colab_type": "text"
      },
      "source": [
        "<a href=\"https://colab.research.google.com/github/SugiyamaSeiji/100-language-processing-knocks/blob/main/10-14.ipynb\" target=\"_parent\"><img src=\"https://colab.research.google.com/assets/colab-badge.svg\" alt=\"Open In Colab\"/></a>"
      ]
    },
    {
      "cell_type": "markdown",
      "source": [
        "10. 行数のカウント"
      ],
      "metadata": {
        "id": "M13RWm8-5Zqx"
      }
    },
    {
      "cell_type": "code",
      "execution_count": null,
      "metadata": {
        "colab": {
          "base_uri": "https://localhost:8080/"
        },
        "id": "Dr_1FDb04-Av",
        "outputId": "5bd11a66-06bd-4329-94db-cfd8645b4f9e"
      },
      "outputs": [
        {
          "output_type": "stream",
          "name": "stdout",
          "text": [
            "2780\n"
          ]
        }
      ],
      "source": [
        "!cat popular-names.txt | wc -l"
      ]
    },
    {
      "cell_type": "code",
      "source": [
        "print(sum([1 for _ in open(\"popular-names.txt\")]))"
      ],
      "metadata": {
        "colab": {
          "base_uri": "https://localhost:8080/"
        },
        "id": "6HEMUL3A8OTJ",
        "outputId": "672298db-ebe9-42e6-c0d6-60f14efcc620"
      },
      "execution_count": null,
      "outputs": [
        {
          "output_type": "stream",
          "name": "stdout",
          "text": [
            "2780\n"
          ]
        }
      ]
    },
    {
      "cell_type": "markdown",
      "source": [
        "11. タブをスペースに置換"
      ],
      "metadata": {
        "id": "RLjwVHOa5bpA"
      }
    },
    {
      "cell_type": "code",
      "source": [
        "!cat popular-names.txt | tr \"\\t\" \" \" > output_11_command.txt"
      ],
      "metadata": {
        "id": "pZYXBUE05XQj"
      },
      "execution_count": null,
      "outputs": []
    },
    {
      "cell_type": "code",
      "source": [
        "with open(\"popular-names.txt\", \"r\") as f:\n",
        "  data = f.read()"
      ],
      "metadata": {
        "id": "o_6iGYVj8dTr"
      },
      "execution_count": null,
      "outputs": []
    },
    {
      "cell_type": "code",
      "source": [
        "with open(\"output_11_program\", \"w\") as f:\n",
        "  change = data.replace(\"\\t\", \" \")\n",
        "  f.write(change)"
      ],
      "metadata": {
        "id": "S3yKoogg82v1"
      },
      "execution_count": null,
      "outputs": []
    },
    {
      "cell_type": "markdown",
      "source": [
        "12. 1列目をcol1.txtに，2列目をcol2.txtに保存"
      ],
      "metadata": {
        "id": "1cVSkp3A6qWv"
      }
    },
    {
      "cell_type": "code",
      "source": [
        "!cut  -f 1 popular-names.txt > col1.txt"
      ],
      "metadata": {
        "id": "qgtPXkyq6VeD"
      },
      "execution_count": 6,
      "outputs": []
    },
    {
      "cell_type": "code",
      "source": [
        "!cut  -f 2 popular-names.txt > col2.txt"
      ],
      "metadata": {
        "id": "h4517M9Utzil"
      },
      "execution_count": 7,
      "outputs": []
    },
    {
      "cell_type": "code",
      "source": [
        "import pandas as pd\n",
        "\n",
        "df = pd.read_csv(\"popular-names.txt\", delim_whitespace=True, header=None)"
      ],
      "metadata": {
        "id": "-wvpzS1V7H8Y"
      },
      "execution_count": null,
      "outputs": []
    },
    {
      "cell_type": "code",
      "source": [
        "df[0].to_csv('col1.txt', index=False, header=False)\n",
        "df[1].to_csv('col2.txt', index=False, header=False)"
      ],
      "metadata": {
        "id": "Wol4yOIx-Lj2"
      },
      "execution_count": null,
      "outputs": []
    },
    {
      "cell_type": "markdown",
      "source": [
        "13. col1.txtとcol2.txtをマージ"
      ],
      "metadata": {
        "id": "a8C1ok-e73O-"
      }
    },
    {
      "cell_type": "code",
      "source": [
        "!paste -d \"\\t\" col1.txt col2.txt > col.txt"
      ],
      "metadata": {
        "id": "LbS7ZyPkuQOj"
      },
      "execution_count": 10,
      "outputs": []
    },
    {
      "cell_type": "code",
      "source": [
        "col1 = pd.read_csv('col1.txt',header=None)\n",
        "col2 = pd.read_csv('col2.txt',header=None)\n"
      ],
      "metadata": {
        "id": "dgARGUyA7WCy"
      },
      "execution_count": null,
      "outputs": []
    },
    {
      "cell_type": "code",
      "source": [
        "col = pd.concat([col1, col2], axis=1)"
      ],
      "metadata": {
        "id": "xGyx-6gbGxOj"
      },
      "execution_count": null,
      "outputs": []
    },
    {
      "cell_type": "code",
      "source": [
        "col.to_csv('col.txt', index=False, header=False, sep=\"\\t\")"
      ],
      "metadata": {
        "id": "nhyp8jHoHCa9"
      },
      "execution_count": null,
      "outputs": []
    },
    {
      "cell_type": "markdown",
      "source": [
        "14. 先頭からN行を出力"
      ],
      "metadata": {
        "id": "UoHibB1m74wv"
      }
    },
    {
      "cell_type": "code",
      "source": [
        "!head -n 5 popular-names.txt"
      ],
      "metadata": {
        "colab": {
          "base_uri": "https://localhost:8080/"
        },
        "id": "ewLNaLWy76Xg",
        "outputId": "b2fb4654-1a61-4065-924e-d0671a11d98e"
      },
      "execution_count": null,
      "outputs": [
        {
          "output_type": "stream",
          "name": "stdout",
          "text": [
            "Mary\tF\t7065\t1880\n",
            "Anna\tF\t2604\t1880\n",
            "Emma\tF\t2003\t1880\n",
            "Elizabeth\tF\t1939\t1880\n",
            "Minnie\tF\t1746\t1880\n"
          ]
        }
      ]
    },
    {
      "cell_type": "code",
      "source": [
        "def line_out(filename, n):\n",
        "  with open(filename, \"r\") as f:\n",
        "    for i in range(n):\n",
        "      line = f.readline()\n",
        "      print(line)\n"
      ],
      "metadata": {
        "id": "4_Khlh-H8Df8"
      },
      "execution_count": 17,
      "outputs": []
    },
    {
      "cell_type": "code",
      "source": [
        "line_out(\"popular-names.txt\", 5)"
      ],
      "metadata": {
        "colab": {
          "base_uri": "https://localhost:8080/"
        },
        "id": "NP_LIeVev0Dd",
        "outputId": "3e23b710-fc1f-4be5-85b3-da64ffec7a17"
      },
      "execution_count": 18,
      "outputs": [
        {
          "output_type": "stream",
          "name": "stdout",
          "text": [
            "Mary\tF\t7065\t1880\n",
            "\n",
            "Anna\tF\t2604\t1880\n",
            "\n",
            "Emma\tF\t2003\t1880\n",
            "\n",
            "Elizabeth\tF\t1939\t1880\n",
            "\n",
            "Minnie\tF\t1746\t1880\n",
            "\n"
          ]
        }
      ]
    },
    {
      "cell_type": "code",
      "source": [],
      "metadata": {
        "id": "zZE1_VB9v4RQ"
      },
      "execution_count": null,
      "outputs": []
    }
  ]
}